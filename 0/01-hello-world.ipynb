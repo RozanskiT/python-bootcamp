{
 "cells": [
  {
   "cell_type": "markdown",
   "metadata": {
    "id": "Lxro5bJwTu4X"
   },
   "source": [
    "# Python - pierwszy \"program\" - Hello World!\n",
    "\n",
    "Narzędzie, którego będziemy używać to zeszyty programu jupyter ([jupyter notebooks](https://jupyter.org)). Są one wygodnym narzędziem, żeby łączyć w jednym dokumencie kod, tekst oraz obrazy. Zeszyty mogą być uruchamiane lokalnie na naszym komputerze, jeżeli go [zainstalowaliśmy](https://www.anaconda.com/blog/individual-edition-2020-11), ale również na platformie GoogleColab, która umożliwia uruchamiane zeszytów, które przechowywujemy w naszym dysku Google.\n",
    "\n",
    "Zeszyt składa się z komórek zawierających kod lub tekst. Nową komórkę można utworzyć naciskając przycisk `+ Code` lub `+ Text` poniżej menu. Komórkę wykonujemy naciskając jednocześnie **Shift+Enter**."
   ]
  },
  {
   "cell_type": "markdown",
   "metadata": {
    "id": "ynpWTNTJaWSN"
   },
   "source": [
    "---\n",
    "## Co można napisać w komórce tekstowej?\n",
    "\n",
    "Kiedy tworzę dokument często wykorzystuję [Markdown Cheat Sheet](https://github.com/adam-p/markdown-here/wiki/Markdown-Here-Cheatsheet). Zajrzyjcie tam jakie możliwości daje markdown, czyli język znaczników (inny znany język znaczników to np. HTML), który wykorzystują komórki tekstowe. Poniżej znajduje się namiastka tego co można w nim zrobić:\n",
    "\n",
    "### Nagłówki kolejnego rzędu\n",
    "\n",
    "#### Dalszego....\n",
    "\n",
    "##### I jeszcze dalszego...\n",
    "\n",
    "**To jest tekst pogrubiony**, _a to pochylony_.\n",
    "\n",
    "Jeżeli chcę to mogę utworzyć zarówno listę numerowaną:\n",
    "1. A\n",
    "2. B\n",
    "3. C\n",
    "\n",
    "Jak i nienumerowaną (również zagnieżdżoną):\n",
    "* x\n",
    "* y\n",
    "* z\n",
    " * u \n",
    " * w\n",
    " * z\n",
    "\n",
    "### LaTeX\n",
    "\n",
    "Bardzo ważną możliwością jest tworzenie wzorów: $E=mc^2$ - zarówno w tekście, jak i w osobnej linii:\n",
    "$$\n",
    "\\frac{d I_\\nu(\\vec{n},s)}{d s}= j_\\nu(s) - \\alpha I_\\nu(\\vec{n},s),\n",
    "$$\n",
    "które wykorzystuje składnię znaną z [LaTeXa](https://pl.wikipedia.org/wiki/LaTeX). Możliwość wpisywania wzorów bardzo przydaje się w praktyce."
   ]
  },
  {
   "cell_type": "markdown",
   "metadata": {
    "id": "g4yXbBiRgFL_"
   },
   "source": [
    "---\n",
    "## Python\n",
    "\n",
    "W komórce zawierającej kod można umieszczać kod w języku Python, który zostanie wykonany, linia po linii, po naciśnięciu kombinacji **Shift+Enter**.\n",
    "\n",
    "Poniższa komórka zawiera jeden wiersz kodu, który wydrukuje napis `Hello world!`"
   ]
  },
  {
   "cell_type": "code",
   "execution_count": 1,
   "metadata": {
    "colab": {
     "base_uri": "https://localhost:8080/"
    },
    "executionInfo": {
     "elapsed": 874,
     "status": "ok",
     "timestamp": 1606407792183,
     "user": {
      "displayName": "Tomasz Różański",
      "photoUrl": "https://lh4.googleusercontent.com/-CdAQaQI9V1E/AAAAAAAAAAI/AAAAAAAAAvI/rnNPiSw4f80/s64/photo.jpg",
      "userId": "09904144145241711927"
     },
     "user_tz": -60
    },
    "id": "NBlfTYNiTmI5",
    "outputId": "b5798598-0003-4586-833b-eccef900cf1b"
   },
   "outputs": [
    {
     "name": "stdout",
     "output_type": "stream",
     "text": [
      "Hello world!\n"
     ]
    }
   ],
   "source": [
    "print(\"Hello world!\")"
   ]
  },
  {
   "cell_type": "markdown",
   "metadata": {
    "id": "uA_ru003gumB"
   },
   "source": [
    "Ale równie dobrze może wykonywać dużo bardziej złożone operacje, np."
   ]
  },
  {
   "cell_type": "code",
   "execution_count": 2,
   "metadata": {
    "colab": {
     "base_uri": "https://localhost:8080/",
     "height": 421
    },
    "executionInfo": {
     "elapsed": 1484,
     "status": "ok",
     "timestamp": 1606407923499,
     "user": {
      "displayName": "Tomasz Różański",
      "photoUrl": "https://lh4.googleusercontent.com/-CdAQaQI9V1E/AAAAAAAAAAI/AAAAAAAAAvI/rnNPiSw4f80/s64/photo.jpg",
      "userId": "09904144145241711927"
     },
     "user_tz": -60
    },
    "id": "NGaWyQ-BYtb6",
    "outputId": "b0b82aa2-1a31-42c8-93bf-5104913ae2af"
   },
   "outputs": [
    {
     "data": {
      "text/plain": [
       "<matplotlib.legend.Legend at 0x7fbc91bbd1f0>"
      ]
     },
     "execution_count": 2,
     "metadata": {},
     "output_type": "execute_result"
    },
    {
     "data": {
      "image/png": "[encoded data removed]",
      "text/plain": [
       "<Figure size 864x432 with 1 Axes>"
      ]
     },
     "metadata": {
      "needs_background": "light"
     },
     "output_type": "display_data"
    }
   ],
   "source": [
    "import matplotlib.pyplot as plt # Wczytaj bibliotekę do tworzenia rysunków i utwórz jej alias: plt\n",
    "import numpy as np # Biblioteka NumericalPython\n",
    "# To jest komentarz, czyli fragment dla programisty, w którym wyjaśnia swoje intencje\n",
    "\n",
    "x= np.arange(0,2*np.pi,0.01) # Tworzy tablicę x-ów\n",
    "y= np.sin(x) # Tworzy tablicę y-ów, wypełnioną sin(x-ów)\n",
    "\n",
    "# Poniżej tworzę rysunek:\n",
    "plt.figure(figsize=(12,6))\n",
    "plt.title(\"Przykładowy rysunek\")\n",
    "plt.plot(x,y,label='y=sin(x)')\n",
    "plt.xlabel('x')\n",
    "plt.ylabel('y')\n",
    "plt.legend()"
   ]
  },
  {
   "cell_type": "markdown",
   "metadata": {
    "id": "o1yF-6BtiZbn"
   },
   "source": [
    "---\n",
    "W czasie tych kilku dni z Pythonem poznamy podstawy programowania, które pozwolą nam zrozumieć do czego może być nam ono potrzebne."
   ]
  },
  {
   "cell_type": "code",
   "execution_count": null,
   "metadata": {
    "id": "TAJM2W98z6oN"
   },
   "outputs": [],
   "source": []
  }
 ],
 "metadata": {
  "colab": {
   "authorship_tag": "ABX9TyMXsucMO6A7guV3BoTvBHC9",
   "collapsed_sections": [],
   "name": "01-hello-world.ipynb",
   "provenance": []
  },
  "kernelspec": {
   "display_name": "Python 3.8.3 ('base')",
   "language": "python",
   "name": "python3"
  },
  "language_info": {
   "codemirror_mode": {
    "name": "ipython",
    "version": 3
   },
   "file_extension": ".py",
   "mimetype": "text/x-python",
   "name": "python",
   "nbconvert_exporter": "python",
   "pygments_lexer": "ipython3",
   "version": "3.8.3"
  },
  "vscode": {
   "interpreter": {
    "hash": "cabad25a979363c42bbae4075ddd8003f1d5a696b92e64582b5f260399c09add"
   }
  }
 },
 "nbformat": 4,
 "nbformat_minor": 1
}
