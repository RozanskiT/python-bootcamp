{
 "cells": [
  {
   "cell_type": "markdown",
   "metadata": {
    "id": "MqB7TuAIO1r_"
   },
   "source": [
    "# Wejście - wyjście\n",
    "\n",
    "Najważniejszym elementem każdego programu jest jego wejście i wyjście.\n",
    "Dane możemy wczytywać z różnych miejsc i w różny sposób, ale najważniejszą pojedynczą koncepcją jest koncepcja pliku."
   ]
  },
  {
   "cell_type": "markdown",
   "metadata": {
    "id": "4PE9iSAKyRcg"
   },
   "source": [
    "## Postawy\n",
    "\n",
    "Pliki i foldery (katalogi, foldery, ang. directories) są w typowym systemie plików zorganizowane w strukturę drzewa. Korzeniem tego drzewa w systemach Unix-owych jest katalog oznaczany:\n",
    "\n",
    "`/`\n",
    "\n",
    "W systemach związanych z systemem Windows nie ma pojedynczego początku, za to każda partycja zaczyna się od pewnej litery, np.:\n",
    "\n",
    "`C:\\`\n",
    "\n",
    "Inna istotna różnica to wykorzystanie w systemach Unixowych `/`, w a Linuxowych `\\`. Typowa ścieżka linuxowa wygląda tak:\n",
    "\n",
    "`/content/gdrive/MyDrive/python_tutorial/data`\n",
    "\n",
    "Określa ona położenie w systemie plików pewnego folderu, pliku lub programu. Wykorzystując narzędzia języka Python możemy sprawdzić z czym mamy do czynienia:"
   ]
  },
  {
   "cell_type": "code",
   "execution_count": null,
   "metadata": {
    "colab": {
     "base_uri": "https://localhost:8080/"
    },
    "executionInfo": {
     "elapsed": 711,
     "status": "ok",
     "timestamp": 1606483199173,
     "user": {
      "displayName": "Tomasz Różański",
      "photoUrl": "https://lh4.googleusercontent.com/-CdAQaQI9V1E/AAAAAAAAAAI/AAAAAAAAAvI/rnNPiSw4f80/s64/photo.jpg",
      "userId": "09904144145241711927"
     },
     "user_tz": -60
    },
    "id": "tWP_FRYZyF_0",
    "outputId": "0a251e56-2c0d-469a-8c71-a10c7e255e69"
   },
   "outputs": [],
   "source": [
    "import os\n",
    "\n",
    "data_diretory_path= \"../data\"\n",
    "\n",
    "print(os.path.isdir(data_diretory_path))\n",
    "print(os.path.isfile(data_diretory_path))"
   ]
  },
  {
   "cell_type": "markdown",
   "metadata": {
    "id": "EkOyWy_X3M2S"
   },
   "source": [
    "kiedy chcemy z poziomu Pythona sprawdzić co znajduje się w danym katalogu:"
   ]
  },
  {
   "cell_type": "code",
   "execution_count": null,
   "metadata": {
    "colab": {
     "base_uri": "https://localhost:8080/"
    },
    "executionInfo": {
     "elapsed": 735,
     "status": "ok",
     "timestamp": 1606498382861,
     "user": {
      "displayName": "Tomasz Różański",
      "photoUrl": "https://lh4.googleusercontent.com/-CdAQaQI9V1E/AAAAAAAAAAI/AAAAAAAAAvI/rnNPiSw4f80/s64/photo.jpg",
      "userId": "09904144145241711927"
     },
     "user_tz": -60
    },
    "id": "TT7zXG9_3L8n",
    "outputId": "abb9fb13-87a7-4cbf-9824-c880fcb8a92b"
   },
   "outputs": [],
   "source": [
    "files= os.listdir(data_diretory_path)\n",
    "print(files)"
   ]
  },
  {
   "cell_type": "markdown",
   "metadata": {
    "id": "k1C0nWvT3KHi"
   },
   "source": [
    "## Pliki\n",
    "\n",
    "Zacznijmy od razu od utworzenia pliku"
   ]
  },
  {
   "cell_type": "code",
   "execution_count": null,
   "metadata": {
    "id": "tNgraVYQ2_B_"
   },
   "outputs": [],
   "source": [
    "file_name= \"example_file.dat\"\n",
    "file_path= os.path.join(data_diretory_path, file_name)\n",
    "f = open(file_path,'w')\n",
    "\n",
    "f.write(\"Ala ma kota\") #Piszemy do pliku\n",
    "\n",
    "f.close() # plik musi zostać zamknięty"
   ]
  },
  {
   "cell_type": "code",
   "execution_count": null,
   "metadata": {
    "id": "J0wJ7QEx5-3Q"
   },
   "outputs": [],
   "source": [
    "help(open)"
   ]
  },
  {
   "cell_type": "markdown",
   "metadata": {
    "id": "6_lkLGFf6FCS"
   },
   "source": [
    "Spróbujmy teraz przeczytać z powrotem ten plik"
   ]
  },
  {
   "cell_type": "code",
   "execution_count": null,
   "metadata": {
    "id": "BO9C9HcN5B8m"
   },
   "outputs": [],
   "source": [
    "f = open(file_path,'r')\n",
    "\n",
    "file_content= f.read() #Czytamy z pliku\n",
    "\n",
    "f.close()"
   ]
  },
  {
   "cell_type": "code",
   "execution_count": null,
   "metadata": {
    "colab": {
     "base_uri": "https://localhost:8080/"
    },
    "executionInfo": {
     "elapsed": 656,
     "status": "ok",
     "timestamp": 1606498945283,
     "user": {
      "displayName": "Tomasz Różański",
      "photoUrl": "https://lh4.googleusercontent.com/-CdAQaQI9V1E/AAAAAAAAAAI/AAAAAAAAAvI/rnNPiSw4f80/s64/photo.jpg",
      "userId": "09904144145241711927"
     },
     "user_tz": -60
    },
    "id": "4iqUq5dW6Tht",
    "outputId": "72da93e9-15fc-4c5f-e4ed-aa19ed2e7be3"
   },
   "outputs": [],
   "source": [
    "print(file_content)"
   ]
  },
  {
   "cell_type": "markdown",
   "metadata": {
    "id": "YK_zERH46z8m"
   },
   "source": [
    "#### Polecana składnia"
   ]
  },
  {
   "cell_type": "code",
   "execution_count": null,
   "metadata": {
    "id": "rfcpj8YO6ucw"
   },
   "outputs": [],
   "source": [
    "file_name= \"second_file.dat\"\n",
    "file_path= os.path.join(data_diretory_path, file_name)\n",
    "with open(file_path,'w') as f:\n",
    "    f.write(\"Inny przykładowy tekst!\")"
   ]
  },
  {
   "cell_type": "code",
   "execution_count": null,
   "metadata": {
    "colab": {
     "base_uri": "https://localhost:8080/"
    },
    "executionInfo": {
     "elapsed": 642,
     "status": "ok",
     "timestamp": 1606499030278,
     "user": {
      "displayName": "Tomasz Różański",
      "photoUrl": "https://lh4.googleusercontent.com/-CdAQaQI9V1E/AAAAAAAAAAI/AAAAAAAAAvI/rnNPiSw4f80/s64/photo.jpg",
      "userId": "09904144145241711927"
     },
     "user_tz": -60
    },
    "id": "4DJ-xR0r6Xw-",
    "outputId": "8802f27a-2e45-475f-8cc4-8cbc2c163d77"
   },
   "outputs": [],
   "source": [
    "with open(file_path) as f: # 'r' - jest domyślne\n",
    "    file_content= f.read()\n",
    "print(file_content)"
   ]
  },
  {
   "cell_type": "markdown",
   "metadata": {
    "id": "ajMGITtV7jTB"
   },
   "source": [
    "## Realne użycie pliku"
   ]
  },
  {
   "cell_type": "code",
   "execution_count": null,
   "metadata": {
    "id": "GNzavSqH7hT9"
   },
   "outputs": [],
   "source": [
    "import numpy as np\n",
    "\n",
    "x= np.arange(0,10,0.01)\n",
    "y= np.sin(x)\n",
    "N = len(x)"
   ]
  },
  {
   "cell_type": "code",
   "execution_count": null,
   "metadata": {
    "colab": {
     "base_uri": "https://localhost:8080/"
    },
    "executionInfo": {
     "elapsed": 411,
     "status": "ok",
     "timestamp": 1606499117459,
     "user": {
      "displayName": "Tomasz Różański",
      "photoUrl": "https://lh4.googleusercontent.com/-CdAQaQI9V1E/AAAAAAAAAAI/AAAAAAAAAvI/rnNPiSw4f80/s64/photo.jpg",
      "userId": "09904144145241711927"
     },
     "user_tz": -60
    },
    "id": "Efyxgmkrzx7Y",
    "outputId": "43bca0e2-1c49-41c8-9156-8831ca278de2"
   },
   "outputs": [],
   "source": [
    "N"
   ]
  },
  {
   "cell_type": "markdown",
   "metadata": {
    "id": "NrpVTc648vB-"
   },
   "source": [
    "Creating file"
   ]
  },
  {
   "cell_type": "code",
   "execution_count": null,
   "metadata": {
    "id": "L8dOwO-c8F5O"
   },
   "outputs": [],
   "source": [
    "file_name= \"some_usefull_file.dat\"\n",
    "file_path= os.path.join(data_diretory_path,file_name)\n",
    "\n",
    "with open(file_path,'w') as f:\n",
    "    for i in range(N):\n",
    "        next_line= str(x[i]) + \" \" + str(y[i]) + '\\n'\n",
    "        f.write(next_line)"
   ]
  },
  {
   "cell_type": "markdown",
   "metadata": {
    "id": "k92BeE6j8wfG"
   },
   "source": [
    "Reading from this file"
   ]
  },
  {
   "cell_type": "code",
   "execution_count": null,
   "metadata": {
    "id": "bPwOT6Co8XU9"
   },
   "outputs": [],
   "source": [
    "with open(file_path) as f: # 'r' - jest domyślne\n",
    "    file_content= f.read()\n",
    "print(file_content)"
   ]
  },
  {
   "cell_type": "code",
   "execution_count": null,
   "metadata": {
    "colab": {
     "base_uri": "https://localhost:8080/",
     "height": 35
    },
    "executionInfo": {
     "elapsed": 631,
     "status": "ok",
     "timestamp": 1606499320482,
     "user": {
      "displayName": "Tomasz Różański",
      "photoUrl": "https://lh4.googleusercontent.com/-CdAQaQI9V1E/AAAAAAAAAAI/AAAAAAAAAvI/rnNPiSw4f80/s64/photo.jpg",
      "userId": "09904144145241711927"
     },
     "user_tz": -60
    },
    "id": "MwPmPoLx9NCs",
    "outputId": "9e531e63-8a92-4068-84b0-61b2fcf2da86"
   },
   "outputs": [],
   "source": [
    "line_by_line_content= file_content.splitlines()\n",
    "line_by_line_content[1]"
   ]
  },
  {
   "cell_type": "code",
   "execution_count": null,
   "metadata": {
    "id": "L40c1Qk29fLN"
   },
   "outputs": [],
   "source": [
    "x_readed, y_readed= [], []\n",
    "for line in line_by_line_content:\n",
    "    xx,yy= line.split()\n",
    "    x_readed.append(float(xx))\n",
    "    y_readed.append(float(yy))"
   ]
  },
  {
   "cell_type": "code",
   "execution_count": null,
   "metadata": {
    "colab": {
     "base_uri": "https://localhost:8080/",
     "height": 282
    },
    "executionInfo": {
     "elapsed": 1011,
     "status": "ok",
     "timestamp": 1606499410322,
     "user": {
      "displayName": "Tomasz Różański",
      "photoUrl": "https://lh4.googleusercontent.com/-CdAQaQI9V1E/AAAAAAAAAAI/AAAAAAAAAvI/rnNPiSw4f80/s64/photo.jpg",
      "userId": "09904144145241711927"
     },
     "user_tz": -60
    },
    "id": "7F1AiSRu9xfN",
    "outputId": "61a0d466-76c5-47cb-c9a9-256b626acaa4"
   },
   "outputs": [],
   "source": [
    "import matplotlib.pyplot as plt\n",
    "\n",
    "plt.plot(x_readed, y_readed)"
   ]
  },
  {
   "cell_type": "markdown",
   "metadata": {
    "id": "sx-q6zSR-9gn"
   },
   "source": [
    "## Wczytywanie widma"
   ]
  },
  {
   "cell_type": "code",
   "execution_count": null,
   "metadata": {
    "id": "zw7muC9h-81H"
   },
   "outputs": [],
   "source": [
    "def read_two_column_file(file_path):\n",
    "    x,y=[],[]\n",
    "    with open(file_path) as f:\n",
    "        for line in f:\n",
    "            numbers= line.split()\n",
    "            if len(numbers) >= 2:\n",
    "                x.append(float(numbers[0]))\n",
    "                y.append(float(numbers[1]))\n",
    "            else:\n",
    "                x.append(float(numbers[0]))\n",
    "                y.append(float(0.))\n",
    "    return x, y"
   ]
  },
  {
   "cell_type": "code",
   "execution_count": null,
   "metadata": {
    "id": "2bvxhsMvAE76"
   },
   "outputs": [],
   "source": [
    "file_name= \"example_spectrum.dsv\"\n",
    "file_path= os.path.join(data_diretory_path,file_name)\n",
    "wave, flux= read_two_column_file(file_path)"
   ]
  },
  {
   "cell_type": "code",
   "execution_count": null,
   "metadata": {
    "colab": {
     "base_uri": "https://localhost:8080/",
     "height": 282
    },
    "executionInfo": {
     "elapsed": 723,
     "status": "ok",
     "timestamp": 1606499918646,
     "user": {
      "displayName": "Tomasz Różański",
      "photoUrl": "https://lh4.googleusercontent.com/-CdAQaQI9V1E/AAAAAAAAAAI/AAAAAAAAAvI/rnNPiSw4f80/s64/photo.jpg",
      "userId": "09904144145241711927"
     },
     "user_tz": -60
    },
    "id": "TCScPf7_AQzF",
    "outputId": "b4dbd80e-8ada-40a4-f023-940fda6c252d"
   },
   "outputs": [],
   "source": [
    "plt.figure(figsize=(12,8))\n",
    "plt.plot(wave,flux)"
   ]
  },
  {
   "cell_type": "code",
   "execution_count": null,
   "metadata": {
    "id": "GGXUDAP9CF38"
   },
   "outputs": [],
   "source": [
    "def save_to_file(file_path, x, y):\n",
    "    with open(file_path,'w') as f:\n",
    "        for xx,yy in zip(x, y):\n",
    "            f.write(\"{} {}\\n\".format(xx,yy))"
   ]
  },
  {
   "cell_type": "code",
   "execution_count": null,
   "metadata": {
    "id": "uW8fhNqGCkbk"
   },
   "outputs": [],
   "source": [
    "file_name= \"copy_of_example_spectrum.txt\"\n",
    "file_path= os.path.join(data_diretory_path,file_name)\n",
    "save_to_file(file_path, wave, flux)"
   ]
  }
 ],
 "metadata": {
  "colab": {
   "authorship_tag": "ABX9TyP00EGWUryS4a+XiSzI5gmX",
   "collapsed_sections": [],
   "name": "05_io.ipynb",
   "provenance": []
  },
  "kernelspec": {
   "display_name": "Python 3",
   "language": "python",
   "name": "python3"
  },
  "language_info": {
   "codemirror_mode": {
    "name": "ipython",
    "version": 3
   },
   "file_extension": ".py",
   "mimetype": "text/x-python",
   "name": "python",
   "nbconvert_exporter": "python",
   "pygments_lexer": "ipython3",
   "version": "3.8.3"
  }
 },
 "nbformat": 4,
 "nbformat_minor": 1
}
