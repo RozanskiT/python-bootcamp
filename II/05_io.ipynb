{
 "cells": [
  {
   "cell_type": "markdown",
   "metadata": {
    "id": "MqB7TuAIO1r_"
   },
   "source": [
    "# Wejście - wyjście\n",
    "\n",
    "Najważniejszym elementem każdego programu jest jego wejście i wyjście.\n",
    "Dane możemy wczytywać z różnych miejsc i w różny sposób, ale najważniejszą pojedynczą koncepcją jest koncepcja pliku."
   ]
  },
  {
   "cell_type": "markdown",
   "metadata": {
    "id": "4PE9iSAKyRcg"
   },
   "source": [
    "## Postawy\n",
    "\n",
    "Pliki i foldery (katalogi, foldery, ang. directories) są w typowym systemie plików zorganizowane w strukturę drzewa. Korzeniem tego drzewa w systemach Unix-owych jest katalog oznaczany:\n",
    "\n",
    "`/`\n",
    "\n",
    "W systemach związanych z systemem Windows nie ma pojedynczego początku, za to każda partycja zaczyna się od pewnej litery, np.:\n",
    "\n",
    "`C:\\`\n",
    "\n",
    "Inna istotna różnica to wykorzystanie w systemach Unixowych `/`, w a Windowowych `\\`. Typowa ścieżka linuxowa wygląda tak:\n",
    "\n",
    "`/content/gdrive/MyDrive/python_tutorial/data`\n",
    "\n",
    "Określa ona położenie w systemie plików pewnego folderu, pliku lub programu. Wykorzystując narzędzia języka Python możemy sprawdzić z czym mamy do czynienia:"
   ]
  },
  {
   "cell_type": "code",
   "execution_count": 9,
   "metadata": {
    "colab": {
     "base_uri": "https://localhost:8080/"
    },
    "executionInfo": {
     "elapsed": 711,
     "status": "ok",
     "timestamp": 1606483199173,
     "user": {
      "displayName": "Tomasz Różański",
      "photoUrl": "https://lh4.googleusercontent.com/-CdAQaQI9V1E/AAAAAAAAAAI/AAAAAAAAAvI/rnNPiSw4f80/s64/photo.jpg",
      "userId": "09904144145241711927"
     },
     "user_tz": -60
    },
    "id": "tWP_FRYZyF_0",
    "outputId": "0a251e56-2c0d-469a-8c71-a10c7e255e69"
   },
   "outputs": [
    {
     "name": "stdout",
     "output_type": "stream",
     "text": [
      "True\n",
      "False\n"
     ]
    }
   ],
   "source": [
    "import os\n",
    "\n",
    "data_directory_path= os.path.join(\"..\",\"data\")\n",
    "\n",
    "print(os.path.isdir(data_directory_path))\n",
    "print(os.path.isfile(data_directory_path))"
   ]
  },
  {
   "cell_type": "markdown",
   "metadata": {
    "id": "EkOyWy_X3M2S"
   },
   "source": [
    "kiedy chcemy z poziomu Pythona sprawdzić co znajduje się w danym katalogu:"
   ]
  },
  {
   "cell_type": "code",
   "execution_count": 3,
   "metadata": {
    "colab": {
     "base_uri": "https://localhost:8080/"
    },
    "executionInfo": {
     "elapsed": 735,
     "status": "ok",
     "timestamp": 1606498382861,
     "user": {
      "displayName": "Tomasz Różański",
      "photoUrl": "https://lh4.googleusercontent.com/-CdAQaQI9V1E/AAAAAAAAAAI/AAAAAAAAAvI/rnNPiSw4f80/s64/photo.jpg",
      "userId": "09904144145241711927"
     },
     "user_tz": -60
    },
    "id": "TT7zXG9_3L8n",
    "outputId": "abb9fb13-87a7-4cbf-9824-c880fcb8a92b"
   },
   "outputs": [
    {
     "name": "stdout",
     "output_type": "stream",
     "text": [
      "['power_sources.csv', 'artists_figure.png', 'GaiaDR2.csv', 'star_list.txt', 'second_file.dat', 'artists_tree.png', 'copy_of_example_spectrum.txt', 'nip.fits', 'some_usefull_file.dat', 'example_spectrum.dsv', 'example_file.dat']\n"
     ]
    }
   ],
   "source": [
    "files= os.listdir(data_directory_path)\n",
    "print(files)"
   ]
  },
  {
   "cell_type": "markdown",
   "metadata": {
    "id": "k1C0nWvT3KHi"
   },
   "source": [
    "## Pliki\n",
    "\n",
    "Zacznijmy od razu od utworzenia pliku"
   ]
  },
  {
   "cell_type": "code",
   "execution_count": 8,
   "metadata": {},
   "outputs": [
    {
     "name": "stdout",
     "output_type": "stream",
     "text": [
      "../data\n",
      "example_file.dat\n",
      "../data/example_file.dat\n",
      "../data/example_file.dat\n"
     ]
    }
   ],
   "source": [
    "file_name= \"example_file.dat\"\n",
    "print(data_directory_path)\n",
    "print(file_name)\n",
    "print(data_directory_path + \"/\" + file_name)\n",
    "print(os.path.join(data_directory_path, file_name))"
   ]
  },
  {
   "cell_type": "code",
   "execution_count": 37,
   "metadata": {
    "id": "tNgraVYQ2_B_"
   },
   "outputs": [
    {
     "ename": "FileExistsError",
     "evalue": "[Errno 17] File exists: '../data/example_file.dat'",
     "output_type": "error",
     "traceback": [
      "\u001b[0;31m---------------------------------------------------------------------------\u001b[0m",
      "\u001b[0;31mFileExistsError\u001b[0m                           Traceback (most recent call last)",
      "\u001b[0;32m<ipython-input-37-8fdfc81c16d7>\u001b[0m in \u001b[0;36m<module>\u001b[0;34m\u001b[0m\n\u001b[1;32m      2\u001b[0m \u001b[0mfile_path\u001b[0m\u001b[0;34m=\u001b[0m \u001b[0mos\u001b[0m\u001b[0;34m.\u001b[0m\u001b[0mpath\u001b[0m\u001b[0;34m.\u001b[0m\u001b[0mjoin\u001b[0m\u001b[0;34m(\u001b[0m\u001b[0mdata_directory_path\u001b[0m\u001b[0;34m,\u001b[0m \u001b[0mfile_name\u001b[0m\u001b[0;34m)\u001b[0m\u001b[0;34m\u001b[0m\u001b[0;34m\u001b[0m\u001b[0m\n\u001b[1;32m      3\u001b[0m \u001b[0;34m\u001b[0m\u001b[0m\n\u001b[0;32m----> 4\u001b[0;31m \u001b[0mf\u001b[0m \u001b[0;34m=\u001b[0m \u001b[0mopen\u001b[0m\u001b[0;34m(\u001b[0m\u001b[0mfile_path\u001b[0m\u001b[0;34m,\u001b[0m\u001b[0;34m'x'\u001b[0m\u001b[0;34m)\u001b[0m\u001b[0;34m\u001b[0m\u001b[0;34m\u001b[0m\u001b[0m\n\u001b[0m\u001b[1;32m      5\u001b[0m \u001b[0;34m\u001b[0m\u001b[0m\n\u001b[1;32m      6\u001b[0m \u001b[0mf\u001b[0m\u001b[0;34m.\u001b[0m\u001b[0mwrite\u001b[0m\u001b[0;34m(\u001b[0m\u001b[0;34m\"Ala ma kota\"\u001b[0m\u001b[0;34m)\u001b[0m \u001b[0;31m# Piszemy do pliku\u001b[0m\u001b[0;34m\u001b[0m\u001b[0;34m\u001b[0m\u001b[0m\n",
      "\u001b[0;31mFileExistsError\u001b[0m: [Errno 17] File exists: '../data/example_file.dat'"
     ]
    }
   ],
   "source": [
    "file_name= \"example_file.dat\"\n",
    "file_path= os.path.join(data_directory_path, file_name)\n",
    "\n",
    "f = open(file_path,'x')\n",
    "\n",
    "f.write(\"Ala ma kota\") # Piszemy do pliku\n",
    "\n",
    "f.close() # plik musi zostać zamknięty"
   ]
  },
  {
   "cell_type": "code",
   "execution_count": 12,
   "metadata": {
    "id": "J0wJ7QEx5-3Q"
   },
   "outputs": [
    {
     "name": "stdout",
     "output_type": "stream",
     "text": [
      "Help on built-in function open in module io:\n",
      "\n",
      "open(file, mode='r', buffering=-1, encoding=None, errors=None, newline=None, closefd=True, opener=None)\n",
      "    Open file and return a stream.  Raise OSError upon failure.\n",
      "    \n",
      "    file is either a text or byte string giving the name (and the path\n",
      "    if the file isn't in the current working directory) of the file to\n",
      "    be opened or an integer file descriptor of the file to be\n",
      "    wrapped. (If a file descriptor is given, it is closed when the\n",
      "    returned I/O object is closed, unless closefd is set to False.)\n",
      "    \n",
      "    mode is an optional string that specifies the mode in which the file\n",
      "    is opened. It defaults to 'r' which means open for reading in text\n",
      "    mode.  Other common values are 'w' for writing (truncating the file if\n",
      "    it already exists), 'x' for creating and writing to a new file, and\n",
      "    'a' for appending (which on some Unix systems, means that all writes\n",
      "    append to the end of the file regardless of the current seek position).\n",
      "    In text mode, if encoding is not specified the encoding used is platform\n",
      "    dependent: locale.getpreferredencoding(False) is called to get the\n",
      "    current locale encoding. (For reading and writing raw bytes use binary\n",
      "    mode and leave encoding unspecified.) The available modes are:\n",
      "    \n",
      "    ========= ===============================================================\n",
      "    Character Meaning\n",
      "    --------- ---------------------------------------------------------------\n",
      "    'r'       open for reading (default)\n",
      "    'w'       open for writing, truncating the file first\n",
      "    'x'       create a new file and open it for writing\n",
      "    'a'       open for writing, appending to the end of the file if it exists\n",
      "    'b'       binary mode\n",
      "    't'       text mode (default)\n",
      "    '+'       open a disk file for updating (reading and writing)\n",
      "    'U'       universal newline mode (deprecated)\n",
      "    ========= ===============================================================\n",
      "    \n",
      "    The default mode is 'rt' (open for reading text). For binary random\n",
      "    access, the mode 'w+b' opens and truncates the file to 0 bytes, while\n",
      "    'r+b' opens the file without truncation. The 'x' mode implies 'w' and\n",
      "    raises an `FileExistsError` if the file already exists.\n",
      "    \n",
      "    Python distinguishes between files opened in binary and text modes,\n",
      "    even when the underlying operating system doesn't. Files opened in\n",
      "    binary mode (appending 'b' to the mode argument) return contents as\n",
      "    bytes objects without any decoding. In text mode (the default, or when\n",
      "    't' is appended to the mode argument), the contents of the file are\n",
      "    returned as strings, the bytes having been first decoded using a\n",
      "    platform-dependent encoding or using the specified encoding if given.\n",
      "    \n",
      "    'U' mode is deprecated and will raise an exception in future versions\n",
      "    of Python.  It has no effect in Python 3.  Use newline to control\n",
      "    universal newlines mode.\n",
      "    \n",
      "    buffering is an optional integer used to set the buffering policy.\n",
      "    Pass 0 to switch buffering off (only allowed in binary mode), 1 to select\n",
      "    line buffering (only usable in text mode), and an integer > 1 to indicate\n",
      "    the size of a fixed-size chunk buffer.  When no buffering argument is\n",
      "    given, the default buffering policy works as follows:\n",
      "    \n",
      "    * Binary files are buffered in fixed-size chunks; the size of the buffer\n",
      "      is chosen using a heuristic trying to determine the underlying device's\n",
      "      \"block size\" and falling back on `io.DEFAULT_BUFFER_SIZE`.\n",
      "      On many systems, the buffer will typically be 4096 or 8192 bytes long.\n",
      "    \n",
      "    * \"Interactive\" text files (files for which isatty() returns True)\n",
      "      use line buffering.  Other text files use the policy described above\n",
      "      for binary files.\n",
      "    \n",
      "    encoding is the name of the encoding used to decode or encode the\n",
      "    file. This should only be used in text mode. The default encoding is\n",
      "    platform dependent, but any encoding supported by Python can be\n",
      "    passed.  See the codecs module for the list of supported encodings.\n",
      "    \n",
      "    errors is an optional string that specifies how encoding errors are to\n",
      "    be handled---this argument should not be used in binary mode. Pass\n",
      "    'strict' to raise a ValueError exception if there is an encoding error\n",
      "    (the default of None has the same effect), or pass 'ignore' to ignore\n",
      "    errors. (Note that ignoring encoding errors can lead to data loss.)\n",
      "    See the documentation for codecs.register or run 'help(codecs.Codec)'\n",
      "    for a list of the permitted encoding error strings.\n",
      "    \n",
      "    newline controls how universal newlines works (it only applies to text\n",
      "    mode). It can be None, '', '\\n', '\\r', and '\\r\\n'.  It works as\n",
      "    follows:\n",
      "    \n",
      "    * On input, if newline is None, universal newlines mode is\n",
      "      enabled. Lines in the input can end in '\\n', '\\r', or '\\r\\n', and\n",
      "      these are translated into '\\n' before being returned to the\n",
      "      caller. If it is '', universal newline mode is enabled, but line\n",
      "      endings are returned to the caller untranslated. If it has any of\n",
      "      the other legal values, input lines are only terminated by the given\n",
      "      string, and the line ending is returned to the caller untranslated.\n",
      "    \n",
      "    * On output, if newline is None, any '\\n' characters written are\n",
      "      translated to the system default line separator, os.linesep. If\n",
      "      newline is '' or '\\n', no translation takes place. If newline is any\n",
      "      of the other legal values, any '\\n' characters written are translated\n",
      "      to the given string.\n",
      "    \n",
      "    If closefd is False, the underlying file descriptor will be kept open\n",
      "    when the file is closed. This does not work when a file name is given\n",
      "    and must be True in that case.\n",
      "    \n",
      "    A custom opener can be used by passing a callable as *opener*. The\n",
      "    underlying file descriptor for the file object is then obtained by\n",
      "    calling *opener* with (*file*, *flags*). *opener* must return an open\n",
      "    file descriptor (passing os.open as *opener* results in functionality\n",
      "    similar to passing None).\n",
      "    \n",
      "    open() returns a file object whose type depends on the mode, and\n",
      "    through which the standard file operations such as reading and writing\n",
      "    are performed. When open() is used to open a file in a text mode ('w',\n",
      "    'r', 'wt', 'rt', etc.), it returns a TextIOWrapper. When used to open\n",
      "    a file in a binary mode, the returned class varies: in read binary\n",
      "    mode, it returns a BufferedReader; in write binary and append binary\n",
      "    modes, it returns a BufferedWriter, and in read/write mode, it returns\n",
      "    a BufferedRandom.\n",
      "    \n",
      "    It is also possible to use a string or bytearray as a file for both\n",
      "    reading and writing. For strings StringIO can be used like a file\n",
      "    opened in a text mode, and for bytes a BytesIO can be used like a file\n",
      "    opened in a binary mode.\n",
      "\n"
     ]
    }
   ],
   "source": [
    "help(open)"
   ]
  },
  {
   "cell_type": "markdown",
   "metadata": {
    "id": "6_lkLGFf6FCS"
   },
   "source": [
    "Spróbujmy teraz przeczytać z powrotem ten plik"
   ]
  },
  {
   "cell_type": "code",
   "execution_count": 17,
   "metadata": {},
   "outputs": [
    {
     "name": "stdout",
     "output_type": "stream",
     "text": [
      "../data/example_file.dat\n"
     ]
    }
   ],
   "source": [
    "print(file_path)"
   ]
  },
  {
   "cell_type": "code",
   "execution_count": 22,
   "metadata": {},
   "outputs": [
    {
     "data": {
      "text/plain": [
       "'/Users/tr/repos/python-bootcamp/II'"
      ]
     },
     "execution_count": 22,
     "metadata": {},
     "output_type": "execute_result"
    }
   ],
   "source": [
    "os.getcwd()"
   ]
  },
  {
   "cell_type": "code",
   "execution_count": 25,
   "metadata": {
    "id": "BO9C9HcN5B8m"
   },
   "outputs": [],
   "source": [
    "f = open(file_path,'r')\n",
    "\n",
    "file_content= f.read() #Czytamy z pliku\n",
    "\n",
    "f.close()"
   ]
  },
  {
   "cell_type": "code",
   "execution_count": 15,
   "metadata": {},
   "outputs": [
    {
     "data": {
      "text/plain": [
       "_io.TextIOWrapper"
      ]
     },
     "execution_count": 15,
     "metadata": {},
     "output_type": "execute_result"
    }
   ],
   "source": [
    "type(f)"
   ]
  },
  {
   "cell_type": "code",
   "execution_count": 14,
   "metadata": {
    "colab": {
     "base_uri": "https://localhost:8080/"
    },
    "executionInfo": {
     "elapsed": 656,
     "status": "ok",
     "timestamp": 1606498945283,
     "user": {
      "displayName": "Tomasz Różański",
      "photoUrl": "https://lh4.googleusercontent.com/-CdAQaQI9V1E/AAAAAAAAAAI/AAAAAAAAAvI/rnNPiSw4f80/s64/photo.jpg",
      "userId": "09904144145241711927"
     },
     "user_tz": -60
    },
    "id": "4iqUq5dW6Tht",
    "outputId": "72da93e9-15fc-4c5f-e4ed-aa19ed2e7be3"
   },
   "outputs": [
    {
     "name": "stdout",
     "output_type": "stream",
     "text": [
      "Ala ma kota\n"
     ]
    }
   ],
   "source": [
    "print(file_content)"
   ]
  },
  {
   "cell_type": "markdown",
   "metadata": {
    "id": "YK_zERH46z8m"
   },
   "source": [
    "#### Polecana składnia"
   ]
  },
  {
   "cell_type": "code",
   "execution_count": 38,
   "metadata": {
    "id": "rfcpj8YO6ucw"
   },
   "outputs": [],
   "source": [
    "file_name= \"second_file.dat\"\n",
    "file_path= os.path.join(data_directory_path, file_name)\n",
    "with open(file_path,'w') as f:\n",
    "    f.write(\"Inny przykładowy tekst!\")"
   ]
  },
  {
   "cell_type": "code",
   "execution_count": 39,
   "metadata": {
    "colab": {
     "base_uri": "https://localhost:8080/"
    },
    "executionInfo": {
     "elapsed": 642,
     "status": "ok",
     "timestamp": 1606499030278,
     "user": {
      "displayName": "Tomasz Różański",
      "photoUrl": "https://lh4.googleusercontent.com/-CdAQaQI9V1E/AAAAAAAAAAI/AAAAAAAAAvI/rnNPiSw4f80/s64/photo.jpg",
      "userId": "09904144145241711927"
     },
     "user_tz": -60
    },
    "id": "4DJ-xR0r6Xw-",
    "outputId": "8802f27a-2e45-475f-8cc4-8cbc2c163d77"
   },
   "outputs": [
    {
     "name": "stdout",
     "output_type": "stream",
     "text": [
      "Inny przykładowy tekst!\n"
     ]
    }
   ],
   "source": [
    "with open(file_path) as f: # 'r' - jest domyślne\n",
    "    file_content= f.read()\n",
    "print(file_content)"
   ]
  },
  {
   "cell_type": "markdown",
   "metadata": {
    "id": "ajMGITtV7jTB"
   },
   "source": [
    "## Realne użycie pliku"
   ]
  },
  {
   "cell_type": "code",
   "execution_count": 40,
   "metadata": {
    "id": "GNzavSqH7hT9"
   },
   "outputs": [],
   "source": [
    "import numpy as np\n",
    "\n",
    "x= np.arange(0,10,0.01)\n",
    "y= np.sin(x)\n",
    "N = len(x)"
   ]
  },
  {
   "cell_type": "code",
   "execution_count": 41,
   "metadata": {
    "colab": {
     "base_uri": "https://localhost:8080/"
    },
    "executionInfo": {
     "elapsed": 411,
     "status": "ok",
     "timestamp": 1606499117459,
     "user": {
      "displayName": "Tomasz Różański",
      "photoUrl": "https://lh4.googleusercontent.com/-CdAQaQI9V1E/AAAAAAAAAAI/AAAAAAAAAvI/rnNPiSw4f80/s64/photo.jpg",
      "userId": "09904144145241711927"
     },
     "user_tz": -60
    },
    "id": "Efyxgmkrzx7Y",
    "outputId": "43bca0e2-1c49-41c8-9156-8831ca278de2"
   },
   "outputs": [
    {
     "data": {
      "text/plain": [
       "1000"
      ]
     },
     "execution_count": 41,
     "metadata": {},
     "output_type": "execute_result"
    }
   ],
   "source": [
    "N"
   ]
  },
  {
   "cell_type": "markdown",
   "metadata": {
    "id": "NrpVTc648vB-"
   },
   "source": [
    "Creating file"
   ]
  },
  {
   "cell_type": "code",
   "execution_count": 52,
   "metadata": {
    "id": "L8dOwO-c8F5O"
   },
   "outputs": [],
   "source": [
    "file_name= \"some_usefull_file.dat\"\n",
    "file_path= os.path.join(data_directory_path,file_name)\n",
    "\n",
    "with open(file_path,'w') as f:\n",
    "    for idx in range(N):\n",
    "#         next_line= str(x[idx]) + \" \" + str(y[idx]) + '\\n'\n",
    "        next_line= f\"{x[idx]:.3f} {y[idx]:+6.3f}\\n\"\n",
    "        f.write(next_line)"
   ]
  },
  {
   "cell_type": "markdown",
   "metadata": {
    "id": "k92BeE6j8wfG"
   },
   "source": [
    "Reading from this file"
   ]
  },
  {
   "cell_type": "code",
   "execution_count": 53,
   "metadata": {
    "id": "bPwOT6Co8XU9"
   },
   "outputs": [
    {
     "name": "stdout",
     "output_type": "stream",
     "text": [
      "0.000 +0.000\n",
      "0.010 +0.010\n",
      "0.020 +0.020\n",
      "0.030 +0.030\n",
      "0.040 +0.040\n",
      "0.050 +0.050\n",
      "0.060 +0.060\n",
      "0.070 +0.070\n",
      "0.080 +0.080\n",
      "0.090 +0.090\n",
      "0.100 +0.100\n",
      "0.110 +0.110\n",
      "0.120 +0.120\n",
      "0.130 +0.130\n",
      "0.140 +0.140\n",
      "0.150 +0.149\n",
      "0.160 +0.159\n",
      "0.170 +0.169\n",
      "0.180 +0.179\n",
      "0.190 +0.189\n",
      "0.200 +0.199\n",
      "0.210 +0.208\n",
      "0.220 +0.218\n",
      "0.230 +0.228\n",
      "0.240 +0.238\n",
      "0.250 +0.247\n",
      "0.260 +0.257\n",
      "0.270 +0.267\n",
      "0.280 +0.276\n",
      "0.290 +0.286\n",
      "0.300 +0.296\n",
      "0.310 +0.305\n",
      "0.320 +0.315\n",
      "0.330 +0.324\n",
      "0.340 +0.333\n",
      "0.350 +0.343\n",
      "0.360 +0.352\n",
      "0.370 +0.362\n",
      "0.380 +0.371\n",
      "0.390 +0.380\n",
      "0.400 +0.389\n",
      "0.410 +0.399\n",
      "0.420 +0.408\n",
      "0.430 +0.417\n",
      "0.440 +0.426\n",
      "0.450 +0.435\n",
      "0.460 +0.444\n",
      "0.470 +0.453\n",
      "0.480 +0.462\n",
      "0.490 +0.471\n",
      "0.500 +0.479\n",
      "0.510 +0.488\n",
      "0.520 +0.497\n",
      "0.530 +0.506\n",
      "0.540 +0.514\n",
      "0.550 +0.523\n",
      "0.560 +0.531\n",
      "0.570 +0.540\n",
      "0.580 +0.548\n",
      "0.590 +0.556\n",
      "0.600 +0.565\n",
      "0.610 +0.573\n",
      "0.620 +0.581\n",
      "0.630 +0.589\n",
      "0.640 +0.597\n",
      "0.650 +0.605\n",
      "0.660 +0.613\n",
      "0.670 +0.621\n",
      "0.680 +0.629\n",
      "0.690 +0.637\n",
      "0.700 +0.644\n",
      "0.710 +0.652\n",
      "0.720 +0.659\n",
      "0.730 +0.667\n",
      "0.740 +0.674\n",
      "0.750 +0.682\n",
      "0.760 +0.689\n",
      "0.770 +0.696\n",
      "0.780 +0.703\n",
      "0.790 +0.710\n",
      "0.800 +0.717\n",
      "0.810 +0.724\n",
      "0.820 +0.731\n",
      "0.830 +0.738\n",
      "0.840 +0.745\n",
      "0.850 +0.751\n",
      "0.860 +0.758\n",
      "0.870 +0.764\n",
      "0.880 +0.771\n",
      "0.890 +0.777\n",
      "0.900 +0.783\n",
      "0.910 +0.790\n",
      "0.920 +0.796\n",
      "0.930 +0.802\n",
      "0.940 +0.808\n",
      "0.950 +0.813\n",
      "0.960 +0.819\n",
      "0.970 +0.825\n",
      "0.980 +0.830\n",
      "0.990 +0.836\n",
      "1.000 +0.841\n",
      "1.010 +0.847\n",
      "1.020 +0.852\n",
      "1.030 +0.857\n",
      "1.040 +0.862\n",
      "1.050 +0.867\n",
      "1.060 +0.872\n",
      "1.070 +0.877\n",
      "1.080 +0.882\n",
      "1.090 +0.887\n",
      "1.100 +0.891\n",
      "1.110 +0.896\n",
      "1.120 +0.900\n",
      "1.130 +0.904\n",
      "1.140 +0.909\n",
      "1.150 +0.913\n",
      "1.160 +0.917\n",
      "1.170 +0.921\n",
      "1.180 +0.925\n",
      "1.190 +0.928\n",
      "1.200 +0.932\n",
      "1.210 +0.936\n",
      "1.220 +0.939\n",
      "1.230 +0.942\n",
      "1.240 +0.946\n",
      "1.250 +0.949\n",
      "1.260 +0.952\n",
      "1.270 +0.955\n",
      "1.280 +0.958\n",
      "1.290 +0.961\n",
      "1.300 +0.964\n",
      "1.310 +0.966\n",
      "1.320 +0.969\n",
      "1.330 +0.971\n",
      "1.340 +0.973\n",
      "1.350 +0.976\n",
      "1.360 +0.978\n",
      "1.370 +0.980\n",
      "1.380 +0.982\n",
      "1.390 +0.984\n",
      "1.400 +0.985\n",
      "1.410 +0.987\n",
      "1.420 +0.989\n",
      "1.430 +0.990\n",
      "1.440 +0.991\n",
      "1.450 +0.993\n",
      "1.460 +0.994\n",
      "1.470 +0.995\n",
      "1.480 +0.996\n",
      "1.490 +0.997\n",
      "1.500 +0.997\n",
      "1.510 +0.998\n",
      "1.520 +0.999\n",
      "1.530 +0.999\n",
      "1.540 +1.000\n",
      "1.550 +1.000\n",
      "1.560 +1.000\n",
      "1.570 +1.000\n",
      "1.580 +1.000\n",
      "1.590 +1.000\n",
      "1.600 +1.000\n",
      "1.610 +0.999\n",
      "1.620 +0.999\n",
      "1.630 +0.998\n",
      "1.640 +0.998\n",
      "1.650 +0.997\n",
      "1.660 +0.996\n",
      "1.670 +0.995\n",
      "1.680 +0.994\n",
      "1.690 +0.993\n",
      "1.700 +0.992\n",
      "1.710 +0.990\n",
      "1.720 +0.989\n",
      "1.730 +0.987\n",
      "1.740 +0.986\n",
      "1.750 +0.984\n",
      "1.760 +0.982\n",
      "1.770 +0.980\n",
      "1.780 +0.978\n",
      "1.790 +0.976\n",
      "1.800 +0.974\n",
      "1.810 +0.972\n",
      "1.820 +0.969\n",
      "1.830 +0.967\n",
      "1.840 +0.964\n",
      "1.850 +0.961\n",
      "1.860 +0.958\n",
      "1.870 +0.956\n",
      "1.880 +0.953\n",
      "1.890 +0.949\n",
      "1.900 +0.946\n",
      "1.910 +0.943\n",
      "1.920 +0.940\n",
      "1.930 +0.936\n",
      "1.940 +0.933\n",
      "1.950 +0.929\n",
      "1.960 +0.925\n",
      "1.970 +0.921\n",
      "1.980 +0.917\n",
      "1.990 +0.913\n",
      "2.000 +0.909\n",
      "2.010 +0.905\n",
      "2.020 +0.901\n",
      "2.030 +0.896\n",
      "2.040 +0.892\n",
      "2.050 +0.887\n",
      "2.060 +0.883\n",
      "2.070 +0.878\n",
      "2.080 +0.873\n",
      "2.090 +0.868\n",
      "2.100 +0.863\n",
      "2.110 +0.858\n",
      "2.120 +0.853\n",
      "2.130 +0.848\n",
      "2.140 +0.842\n",
      "2.150 +0.837\n",
      "2.160 +0.831\n",
      "2.170 +0.826\n",
      "2.180 +0.820\n",
      "2.190 +0.814\n",
      "2.200 +0.808\n",
      "2.210 +0.803\n",
      "2.220 +0.797\n",
      "2.230 +0.790\n",
      "2.240 +0.784\n",
      "2.250 +0.778\n",
      "2.260 +0.772\n",
      "2.270 +0.765\n",
      "2.280 +0.759\n",
      "2.290 +0.752\n",
      "2.300 +0.746\n",
      "2.310 +0.739\n",
      "2.320 +0.732\n",
      "2.330 +0.725\n",
      "2.340 +0.718\n",
      "2.350 +0.711\n",
      "2.360 +0.704\n",
      "2.370 +0.697\n",
      "2.380 +0.690\n",
      "2.390 +0.683\n",
      "2.400 +0.675\n",
      "2.410 +0.668\n",
      "2.420 +0.661\n",
      "2.430 +0.653\n",
      "2.440 +0.645\n",
      "2.450 +0.638\n",
      "2.460 +0.630\n",
      "2.470 +0.622\n",
      "2.480 +0.614\n",
      "2.490 +0.606\n",
      "2.500 +0.598\n",
      "2.510 +0.590\n",
      "2.520 +0.582\n",
      "2.530 +0.574\n",
      "2.540 +0.566\n",
      "2.550 +0.558\n",
      "2.560 +0.549\n",
      "2.570 +0.541\n",
      "2.580 +0.533\n",
      "2.590 +0.524\n",
      "2.600 +0.516\n",
      "2.610 +0.507\n",
      "2.620 +0.498\n",
      "2.630 +0.490\n",
      "2.640 +0.481\n",
      "2.650 +0.472\n",
      "2.660 +0.463\n",
      "2.670 +0.454\n",
      "2.680 +0.445\n",
      "2.690 +0.436\n",
      "2.700 +0.427\n",
      "2.710 +0.418\n",
      "2.720 +0.409\n",
      "2.730 +0.400\n",
      "2.740 +0.391\n",
      "2.750 +0.382\n",
      "2.760 +0.372\n",
      "2.770 +0.363\n",
      "2.780 +0.354\n",
      "2.790 +0.344\n",
      "2.800 +0.335\n",
      "2.810 +0.326\n",
      "2.820 +0.316\n",
      "2.830 +0.307\n",
      "2.840 +0.297\n",
      "2.850 +0.287\n",
      "2.860 +0.278\n",
      "2.870 +0.268\n",
      "2.880 +0.259\n",
      "2.890 +0.249\n",
      "2.900 +0.239\n",
      "2.910 +0.230\n",
      "2.920 +0.220\n",
      "2.930 +0.210\n",
      "2.940 +0.200\n",
      "2.950 +0.190\n",
      "2.960 +0.181\n",
      "2.970 +0.171\n",
      "2.980 +0.161\n",
      "2.990 +0.151\n",
      "3.000 +0.141\n",
      "3.010 +0.131\n",
      "3.020 +0.121\n",
      "3.030 +0.111\n",
      "3.040 +0.101\n",
      "3.050 +0.091\n",
      "3.060 +0.082\n",
      "3.070 +0.072\n",
      "3.080 +0.062\n",
      "3.090 +0.052\n",
      "3.100 +0.042\n",
      "3.110 +0.032\n",
      "3.120 +0.022\n",
      "3.130 +0.012\n",
      "3.140 +0.002\n",
      "3.150 -0.008\n",
      "3.160 -0.018\n",
      "3.170 -0.028\n",
      "3.180 -0.038\n",
      "3.190 -0.048\n",
      "3.200 -0.058\n",
      "3.210 -0.068\n",
      "3.220 -0.078\n",
      "3.230 -0.088\n",
      "3.240 -0.098\n",
      "3.250 -0.108\n",
      "3.260 -0.118\n",
      "3.270 -0.128\n",
      "3.280 -0.138\n",
      "3.290 -0.148\n",
      "3.300 -0.158\n",
      "3.310 -0.168\n",
      "3.320 -0.177\n",
      "3.330 -0.187\n",
      "3.340 -0.197\n",
      "3.350 -0.207\n",
      "3.360 -0.217\n",
      "3.370 -0.226\n",
      "3.380 -0.236\n",
      "3.390 -0.246\n",
      "3.400 -0.256\n",
      "3.410 -0.265\n",
      "3.420 -0.275\n",
      "3.430 -0.284\n",
      "3.440 -0.294\n",
      "3.450 -0.304\n",
      "3.460 -0.313\n",
      "3.470 -0.323\n",
      "3.480 -0.332\n",
      "3.490 -0.341\n",
      "3.500 -0.351\n",
      "3.510 -0.360\n",
      "3.520 -0.369\n",
      "3.530 -0.379\n",
      "3.540 -0.388\n",
      "3.550 -0.397\n",
      "3.560 -0.406\n",
      "3.570 -0.415\n",
      "3.580 -0.424\n",
      "3.590 -0.434\n",
      "3.600 -0.443\n",
      "3.610 -0.451\n",
      "3.620 -0.460\n",
      "3.630 -0.469\n",
      "3.640 -0.478\n",
      "3.650 -0.487\n",
      "3.660 -0.495\n",
      "3.670 -0.504\n",
      "3.680 -0.513\n",
      "3.690 -0.521\n",
      "3.700 -0.530\n",
      "3.710 -0.538\n",
      "3.720 -0.547\n",
      "3.730 -0.555\n",
      "3.740 -0.563\n",
      "3.750 -0.572\n",
      "3.760 -0.580\n",
      "3.770 -0.588\n",
      "3.780 -0.596\n",
      "3.790 -0.604\n",
      "3.800 -0.612\n",
      "3.810 -0.620\n",
      "3.820 -0.628\n",
      "3.830 -0.635\n",
      "3.840 -0.643\n",
      "3.850 -0.651\n",
      "3.860 -0.658\n",
      "3.870 -0.666\n",
      "3.880 -0.673\n",
      "3.890 -0.680\n",
      "3.900 -0.688\n",
      "3.910 -0.695\n",
      "3.920 -0.702\n",
      "3.930 -0.709\n",
      "3.940 -0.716\n",
      "3.950 -0.723\n",
      "3.960 -0.730\n",
      "3.970 -0.737\n",
      "3.980 -0.744\n",
      "3.990 -0.750\n",
      "4.000 -0.757\n",
      "4.010 -0.763\n",
      "4.020 -0.770\n",
      "4.030 -0.776\n",
      "4.040 -0.782\n",
      "4.050 -0.789\n",
      "4.060 -0.795\n",
      "4.070 -0.801\n",
      "4.080 -0.807\n",
      "4.090 -0.812\n",
      "4.100 -0.818\n",
      "4.110 -0.824\n",
      "4.120 -0.830\n",
      "4.130 -0.835\n",
      "4.140 -0.841\n",
      "4.150 -0.846\n",
      "4.160 -0.851\n",
      "4.170 -0.856\n",
      "4.180 -0.862\n",
      "4.190 -0.867\n",
      "4.200 -0.872\n",
      "4.210 -0.876\n",
      "4.220 -0.881\n",
      "4.230 -0.886\n",
      "4.240 -0.890\n",
      "4.250 -0.895\n",
      "4.260 -0.899\n",
      "4.270 -0.904\n",
      "4.280 -0.908\n",
      "4.290 -0.912\n",
      "4.300 -0.916\n",
      "4.310 -0.920\n",
      "4.320 -0.924\n",
      "4.330 -0.928\n",
      "4.340 -0.931\n",
      "4.350 -0.935\n",
      "4.360 -0.939\n",
      "4.370 -0.942\n",
      "4.380 -0.945\n",
      "4.390 -0.948\n",
      "4.400 -0.952\n",
      "4.410 -0.955\n",
      "4.420 -0.958\n",
      "4.430 -0.960\n",
      "4.440 -0.963\n",
      "4.450 -0.966\n",
      "4.460 -0.968\n",
      "4.470 -0.971\n",
      "4.480 -0.973\n",
      "4.490 -0.975\n",
      "4.500 -0.978\n",
      "4.510 -0.980\n",
      "4.520 -0.982\n",
      "4.530 -0.983\n",
      "4.540 -0.985\n",
      "4.550 -0.987\n",
      "4.560 -0.988\n",
      "4.570 -0.990\n",
      "4.580 -0.991\n",
      "4.590 -0.993\n",
      "4.600 -0.994\n",
      "4.610 -0.995\n",
      "4.620 -0.996\n",
      "4.630 -0.997\n",
      "4.640 -0.997\n",
      "4.650 -0.998\n",
      "4.660 -0.999\n",
      "4.670 -0.999\n",
      "4.680 -0.999\n",
      "4.690 -1.000\n",
      "4.700 -1.000\n",
      "4.710 -1.000\n",
      "4.720 -1.000\n",
      "4.730 -1.000\n",
      "4.740 -1.000\n",
      "4.750 -0.999\n",
      "4.760 -0.999\n",
      "4.770 -0.998\n",
      "4.780 -0.998\n",
      "4.790 -0.997\n",
      "4.800 -0.996\n",
      "4.810 -0.995\n",
      "4.820 -0.994\n",
      "4.830 -0.993\n",
      "4.840 -0.992\n",
      "4.850 -0.991\n",
      "4.860 -0.989\n",
      "4.870 -0.988\n",
      "4.880 -0.986\n",
      "4.890 -0.984\n",
      "4.900 -0.982\n",
      "4.910 -0.981\n",
      "4.920 -0.979\n",
      "4.930 -0.976\n",
      "4.940 -0.974\n",
      "4.950 -0.972\n",
      "4.960 -0.970\n",
      "4.970 -0.967\n",
      "4.980 -0.964\n",
      "4.990 -0.962\n",
      "5.000 -0.959\n",
      "5.010 -0.956\n",
      "5.020 -0.953\n",
      "5.030 -0.950\n",
      "5.040 -0.947\n",
      "5.050 -0.944\n",
      "5.060 -0.940\n",
      "5.070 -0.937\n",
      "5.080 -0.933\n",
      "5.090 -0.930\n",
      "5.100 -0.926\n",
      "5.110 -0.922\n",
      "5.120 -0.918\n",
      "5.130 -0.914\n",
      "5.140 -0.910\n",
      "5.150 -0.906\n",
      "5.160 -0.901\n",
      "5.170 -0.897\n",
      "5.180 -0.893\n",
      "5.190 -0.888\n",
      "5.200 -0.883\n",
      "5.210 -0.879\n",
      "5.220 -0.874\n",
      "5.230 -0.869\n",
      "5.240 -0.864\n",
      "5.250 -0.859\n",
      "5.260 -0.854\n",
      "5.270 -0.849\n",
      "5.280 -0.843\n",
      "5.290 -0.838\n",
      "5.300 -0.832\n",
      "5.310 -0.827\n",
      "5.320 -0.821\n",
      "5.330 -0.815\n",
      "5.340 -0.809\n",
      "5.350 -0.804\n",
      "5.360 -0.798\n",
      "5.370 -0.791\n",
      "5.380 -0.785\n",
      "5.390 -0.779\n",
      "5.400 -0.773\n",
      "5.410 -0.766\n",
      "5.420 -0.760\n",
      "5.430 -0.753\n",
      "5.440 -0.747\n",
      "5.450 -0.740\n",
      "5.460 -0.733\n",
      "5.470 -0.726\n",
      "5.480 -0.720\n",
      "5.490 -0.713\n",
      "5.500 -0.706\n",
      "5.510 -0.698\n",
      "5.520 -0.691\n",
      "5.530 -0.684\n",
      "5.540 -0.677\n",
      "5.550 -0.669\n",
      "5.560 -0.662\n",
      "5.570 -0.654\n",
      "5.580 -0.647\n",
      "5.590 -0.639\n",
      "5.600 -0.631\n",
      "5.610 -0.623\n",
      "5.620 -0.616\n",
      "5.630 -0.608\n",
      "5.640 -0.600\n",
      "5.650 -0.592\n",
      "5.660 -0.584\n",
      "5.670 -0.575\n",
      "5.680 -0.567\n",
      "5.690 -0.559\n",
      "5.700 -0.551\n",
      "5.710 -0.542\n",
      "5.720 -0.534\n",
      "5.730 -0.525\n",
      "5.740 -0.517\n",
      "5.750 -0.508\n",
      "5.760 -0.500\n",
      "5.770 -0.491\n",
      "5.780 -0.482\n",
      "5.790 -0.473\n",
      "5.800 -0.465\n",
      "5.810 -0.456\n",
      "5.820 -0.447\n",
      "5.830 -0.438\n",
      "5.840 -0.429\n",
      "5.850 -0.420\n",
      "5.860 -0.411\n",
      "5.870 -0.402\n",
      "5.880 -0.392\n",
      "5.890 -0.383\n",
      "5.900 -0.374\n",
      "5.910 -0.365\n",
      "5.920 -0.355\n",
      "5.930 -0.346\n",
      "5.940 -0.336\n",
      "5.950 -0.327\n",
      "5.960 -0.318\n",
      "5.970 -0.308\n",
      "5.980 -0.299\n",
      "5.990 -0.289\n",
      "6.000 -0.279\n",
      "6.010 -0.270\n",
      "6.020 -0.260\n",
      "6.030 -0.250\n",
      "6.040 -0.241\n",
      "6.050 -0.231\n",
      "6.060 -0.221\n",
      "6.070 -0.212\n",
      "6.080 -0.202\n",
      "6.090 -0.192\n",
      "6.100 -0.182\n",
      "6.110 -0.172\n",
      "6.120 -0.162\n",
      "6.130 -0.153\n",
      "6.140 -0.143\n",
      "6.150 -0.133\n",
      "6.160 -0.123\n",
      "6.170 -0.113\n",
      "6.180 -0.103\n",
      "6.190 -0.093\n",
      "6.200 -0.083\n",
      "6.210 -0.073\n",
      "6.220 -0.063\n",
      "6.230 -0.053\n",
      "6.240 -0.043\n",
      "6.250 -0.033\n",
      "6.260 -0.023\n",
      "6.270 -0.013\n",
      "6.280 -0.003\n",
      "6.290 +0.007\n",
      "6.300 +0.017\n",
      "6.310 +0.027\n",
      "6.320 +0.037\n",
      "6.330 +0.047\n",
      "6.340 +0.057\n",
      "6.350 +0.067\n",
      "6.360 +0.077\n",
      "6.370 +0.087\n",
      "6.380 +0.097\n",
      "6.390 +0.107\n",
      "6.400 +0.117\n",
      "6.410 +0.126\n",
      "6.420 +0.136\n",
      "6.430 +0.146\n",
      "6.440 +0.156\n",
      "6.450 +0.166\n",
      "6.460 +0.176\n",
      "6.470 +0.186\n",
      "6.480 +0.196\n",
      "6.490 +0.205\n",
      "6.500 +0.215\n",
      "6.510 +0.225\n",
      "6.520 +0.235\n",
      "6.530 +0.244\n",
      "6.540 +0.254\n",
      "6.550 +0.264\n",
      "6.560 +0.273\n",
      "6.570 +0.283\n",
      "6.580 +0.292\n",
      "6.590 +0.302\n",
      "6.600 +0.312\n",
      "6.610 +0.321\n",
      "6.620 +0.330\n",
      "6.630 +0.340\n",
      "6.640 +0.349\n",
      "6.650 +0.359\n",
      "6.660 +0.368\n",
      "6.670 +0.377\n",
      "6.680 +0.386\n",
      "6.690 +0.396\n",
      "6.700 +0.405\n",
      "6.710 +0.414\n",
      "6.720 +0.423\n",
      "6.730 +0.432\n",
      "6.740 +0.441\n",
      "6.750 +0.450\n",
      "6.760 +0.459\n",
      "6.770 +0.468\n",
      "6.780 +0.477\n",
      "6.790 +0.485\n",
      "6.800 +0.494\n",
      "6.810 +0.503\n",
      "6.820 +0.511\n",
      "6.830 +0.520\n",
      "6.840 +0.528\n",
      "6.850 +0.537\n",
      "6.860 +0.545\n",
      "6.870 +0.554\n",
      "6.880 +0.562\n",
      "6.890 +0.570\n",
      "6.900 +0.578\n",
      "6.910 +0.587\n",
      "6.920 +0.595\n",
      "6.930 +0.603\n",
      "6.940 +0.611\n",
      "6.950 +0.618\n",
      "6.960 +0.626\n",
      "6.970 +0.634\n",
      "6.980 +0.642\n",
      "6.990 +0.649\n",
      "7.000 +0.657\n",
      "7.010 +0.664\n",
      "7.020 +0.672\n",
      "7.030 +0.679\n",
      "7.040 +0.687\n",
      "7.050 +0.694\n",
      "7.060 +0.701\n",
      "7.070 +0.708\n",
      "7.080 +0.715\n",
      "7.090 +0.722\n",
      "7.100 +0.729\n",
      "7.110 +0.736\n",
      "7.120 +0.743\n",
      "7.130 +0.749\n",
      "7.140 +0.756\n",
      "7.150 +0.762\n",
      "7.160 +0.769\n",
      "7.170 +0.775\n",
      "7.180 +0.781\n",
      "7.190 +0.788\n",
      "7.200 +0.794\n",
      "7.210 +0.800\n",
      "7.220 +0.806\n",
      "7.230 +0.812\n",
      "7.240 +0.817\n",
      "7.250 +0.823\n",
      "7.260 +0.829\n",
      "7.270 +0.834\n",
      "7.280 +0.840\n",
      "7.290 +0.845\n",
      "7.300 +0.850\n",
      "7.310 +0.856\n",
      "7.320 +0.861\n",
      "7.330 +0.866\n",
      "7.340 +0.871\n",
      "7.350 +0.876\n",
      "7.360 +0.880\n",
      "7.370 +0.885\n",
      "7.380 +0.890\n",
      "7.390 +0.894\n",
      "7.400 +0.899\n",
      "7.410 +0.903\n",
      "7.420 +0.907\n",
      "7.430 +0.911\n",
      "7.440 +0.916\n",
      "7.450 +0.920\n",
      "7.460 +0.923\n",
      "7.470 +0.927\n",
      "7.480 +0.931\n",
      "7.490 +0.934\n",
      "7.500 +0.938\n",
      "7.510 +0.941\n",
      "7.520 +0.945\n",
      "7.530 +0.948\n",
      "7.540 +0.951\n",
      "7.550 +0.954\n",
      "7.560 +0.957\n",
      "7.570 +0.960\n",
      "7.580 +0.963\n",
      "7.590 +0.965\n",
      "7.600 +0.968\n",
      "7.610 +0.970\n",
      "7.620 +0.973\n",
      "7.630 +0.975\n",
      "7.640 +0.977\n",
      "7.650 +0.979\n",
      "7.660 +0.981\n",
      "7.670 +0.983\n",
      "7.680 +0.985\n",
      "7.690 +0.987\n",
      "7.700 +0.988\n",
      "7.710 +0.990\n",
      "7.720 +0.991\n",
      "7.730 +0.992\n",
      "7.740 +0.994\n",
      "7.750 +0.995\n",
      "7.760 +0.996\n",
      "7.770 +0.996\n",
      "7.780 +0.997\n",
      "7.790 +0.998\n",
      "7.800 +0.999\n",
      "7.810 +0.999\n",
      "7.820 +0.999\n",
      "7.830 +1.000\n",
      "7.840 +1.000\n",
      "7.850 +1.000\n",
      "7.860 +1.000\n",
      "7.870 +1.000\n",
      "7.880 +1.000\n",
      "7.890 +0.999\n",
      "7.900 +0.999\n",
      "7.910 +0.998\n",
      "7.920 +0.998\n",
      "7.930 +0.997\n",
      "7.940 +0.996\n",
      "7.950 +0.995\n",
      "7.960 +0.994\n",
      "7.970 +0.993\n",
      "7.980 +0.992\n",
      "7.990 +0.991\n",
      "8.000 +0.989\n",
      "8.010 +0.988\n",
      "8.020 +0.986\n",
      "8.030 +0.985\n",
      "8.040 +0.983\n",
      "8.050 +0.981\n",
      "8.060 +0.979\n",
      "8.070 +0.977\n",
      "8.080 +0.975\n",
      "8.090 +0.972\n",
      "8.100 +0.970\n",
      "8.110 +0.967\n",
      "8.120 +0.965\n",
      "8.130 +0.962\n",
      "8.140 +0.959\n",
      "8.150 +0.957\n",
      "8.160 +0.954\n",
      "8.170 +0.950\n",
      "8.180 +0.947\n",
      "8.190 +0.944\n",
      "8.200 +0.941\n",
      "8.210 +0.937\n",
      "8.220 +0.934\n",
      "8.230 +0.930\n",
      "8.240 +0.926\n",
      "8.250 +0.923\n",
      "8.260 +0.919\n",
      "8.270 +0.915\n",
      "8.280 +0.911\n",
      "8.290 +0.906\n",
      "8.300 +0.902\n",
      "8.310 +0.898\n",
      "8.320 +0.893\n",
      "8.330 +0.889\n",
      "8.340 +0.884\n",
      "8.350 +0.879\n",
      "8.360 +0.875\n",
      "8.370 +0.870\n",
      "8.380 +0.865\n",
      "8.390 +0.860\n",
      "8.400 +0.855\n",
      "8.410 +0.849\n",
      "8.420 +0.844\n",
      "8.430 +0.839\n",
      "8.440 +0.833\n",
      "8.450 +0.828\n",
      "8.460 +0.822\n",
      "8.470 +0.816\n",
      "8.480 +0.810\n",
      "8.490 +0.804\n",
      "8.500 +0.798\n",
      "8.510 +0.792\n",
      "8.520 +0.786\n",
      "8.530 +0.780\n",
      "8.540 +0.774\n",
      "8.550 +0.767\n",
      "8.560 +0.761\n",
      "8.570 +0.754\n",
      "8.580 +0.748\n",
      "8.590 +0.741\n",
      "8.600 +0.734\n",
      "8.610 +0.728\n",
      "8.620 +0.721\n",
      "8.630 +0.714\n",
      "8.640 +0.707\n",
      "8.650 +0.700\n",
      "8.660 +0.692\n",
      "8.670 +0.685\n",
      "8.680 +0.678\n",
      "8.690 +0.670\n",
      "8.700 +0.663\n",
      "8.710 +0.655\n",
      "8.720 +0.648\n",
      "8.730 +0.640\n",
      "8.740 +0.633\n",
      "8.750 +0.625\n",
      "8.760 +0.617\n",
      "8.770 +0.609\n",
      "8.780 +0.601\n",
      "8.790 +0.593\n",
      "8.800 +0.585\n",
      "8.810 +0.577\n",
      "8.820 +0.569\n",
      "8.830 +0.560\n",
      "8.840 +0.552\n",
      "8.850 +0.544\n",
      "8.860 +0.535\n",
      "8.870 +0.527\n",
      "8.880 +0.518\n",
      "8.890 +0.510\n",
      "8.900 +0.501\n",
      "8.910 +0.492\n",
      "8.920 +0.484\n",
      "8.930 +0.475\n",
      "8.940 +0.466\n",
      "8.950 +0.457\n",
      "8.960 +0.448\n",
      "8.970 +0.439\n",
      "8.980 +0.430\n",
      "8.990 +0.421\n",
      "9.000 +0.412\n",
      "9.010 +0.403\n",
      "9.020 +0.394\n",
      "9.030 +0.385\n",
      "9.040 +0.375\n",
      "9.050 +0.366\n",
      "9.060 +0.357\n",
      "9.070 +0.347\n",
      "9.080 +0.338\n",
      "9.090 +0.329\n",
      "9.100 +0.319\n",
      "9.110 +0.310\n",
      "9.120 +0.300\n",
      "9.130 +0.291\n",
      "9.140 +0.281\n",
      "9.150 +0.271\n",
      "9.160 +0.262\n",
      "9.170 +0.252\n",
      "9.180 +0.242\n",
      "9.190 +0.233\n",
      "9.200 +0.223\n",
      "9.210 +0.213\n",
      "9.220 +0.203\n",
      "9.230 +0.194\n",
      "9.240 +0.184\n",
      "9.250 +0.174\n",
      "9.260 +0.164\n",
      "9.270 +0.154\n",
      "9.280 +0.144\n",
      "9.290 +0.134\n",
      "9.300 +0.124\n",
      "9.310 +0.115\n",
      "9.320 +0.105\n",
      "9.330 +0.095\n",
      "9.340 +0.085\n",
      "9.350 +0.075\n",
      "9.360 +0.065\n",
      "9.370 +0.055\n",
      "9.380 +0.045\n",
      "9.390 +0.035\n",
      "9.400 +0.025\n",
      "9.410 +0.015\n",
      "9.420 +0.005\n",
      "9.430 -0.005\n",
      "9.440 -0.015\n",
      "9.450 -0.025\n",
      "9.460 -0.035\n",
      "9.470 -0.045\n",
      "9.480 -0.055\n",
      "9.490 -0.065\n",
      "9.500 -0.075\n",
      "9.510 -0.085\n",
      "9.520 -0.095\n",
      "9.530 -0.105\n",
      "9.540 -0.115\n",
      "9.550 -0.125\n",
      "9.560 -0.135\n",
      "9.570 -0.145\n",
      "9.580 -0.155\n",
      "9.590 -0.164\n",
      "9.600 -0.174\n",
      "9.610 -0.184\n",
      "9.620 -0.194\n",
      "9.630 -0.204\n",
      "9.640 -0.214\n",
      "9.650 -0.223\n",
      "9.660 -0.233\n",
      "9.670 -0.243\n",
      "9.680 -0.252\n",
      "9.690 -0.262\n",
      "9.700 -0.272\n",
      "9.710 -0.281\n",
      "9.720 -0.291\n",
      "9.730 -0.301\n",
      "9.740 -0.310\n",
      "9.750 -0.320\n",
      "9.760 -0.329\n",
      "9.770 -0.338\n",
      "9.780 -0.348\n",
      "9.790 -0.357\n",
      "9.800 -0.366\n",
      "9.810 -0.376\n",
      "9.820 -0.385\n",
      "9.830 -0.394\n",
      "9.840 -0.403\n",
      "9.850 -0.413\n",
      "9.860 -0.422\n",
      "9.870 -0.431\n",
      "9.880 -0.440\n",
      "9.890 -0.449\n",
      "9.900 -0.458\n",
      "9.910 -0.466\n",
      "9.920 -0.475\n",
      "9.930 -0.484\n",
      "9.940 -0.493\n",
      "9.950 -0.501\n",
      "9.960 -0.510\n",
      "9.970 -0.519\n",
      "9.980 -0.527\n",
      "9.990 -0.536\n",
      "\n"
     ]
    }
   ],
   "source": [
    "with open(file_path) as f: # 'r' - jest domyślne\n",
    "    file_content= f.read()\n",
    "print(file_content)"
   ]
  },
  {
   "cell_type": "code",
   "execution_count": 55,
   "metadata": {
    "colab": {
     "base_uri": "https://localhost:8080/",
     "height": 35
    },
    "executionInfo": {
     "elapsed": 631,
     "status": "ok",
     "timestamp": 1606499320482,
     "user": {
      "displayName": "Tomasz Różański",
      "photoUrl": "https://lh4.googleusercontent.com/-CdAQaQI9V1E/AAAAAAAAAAI/AAAAAAAAAvI/rnNPiSw4f80/s64/photo.jpg",
      "userId": "09904144145241711927"
     },
     "user_tz": -60
    },
    "id": "MwPmPoLx9NCs",
    "outputId": "9e531e63-8a92-4068-84b0-61b2fcf2da86"
   },
   "outputs": [
    {
     "data": {
      "text/plain": [
       "'0.030 +0.030'"
      ]
     },
     "execution_count": 55,
     "metadata": {},
     "output_type": "execute_result"
    }
   ],
   "source": [
    "line_by_line_content= file_content.splitlines()\n",
    "line_by_line_content[3]"
   ]
  },
  {
   "cell_type": "code",
   "execution_count": 56,
   "metadata": {
    "id": "L40c1Qk29fLN"
   },
   "outputs": [],
   "source": [
    "x_readed, y_readed= [], []\n",
    "for line in line_by_line_content:\n",
    "    xx,yy= line.split()\n",
    "    x_readed.append(float(xx))\n",
    "    y_readed.append(float(yy))"
   ]
  },
  {
   "cell_type": "code",
   "execution_count": 58,
   "metadata": {
    "colab": {
     "base_uri": "https://localhost:8080/",
     "height": 282
    },
    "executionInfo": {
     "elapsed": 1011,
     "status": "ok",
     "timestamp": 1606499410322,
     "user": {
      "displayName": "Tomasz Różański",
      "photoUrl": "https://lh4.googleusercontent.com/-CdAQaQI9V1E/AAAAAAAAAAI/AAAAAAAAAvI/rnNPiSw4f80/s64/photo.jpg",
      "userId": "09904144145241711927"
     },
     "user_tz": -60
    },
    "id": "7F1AiSRu9xfN",
    "outputId": "61a0d466-76c5-47cb-c9a9-256b626acaa4"
   },
   "outputs": [
    {
     "data": {
      "text/plain": [
       "[<matplotlib.lines.Line2D at 0x7fbdc447aa00>]"
      ]
     },
     "execution_count": 58,
     "metadata": {},
     "output_type": "execute_result"
    },
    {
     "data": {
      "image/png": "[encoded data removed]",
      "text/plain": [
       "<Figure size 432x288 with 1 Axes>"
      ]
     },
     "metadata": {
      "needs_background": "light"
     },
     "output_type": "display_data"
    }
   ],
   "source": [
    "import matplotlib.pyplot as plt\n",
    "\n",
    "plt.plot(x_readed, y_readed)"
   ]
  },
  {
   "cell_type": "markdown",
   "metadata": {
    "id": "sx-q6zSR-9gn"
   },
   "source": [
    "## Wczytywanie widma"
   ]
  },
  {
   "cell_type": "code",
   "execution_count": 59,
   "metadata": {
    "id": "zw7muC9h-81H"
   },
   "outputs": [],
   "source": [
    "def read_two_column_file(file_path):\n",
    "    x,y=[],[]\n",
    "    with open(file_path) as f:\n",
    "        for line in f:\n",
    "            numbers= line.split()\n",
    "            if len(numbers) >= 2:\n",
    "                x.append(float(numbers[0]))\n",
    "                y.append(float(numbers[1]))\n",
    "            else:\n",
    "                x.append(float(numbers[0]))\n",
    "                y.append(float(0.))\n",
    "    return x, y"
   ]
  },
  {
   "cell_type": "code",
   "execution_count": 61,
   "metadata": {
    "id": "2bvxhsMvAE76"
   },
   "outputs": [],
   "source": [
    "file_name= \"example_spectrum.dsv\"\n",
    "file_path= os.path.join(data_directory_path,file_name)\n",
    "wave, flux= read_two_column_file(file_path)"
   ]
  },
  {
   "cell_type": "code",
   "execution_count": 69,
   "metadata": {
    "colab": {
     "base_uri": "https://localhost:8080/",
     "height": 282
    },
    "executionInfo": {
     "elapsed": 723,
     "status": "ok",
     "timestamp": 1606499918646,
     "user": {
      "displayName": "Tomasz Różański",
      "photoUrl": "https://lh4.googleusercontent.com/-CdAQaQI9V1E/AAAAAAAAAAI/AAAAAAAAAvI/rnNPiSw4f80/s64/photo.jpg",
      "userId": "09904144145241711927"
     },
     "user_tz": -60
    },
    "id": "TCScPf7_AQzF",
    "outputId": "b4dbd80e-8ada-40a4-f023-940fda6c252d"
   },
   "outputs": [
    {
     "data": {
      "text/plain": [
       "[<matplotlib.lines.Line2D at 0x7fbdc74f16a0>]"
      ]
     },
     "execution_count": 69,
     "metadata": {},
     "output_type": "execute_result"
    },
    {
     "data": {
      "image/png": "[encoded data removed]",
      "text/plain": [
       "<Figure size 432x288 with 1 Axes>"
      ]
     },
     "metadata": {
      "needs_background": "light"
     },
     "output_type": "display_data"
    }
   ],
   "source": [
    "%matplotlib inline\n",
    "plt.figure()\n",
    "plt.plot(wave,flux)"
   ]
  },
  {
   "cell_type": "code",
   "execution_count": 64,
   "metadata": {
    "id": "GGXUDAP9CF38"
   },
   "outputs": [],
   "source": [
    "def save_to_file(file_path, x, y):\n",
    "    with open(file_path,'w') as f:\n",
    "        for xx,yy in zip(x, y):\n",
    "            f.write(f\"{xx} {yy}\\n\")"
   ]
  },
  {
   "cell_type": "code",
   "execution_count": 66,
   "metadata": {
    "id": "uW8fhNqGCkbk"
   },
   "outputs": [],
   "source": [
    "file_name= \"copy_of_example_spectrum.txt\"\n",
    "file_path= os.path.join(data_directory_path,file_name)\n",
    "save_to_file(file_path, wave, flux)"
   ]
  },
  {
   "cell_type": "code",
   "execution_count": 72,
   "metadata": {},
   "outputs": [
    {
     "data": {
      "text/plain": [
       "[(1, 'A'), (2, 'B'), (3, 'C')]"
      ]
     },
     "execution_count": 72,
     "metadata": {},
     "output_type": "execute_result"
    }
   ],
   "source": [
    "\n",
    "list(zip(x,y))"
   ]
  },
  {
   "cell_type": "code",
   "execution_count": 73,
   "metadata": {},
   "outputs": [
    {
     "name": "stdout",
     "output_type": "stream",
     "text": [
      "(1, 'A')\n",
      "(2, 'B')\n",
      "(3, 'C')\n"
     ]
    }
   ],
   "source": [
    "a = [(1, 'A'), (2, 'B'), (3, 'C')]\n",
    "for b in a:\n",
    "    print(b)"
   ]
  },
  {
   "cell_type": "code",
   "execution_count": 76,
   "metadata": {},
   "outputs": [
    {
     "name": "stdout",
     "output_type": "stream",
     "text": [
      "1\n",
      "2\n",
      "3\n"
     ]
    }
   ],
   "source": [
    "a = [(1, 'A'), (2, 'B'), (3, 'C')]\n",
    "for b,_ in a:\n",
    "    print(b)"
   ]
  },
  {
   "cell_type": "code",
   "execution_count": 81,
   "metadata": {},
   "outputs": [
    {
     "name": "stdout",
     "output_type": "stream",
     "text": [
      "1 A\n",
      "2 B\n",
      "3 C\n",
      "-----\n",
      "1 A\n",
      "2 B\n",
      "3 C\n"
     ]
    }
   ],
   "source": [
    "x = [1,2,3]\n",
    "y = [\"A\",\"B\",\"C\"]\n",
    "\n",
    "N = len(x)\n",
    "for idx in range(N):\n",
    "    print(x[idx],y[idx])\n",
    "print(\"-----\")\n",
    "for xx,yy in zip(x,y):\n",
    "    print(xx,yy)    "
   ]
  },
  {
   "cell_type": "code",
   "execution_count": null,
   "metadata": {},
   "outputs": [],
   "source": []
  }
 ],
 "metadata": {
  "colab": {
   "authorship_tag": "ABX9TyP00EGWUryS4a+XiSzI5gmX",
   "collapsed_sections": [],
   "name": "05_io.ipynb",
   "provenance": []
  },
  "kernelspec": {
   "display_name": "Python 3",
   "language": "python",
   "name": "python3"
  },
  "language_info": {
   "codemirror_mode": {
    "name": "ipython",
    "version": 3
   },
   "file_extension": ".py",
   "mimetype": "text/x-python",
   "name": "python",
   "nbconvert_exporter": "python",
   "pygments_lexer": "ipython3",
   "version": "3.8.3"
  }
 },
 "nbformat": 4,
 "nbformat_minor": 1
}
