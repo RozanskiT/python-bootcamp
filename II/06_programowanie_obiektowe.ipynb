{
 "cells": [
  {
   "cell_type": "markdown",
   "metadata": {
    "id": "gd_bEwmzDOBO"
   },
   "source": [
    "# Programowanie obiektowe\n",
    "\n",
    "Programy można porządkować przez wykorzystanie funkcji, ale można też wprowadzić wyższy poziom organizacji kodu poprzez tworzenia własnych typów i abstakcji reprezentujących różne często wykorzystywane \"obiekty\".\n",
    "\n",
    "Python udostępnia wiele takich typów z których często korzystamy: `string`, `complex`, itp.\n",
    "\n",
    "Programowanie obiektowe pozwala nam tworzyć tego typu abstakcje, które \"ukrywają\" przed nami skomplikowane szczegóły dostarczając wygodne obiekty.\n"
   ]
  },
  {
   "cell_type": "markdown",
   "metadata": {
    "id": "t-nxR8mzFfdY"
   },
   "source": [
    "### Klasa Vector2D"
   ]
  },
  {
   "cell_type": "markdown",
   "metadata": {
    "id": "Rn557P_GHTAt"
   },
   "source": [
    "#### Przykładowa implementacja"
   ]
  },
  {
   "cell_type": "code",
   "execution_count": null,
   "metadata": {
    "executionInfo": {
     "elapsed": 1026,
     "status": "ok",
     "timestamp": 1606500876404,
     "user": {
      "displayName": "Tomasz Różański",
      "photoUrl": "https://lh4.googleusercontent.com/-CdAQaQI9V1E/AAAAAAAAAAI/AAAAAAAAAvI/rnNPiSw4f80/s64/photo.jpg",
      "userId": "09904144145241711927"
     },
     "user_tz": -60
    },
    "id": "XEMrQtEtEeVB"
   },
   "outputs": [],
   "source": [
    "class Vector2D:\n",
    "    def __init__(self,x,y): # Konstruktor\n",
    "        self.x= x # Atrybut\n",
    "        self.y= y"
   ]
  },
  {
   "cell_type": "code",
   "execution_count": null,
   "metadata": {},
   "outputs": [],
   "source": [
    "s = str(10)"
   ]
  },
  {
   "cell_type": "code",
   "execution_count": null,
   "metadata": {
    "executionInfo": {
     "elapsed": 956,
     "status": "ok",
     "timestamp": 1606500964028,
     "user": {
      "displayName": "Tomasz Różański",
      "photoUrl": "https://lh4.googleusercontent.com/-CdAQaQI9V1E/AAAAAAAAAAI/AAAAAAAAAvI/rnNPiSw4f80/s64/photo.jpg",
      "userId": "09904144145241711927"
     },
     "user_tz": -60
    },
    "id": "yO_MHKFKGVej"
   },
   "outputs": [],
   "source": [
    "vec1= Vector2D(1.,2.)"
   ]
  },
  {
   "cell_type": "code",
   "execution_count": null,
   "metadata": {
    "colab": {
     "base_uri": "https://localhost:8080/"
    },
    "executionInfo": {
     "elapsed": 950,
     "status": "ok",
     "timestamp": 1606500922997,
     "user": {
      "displayName": "Tomasz Różański",
      "photoUrl": "https://lh4.googleusercontent.com/-CdAQaQI9V1E/AAAAAAAAAAI/AAAAAAAAAvI/rnNPiSw4f80/s64/photo.jpg",
      "userId": "09904144145241711927"
     },
     "user_tz": -60
    },
    "id": "Mr1-kObG6pux",
    "outputId": "7405ba27-6301-4f62-fb04-819edd2a9ef8"
   },
   "outputs": [],
   "source": [
    "type(vec1)"
   ]
  },
  {
   "cell_type": "code",
   "execution_count": null,
   "metadata": {
    "colab": {
     "base_uri": "https://localhost:8080/"
    },
    "executionInfo": {
     "elapsed": 598,
     "status": "ok",
     "timestamp": 1606500967208,
     "user": {
      "displayName": "Tomasz Różański",
      "photoUrl": "https://lh4.googleusercontent.com/-CdAQaQI9V1E/AAAAAAAAAAI/AAAAAAAAAvI/rnNPiSw4f80/s64/photo.jpg",
      "userId": "09904144145241711927"
     },
     "user_tz": -60
    },
    "id": "nE-B2MWzG0zK",
    "outputId": "7f27a34c-c4b0-411e-f726-b83f81b8331b"
   },
   "outputs": [],
   "source": [
    "print(vec1.x, vec1.y)"
   ]
  },
  {
   "cell_type": "code",
   "execution_count": null,
   "metadata": {
    "executionInfo": {
     "elapsed": 632,
     "status": "ok",
     "timestamp": 1606500987405,
     "user": {
      "displayName": "Tomasz Różański",
      "photoUrl": "https://lh4.googleusercontent.com/-CdAQaQI9V1E/AAAAAAAAAAI/AAAAAAAAAvI/rnNPiSw4f80/s64/photo.jpg",
      "userId": "09904144145241711927"
     },
     "user_tz": -60
    },
    "id": "1dbY-AUtG50j"
   },
   "outputs": [],
   "source": [
    "vec1.x= 5.0"
   ]
  },
  {
   "cell_type": "code",
   "execution_count": 10,
   "metadata": {
    "colab": {
     "base_uri": "https://localhost:8080/"
    },
    "executionInfo": {
     "elapsed": 631,
     "status": "ok",
     "timestamp": 1606500999762,
     "user": {
      "displayName": "Tomasz Różański",
      "photoUrl": "https://lh4.googleusercontent.com/-CdAQaQI9V1E/AAAAAAAAAAI/AAAAAAAAAvI/rnNPiSw4f80/s64/photo.jpg",
      "userId": "09904144145241711927"
     },
     "user_tz": -60
    },
    "id": "5-OEYvOyHG6x",
    "outputId": "022b5618-7426-487c-d53c-26568fbc031d"
   },
   "outputs": [
    {
     "name": "stdout",
     "output_type": "stream",
     "text": [
      "5.0 2.0\n"
     ]
    }
   ],
   "source": [
    "print(vec1.x, vec1.y)"
   ]
  },
  {
   "cell_type": "markdown",
   "metadata": {
    "id": "DJOrpoYUHaMr"
   },
   "source": [
    " Dodawanie wektorów"
   ]
  },
  {
   "cell_type": "code",
   "execution_count": 11,
   "metadata": {
    "colab": {
     "base_uri": "https://localhost:8080/"
    },
    "executionInfo": {
     "elapsed": 633,
     "status": "ok",
     "timestamp": 1606501243117,
     "user": {
      "displayName": "Tomasz Różański",
      "photoUrl": "https://lh4.googleusercontent.com/-CdAQaQI9V1E/AAAAAAAAAAI/AAAAAAAAAvI/rnNPiSw4f80/s64/photo.jpg",
      "userId": "09904144145241711927"
     },
     "user_tz": -60
    },
    "id": "zF3L-8PUHHUy",
    "outputId": "8b2e2aaa-17b5-4b85-dd7c-3764ace1e69e"
   },
   "outputs": [
    {
     "name": "stdout",
     "output_type": "stream",
     "text": [
      "1.0 8.0\n"
     ]
    }
   ],
   "source": [
    "def adding_vec(v1,v2):\n",
    "    x= v1.x + v2.x\n",
    "    y= v1.y + v2.y\n",
    "    return Vector2D(x,y)\n",
    "\n",
    "vec1= Vector2D(0.,3.)\n",
    "vec2= Vector2D(1.,5.)\n",
    "\n",
    "vec3= adding_vec(vec1,vec2)\n",
    "print(vec3.x,vec3.y)"
   ]
  },
  {
   "cell_type": "code",
   "execution_count": 12,
   "metadata": {
    "executionInfo": {
     "elapsed": 624,
     "status": "ok",
     "timestamp": 1606501278300,
     "user": {
      "displayName": "Tomasz Różański",
      "photoUrl": "https://lh4.googleusercontent.com/-CdAQaQI9V1E/AAAAAAAAAAI/AAAAAAAAAvI/rnNPiSw4f80/s64/photo.jpg",
      "userId": "09904144145241711927"
     },
     "user_tz": -60
    },
    "id": "QgesZu9PHdzM"
   },
   "outputs": [
    {
     "ename": "TypeError",
     "evalue": "unsupported operand type(s) for +: 'Vector2D' and 'Vector2D'",
     "output_type": "error",
     "traceback": [
      "\u001b[0;31m---------------------------------------------------------------------------\u001b[0m",
      "\u001b[0;31mTypeError\u001b[0m                                 Traceback (most recent call last)",
      "\u001b[0;32m<ipython-input-12-6574be886925>\u001b[0m in \u001b[0;36m<module>\u001b[0;34m\u001b[0m\n\u001b[0;32m----> 1\u001b[0;31m \u001b[0mvec1\u001b[0m \u001b[0;34m+\u001b[0m \u001b[0mvec2\u001b[0m \u001b[0;31m# ???\u001b[0m\u001b[0;34m\u001b[0m\u001b[0;34m\u001b[0m\u001b[0m\n\u001b[0m",
      "\u001b[0;31mTypeError\u001b[0m: unsupported operand type(s) for +: 'Vector2D' and 'Vector2D'"
     ]
    }
   ],
   "source": [
    "vec1 + vec2 # ???"
   ]
  },
  {
   "cell_type": "code",
   "execution_count": 14,
   "metadata": {
    "executionInfo": {
     "elapsed": 605,
     "status": "ok",
     "timestamp": 1606501340740,
     "user": {
      "displayName": "Tomasz Różański",
      "photoUrl": "https://lh4.googleusercontent.com/-CdAQaQI9V1E/AAAAAAAAAAI/AAAAAAAAAvI/rnNPiSw4f80/s64/photo.jpg",
      "userId": "09904144145241711927"
     },
     "user_tz": -60
    },
    "id": "YWHndwrMIFJD"
   },
   "outputs": [],
   "source": [
    "class Vector2D:\n",
    "    def __init__(self,x,y):\n",
    "        self.x= x\n",
    "        self.y= y\n",
    "\n",
    "    def __add__(self, vec):\n",
    "        return Vector2D(self.x+vec.x,self.y+vec.y)"
   ]
  },
  {
   "cell_type": "code",
   "execution_count": 15,
   "metadata": {
    "executionInfo": {
     "elapsed": 584,
     "status": "ok",
     "timestamp": 1606501342581,
     "user": {
      "displayName": "Tomasz Różański",
      "photoUrl": "https://lh4.googleusercontent.com/-CdAQaQI9V1E/AAAAAAAAAAI/AAAAAAAAAvI/rnNPiSw4f80/s64/photo.jpg",
      "userId": "09904144145241711927"
     },
     "user_tz": -60
    },
    "id": "TdEHORyoI4_T"
   },
   "outputs": [],
   "source": [
    "vec1= Vector2D(1.,1.)\n",
    "vec2= Vector2D(1.,2.)\n",
    "vec3= vec1+vec2"
   ]
  },
  {
   "cell_type": "code",
   "execution_count": 16,
   "metadata": {
    "colab": {
     "base_uri": "https://localhost:8080/"
    },
    "executionInfo": {
     "elapsed": 603,
     "status": "ok",
     "timestamp": 1606501345884,
     "user": {
      "displayName": "Tomasz Różański",
      "photoUrl": "https://lh4.googleusercontent.com/-CdAQaQI9V1E/AAAAAAAAAAI/AAAAAAAAAvI/rnNPiSw4f80/s64/photo.jpg",
      "userId": "09904144145241711927"
     },
     "user_tz": -60
    },
    "id": "pbSKNpSiJWlz",
    "outputId": "0d20c47a-3fe4-4aac-dc73-1fed90abca79"
   },
   "outputs": [
    {
     "name": "stdout",
     "output_type": "stream",
     "text": [
      "2.0 3.0\n"
     ]
    }
   ],
   "source": [
    "print(vec3.x,vec3.y)"
   ]
  },
  {
   "cell_type": "code",
   "execution_count": 17,
   "metadata": {
    "colab": {
     "base_uri": "https://localhost:8080/"
    },
    "executionInfo": {
     "elapsed": 624,
     "status": "ok",
     "timestamp": 1606501416561,
     "user": {
      "displayName": "Tomasz Różański",
      "photoUrl": "https://lh4.googleusercontent.com/-CdAQaQI9V1E/AAAAAAAAAAI/AAAAAAAAAvI/rnNPiSw4f80/s64/photo.jpg",
      "userId": "09904144145241711927"
     },
     "user_tz": -60
    },
    "id": "Jcw2v4318VbD",
    "outputId": "e79072e6-4933-4bb1-a324-8bb53e36b69b"
   },
   "outputs": [
    {
     "name": "stdout",
     "output_type": "stream",
     "text": [
      "2.0 3.0\n"
     ]
    }
   ],
   "source": [
    "vec3b= vec1.__add__(vec2)\n",
    "print(vec3b.x,vec3b.y)"
   ]
  },
  {
   "cell_type": "markdown",
   "metadata": {
    "id": "UcdSJSrOJjNF"
   },
   "source": [
    "Jak ładnie wyświetlić wektor?"
   ]
  },
  {
   "cell_type": "code",
   "execution_count": 18,
   "metadata": {
    "colab": {
     "base_uri": "https://localhost:8080/"
    },
    "executionInfo": {
     "elapsed": 632,
     "status": "ok",
     "timestamp": 1606501491575,
     "user": {
      "displayName": "Tomasz Różański",
      "photoUrl": "https://lh4.googleusercontent.com/-CdAQaQI9V1E/AAAAAAAAAAI/AAAAAAAAAvI/rnNPiSw4f80/s64/photo.jpg",
      "userId": "09904144145241711927"
     },
     "user_tz": -60
    },
    "id": "CXV62p0u8ttH",
    "outputId": "ab86356f-c03d-401e-9722-4102ae55d21f"
   },
   "outputs": [
    {
     "name": "stdout",
     "output_type": "stream",
     "text": [
      "<__main__.Vector2D object at 0x7fbf25f39c10>\n"
     ]
    }
   ],
   "source": [
    "print(vec1)\n",
    "# (1,2) # ?"
   ]
  },
  {
   "cell_type": "code",
   "execution_count": 19,
   "metadata": {
    "executionInfo": {
     "elapsed": 618,
     "status": "ok",
     "timestamp": 1606501522402,
     "user": {
      "displayName": "Tomasz Różański",
      "photoUrl": "https://lh4.googleusercontent.com/-CdAQaQI9V1E/AAAAAAAAAAI/AAAAAAAAAvI/rnNPiSw4f80/s64/photo.jpg",
      "userId": "09904144145241711927"
     },
     "user_tz": -60
    },
    "id": "QiCc0eLRJik8"
   },
   "outputs": [],
   "source": [
    "class Vector2D:\n",
    "    def __init__(self,x,y):\n",
    "        self.x= x\n",
    "        self.y= y\n",
    "\n",
    "    def __add__(self, vec):\n",
    "        return Vector2D(self.x+vec.x,self.y+vec.y)\n",
    "\n",
    "    def __str__(self):\n",
    "        return f\"({self.x}, {self.y})\""
   ]
  },
  {
   "cell_type": "code",
   "execution_count": 21,
   "metadata": {
    "colab": {
     "base_uri": "https://localhost:8080/"
    },
    "executionInfo": {
     "elapsed": 629,
     "status": "ok",
     "timestamp": 1606501545565,
     "user": {
      "displayName": "Tomasz Różański",
      "photoUrl": "https://lh4.googleusercontent.com/-CdAQaQI9V1E/AAAAAAAAAAI/AAAAAAAAAvI/rnNPiSw4f80/s64/photo.jpg",
      "userId": "09904144145241711927"
     },
     "user_tz": -60
    },
    "id": "4vrRqz7kJZuq",
    "outputId": "c83cf552-f42b-4325-ca07-1588e4176794"
   },
   "outputs": [
    {
     "name": "stdout",
     "output_type": "stream",
     "text": [
      "(1.0, 3.0)\n"
     ]
    }
   ],
   "source": [
    "vec1= Vector2D(1.,3.)\n",
    "print(vec1)"
   ]
  },
  {
   "cell_type": "markdown",
   "metadata": {
    "id": "hY9-k_G1KOyX"
   },
   "source": [
    "Jakie oparatory można nadpisać?\n",
    "\n",
    "| Operator            | Expression | Internally          |\n",
    "|---------------------|------------|---------------------|\n",
    "| Addition            | p1 + p2    | p1.\\_\\_add\\_\\_(p2)      |\n",
    "| Subtraction         | p1 - p2    | p1.\\_\\_sub\\_\\_(p2)      |\n",
    "| Multiplication      | p1 * p2    | p1.\\_\\_mul\\_\\_(p2)      |\n",
    "| Power               | p1 ** p2   | p1.\\_\\_pow\\_\\_(p2)      |\n",
    "| Division            | p1 / p2    | p1.\\_\\_truediv\\_\\_(p2)  |\n",
    "| Floor Division      | p1 // p2   | p1.\\_\\_floordiv\\_\\_(p2) |\n",
    "| Remainder (modulo)  | p1 % p2    | p1.\\_\\_mod\\_\\_(p2)      |\n",
    "| Bitwise Left Shift  | p1 << p2   | p1.\\_\\_lshift\\_\\_(p2)   |\n",
    "| Bitwise Right Shift | p1 >> p2   | p1.\\_\\_rshift\\_\\_(p2)   |\n",
    "| Bitwise AND         | p1 & p2    | p1.\\_\\_and\\_\\_(p2)      |\n",
    "| Bitwise OR          | p1 \\| p2   | p1.\\_\\_or\\_\\_(p2)       |\n",
    "| Bitwise XOR         | p1 ^ p2    | p1.\\_\\_xor\\_\\_(p2)      |\n",
    "| Bitwise NOT         | ~p1        | p1.\\_\\_invert\\_\\_()     |\n",
    "\n",
    "Napisać można również operatory logiczne:\n",
    "\n",
    "| Operator                 | Expression | Internally    |\n",
    "|--------------------------|------------|---------------|\n",
    "| Less than                | p1 < p2    | p1.\\_\\_lt\\_\\_(p2) |\n",
    "| Less than or equal to    | p1 <= p2   | p1.\\_\\_le\\_\\_(p2) |\n",
    "| Equal to                 | p1 == p2   | p1.\\_\\_eq\\_\\_(p2) |\n",
    "| Not equal to             | p1 != p2   | p1.\\_\\_ne\\_\\_(p2) |\n",
    "| Greater than             | p1 > p2    | p1.\\_\\_gt\\_\\_(p2) |\n",
    "| Greater than or equal to | p1 >= p2   | p1.\\_\\_ge\\_\\_(p2) |\n",
    "\n",
    "Ważne aby definiując własne operatory nie zmieniać ich typowego znaczenia, np. dla pary operatorów `==` i `!=`, poniższe zawsze powinno być prawdziwe: \n",
    "\n",
    "$$\n",
    "not (x == y) \\equiv x != y \n",
    "$$"
   ]
  },
  {
   "cell_type": "markdown",
   "metadata": {
    "id": "Yz1vdFl5NP6b"
   },
   "source": []
  },
  {
   "cell_type": "code",
   "execution_count": 23,
   "metadata": {
    "executionInfo": {
     "elapsed": 608,
     "status": "ok",
     "timestamp": 1606501715740,
     "user": {
      "displayName": "Tomasz Różański",
      "photoUrl": "https://lh4.googleusercontent.com/-CdAQaQI9V1E/AAAAAAAAAAI/AAAAAAAAAvI/rnNPiSw4f80/s64/photo.jpg",
      "userId": "09904144145241711927"
     },
     "user_tz": -60
    },
    "id": "dso1hL6KKHcS"
   },
   "outputs": [],
   "source": [
    "from math import sqrt\n",
    "class Vector2D:\n",
    "    def __init__(self,x,y):\n",
    "        self.x= x\n",
    "        self.y= y\n",
    "\n",
    "    def __add__(self, vec):\n",
    "        return Vector2D(self.x+vec.x,self.y+vec.y)\n",
    "\n",
    "    def __str__(self):\n",
    "        return \"({}, {})\".format(self.x,self.y)\n",
    "\n",
    "    def abs(self):\n",
    "        return sqrt(self.x**2 + self.y**2)"
   ]
  },
  {
   "cell_type": "code",
   "execution_count": 24,
   "metadata": {
    "colab": {
     "base_uri": "https://localhost:8080/"
    },
    "executionInfo": {
     "elapsed": 809,
     "status": "ok",
     "timestamp": 1606501736534,
     "user": {
      "displayName": "Tomasz Różański",
      "photoUrl": "https://lh4.googleusercontent.com/-CdAQaQI9V1E/AAAAAAAAAAI/AAAAAAAAAvI/rnNPiSw4f80/s64/photo.jpg",
      "userId": "09904144145241711927"
     },
     "user_tz": -60
    },
    "id": "azwOJdLyN_Lz",
    "outputId": "f00eb363-0849-4251-e67f-e93206f6ac1e"
   },
   "outputs": [
    {
     "name": "stdout",
     "output_type": "stream",
     "text": [
      "5.0\n"
     ]
    }
   ],
   "source": [
    "vec1= Vector2D(3.,4.)\n",
    "print(vec1.abs())"
   ]
  },
  {
   "cell_type": "code",
   "execution_count": 25,
   "metadata": {
    "colab": {
     "base_uri": "https://localhost:8080/"
    },
    "executionInfo": {
     "elapsed": 716,
     "status": "ok",
     "timestamp": 1606501750020,
     "user": {
      "displayName": "Tomasz Różański",
      "photoUrl": "https://lh4.googleusercontent.com/-CdAQaQI9V1E/AAAAAAAAAAI/AAAAAAAAAvI/rnNPiSw4f80/s64/photo.jpg",
      "userId": "09904144145241711927"
     },
     "user_tz": -60
    },
    "id": "X7nSij27OEkC",
    "outputId": "5205f8c8-cb31-4eef-f573-975092a6e1e7"
   },
   "outputs": [
    {
     "data": {
      "text/plain": [
       "1"
      ]
     },
     "execution_count": 25,
     "metadata": {},
     "output_type": "execute_result"
    }
   ],
   "source": [
    "abs(-1)"
   ]
  },
  {
   "cell_type": "code",
   "execution_count": 26,
   "metadata": {
    "colab": {
     "base_uri": "https://localhost:8080/",
     "height": 164
    },
    "executionInfo": {
     "elapsed": 621,
     "status": "error",
     "timestamp": 1606501764417,
     "user": {
      "displayName": "Tomasz Różański",
      "photoUrl": "https://lh4.googleusercontent.com/-CdAQaQI9V1E/AAAAAAAAAAI/AAAAAAAAAvI/rnNPiSw4f80/s64/photo.jpg",
      "userId": "09904144145241711927"
     },
     "user_tz": -60
    },
    "id": "wiJaO-M3Ohpz",
    "outputId": "49461e33-482c-4c90-c80c-aae385a60723"
   },
   "outputs": [
    {
     "ename": "TypeError",
     "evalue": "bad operand type for abs(): 'Vector2D'",
     "output_type": "error",
     "traceback": [
      "\u001b[0;31m---------------------------------------------------------------------------\u001b[0m",
      "\u001b[0;31mTypeError\u001b[0m                                 Traceback (most recent call last)",
      "\u001b[0;32m<ipython-input-26-693b6ba36813>\u001b[0m in \u001b[0;36m<module>\u001b[0;34m\u001b[0m\n\u001b[0;32m----> 1\u001b[0;31m \u001b[0mabs\u001b[0m\u001b[0;34m(\u001b[0m\u001b[0mvec1\u001b[0m\u001b[0;34m)\u001b[0m\u001b[0;34m\u001b[0m\u001b[0;34m\u001b[0m\u001b[0m\n\u001b[0m",
      "\u001b[0;31mTypeError\u001b[0m: bad operand type for abs(): 'Vector2D'"
     ]
    }
   ],
   "source": [
    "abs(vec1)"
   ]
  },
  {
   "cell_type": "code",
   "execution_count": 27,
   "metadata": {
    "executionInfo": {
     "elapsed": 602,
     "status": "ok",
     "timestamp": 1606501797522,
     "user": {
      "displayName": "Tomasz Różański",
      "photoUrl": "https://lh4.googleusercontent.com/-CdAQaQI9V1E/AAAAAAAAAAI/AAAAAAAAAvI/rnNPiSw4f80/s64/photo.jpg",
      "userId": "09904144145241711927"
     },
     "user_tz": -60
    },
    "id": "4Hl0c_ojOct5"
   },
   "outputs": [],
   "source": [
    "from math import sqrt\n",
    "class Vector2D:\n",
    "    def __init__(self,x,y):\n",
    "        self.x= x\n",
    "        self.y= y\n",
    "\n",
    "    def __add__(self, vec):\n",
    "        return Vector2D(self.x+vec.x,self.y+vec.y)\n",
    "\n",
    "    def __str__(self):\n",
    "        return \"({}, {})\".format(self.x,self.y)\n",
    "\n",
    "    def abs(self):\n",
    "        return sqrt(self.x**2 + self.y**2)\n",
    "\n",
    "    def __abs__(self):\n",
    "        return self.abs()"
   ]
  },
  {
   "cell_type": "code",
   "execution_count": 28,
   "metadata": {
    "colab": {
     "base_uri": "https://localhost:8080/"
    },
    "executionInfo": {
     "elapsed": 646,
     "status": "ok",
     "timestamp": 1606501798272,
     "user": {
      "displayName": "Tomasz Różański",
      "photoUrl": "https://lh4.googleusercontent.com/-CdAQaQI9V1E/AAAAAAAAAAI/AAAAAAAAAvI/rnNPiSw4f80/s64/photo.jpg",
      "userId": "09904144145241711927"
     },
     "user_tz": -60
    },
    "id": "_M1XDxmgOtKQ",
    "outputId": "206bb8a3-38c7-4a25-d74a-bc88f3a8b026"
   },
   "outputs": [
    {
     "name": "stdout",
     "output_type": "stream",
     "text": [
      "5.0\n"
     ]
    }
   ],
   "source": [
    "vec1= Vector2D(3.,4.)\n",
    "print(abs(vec1))"
   ]
  },
  {
   "cell_type": "markdown",
   "metadata": {},
   "source": [
    "### Iloczyn skalarny"
   ]
  },
  {
   "cell_type": "code",
   "execution_count": 29,
   "metadata": {
    "id": "bbOu52jM-A7E"
   },
   "outputs": [],
   "source": [
    "from math import sqrt\n",
    "class Vector2D:\n",
    "    def __init__(self,x,y):\n",
    "        self.x= x\n",
    "        self.y= y\n",
    "\n",
    "    def __add__(self, vec):\n",
    "        return Vector2D(self.x+vec.x,self.y+vec.y)\n",
    "\n",
    "    def __str__(self):\n",
    "        return \"({}, {})\".format(self.x,self.y)\n",
    "\n",
    "    def abs(self):\n",
    "        return sqrt(self.x**2 + self.y**2)\n",
    "\n",
    "    def __abs__(self):\n",
    "        return self.abs()\n",
    "    \n",
    "    def __matmul__(self, vec):\n",
    "        return self.x*vec.x+self.y*vec.y\n",
    "    \n",
    "    def perpendicular_vector(self):\n",
    "        return Vector2D(self.y,-self.x)"
   ]
  },
  {
   "cell_type": "code",
   "execution_count": 30,
   "metadata": {},
   "outputs": [
    {
     "name": "stdout",
     "output_type": "stream",
     "text": [
      "(5, -2)\n"
     ]
    }
   ],
   "source": [
    "v1 = Vector2D(2,5)\n",
    "v2 = v1.perpendicular_vector()\n",
    "print(v2)"
   ]
  },
  {
   "cell_type": "code",
   "execution_count": 31,
   "metadata": {},
   "outputs": [
    {
     "name": "stdout",
     "output_type": "stream",
     "text": [
      "0\n"
     ]
    }
   ],
   "source": [
    "print(v1@v2)"
   ]
  },
  {
   "cell_type": "code",
   "execution_count": null,
   "metadata": {},
   "outputs": [],
   "source": []
  }
 ],
 "metadata": {
  "colab": {
   "authorship_tag": "ABX9TyNMVbfnbT6IPC+D9ehsJ9jY",
   "collapsed_sections": [],
   "name": "06_programowanie_obiektowe.ipynb",
   "provenance": []
  },
  "kernelspec": {
   "display_name": "Python 3",
   "language": "python",
   "name": "python3"
  },
  "language_info": {
   "codemirror_mode": {
    "name": "ipython",
    "version": 3
   },
   "file_extension": ".py",
   "mimetype": "text/x-python",
   "name": "python",
   "nbconvert_exporter": "python",
   "pygments_lexer": "ipython3",
   "version": "3.8.3"
  }
 },
 "nbformat": 4,
 "nbformat_minor": 1
}
