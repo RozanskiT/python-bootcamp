{
 "cells": [
  {
   "cell_type": "markdown",
   "metadata": {
    "id": "ZQ6vj_TJUTzG"
   },
   "source": [
    "# Narysuj diagram kolor-kolor"
   ]
  },
  {
   "cell_type": "code",
   "execution_count": null,
   "metadata": {
    "id": "IifbEKlXYbnQ"
   },
   "outputs": [],
   "source": [
    "!pip install astroquery"
   ]
  },
  {
   "cell_type": "code",
   "execution_count": null,
   "metadata": {
    "executionInfo": {
     "elapsed": 1459,
     "status": "ok",
     "timestamp": 1607011234903,
     "user": {
      "displayName": "Tomasz Różański",
      "photoUrl": "https://lh4.googleusercontent.com/-CdAQaQI9V1E/AAAAAAAAAAI/AAAAAAAAAvI/rnNPiSw4f80/s64/photo.jpg",
      "userId": "09904144145241711927"
     },
     "user_tz": -60
    },
    "id": "yDAbF_wEPU-I"
   },
   "outputs": [],
   "source": [
    "from astroquery.simbad import Simbad\n",
    "# https://astroquery.readthedocs.io/en/latest/simbad/simbad.html\n",
    "Simbad.add_votable_fields('typed_id')"
   ]
  },
  {
   "cell_type": "markdown",
   "metadata": {
    "id": "erVK5i7_X4xD"
   },
   "source": [
    "### Ścieżka do folderu z danymi"
   ]
  },
  {
   "cell_type": "code",
   "execution_count": null,
   "metadata": {
    "colab": {
     "base_uri": "https://localhost:8080/"
    },
    "executionInfo": {
     "elapsed": 674,
     "status": "ok",
     "timestamp": 1607011255917,
     "user": {
      "displayName": "Tomasz Różański",
      "photoUrl": "https://lh4.googleusercontent.com/-CdAQaQI9V1E/AAAAAAAAAAI/AAAAAAAAAvI/rnNPiSw4f80/s64/photo.jpg",
      "userId": "09904144145241711927"
     },
     "user_tz": -60
    },
    "id": "ncjgMjmLXr2p",
    "outputId": "93aeee5f-fb31-49a9-cf09-e019126cd59a"
   },
   "outputs": [],
   "source": [
    "import os\n",
    "\n",
    "data_directory_path= \"../data\" # Jeżeli zapisaliśmy dane gdzieś indziej musimy tutaj zmienić.\n",
    "print(data_directory_path)"
   ]
  },
  {
   "cell_type": "markdown",
   "metadata": {
    "id": "csl7ES7mX8p_"
   },
   "source": [
    "### Czytanie danych z bazy Simbad"
   ]
  },
  {
   "cell_type": "code",
   "execution_count": null,
   "metadata": {
    "id": "QX_X1SooYAPu"
   },
   "outputs": [],
   "source": [
    "Simbad.list_votable_fields()"
   ]
  },
  {
   "cell_type": "code",
   "execution_count": null,
   "metadata": {
    "executionInfo": {
     "elapsed": 947,
     "status": "ok",
     "timestamp": 1607011259098,
     "user": {
      "displayName": "Tomasz Różański",
      "photoUrl": "https://lh4.googleusercontent.com/-CdAQaQI9V1E/AAAAAAAAAAI/AAAAAAAAAvI/rnNPiSw4f80/s64/photo.jpg",
      "userId": "09904144145241711927"
     },
     "user_tz": -60
    },
    "id": "2OuZFoK0Y8pJ"
   },
   "outputs": [],
   "source": [
    "for vo_field in [\"flux(U)\",\"flux(B)\",\"flux(V)\",\"mk\"]:\n",
    "    Simbad.add_votable_fields(vo_field)"
   ]
  },
  {
   "cell_type": "code",
   "execution_count": null,
   "metadata": {
    "executionInfo": {
     "elapsed": 1984,
     "status": "ok",
     "timestamp": 1607011260361,
     "user": {
      "displayName": "Tomasz Różański",
      "photoUrl": "https://lh4.googleusercontent.com/-CdAQaQI9V1E/AAAAAAAAAAI/AAAAAAAAAvI/rnNPiSw4f80/s64/photo.jpg",
      "userId": "09904144145241711927"
     },
     "user_tz": -60
    },
    "id": "ihvbZAhSXr79"
   },
   "outputs": [],
   "source": [
    "result_table = Simbad.query_objects([\"Sirius\"])"
   ]
  },
  {
   "cell_type": "code",
   "execution_count": null,
   "metadata": {
    "colab": {
     "base_uri": "https://localhost:8080/",
     "height": 117
    },
    "executionInfo": {
     "elapsed": 1674,
     "status": "ok",
     "timestamp": 1607011260364,
     "user": {
      "displayName": "Tomasz Różański",
      "photoUrl": "https://lh4.googleusercontent.com/-CdAQaQI9V1E/AAAAAAAAAAI/AAAAAAAAAvI/rnNPiSw4f80/s64/photo.jpg",
      "userId": "09904144145241711927"
     },
     "user_tz": -60
    },
    "id": "BpPzuWVdYkuf",
    "outputId": "6847d8b7-790e-4ef6-dd9b-6e6bfbe07489"
   },
   "outputs": [],
   "source": [
    "result_table= result_table.to_pandas()\n",
    "result_table"
   ]
  },
  {
   "cell_type": "code",
   "execution_count": null,
   "metadata": {},
   "outputs": [],
   "source": [
    "FLUX_U= result_table[\"FLUX_U\"].values\n",
    "FLUX_B= result_table[\"FLUX_B\"].values\n",
    "FLUX_V= result_table[\"FLUX_V\"].values\n",
    "print(FLUX_U, FLUX_B, FLUX_V)"
   ]
  },
  {
   "cell_type": "code",
   "execution_count": null,
   "metadata": {},
   "outputs": [],
   "source": [
    "import matplotlib.pyplot as plt\n",
    "plt.scatter(FLUX_U, FLUX_B)"
   ]
  },
  {
   "cell_type": "markdown",
   "metadata": {
    "id": "Woh5KFqnZ4X5"
   },
   "source": [
    "### Zadanie\n",
    "\n",
    "* Wczytaj listę gwiazd `star_list.dat`\n",
    "\n",
    "* Narysuj diagram kolor-kolor dla tych gwiazd: (U-B) vs. (B-V)\n",
    "\n",
    "* Wybierz po jednej gwieździe z każdego typu widmowego i pobierz ich widma wykonane w projekcie [UVES POP (Field Stars)](http://www.eso.org/sci/observing/tools/uvespop/field_stars_uptonow.html), wyświetl na rysunku ich linie widmową - H$\\alpha$. (~6650)"
   ]
  },
  {
   "cell_type": "code",
   "execution_count": null,
   "metadata": {
    "executionInfo": {
     "elapsed": 646,
     "status": "ok",
     "timestamp": 1607011266525,
     "user": {
      "displayName": "Tomasz Różański",
      "photoUrl": "https://lh4.googleusercontent.com/-CdAQaQI9V1E/AAAAAAAAAAI/AAAAAAAAAvI/rnNPiSw4f80/s64/photo.jpg",
      "userId": "09904144145241711927"
     },
     "user_tz": -60
    },
    "id": "7AkY2ozYYmHu"
   },
   "outputs": [],
   "source": [
    "file_path= os.path.join(data_directory_path,\"star_list.txt\")"
   ]
  },
  {
   "cell_type": "code",
   "execution_count": null,
   "metadata": {
    "executionInfo": {
     "elapsed": 1636,
     "status": "ok",
     "timestamp": 1607011269878,
     "user": {
      "displayName": "Tomasz Różański",
      "photoUrl": "https://lh4.googleusercontent.com/-CdAQaQI9V1E/AAAAAAAAAAI/AAAAAAAAAvI/rnNPiSw4f80/s64/photo.jpg",
      "userId": "09904144145241711927"
     },
     "user_tz": -60
    },
    "id": "eIZq01mkDn9g"
   },
   "outputs": [],
   "source": [
    "stars_names= [] # Poniżej wczytaj nazwy gwiazd do pustej listy star_names\n",
    "# ..."
   ]
  },
  {
   "cell_type": "code",
   "execution_count": null,
   "metadata": {
    "executionInfo": {
     "elapsed": 10996,
     "status": "ok",
     "timestamp": 1607011279595,
     "user": {
      "displayName": "Tomasz Różański",
      "photoUrl": "https://lh4.googleusercontent.com/-CdAQaQI9V1E/AAAAAAAAAAI/AAAAAAAAAvI/rnNPiSw4f80/s64/photo.jpg",
      "userId": "09904144145241711927"
     },
     "user_tz": -60
    },
    "id": "WVkuV_icDpJn"
   },
   "outputs": [],
   "source": [
    "# Użyj Simbad.query_objects żeby pobrać informacje o wszystkich gwiazdach"
   ]
  },
  {
   "cell_type": "code",
   "execution_count": null,
   "metadata": {
    "executionInfo": {
     "elapsed": 658,
     "status": "ok",
     "timestamp": 1607011394164,
     "user": {
      "displayName": "Tomasz Różański",
      "photoUrl": "https://lh4.googleusercontent.com/-CdAQaQI9V1E/AAAAAAAAAAI/AAAAAAAAAvI/rnNPiSw4f80/s64/photo.jpg",
      "userId": "09904144145241711927"
     },
     "user_tz": -60
    },
    "id": "UmoVo0ghEG2-"
   },
   "outputs": [],
   "source": [
    "# Oblicz kolory U-B i B-V"
   ]
  },
  {
   "cell_type": "code",
   "execution_count": null,
   "metadata": {
    "colab": {
     "base_uri": "https://localhost:8080/",
     "height": 282
    },
    "executionInfo": {
     "elapsed": 1091,
     "status": "ok",
     "timestamp": 1607011396466,
     "user": {
      "displayName": "Tomasz Różański",
      "photoUrl": "https://lh4.googleusercontent.com/-CdAQaQI9V1E/AAAAAAAAAAI/AAAAAAAAAvI/rnNPiSw4f80/s64/photo.jpg",
      "userId": "09904144145241711927"
     },
     "user_tz": -60
    },
    "id": "Kr_fy3LiFGlt",
    "outputId": "8004ba87-7109-400b-e59f-0677b3c8ea23"
   },
   "outputs": [],
   "source": [
    "# Wyświetl wykorzystując plt.scatter(FLUX_U, FLUX_B) diagram kolor-kolor"
   ]
  },
  {
   "cell_type": "code",
   "execution_count": null,
   "metadata": {
    "id": "Z1UbNuZ9wazU"
   },
   "outputs": [],
   "source": []
  }
 ],
 "metadata": {
  "colab": {
   "authorship_tag": "ABX9TyMivAYElQrpVpwXp9bwXpe4",
   "collapsed_sections": [],
   "name": "07_zadanie.ipynb",
   "provenance": []
  },
  "kernelspec": {
   "display_name": "Python 3",
   "language": "python",
   "name": "python3"
  },
  "language_info": {
   "codemirror_mode": {
    "name": "ipython",
    "version": 3
   },
   "file_extension": ".py",
   "mimetype": "text/x-python",
   "name": "python",
   "nbconvert_exporter": "python",
   "pygments_lexer": "ipython3",
   "version": "3.8.3"
  }
 },
 "nbformat": 4,
 "nbformat_minor": 1
}
