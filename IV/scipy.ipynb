{
 "cells": [
  {
   "cell_type": "markdown",
   "metadata": {
    "id": "6zEVOGhrYH58"
   },
   "source": [
    "# [SciPy](https://scipy.github.io/devdocs/tutorial/index.html)\n",
    "![SciPy](https://raw.githubusercontent.com/scipy/scipy-sphinx-theme/master/_static/scipyshiny_small.png)\n"
   ]
  },
  {
   "cell_type": "markdown",
   "metadata": {
    "id": "jd0pc3HyYH58"
   },
   "source": [
    "# Spis Treści\n",
    "\n",
    "1. [Stałe fizyczne](#physical_constants)\n",
    "2. [Optymalizacja](#optimize)\n",
    "    * [Dopasowanie MNK (Metoda Najmniejszych Kwadratów) używając curve_fit](#curve_fit)\n",
    "        - [Ćwiczenie nr 1](#exercise_1)\n",
    "        - [Niepewności i rozwiązanie początkowe](#uncertainties_guesses)\n",
    "    * [Optymalizacja funkcji używając `minimize`](#minimize)\n",
    "        - [Unbinned likelihood fits](#likelihood)\n",
    "        - [Exercise 2](#exercise_2)\n",
    "3. [Szybka Transformata Fouriera - Fast Fourier Transforms (FFTs)](#fft)\n",
    "4. [Całkowanie](#integration)\n",
    "    * [Całkowanie funkcji](#function_integration)\n",
    "    * [Całkowanie próbki](#sample_integration)\n",
    "        - [Ćwiczenie nr 3](#exercise_3)\n",
    "5. [Interpolacja](#interpolation)\n",
    "    * [Interpolacja liniowa](#linear_interpolation)\n",
    "    * [Interpolacja wielomianami sklejanymi 3-go stopnia](#spline_interpolation)\n",
    "    * [Ćwiczenie nr 4](#exercise_4)\n",
    "6. [Statystyki](#stats)\n",
    "    * [Rozkłady prawdopodobieństwa](#stats_distributions)\n",
    "        - [Rozkłady ciągłe](#continuous_distributions)\n",
    "        - [Rozkłady dyskretne](#discrete_distributions)\n",
    "        - [Rozkłady wielowymiarowe](#multivariate_distributions)\n",
    "    * [Funkcje statystyczne](#statistical_functions)\n",
    "    * [Przykład](#stats_example)\n",
    "    * [Ćwiczenie nr 5](#exercise_5)\n",
    "7. [Funkcje specjalne](#special_functions)\n",
    "    * [Funkcje Bessel-a](#bessel)\n",
    "    * [Wielomiany ortogonalne](#ortho_polys)"
   ]
  },
  {
   "cell_type": "markdown",
   "metadata": {
    "id": "7SpaU9DYYH58"
   },
   "source": [
    "# Importowanie i ustawienie notebook-a (uruchomić jako pierwsze!)"
   ]
  },
  {
   "cell_type": "code",
   "execution_count": null,
   "metadata": {
    "executionInfo": {
     "elapsed": 564,
     "status": "ok",
     "timestamp": 1607102863416,
     "user": {
      "displayName": "Tomasz Różański",
      "photoUrl": "https://lh4.googleusercontent.com/-CdAQaQI9V1E/AAAAAAAAAAI/AAAAAAAAAvI/rnNPiSw4f80/s64/photo.jpg",
      "userId": "09904144145241711927"
     },
     "user_tz": -60
    },
    "id": "itezlvkBYH58"
   },
   "outputs": [],
   "source": [
    "import scipy as sp\n",
    "import numpy as np\n",
    "\n",
    "# we will need to plot stuff later\n",
    "import matplotlib.pyplot as plt\n",
    "\n",
    "%matplotlib inline\n",
    "plt.rcParams['figure.figsize'] = (12, 8)\n",
    "plt.rcParams['font.size'] = 16\n",
    "plt.rcParams['lines.linewidth'] = 2"
   ]
  },
  {
   "cell_type": "markdown",
   "metadata": {
    "id": "tRAyuXZ5YH59"
   },
   "source": [
    "<a id=physical_constants></a>\n",
    "# Stałe fizyczne"
   ]
  },
  {
   "cell_type": "code",
   "execution_count": null,
   "metadata": {
    "colab": {
     "base_uri": "https://localhost:8080/"
    },
    "executionInfo": {
     "elapsed": 646,
     "status": "ok",
     "timestamp": 1607102864864,
     "user": {
      "displayName": "Tomasz Różański",
      "photoUrl": "https://lh4.googleusercontent.com/-CdAQaQI9V1E/AAAAAAAAAAI/AAAAAAAAAvI/rnNPiSw4f80/s64/photo.jpg",
      "userId": "09904144145241711927"
     },
     "user_tz": -60
    },
    "id": "qDPJSC3qYH59",
    "outputId": "c585e48c-6398-4a69-bcd5-e8f0e2644d32"
   },
   "outputs": [],
   "source": [
    "import scipy.constants as const\n",
    "const.epsilon_0"
   ]
  },
  {
   "cell_type": "code",
   "execution_count": null,
   "metadata": {
    "colab": {
     "base_uri": "https://localhost:8080/"
    },
    "executionInfo": {
     "elapsed": 637,
     "status": "ok",
     "timestamp": 1607102882822,
     "user": {
      "displayName": "Tomasz Różański",
      "photoUrl": "https://lh4.googleusercontent.com/-CdAQaQI9V1E/AAAAAAAAAAI/AAAAAAAAAvI/rnNPiSw4f80/s64/photo.jpg",
      "userId": "09904144145241711927"
     },
     "user_tz": -60
    },
    "id": "DaN4PYbOYH59",
    "outputId": "d45a0c61-3eaf-4746-ffcb-ffa8d0014202"
   },
   "outputs": [],
   "source": [
    "# zamiana jednostek temperatury:\n",
    "const.convert_temperature(100, old_scale='C', new_scale='K')"
   ]
  },
  {
   "cell_type": "code",
   "execution_count": null,
   "metadata": {
    "colab": {
     "base_uri": "https://localhost:8080/"
    },
    "executionInfo": {
     "elapsed": 770,
     "status": "ok",
     "timestamp": 1607102897180,
     "user": {
      "displayName": "Tomasz Różański",
      "photoUrl": "https://lh4.googleusercontent.com/-CdAQaQI9V1E/AAAAAAAAAAI/AAAAAAAAAvI/rnNPiSw4f80/s64/photo.jpg",
      "userId": "09904144145241711927"
     },
     "user_tz": -60
    },
    "id": "HOybf8bwYH59",
    "outputId": "b72164ac-c51b-4b1e-d0b0-26fdef2cccc1",
    "scrolled": true
   },
   "outputs": [],
   "source": [
    "# więcej stałych (w tym jednostki i błędy)!\n",
    "for k, v in const.physical_constants.items():\n",
    "    print(k, ':', v)"
   ]
  },
  {
   "cell_type": "code",
   "execution_count": null,
   "metadata": {
    "colab": {
     "base_uri": "https://localhost:8080/"
    },
    "executionInfo": {
     "elapsed": 532,
     "status": "ok",
     "timestamp": 1607102953854,
     "user": {
      "displayName": "Tomasz Różański",
      "photoUrl": "https://lh4.googleusercontent.com/-CdAQaQI9V1E/AAAAAAAAAAI/AAAAAAAAAvI/rnNPiSw4f80/s64/photo.jpg",
      "userId": "09904144145241711927"
     },
     "user_tz": -60
    },
    "id": "9PVEqlhFYH59",
    "outputId": "77b580c0-3fe9-4c54-afd8-6f809a276d93"
   },
   "outputs": [],
   "source": [
    "val, unit, uncertainty = const.physical_constants['muon mass energy equivalent in MeV']\n",
    "val, unit, uncertainty"
   ]
  },
  {
   "cell_type": "markdown",
   "metadata": {
    "id": "2n6uDoXUYH59"
   },
   "source": [
    "<a id=optimize></a>\n",
    "# Optymalizacja\n",
    "\n",
    "<a id=curve_fit></a>\n",
    "## Dopasowanie MNK (Metoda Najmniejszych Kwadratów) używając `curve_fit`\n",
    "\n",
    "Algorytm Levenberga-Marquardta do optymalizacji nieliniowej."
   ]
  },
  {
   "cell_type": "code",
   "execution_count": null,
   "metadata": {
    "colab": {
     "base_uri": "https://localhost:8080/",
     "height": 505
    },
    "executionInfo": {
     "elapsed": 594,
     "status": "ok",
     "timestamp": 1607103038642,
     "user": {
      "displayName": "Tomasz Różański",
      "photoUrl": "https://lh4.googleusercontent.com/-CdAQaQI9V1E/AAAAAAAAAAI/AAAAAAAAAvI/rnNPiSw4f80/s64/photo.jpg",
      "userId": "09904144145241711927"
     },
     "user_tz": -60
    },
    "id": "xBFMM6MUYH59",
    "outputId": "7b59b016-c442-41e5-c335-2b76c9c98b6a"
   },
   "outputs": [],
   "source": [
    "a = -1\n",
    "b = 5\n",
    "\n",
    "def f(x, a, b):\n",
    "    return np.exp(a * x) + b\n",
    "\n",
    "x = np.linspace(0, 5, 100)\n",
    "y = f(x, a, b) + np.random.normal(0, 0.1, 100)\n",
    "\n",
    "plt.plot(x, y, '.', label='data')"
   ]
  },
  {
   "cell_type": "code",
   "execution_count": null,
   "metadata": {
    "colab": {
     "base_uri": "https://localhost:8080/"
    },
    "executionInfo": {
     "elapsed": 611,
     "status": "ok",
     "timestamp": 1607103085418,
     "user": {
      "displayName": "Tomasz Różański",
      "photoUrl": "https://lh4.googleusercontent.com/-CdAQaQI9V1E/AAAAAAAAAAI/AAAAAAAAAvI/rnNPiSw4f80/s64/photo.jpg",
      "userId": "09904144145241711927"
     },
     "user_tz": -60
    },
    "id": "UN_yxUWlzqZg",
    "outputId": "7b59168e-89fb-45e8-fb47-eab523fb3328"
   },
   "outputs": [],
   "source": [
    "print(type(f))\n",
    "f(1,2,2)"
   ]
  },
  {
   "cell_type": "code",
   "execution_count": null,
   "metadata": {
    "colab": {
     "base_uri": "https://localhost:8080/"
    },
    "executionInfo": {
     "elapsed": 727,
     "status": "ok",
     "timestamp": 1607103163232,
     "user": {
      "displayName": "Tomasz Różański",
      "photoUrl": "https://lh4.googleusercontent.com/-CdAQaQI9V1E/AAAAAAAAAAI/AAAAAAAAAvI/rnNPiSw4f80/s64/photo.jpg",
      "userId": "09904144145241711927"
     },
     "user_tz": -60
    },
    "id": "lCgSPoc1YH59",
    "outputId": "821f0ff8-af0a-4d0b-cd02-a339350d0895"
   },
   "outputs": [],
   "source": [
    "from scipy.optimize import curve_fit\n",
    "\n",
    "params, covariance_matrix = curve_fit(f, x, y)\n",
    "\n",
    "uncertainties = np.sqrt(np.diag(covariance_matrix))\n",
    "error = ((y - f(x, *params))**2).sum()\n",
    "\n",
    "print('a = {:5.2f} ± {:.2f}'.format(params[0], uncertainties[0]))\n",
    "print('b = {:5.2f} ± {:.2f}'.format(params[1], uncertainties[1]))\n",
    "print('error: {}'.format(error))\n"
   ]
  },
  {
   "cell_type": "code",
   "execution_count": null,
   "metadata": {
    "colab": {
     "base_uri": "https://localhost:8080/",
     "height": 488
    },
    "executionInfo": {
     "elapsed": 821,
     "status": "ok",
     "timestamp": 1607103222042,
     "user": {
      "displayName": "Tomasz Różański",
      "photoUrl": "https://lh4.googleusercontent.com/-CdAQaQI9V1E/AAAAAAAAAAI/AAAAAAAAAvI/rnNPiSw4f80/s64/photo.jpg",
      "userId": "09904144145241711927"
     },
     "user_tz": -60
    },
    "id": "iplFP_HZYH5-",
    "outputId": "6cdc32c3-6e08-481b-fdf9-5d1beec63317"
   },
   "outputs": [],
   "source": [
    "plt.plot(x, y, '.', label='data')\n",
    "plt.plot(x, f(x, *params), label='fit result')\n",
    "plt.legend();"
   ]
  },
  {
   "cell_type": "code",
   "execution_count": null,
   "metadata": {
    "colab": {
     "base_uri": "https://localhost:8080/",
     "height": 505
    },
    "executionInfo": {
     "elapsed": 656,
     "status": "ok",
     "timestamp": 1607103236756,
     "user": {
      "displayName": "Tomasz Różański",
      "photoUrl": "https://lh4.googleusercontent.com/-CdAQaQI9V1E/AAAAAAAAAAI/AAAAAAAAAvI/rnNPiSw4f80/s64/photo.jpg",
      "userId": "09904144145241711927"
     },
     "user_tz": -60
    },
    "id": "1-RtZpxwYH5-",
    "outputId": "1e6c6c62-5086-4bdf-b422-4896ed10b29e"
   },
   "outputs": [],
   "source": [
    "plt.plot(x,f(x, *params)-y,'.', label='residuals' )\n",
    "plt.legend()"
   ]
  },
  {
   "cell_type": "code",
   "execution_count": null,
   "metadata": {
    "colab": {
     "base_uri": "https://localhost:8080/",
     "height": 505
    },
    "executionInfo": {
     "elapsed": 676,
     "status": "ok",
     "timestamp": 1607103260875,
     "user": {
      "displayName": "Tomasz Różański",
      "photoUrl": "https://lh4.googleusercontent.com/-CdAQaQI9V1E/AAAAAAAAAAI/AAAAAAAAAvI/rnNPiSw4f80/s64/photo.jpg",
      "userId": "09904144145241711927"
     },
     "user_tz": -60
    },
    "id": "uQ_Q3LI4YH5-",
    "outputId": "f3871fe7-1fc3-4c40-9a49-8ed00d70ca83"
   },
   "outputs": [],
   "source": [
    "# Regresja liniowa z curve_fit\n",
    "\n",
    "def f_linear(x, a, b):\n",
    "    return a*x + b\n",
    "\n",
    "l_params, l_covariance_matrix = curve_fit(f_linear, x, y)\n",
    "l_uncertainties = np.sqrt(np.diag(l_covariance_matrix))\n",
    "\n",
    "plt.plot(x, y, '.', label='data')\n",
    "plt.plot(x, f_linear(x, *l_params), label='fit result')\n",
    "plt.legend();\n",
    "\n",
    "error = ((y - f_linear(x, *l_params))**2).sum()\n",
    "print('error: {}'.format(error))"
   ]
  },
  {
   "cell_type": "code",
   "execution_count": null,
   "metadata": {
    "colab": {
     "base_uri": "https://localhost:8080/"
    },
    "executionInfo": {
     "elapsed": 664,
     "status": "ok",
     "timestamp": 1607103370546,
     "user": {
      "displayName": "Tomasz Różański",
      "photoUrl": "https://lh4.googleusercontent.com/-CdAQaQI9V1E/AAAAAAAAAAI/AAAAAAAAAvI/rnNPiSw4f80/s64/photo.jpg",
      "userId": "09904144145241711927"
     },
     "user_tz": -60
    },
    "id": "WY142jfoYH5-",
    "outputId": "caae0ca7-69c6-4217-ac3f-28153abd3c37"
   },
   "outputs": [],
   "source": [
    "# Można sprawdzić, czy wynik jest taki sam jak ten uzyskany używając regresji liniowej\n",
    "from scipy.stats import linregress\n",
    "\n",
    "print('With curve_fit')\n",
    "print('\\ta = {:5.2f} ± {:.2f}'.format(l_params[0], l_uncertainties[0]))\n",
    "print('\\tb = {:5.2f} ± {:.2f}'.format(l_params[1], l_uncertainties[1]))\n",
    "\n",
    "slope, intercept, r_value, p_value, std_err = linregress(x, y)\n",
    "print('With linregress')\n",
    "print('\\ta = {:5.2f}'.format(slope))\n",
    "print('\\tb = {:5.2f}'.format(intercept))"
   ]
  },
  {
   "cell_type": "code",
   "execution_count": null,
   "metadata": {
    "colab": {
     "base_uri": "https://localhost:8080/",
     "height": 573
    },
    "executionInfo": {
     "elapsed": 647,
     "status": "ok",
     "timestamp": 1607103375124,
     "user": {
      "displayName": "Tomasz Różański",
      "photoUrl": "https://lh4.googleusercontent.com/-CdAQaQI9V1E/AAAAAAAAAAI/AAAAAAAAAvI/rnNPiSw4f80/s64/photo.jpg",
      "userId": "09904144145241711927"
     },
     "user_tz": -60
    },
    "id": "94tXkEGlYH5-",
    "outputId": "5413800b-73de-49a5-b327-e3adc0c33891"
   },
   "outputs": [],
   "source": [
    "a = -1\n",
    "b = 5\n",
    "c = 5\n",
    "\n",
    "def f(x, a, b):\n",
    "    return np.exp(a * x) + b\n",
    "\n",
    "def f_quadratic(x, a, b, c):\n",
    "    return a*x**2 + b*x + c\n",
    "\n",
    "x = np.linspace(0, 5, 100)\n",
    "y = f(x, a, b) + np.random.normal(0, 0.1, 100)\n",
    "\n",
    "l_params, l_covariance_matrix = curve_fit(f_quadratic, x, y)\n",
    "l_uncertainties = np.sqrt(np.diag(l_covariance_matrix))\n",
    "\n",
    "plt.plot(x, y, '.', label='data')\n",
    "plt.plot(x, f_quadratic(x, *l_params), label='fit result')\n",
    "plt.legend();\n",
    "\n",
    "print('With curve_fit')\n",
    "print('\\ta = {:5.2f} ± {:.2f}'.format(l_params[0], l_uncertainties[0]))\n",
    "print('\\tb = {:5.2f} ± {:.2f}'.format(l_params[1], l_uncertainties[1]))\n",
    "print('\\tc = {:5.2f} ± {:.2f}'.format(l_params[2], l_uncertainties[2]))\n",
    "\n",
    "error = ((y - f_quadratic(x, *l_params))**2).sum()\n",
    "print('error: {}'.format(error))"
   ]
  },
  {
   "cell_type": "markdown",
   "metadata": {
    "id": "L0Q-MdX_YH5-"
   },
   "source": [
    "<a id=exercise_1></a>\n",
    "## Ćwiczenie nr 1\n",
    "\n",
    "Użyj `curve_fit` do dopasowania wielomianu 4-tego stopnia do danych, narysuj wynik na wykresie i porównaj z poprzednimi dopasowaniami."
   ]
  },
  {
   "cell_type": "markdown",
   "metadata": {
    "id": "8EV0NA4AYH5-"
   },
   "source": [
    "<a id=uncertainties_guesses></a>\n",
    "### Niepewności i rozwiązanie początkowe"
   ]
  },
  {
   "cell_type": "code",
   "execution_count": null,
   "metadata": {
    "colab": {
     "base_uri": "https://localhost:8080/",
     "height": 488
    },
    "executionInfo": {
     "elapsed": 1124,
     "status": "ok",
     "timestamp": 1607103635699,
     "user": {
      "displayName": "Tomasz Różański",
      "photoUrl": "https://lh4.googleusercontent.com/-CdAQaQI9V1E/AAAAAAAAAAI/AAAAAAAAAvI/rnNPiSw4f80/s64/photo.jpg",
      "userId": "09904144145241711927"
     },
     "user_tz": -60
    },
    "id": "ijlsLC_OYH5-",
    "outputId": "836d7d94-d7a2-4be9-f0bc-5b616e1a21d3"
   },
   "outputs": [],
   "source": [
    "x = np.linspace(0, 1, 1000)\n",
    "def f(x, a, b):\n",
    "    return np.sin(a * x + b)\n",
    "\n",
    "y = f(x, 5 * np.pi, np.pi / 2) \n",
    "yerr = np.full_like(y, 0.2)\n",
    "noise = np.random.normal(0, yerr, 1000)\n",
    "y += noise\n",
    "\n",
    "\n",
    "params, covariance_matrix = curve_fit(f, x, y)\n",
    "\n",
    "# params, covariance_matrix = curve_fit(\n",
    "#     f, x, y,\n",
    "#     p0=[15, 2],\n",
    "# )\n",
    "\n",
    "# params, covariance_matrix = curve_fit(\n",
    "#    f, x, y,\n",
    "#    p0=[15, 1.5],\n",
    "#    sigma=yerr,\n",
    "#    absolute_sigma=True,\n",
    "# )\n",
    "\n",
    "\n",
    "# plot the stuff\n",
    "\n",
    "x_plot = np.linspace(-0.1, 1.1, 1000)\n",
    "\n",
    "plt.plot(x, y, '.', label='data')\n",
    "plt.plot(x_plot, f(x_plot, *params), label='fit result')\n",
    "plt.legend();"
   ]
  },
  {
   "cell_type": "markdown",
   "metadata": {
    "id": "89yIOBsLYH5-"
   },
   "source": [
    "<a id=minimize></a>\n",
    "## Optymalizacja funkcji używając `minimize`"
   ]
  },
  {
   "cell_type": "markdown",
   "metadata": {
    "id": "7kyP-AmiYH5-"
   },
   "source": [
    "Zdefiniujmy funkcję z dwoma lokalnymi minimami"
   ]
  },
  {
   "cell_type": "code",
   "execution_count": null,
   "metadata": {
    "executionInfo": {
     "elapsed": 607,
     "status": "ok",
     "timestamp": 1607103649266,
     "user": {
      "displayName": "Tomasz Różański",
      "photoUrl": "https://lh4.googleusercontent.com/-CdAQaQI9V1E/AAAAAAAAAAI/AAAAAAAAAvI/rnNPiSw4f80/s64/photo.jpg",
      "userId": "09904144145241711927"
     },
     "user_tz": -60
    },
    "id": "jgJj32hJYH5-"
   },
   "outputs": [],
   "source": [
    "def f(x, h, x1):\n",
    "    return h*np.exp(-((x - x1)**2).sum(axis=-1))\n",
    "\n",
    "def g(x):\n",
    "    return -f(x, 1, np.array([2, 1])) - f(x, 2, np.array([-2, 3]))"
   ]
  },
  {
   "cell_type": "code",
   "execution_count": null,
   "metadata": {
    "executionInfo": {
     "elapsed": 568,
     "status": "ok",
     "timestamp": 1607103667242,
     "user": {
      "displayName": "Tomasz Różański",
      "photoUrl": "https://lh4.googleusercontent.com/-CdAQaQI9V1E/AAAAAAAAAAI/AAAAAAAAAvI/rnNPiSw4f80/s64/photo.jpg",
      "userId": "09904144145241711927"
     },
     "user_tz": -60
    },
    "id": "NXPtcsRCYH5-"
   },
   "outputs": [],
   "source": [
    "XLIM = [-5, 5]\n",
    "YLIM = [-2.5, 7.5]\n",
    "x = np.linspace(-5, 5, 100)\n",
    "y = np.linspace(-2.5, 7.5, 100)\n",
    "X, Y = np.meshgrid(x, y)\n",
    "pos = np.dstack((X, Y))\n",
    "Z = g(pos)"
   ]
  },
  {
   "cell_type": "code",
   "execution_count": null,
   "metadata": {
    "colab": {
     "base_uri": "https://localhost:8080/",
     "height": 511
    },
    "executionInfo": {
     "elapsed": 876,
     "status": "ok",
     "timestamp": 1607103669527,
     "user": {
      "displayName": "Tomasz Różański",
      "photoUrl": "https://lh4.googleusercontent.com/-CdAQaQI9V1E/AAAAAAAAAAI/AAAAAAAAAvI/rnNPiSw4f80/s64/photo.jpg",
      "userId": "09904144145241711927"
     },
     "user_tz": -60
    },
    "id": "QOi38m6JYH5-",
    "outputId": "3e9bba35-3ac6-4dd9-d958-7dbd422d9066"
   },
   "outputs": [],
   "source": [
    "plt.contourf(X, Y, Z, cmap='viridis_r')\n",
    "plt.colorbar()"
   ]
  },
  {
   "cell_type": "code",
   "execution_count": null,
   "metadata": {
    "colab": {
     "base_uri": "https://localhost:8080/"
    },
    "executionInfo": {
     "elapsed": 530,
     "status": "ok",
     "timestamp": 1607103752145,
     "user": {
      "displayName": "Tomasz Różański",
      "photoUrl": "https://lh4.googleusercontent.com/-CdAQaQI9V1E/AAAAAAAAAAI/AAAAAAAAAvI/rnNPiSw4f80/s64/photo.jpg",
      "userId": "09904144145241711927"
     },
     "user_tz": -60
    },
    "id": "7v5yStuUYH5-",
    "outputId": "438cafaa-59c5-446c-aba1-f6b7fa2b6e6d"
   },
   "outputs": [],
   "source": [
    "from scipy.optimize import minimize\n",
    "\n",
    "result = minimize(g, x0=(0., 0.)) # rozwiązanie początkowe jest wymagane\n",
    "\n",
    "print(result.x)"
   ]
  },
  {
   "cell_type": "markdown",
   "metadata": {
    "id": "PnwcAbLVYH5-"
   },
   "source": [
    "Nie znaleźliśmy globalnego minimum"
   ]
  },
  {
   "cell_type": "code",
   "execution_count": null,
   "metadata": {
    "colab": {
     "base_uri": "https://localhost:8080/"
    },
    "executionInfo": {
     "elapsed": 558,
     "status": "ok",
     "timestamp": 1607103771832,
     "user": {
      "displayName": "Tomasz Różański",
      "photoUrl": "https://lh4.googleusercontent.com/-CdAQaQI9V1E/AAAAAAAAAAI/AAAAAAAAAvI/rnNPiSw4f80/s64/photo.jpg",
      "userId": "09904144145241711927"
     },
     "user_tz": -60
    },
    "id": "bQ-yVOq3YH5-",
    "outputId": "97ad628a-bbf4-4747-cca5-f7c551c2f535"
   },
   "outputs": [],
   "source": [
    "result = minimize(g, x0=(-2, 2))\n",
    "print(result.x)"
   ]
  },
  {
   "cell_type": "markdown",
   "metadata": {
    "id": "R5JcywfCYH5-"
   },
   "source": [
    "<a id=likelihood></a>\n",
    "### Dopasowanie funkcji wiarygodności\n",
    "\n",
    "Przykład: dopasowanie do ujemnej, zlogarytmowanej funkcji wiarygodności z rozkładu Poissona"
   ]
  },
  {
   "cell_type": "code",
   "execution_count": null,
   "metadata": {
    "colab": {
     "base_uri": "https://localhost:8080/",
     "height": 488
    },
    "executionInfo": {
     "elapsed": 879,
     "status": "ok",
     "timestamp": 1607103835366,
     "user": {
      "displayName": "Tomasz Różański",
      "photoUrl": "https://lh4.googleusercontent.com/-CdAQaQI9V1E/AAAAAAAAAAI/AAAAAAAAAvI/rnNPiSw4f80/s64/photo.jpg",
      "userId": "09904144145241711927"
     },
     "user_tz": -60
    },
    "id": "-jOzoQbTYH5-",
    "outputId": "a3ac814f-d457-41bf-c1d4-f2bcfe41b96c"
   },
   "outputs": [],
   "source": [
    "lambda_ = 15\n",
    "k = np.random.poisson(lambda_, 100)\n",
    "\n",
    "# trzeba użyć przedziałów wycentrowanych na liczbie całkowitej\n",
    "bin_edges = np.arange(0, 31) - 0.5\n",
    "\n",
    "plt.hist(k, bins=bin_edges);"
   ]
  },
  {
   "cell_type": "markdown",
   "metadata": {
    "id": "GDnfPKxOYH5-"
   },
   "source": [
    "Poisson PDF (Probability Density Function - Funkcja Gęstości Prawdopodobieństwa):\n",
    "\n",
    "$$ \n",
    "f(k, \\lambda) = \\frac{\\lambda^k}{k!} \\mathrm{e}^{-\\lambda}\n",
    "$$\n",
    "\n",
    "Funkcja wiarygodności:\n",
    "\n",
    "$$\n",
    "\\mathcal{L} = \\prod_{i=0}^{N} \\frac{\\lambda^{k_i}}{k_i!} \\mathrm{e}^{-\\lambda}\n",
    "$$\n",
    "\n",
    "Często łatwiej jest zoptymalizować logarytm $-\\log(\\mathcal{L})$, zobaczmy:\n",
    "\n",
    "$$\n",
    "-\\log(\\mathcal{L}) = - \\sum_{i=0}^{N}\\bigl( k_i \\log(\\lambda) - \\log{k_i!} - \\lambda \\bigr)\n",
    "$$\n",
    "\n",
    "Interesuje nas minimum związane z $\\lambda$, dlatego pomijamy stałe człony z nią niezwiązane\n",
    "$$\n",
    "-\\log(\\mathcal{L}) = \\sum_{i=0}^{N}\\bigl( \\lambda - k_i \\log(\\lambda) \\bigr)   \n",
    "$$\n",
    "\n",
    "Rzeczywiście łatwiej zoptymalizować taką funkcję."
   ]
  },
  {
   "cell_type": "code",
   "execution_count": null,
   "metadata": {
    "colab": {
     "base_uri": "https://localhost:8080/"
    },
    "executionInfo": {
     "elapsed": 621,
     "status": "ok",
     "timestamp": 1607103896249,
     "user": {
      "displayName": "Tomasz Różański",
      "photoUrl": "https://lh4.googleusercontent.com/-CdAQaQI9V1E/AAAAAAAAAAI/AAAAAAAAAvI/rnNPiSw4f80/s64/photo.jpg",
      "userId": "09904144145241711927"
     },
     "user_tz": -60
    },
    "id": "XquTkKjVYH5-",
    "outputId": "22b8880f-bf7b-46a9-ece6-610a690de98b"
   },
   "outputs": [],
   "source": [
    "def negative_log_likelihood(lambda_, k):\n",
    "    return np.sum(lambda_ - k * np.log(lambda_))\n",
    "\n",
    "result = minimize(\n",
    "    negative_log_likelihood,\n",
    "    x0=(10, ),   # rozwiązanie początkowe\n",
    "    args=(k, ),  # dodatkowe argumenty optymalizacji\n",
    ")\n",
    "\n",
    "result\n",
    "\n",
    "print('True λ = {}'.format(lambda_))\n",
    "print('Fit: λ = {:.2f} ± {:.2f}'.format(result.x[0], np.sqrt(result.hess_inv[0, 0])))"
   ]
  },
  {
   "cell_type": "markdown",
   "metadata": {
    "id": "lBeaEukmYH5-"
   },
   "source": [
    "* `minimize` posiada sporo opcji dla różnych alogorytmów optymalizacji\n",
    "* Dodatkowo może uwzględnić ogranicznie i warunki brzegowe (dla niektórych algorytmów)\n",
    "* Warto zapisać swoją funkcję do optymalizacji i uprościć ją poprzez zlogarytmowanie"
   ]
  },
  {
   "cell_type": "markdown",
   "metadata": {
    "id": "vwA1pRB4YH5-"
   },
   "source": [
    "<a id=exercise_2></a>\n",
    "### Ćwiczenie nr 2\n",
    "\n",
    "Zrób to samo, żeby oszacować parametry rozkładu gaussa.\n",
    "\n",
    "Wygeneruj próbkę z rozkładu normalnego z $\\mu = 10$ oraz $\\sigma = 6$\n",
    "\n",
    "PDF:\n",
    "\n",
    "$$\n",
    "f(x, \\mu, \\sigma) =  \\frac{1}{\\sqrt{2 \\pi}} \\mathrm{e}^{-0.5 \\frac{(x - \\mu)^2}{\\sigma^2}}\n",
    "$$\n",
    "\n",
    "Zoptymalizuj ujemną, zlogarytmowaną funkcję wiarygodności:\n",
    "\n",
    "$$\n",
    "-\\log(\\mathcal{L}) = -\\sum_{i = 0}^N \\log\\bigl( \\frac{1}{\\sqrt{2 \\pi}} \\mathrm{e}^{-0.5 \\frac{(x_i - \\mu)^2}{\\sigma^2}}  \\bigr)\n",
    "$$\n",
    "\n",
    "Możesz użyć funkcji `norm.rvs` oraz `norm.pdf` do utworzenia próbki i zdefniowania funkcji do optymalizacji."
   ]
  },
  {
   "cell_type": "code",
   "execution_count": null,
   "metadata": {
    "colab": {
     "base_uri": "https://localhost:8080/",
     "height": 539
    },
    "executionInfo": {
     "elapsed": 877,
     "status": "ok",
     "timestamp": 1607104009451,
     "user": {
      "displayName": "Tomasz Różański",
      "photoUrl": "https://lh4.googleusercontent.com/-CdAQaQI9V1E/AAAAAAAAAAI/AAAAAAAAAvI/rnNPiSw4f80/s64/photo.jpg",
      "userId": "09904144145241711927"
     },
     "user_tz": -60
    },
    "id": "YBvizLSBYH5-",
    "outputId": "87e7c172-76be-4062-9534-321225d76350"
   },
   "outputs": [],
   "source": [
    "from scipy.stats import norm\n",
    "\n",
    "mi = 10\n",
    "sig = 6\n",
    "x = norm.rvs(mi,sig,1000)\n",
    "y = norm.pdf(x,loc=mi,scale=sig)\n",
    "# trzeba użyć przedziałów wycentrowanych na liczbie całkowitej\n",
    "bin_edges = np.arange(-20, 40) - 0.5\n",
    "\n",
    "\n",
    "plt.hist(x, bins=bin_edges)\n",
    "# plt.figure()\n",
    "# plt.plot(x,y)\n",
    "\n",
    "def negative_log_likelihood(p, x):\n",
    "    mi,sig= p\n",
    "    return - np.sum(np.log(norm.pdf(x,loc=mi,scale=sig)))\n",
    "\n",
    "result = minimize(\n",
    "    negative_log_likelihood,\n",
    "    x0=(mi,sig, ),   # rozwiązanie początkowe\n",
    "    args=(x, ),  # dodatkowe argumenty do optymalizacji\n",
    "    # bounds = [\n",
    "    #   (None, None),\n",
    "    #   (0.0, np.inf)\n",
    "    # ],\n",
    ")\n",
    "\n",
    "result\n",
    "xx = np.linspace(-20, 40, 1000)\n",
    "plt.plot(xx, 1000*norm.pdf(xx,loc=result.x[0],scale=result.x[1]))\n",
    "\n",
    "hess_inv= result.hess_inv\n",
    "if not isinstance(hess_inv, np.ndarray):\n",
    "    hess_inv= hess_inv.todense()\n",
    "\n",
    "print('True mi = {} , sig = {}'.format(mi,sig))\n",
    "print('Fit: mi = {:.2f} ± {:.2f}'.format(result.x[0], np.sqrt(hess_inv[0, 0])))\n",
    "print('Fit: sig = {:.2f} ± {:.2f}'.format(result.x[1], np.sqrt(hess_inv[1, 1])))"
   ]
  },
  {
   "cell_type": "markdown",
   "metadata": {
    "id": "0T1GHM9VYH5-"
   },
   "source": [
    "<a id=fft></a>\n",
    "# Szybka Transformata Fouriera - Fast Fourier Transforms (FFTs)"
   ]
  },
  {
   "cell_type": "code",
   "execution_count": null,
   "metadata": {
    "executionInfo": {
     "elapsed": 658,
     "status": "ok",
     "timestamp": 1607104108185,
     "user": {
      "displayName": "Tomasz Różański",
      "photoUrl": "https://lh4.googleusercontent.com/-CdAQaQI9V1E/AAAAAAAAAAI/AAAAAAAAAvI/rnNPiSw4f80/s64/photo.jpg",
      "userId": "09904144145241711927"
     },
     "user_tz": -60
    },
    "id": "xYldKnJlYH5-"
   },
   "outputs": [],
   "source": [
    "freq1 = 4.9\n",
    "freq2 = 7.9\n",
    "N = 81001\n",
    "n_harm = 15\n",
    "t = np.linspace(1.2, 40.1, N)\n",
    "# y = 6.1*np.sin(2*np.pi*freq1*t) + 4.2*np.sin(2*np.pi*freq2*t)\n",
    "\n",
    "harms = np.linspace(1, n_harm, n_harm, endpoint=True)\n",
    "y = np.sum([2**(n_harm-i+1)*np.sin(2*np.pi*freq1*i*t)/(2**(n_harm))*101 for i in harms], axis=0)\n",
    "\n",
    "# dodaj szum\n",
    "noisy_y = y + np.random.normal(np.full_like(y, 0.), 5)"
   ]
  },
  {
   "cell_type": "code",
   "execution_count": null,
   "metadata": {
    "colab": {
     "base_uri": "https://localhost:8080/",
     "height": 509
    },
    "executionInfo": {
     "elapsed": 1556,
     "status": "ok",
     "timestamp": 1607104110504,
     "user": {
      "displayName": "Tomasz Różański",
      "photoUrl": "https://lh4.googleusercontent.com/-CdAQaQI9V1E/AAAAAAAAAAI/AAAAAAAAAvI/rnNPiSw4f80/s64/photo.jpg",
      "userId": "09904144145241711927"
     },
     "user_tz": -60
    },
    "id": "8FzfcT20YH5-",
    "outputId": "3793f521-76ec-49cb-e8f4-2d1efd74f4f8"
   },
   "outputs": [],
   "source": [
    "# %matplotlib inline\n",
    "plt.scatter(t, noisy_y, s=10, alpha=0.25, lw=0)\n",
    "plt.plot(t, y, c='k')\n",
    "plt.xlim(1.2, 1.2+3*(1/freq1))\n",
    "plt.xlabel(r'$t \\ \\ [\\mathrm{d}]$')"
   ]
  },
  {
   "cell_type": "code",
   "execution_count": null,
   "metadata": {
    "executionInfo": {
     "elapsed": 692,
     "status": "ok",
     "timestamp": 1607104120733,
     "user": {
      "displayName": "Tomasz Różański",
      "photoUrl": "https://lh4.googleusercontent.com/-CdAQaQI9V1E/AAAAAAAAAAI/AAAAAAAAAvI/rnNPiSw4f80/s64/photo.jpg",
      "userId": "09904144145241711927"
     },
     "user_tz": -60
    },
    "id": "OTtaqXcZYH5-"
   },
   "outputs": [],
   "source": [
    "from scipy import fft"
   ]
  },
  {
   "cell_type": "code",
   "execution_count": null,
   "metadata": {},
   "outputs": [],
   "source": [
    "krok = 1/(10*(t[-1]-t[0]))\n",
    "nyq = 1/(2*(t[1]-t[0]))\n",
    "size = int(nyq/krok)*2\n",
    "\n",
    "print(N, nyq, krok, size)"
   ]
  },
  {
   "cell_type": "code",
   "execution_count": null,
   "metadata": {
    "colab": {
     "base_uri": "https://localhost:8080/",
     "height": 525
    },
    "executionInfo": {
     "elapsed": 1634,
     "status": "ok",
     "timestamp": 1607104122300,
     "user": {
      "displayName": "Tomasz Różański",
      "photoUrl": "https://lh4.googleusercontent.com/-CdAQaQI9V1E/AAAAAAAAAAI/AAAAAAAAAvI/rnNPiSw4f80/s64/photo.jpg",
      "userId": "09904144145241711927"
     },
     "user_tz": -60
    },
    "id": "6yBD6h0kYH5-",
    "outputId": "f563db20-56a5-411a-fa4a-219877245e97"
   },
   "outputs": [],
   "source": [
    "# %matplotlib inline\n",
    "\n",
    "z = fft.fft(noisy_y, size)\n",
    "f = fft.fftfreq(size, t[1] - t[0])\n",
    "\n",
    "z = fft.fft(noisy_y, size)\n",
    "f = fft.fftfreq(size, t[1] - t[0])\n",
    "\n",
    "# plt.axvline(freq1, color='lightgray', lw=5)\n",
    "# plt.axvline(freq2, color='lightgray', lw=5)\n",
    "[plt.axvline(i*freq1, color='lightgray', lw=5) for i in harms]\n",
    "\n",
    "# plt.xlim(0,20)\n",
    "plt.xlim(0,(n_harm+1)*freq1)\n",
    "plt.plot(f, 2/N*np.abs(z), lw=1.5) #np.abs(z)**2\n",
    "plt.xlabel('frequency [$d^{-1}$]')\n",
    "plt.ylabel('Amplitude [$mmag$]')\n",
    "# plt.xscale('log')\n",
    "# plt.yscale('log')"
   ]
  },
  {
   "cell_type": "code",
   "execution_count": null,
   "metadata": {},
   "outputs": [],
   "source": [
    "# %matplotlib notebook\n",
    "n_ph = 2\n",
    "phases = (np.tile(t%(1/freq1)/(1/freq1), (n_ph,1)).T+np.arange(n_ph)).T\n",
    "\n",
    "plt.plot(phases.flatten(), np.tile(noisy_y, n_ph), 'ob', ms=1)\n",
    "# plt.plot(t%(1/freq2)/(1/freq2),noisy_y, 'or', ms=1)"
   ]
  },
  {
   "cell_type": "markdown",
   "metadata": {
    "id": "-0vgGyxVYH5-"
   },
   "source": [
    "<a id=integration></a>\n",
    "# Całkowanie\n",
    "\n",
    "O różnych metodach całkowania można poczytać w dokumentacji [Scipy documentation](https://docs.scipy.org/doc/scipy/reference/tutorial/integrate.html)."
   ]
  },
  {
   "cell_type": "markdown",
   "metadata": {
    "id": "rOIRjkQcYH5-"
   },
   "source": [
    "<a id=function_integration></a>\n",
    "## Całkowanie funkcji\n",
    "\n",
    "`quad` używane do skończonych 1D całek numerycznych używając procedury napisanej w języku Fortran z biblioteki QUADPACK.\n",
    "\n",
    "Przykład:\n",
    "Zdefiniujmy funkcję do całkowania jako wielomian kwadratowy $f(x) = 3x^2 + 6x - 9$ na przedziale $x \\in [0, 5]$. Analitycznie to:\n",
    "\n",
    "$$ \\int_0^5 3x^2 + 6x - 9 \\ dx = \\left[ x^3 + 3x^2 - 9x \\right]_{x = 0}^{x = 5} = 155 $$"
   ]
  },
  {
   "cell_type": "code",
   "execution_count": null,
   "metadata": {
    "colab": {
     "base_uri": "https://localhost:8080/"
    },
    "executionInfo": {
     "elapsed": 596,
     "status": "ok",
     "timestamp": 1607104232502,
     "user": {
      "displayName": "Tomasz Różański",
      "photoUrl": "https://lh4.googleusercontent.com/-CdAQaQI9V1E/AAAAAAAAAAI/AAAAAAAAAvI/rnNPiSw4f80/s64/photo.jpg",
      "userId": "09904144145241711927"
     },
     "user_tz": -60
    },
    "id": "6yg0KLc9YH5-",
    "outputId": "eaa749dd-e07b-4c10-a767-d1f969e82b84"
   },
   "outputs": [],
   "source": [
    "from scipy.integrate import quad\n",
    "\n",
    "def f(x):\n",
    "    return 3*x**2 + 6*x - 9\n",
    "\n",
    "quad(f, 0, 5)"
   ]
  },
  {
   "cell_type": "markdown",
   "metadata": {
    "id": "UWbIo1B6YH5_"
   },
   "source": [
    "Pierwszy zwracany parametr funkcji `quad` to wynik; drugi jest oszacowaniem błędu.\n",
    "\n",
    "Dla 2D, 3D, oraz n-D całek , można użyć odpowiednio `dblquad`, `tplquad`, lub `nquad`."
   ]
  },
  {
   "cell_type": "markdown",
   "metadata": {
    "id": "ZRpnjMaUYH5_"
   },
   "source": [
    "Inne metody całkowania dostępne w Scipy:\n",
    "* `quadrature` : [Gaussian quadrature](https://en.wikipedia.org/wiki/Gaussian_quadrature)\n",
    "* `romberg` : [Romberg integration](https://en.wikipedia.org/wiki/Romberg%27s_method)\n",
    "\n",
    "Na przykład, weźmy funkcję $\\mathrm{sinc}$:\n",
    "\n",
    "$$\n",
    "\\mathrm{sinc}(x) \\equiv\n",
    "\\begin{cases} \n",
    "1 & x = 0 \\\\\n",
    "\\sin(x)/x & \\mathrm{otherwise}\n",
    "\\end{cases}\n",
    "$$"
   ]
  },
  {
   "cell_type": "code",
   "execution_count": null,
   "metadata": {
    "colab": {
     "base_uri": "https://localhost:8080/",
     "height": 526
    },
    "executionInfo": {
     "elapsed": 914,
     "status": "ok",
     "timestamp": 1607104251437,
     "user": {
      "displayName": "Tomasz Różański",
      "photoUrl": "https://lh4.googleusercontent.com/-CdAQaQI9V1E/AAAAAAAAAAI/AAAAAAAAAvI/rnNPiSw4f80/s64/photo.jpg",
      "userId": "09904144145241711927"
     },
     "user_tz": -60
    },
    "id": "afQhz5WaYH5_",
    "outputId": "85e8206d-8595-4f90-b4ae-e8b4eaf3056d"
   },
   "outputs": [],
   "source": [
    "# %matplotlib notebook\n",
    "x = np.linspace(-10, 10, 1000)\n",
    "y = np.sinc(x)\n",
    "plt.plot(x, y)\n",
    "plt.title('Sinc Function')\n",
    "\n",
    "res = quad(np.sinc, -10, 10)\n",
    "\n",
    "plt.text(-10, 0.8, r'$ \\int_{{-10}}^{{10}} \\mathrm{{sinc}}(x) \\ dx = {result:.4f}$ ?'.format(result=res[0]))"
   ]
  },
  {
   "cell_type": "markdown",
   "metadata": {
    "id": "Kp-7OzpzYH5_"
   },
   "source": [
    "Również można to samo policzyć z Kwadratury Gaussa:"
   ]
  },
  {
   "cell_type": "code",
   "execution_count": null,
   "metadata": {
    "colab": {
     "base_uri": "https://localhost:8080/"
    },
    "executionInfo": {
     "elapsed": 876,
     "status": "ok",
     "timestamp": 1607104261622,
     "user": {
      "displayName": "Tomasz Różański",
      "photoUrl": "https://lh4.googleusercontent.com/-CdAQaQI9V1E/AAAAAAAAAAI/AAAAAAAAAvI/rnNPiSw4f80/s64/photo.jpg",
      "userId": "09904144145241711927"
     },
     "user_tz": -60
    },
    "id": "JLVHXu9EYH5_",
    "outputId": "b0d95f2c-4295-42ad-f220-f2df04088930"
   },
   "outputs": [],
   "source": [
    "from scipy.integrate import quadrature\n",
    "\n",
    "print(quadrature(np.sinc, -10, 10)[0])"
   ]
  },
  {
   "cell_type": "markdown",
   "metadata": {
    "id": "ClCUroklYH5_"
   },
   "source": [
    "<a id=sampleintegration></a>\n",
    "## Całkowanie próbki"
   ]
  },
  {
   "cell_type": "markdown",
   "metadata": {
    "id": "Q5fFl8AWYH5_"
   },
   "source": [
    "Można użyć [funkcji interpolującej](#interpolation) i przekazać do funkcji `quad`. Lepszą alternatywą jest użycie specjalnych funkcji: `trapz`, `romb`, and `simps`."
   ]
  },
  {
   "cell_type": "markdown",
   "metadata": {
    "id": "O3WqNVnSYH5_"
   },
   "source": [
    "Rozważmy znów funkcję $\\mathrm{sinc}$. Najprostszą ale też dobrą metodą całkowania jest metoda trapezów: `trapz`:"
   ]
  },
  {
   "cell_type": "code",
   "execution_count": null,
   "metadata": {
    "colab": {
     "base_uri": "https://localhost:8080/"
    },
    "executionInfo": {
     "elapsed": 597,
     "status": "ok",
     "timestamp": 1607104311975,
     "user": {
      "displayName": "Tomasz Różański",
      "photoUrl": "https://lh4.googleusercontent.com/-CdAQaQI9V1E/AAAAAAAAAAI/AAAAAAAAAvI/rnNPiSw4f80/s64/photo.jpg",
      "userId": "09904144145241711927"
     },
     "user_tz": -60
    },
    "id": "p3fHzyghYH5_",
    "outputId": "49100a22-59c4-4be9-d2ce-9db86f246ca9"
   },
   "outputs": [],
   "source": [
    "from scipy.integrate import trapz\n",
    "\n",
    "# 50 punktów\n",
    "x = np.linspace(-10, 10)\n",
    "y = np.sinc(x)\n",
    "print('  50 points:', trapz(y, x))   # najpierw y, potem x: y, x\n",
    "\n",
    "# 1000 punktów\n",
    "x = np.linspace(-10, 10, 1000)\n",
    "y = np.sinc(x)\n",
    "print('1000 points:', trapz(y, x))"
   ]
  },
  {
   "cell_type": "markdown",
   "metadata": {
    "id": "IRI0VOihYH5_"
   },
   "source": [
    "<a id=exercise_3></a>\n",
    "### Ćwiczenie nr 3\n",
    "\n",
    "Zastosuj funkcję `trapz` do obliczenia całki:\n",
    "\n",
    "$$\n",
    "\\int_{-4}^{4} \\sqrt[3]{(1 - x^3)} dx\n",
    "$$\n",
    "\n",
    "**Wskazówka** użyj funkcji `np.cbrt`"
   ]
  },
  {
   "cell_type": "code",
   "execution_count": null,
   "metadata": {
    "colab": {
     "base_uri": "https://localhost:8080/",
     "height": 573
    },
    "executionInfo": {
     "elapsed": 876,
     "status": "ok",
     "timestamp": 1607104364404,
     "user": {
      "displayName": "Tomasz Różański",
      "photoUrl": "https://lh4.googleusercontent.com/-CdAQaQI9V1E/AAAAAAAAAAI/AAAAAAAAAvI/rnNPiSw4f80/s64/photo.jpg",
      "userId": "09904144145241711927"
     },
     "user_tz": -60
    },
    "id": "B9Z98ewWYH5_",
    "outputId": "3cd1a18f-4b27-4caf-feae-5c1f791b262c"
   },
   "outputs": [],
   "source": [
    "# %matplotlib notebook\n",
    "from scipy.integrate import quadrature\n",
    "from scipy.integrate import trapz\n",
    "\n",
    "# f = lambda x: np.cbrt(1-np.power(x,3))\n",
    "\n",
    "def f(x):\n",
    "   return np.cbrt(1-np.power(x,3))\n",
    "\n",
    "print(quadrature(f, -4, 4))\n",
    "\n",
    "x = np.linspace(-4, 4,1000)\n",
    "y = f(x)\n",
    "\n",
    "print(trapz(y,x))\n",
    "plt.plot(x,y, 'ok', ms=3, alpha=0.7)"
   ]
  },
  {
   "cell_type": "markdown",
   "metadata": {
    "id": "De9R_6HXYH5_"
   },
   "source": [
    "### <a id=interpolation></a>\n",
    "# Interpolacja"
   ]
  },
  {
   "cell_type": "markdown",
   "metadata": {
    "id": "zZDsi8u1YH5_"
   },
   "source": [
    "<a id=linear_interpolation></a>\n",
    "## Interpolacja liniowa"
   ]
  },
  {
   "cell_type": "markdown",
   "metadata": {
    "id": "YJafOX2WYH5_"
   },
   "source": [
    "Interpolację pomiędzy dwoma punktami $(x_0, y_0)$ i $(x_1, y_1)$ można wykonać wg. następującego wzoru:\n",
    "\n",
    "$$y(x) = y_0 + (x - x_0) \\frac{y_1 - y_0}{x_1 - x_0}$$\n",
    "\n",
    "Wydaje się proste, ale uciążliwe. Dodatkowo, co w przypadku gdy chcemy aby argumenty mniejsze od $x_0$ miały wartość $y_0$ i analogicznie dla argumentów większych od $x_1$? Należy zastosować `if`-y i uwzględnić inne przypadki.\n",
    "\n",
    "Zamiast tego, możemy skorzystać z prostej funkcji z modułu `scipy.interpolate` - `interp1d`."
   ]
  },
  {
   "cell_type": "code",
   "execution_count": null,
   "metadata": {
    "colab": {
     "base_uri": "https://localhost:8080/"
    },
    "executionInfo": {
     "elapsed": 851,
     "status": "ok",
     "timestamp": 1607104454217,
     "user": {
      "displayName": "Tomasz Różański",
      "photoUrl": "https://lh4.googleusercontent.com/-CdAQaQI9V1E/AAAAAAAAAAI/AAAAAAAAAvI/rnNPiSw4f80/s64/photo.jpg",
      "userId": "09904144145241711927"
     },
     "user_tz": -60
    },
    "id": "IrsmkxneYH5_",
    "outputId": "56f9991f-bffa-4935-e928-bce029bdc2bc"
   },
   "outputs": [],
   "source": [
    "from scipy.interpolate import interp1d\n",
    "\n",
    "x = (1, 2)\n",
    "y = (5, 7)\n",
    "print('Points:', list(zip(x, y)))\n",
    "\n",
    "f = interp1d(x, y)\n",
    "z = [1.25, 1.5, 1.75]\n",
    "print('Interpolation:', list(zip(z, f(z))))"
   ]
  },
  {
   "cell_type": "code",
   "execution_count": null,
   "metadata": {
    "colab": {
     "base_uri": "https://localhost:8080/",
     "height": 505
    },
    "executionInfo": {
     "elapsed": 899,
     "status": "ok",
     "timestamp": 1607104586643,
     "user": {
      "displayName": "Tomasz Różański",
      "photoUrl": "https://lh4.googleusercontent.com/-CdAQaQI9V1E/AAAAAAAAAAI/AAAAAAAAAvI/rnNPiSw4f80/s64/photo.jpg",
      "userId": "09904144145241711927"
     },
     "user_tz": -60
    },
    "id": "xGYuOdBf5HNd",
    "outputId": "37ef0cd2-384d-43f1-83ef-4f764cc07651"
   },
   "outputs": [],
   "source": [
    "plt.scatter(x, y)\n",
    "plt.scatter(z, f(z))"
   ]
  },
  {
   "cell_type": "markdown",
   "metadata": {
    "id": "IxbAJ5UgYH5_"
   },
   "source": [
    "W tej chwili, jeśli spróbujemy użyć wpółrzędnej x poza przedziałem $[x_0, x_1]$, podniesiony zostanie błąd `ValueError`:"
   ]
  },
  {
   "cell_type": "code",
   "execution_count": null,
   "metadata": {
    "executionInfo": {
     "elapsed": 609,
     "status": "ok",
     "timestamp": 1607104618641,
     "user": {
      "displayName": "Tomasz Różański",
      "photoUrl": "https://lh4.googleusercontent.com/-CdAQaQI9V1E/AAAAAAAAAAI/AAAAAAAAAvI/rnNPiSw4f80/s64/photo.jpg",
      "userId": "09904144145241711927"
     },
     "user_tz": -60
    },
    "id": "lRku4KJGYH5_"
   },
   "outputs": [],
   "source": [
    "# f(2.5)   # odkomentuj"
   ]
  },
  {
   "cell_type": "markdown",
   "metadata": {
    "id": "CL5sliU1YH5_"
   },
   "source": [
    "To dlatego, że nie wskazaliśmy `interp1d` jak ma sobie poradzić z granicami. Służy do tego argument `fill_value` i posiada kilka opcji:\n",
    "\n",
    "1. Wartości poza przedziałem $[x_0, x_1]$ będą typu `float`.\n",
    "2. Wartości $< x_0$ do `below` i wartości $> x_1$ do `above` przekazując krotkę, `(below, above)`.\n",
    "3. Extrapolacja punktów poza przedział przekazując `extrapolate`.\n",
    "\n",
    "Dodatkowo musimy powiedzieć `interp1d`, żeby nie podniósł błędu `ValueError` przypisując argumentowi `bounds_error` wartość `False`."
   ]
  },
  {
   "cell_type": "code",
   "execution_count": null,
   "metadata": {
    "colab": {
     "base_uri": "https://localhost:8080/"
    },
    "executionInfo": {
     "elapsed": 613,
     "status": "ok",
     "timestamp": 1607104626966,
     "user": {
      "displayName": "Tomasz Różański",
      "photoUrl": "https://lh4.googleusercontent.com/-CdAQaQI9V1E/AAAAAAAAAAI/AAAAAAAAAvI/rnNPiSw4f80/s64/photo.jpg",
      "userId": "09904144145241711927"
     },
     "user_tz": -60
    },
    "id": "1gIdftf9YH5_",
    "outputId": "4bb0733f-661b-457a-d8aa-00f28af4a8da"
   },
   "outputs": [],
   "source": [
    "z = [0.5, 1, 1.5, 2, 2.5]\n",
    "\n",
    "f_a = interp1d(x, y, bounds_error=False, fill_value=0)   # wypełnij tę samą wartością z obu stron\n",
    "print(\"Opcja nr 1:\", list(zip(z, f(z))))\n",
    "\n",
    "f_b = interp1d(x, y, bounds_error=False, fill_value=y)   # wypełnij wartością (below, above)\n",
    "print(\"Opcja nr 2:\", list(zip(z, f(z))))\n",
    "\n",
    "f_c = interp1d(x, y, fill_value='extrapolate')   # ekstrapolacja, gdzie bounds_error automatycznie ma wartość False\n",
    "print(\"Opcja nr 3:\", list(zip(z, f(z))))"
   ]
  },
  {
   "cell_type": "code",
   "execution_count": null,
   "metadata": {},
   "outputs": [],
   "source": [
    "plt.scatter(z, f_c(z))\n",
    "plt.scatter(x, y)"
   ]
  },
  {
   "cell_type": "markdown",
   "metadata": {
    "id": "HspQK2PQYH5_"
   },
   "source": [
    "<a id=spline_interpolation></a>\n",
    "## Interpolacja wielomianem sklejanym 3-go stopnia"
   ]
  },
  {
   "cell_type": "markdown",
   "metadata": {
    "id": "eqrErBZ-YH5_"
   },
   "source": [
    "[Cubic splines](http://mathworld.wolfram.com/CubicSpline.html) najczęściej używane w przypadku gładkiej interpolacji pomiędzy punktami.\n",
    "\n",
    "Jest na tyle popularne, że posiada własną implementację, `CubicSpline` - z reguły daje lepsze wyniki."
   ]
  },
  {
   "cell_type": "code",
   "execution_count": null,
   "metadata": {
    "colab": {
     "base_uri": "https://localhost:8080/",
     "height": 488
    },
    "executionInfo": {
     "elapsed": 1224,
     "status": "ok",
     "timestamp": 1607104671880,
     "user": {
      "displayName": "Tomasz Różański",
      "photoUrl": "https://lh4.googleusercontent.com/-CdAQaQI9V1E/AAAAAAAAAAI/AAAAAAAAAvI/rnNPiSw4f80/s64/photo.jpg",
      "userId": "09904144145241711927"
     },
     "user_tz": -60
    },
    "id": "jEPj9H9EYH5_",
    "outputId": "09bc8e24-0d28-4f7e-ca0c-e3a9b1aff72e"
   },
   "outputs": [],
   "source": [
    "from scipy.interpolate import CubicSpline\n",
    "from scipy.interpolate import interp1d\n",
    "\n",
    "# Tworzymy próbkę sinus-ów\n",
    "sample_x = np.linspace(-np.pi, np.pi, 5)\n",
    "sample_y = np.sin(sample_x)\n",
    "\n",
    "# rysujemy Sinus\n",
    "z = np.linspace(np.min(sample_x), np.max(sample_x), 100)\n",
    "plt.plot(z, np.sin(z), label='real')\n",
    "\n",
    "# interpolacja 1D\n",
    "f1 = interp1d(sample_x, sample_y)\n",
    "plt.plot(z, f1(z), label='interp1d')\n",
    "\n",
    "# wielomian sklejany 3-go stopnia\n",
    "f2 = CubicSpline(sample_x, sample_y)\n",
    "plt.plot(z, f2(z), label='CubicSpline')\n",
    "\n",
    "plt.plot(sample_x, sample_y, 'ko')\n",
    "plt.legend();\n",
    "plt.grid(linestyle='--');"
   ]
  },
  {
   "cell_type": "code",
   "execution_count": null,
   "metadata": {},
   "outputs": [],
   "source": [
    "plt.plot(z, f1(z)-np.sin(z), label='interp1d residuals', color='orange')\n",
    "plt.plot(z, f2(z)-np.sin(z), label='CubicSpline residuals', color='green')\n",
    "plt.legend();\n",
    "plt.grid(linestyle='--');"
   ]
  },
  {
   "cell_type": "markdown",
   "metadata": {
    "id": "leMf7lSMYH5_"
   },
   "source": [
    "Możliwa jes także interpolacja na dwu i więcej wymiarowych przestrzeniach (z pewnymi ograniczeniami).\n",
    "Zobacz [dokumentację dot. interpolacji](https://docs.scipy.org/doc/scipy/reference/interpolate.html#module-scipy.interpolate)"
   ]
  },
  {
   "cell_type": "markdown",
   "metadata": {
    "id": "pwXRq-9uYH5_"
   },
   "source": [
    "<a id=exercise_4></a>\n",
    "## Ćwiczenie nr 4\n",
    "\n",
    "Wykonaj interpolację funkcji $sinc$:\n",
    "* dwie próbki: 10 punktów i 100 punktów\n",
    "* interpolacja liniowa i wielomianem sklejanym 3-go stopnia\n",
    "* na przedziale [-10, 10]"
   ]
  },
  {
   "cell_type": "markdown",
   "metadata": {
    "id": "2GwFUDdzYH5_"
   },
   "source": [
    "<a id=stats></a>\n",
    "# Statystyki\n",
    "\n",
    "Moduł `scipy.stats` dostarcza głównie:\n",
    "* rozkłady prawdopodobieństwa: ciągłe, dyskretne i wielowymiarowe\n",
    "* funkcje statystyczne oraz testy\n",
    "\n",
    "Więcej można poczytać w dokumentacji [dokumentacja modułu `stats`](https://docs.scipy.org/doc/scipy/reference/stats.html)"
   ]
  },
  {
   "cell_type": "code",
   "execution_count": null,
   "metadata": {
    "executionInfo": {
     "elapsed": 796,
     "status": "ok",
     "timestamp": 1607104976354,
     "user": {
      "displayName": "Tomasz Różański",
      "photoUrl": "https://lh4.googleusercontent.com/-CdAQaQI9V1E/AAAAAAAAAAI/AAAAAAAAAvI/rnNPiSw4f80/s64/photo.jpg",
      "userId": "09904144145241711927"
     },
     "user_tz": -60
    },
    "id": "Wy4OFikMYH5_"
   },
   "outputs": [],
   "source": [
    "from scipy import stats"
   ]
  },
  {
   "cell_type": "markdown",
   "metadata": {
    "id": "fnRaBe5eYH5_"
   },
   "source": [
    "<a id=stats_distributions></a>\n",
    "## Rozkłady prawdopodobieństwa\n",
    "\n",
    "Są trzy rodzaje rozkładów prawdopodobieństwa\n",
    "* Continuous\n",
    "* Discrete\n",
    "* Multivariate\n",
    "\n",
    "Każdy z nich ma pochodzi z tej samej klasy, więc mają te same metody."
   ]
  },
  {
   "cell_type": "markdown",
   "metadata": {
    "id": "_REr0vWgYH5_"
   },
   "source": [
    "<a id=continuous_distributions></a>\n",
    "### Rozkłady ciągłe\n",
    "\n",
    "Jest ~100 różnych ciągłych rozkładów prawdopodobieństwa. Niektóre metody, które można do nich zastosować to:\n",
    "* `cdf`: Dystrybuanta (Cumulative Distribution Function)\n",
    "* `pdf`: Funkcja gęstości prawdopodobieństwa (Probability Density Function)\n",
    "* `rvs`: Losowa próbka danych (Random Variable Sample)\n",
    "* `ppf`: Odwrotna dystrybuanta (Percent Point Function)\n",
    "* `fit`: zwraca estymatory z MNW:  lokalizacja, skala i rozmiar"
   ]
  },
  {
   "cell_type": "code",
   "execution_count": null,
   "metadata": {
    "colab": {
     "base_uri": "https://localhost:8080/",
     "height": 545
    },
    "executionInfo": {
     "elapsed": 909,
     "status": "ok",
     "timestamp": 1607105100154,
     "user": {
      "displayName": "Tomasz Różański",
      "photoUrl": "https://lh4.googleusercontent.com/-CdAQaQI9V1E/AAAAAAAAAAI/AAAAAAAAAvI/rnNPiSw4f80/s64/photo.jpg",
      "userId": "09904144145241711927"
     },
     "user_tz": -60
    },
    "id": "tGRfUIP0YH5_",
    "outputId": "cf3e6cc9-b3b9-4244-cb26-28436d6c98ca"
   },
   "outputs": [],
   "source": [
    "std_normal = stats.norm()\n",
    "\n",
    "x = np.linspace(-3, 3, 100)\n",
    "plt.plot(x, std_normal.pdf(x))\n",
    "plt.title('Standard Normal - Probability Density Function')\n",
    "plt.xlabel('x')\n",
    "plt.ylabel(r'$ f(x) =  \\frac{1}{\\sqrt{2 \\pi}} \\mathrm{e}^{-\\frac{1}{2} x^2}}$')"
   ]
  },
  {
   "cell_type": "code",
   "execution_count": null,
   "metadata": {
    "colab": {
     "base_uri": "https://localhost:8080/",
     "height": 545
    },
    "executionInfo": {
     "elapsed": 935,
     "status": "ok",
     "timestamp": 1607105103965,
     "user": {
      "displayName": "Tomasz Różański",
      "photoUrl": "https://lh4.googleusercontent.com/-CdAQaQI9V1E/AAAAAAAAAAI/AAAAAAAAAvI/rnNPiSw4f80/s64/photo.jpg",
      "userId": "09904144145241711927"
     },
     "user_tz": -60
    },
    "id": "wKrvO2-gYH5_",
    "outputId": "412791b3-69c2-4e54-93e5-4cc25fdac853"
   },
   "outputs": [],
   "source": [
    "plt.plot(x, std_normal.cdf(x))\n",
    "plt.title('Standard Normal - Cumulative Distribution Function')\n",
    "plt.xlabel('x')\n",
    "plt.ylabel(r'$ F(x) =  \\frac{1}{\\sqrt{2 \\pi}} \\int_{-\\infty}^{x}\\mathrm{e}^{-\\frac{1}{2} x^2}}$')"
   ]
  },
  {
   "cell_type": "code",
   "execution_count": null,
   "metadata": {
    "colab": {
     "base_uri": "https://localhost:8080/",
     "height": 545
    },
    "executionInfo": {
     "elapsed": 1018,
     "status": "ok",
     "timestamp": 1607105176539,
     "user": {
      "displayName": "Tomasz Różański",
      "photoUrl": "https://lh4.googleusercontent.com/-CdAQaQI9V1E/AAAAAAAAAAI/AAAAAAAAAvI/rnNPiSw4f80/s64/photo.jpg",
      "userId": "09904144145241711927"
     },
     "user_tz": -60
    },
    "id": "xgf9lLIWYH5_",
    "outputId": "68dc2f93-48d9-4803-886b-1c9f9f22cb7e"
   },
   "outputs": [],
   "source": [
    "x_sample = std_normal.rvs(1000)\n",
    "hist_result = plt.hist(x_sample, range=[-3, 3], bins=100, density=True)\n",
    "x_plot = np.linspace(-3, 3, 100)\n",
    "plt.plot(x_plot, std_normal.pdf(x_plot))\n",
    "plt.title('Standard Normal - Random Sample')\n",
    "plt.xlabel('x')"
   ]
  },
  {
   "cell_type": "code",
   "execution_count": null,
   "metadata": {
    "colab": {
     "base_uri": "https://localhost:8080/"
    },
    "executionInfo": {
     "elapsed": 688,
     "status": "ok",
     "timestamp": 1607105183336,
     "user": {
      "displayName": "Tomasz Różański",
      "photoUrl": "https://lh4.googleusercontent.com/-CdAQaQI9V1E/AAAAAAAAAAI/AAAAAAAAAvI/rnNPiSw4f80/s64/photo.jpg",
      "userId": "09904144145241711927"
     },
     "user_tz": -60
    },
    "id": "x2KcGhDmYH5_",
    "outputId": "3a266e43-9144-4541-9d60-9aaa3c994414"
   },
   "outputs": [],
   "source": [
    "# Estymatory średniej i ochylenia standardowego\n",
    "stats.norm.fit(x_sample)"
   ]
  },
  {
   "cell_type": "code",
   "execution_count": null,
   "metadata": {
    "colab": {
     "base_uri": "https://localhost:8080/",
     "height": 618
    },
    "executionInfo": {
     "elapsed": 2546,
     "status": "ok",
     "timestamp": 1607105398891,
     "user": {
      "displayName": "Tomasz Różański",
      "photoUrl": "https://lh4.googleusercontent.com/-CdAQaQI9V1E/AAAAAAAAAAI/AAAAAAAAAvI/rnNPiSw4f80/s64/photo.jpg",
      "userId": "09904144145241711927"
     },
     "user_tz": -60
    },
    "id": "8UYuA4lFYH5_",
    "outputId": "28b06690-d554-4c94-e1f7-586ce21cc1a5"
   },
   "outputs": [],
   "source": [
    "N_SAMPLES = 1000\n",
    "\n",
    "# Nazwa rozkładu, klasa, zakres wartości do narysowania\n",
    "pds = [('Normal', stats.norm(), (-4., 4.)), \n",
    "      ('LogNormal', stats.lognorm(1.), (0., 4.)),\n",
    "      ('Students T', stats.t(3.), (-10., 10.)),\n",
    "      ('Chi Squared', stats.chi2(1.), (0., 10.))]\n",
    "\n",
    "n_pds = len(pds)\n",
    "fig, ax_list = plt.subplots(n_pds, 3, figsize=(5.*n_pds, 10.))\n",
    "for ind, elem in enumerate(pds):\n",
    "    \n",
    "    pd_name, pd_func, pd_range = elem\n",
    "\n",
    "    x_range = np.linspace(*pd_range, num=101)\n",
    "    \n",
    "    # Funkcja gęstości prawdopodobieństwa\n",
    "    ax_list[ind, 0].plot(x_range, pd_func.pdf(x_range))\n",
    "    ax_list[ind, 0].set_ylabel(pd_name)\n",
    "    \n",
    "    # Dystrybuanta\n",
    "    ax_list[ind, 1].plot(x_range, pd_func.cdf(x_range))\n",
    "    ax_list[ind, 1].fill_between(x_range, pd_func.cdf(x_range))\n",
    "    ax_list[ind, 1].set_ylim([0., 1.])\n",
    "    \n",
    "    # losowa próbka\n",
    "    ax_list[ind, 2].hist(pd_func.rvs(size=N_SAMPLES), bins=50)\n",
    "    \n",
    "    if ind == 0:\n",
    "        _ = ax_list[ind, 0].set_title('Probability Density Function')\n",
    "        _ = ax_list[ind, 1].set_title('Cumulative Distribution Function')\n",
    "        _ = ax_list[ind, 2].set_title('Random Sample')"
   ]
  },
  {
   "cell_type": "markdown",
   "metadata": {
    "id": "VVu70BCPYH5_"
   },
   "source": [
    "<a id=discrete_distributions></a>\n",
    "### Rozkłady dyskretne\n",
    "Prawie to samo, zamiast `pdf` jest `pmf`= Probability Mass Function"
   ]
  },
  {
   "cell_type": "code",
   "execution_count": null,
   "metadata": {
    "colab": {
     "base_uri": "https://localhost:8080/",
     "height": 572
    },
    "executionInfo": {
     "elapsed": 2164,
     "status": "ok",
     "timestamp": 1607105588693,
     "user": {
      "displayName": "Tomasz Różański",
      "photoUrl": "https://lh4.googleusercontent.com/-CdAQaQI9V1E/AAAAAAAAAAI/AAAAAAAAAvI/rnNPiSw4f80/s64/photo.jpg",
      "userId": "09904144145241711927"
     },
     "user_tz": -60
    },
    "id": "LljmT4cVYH5_",
    "outputId": "bca6612d-8d98-42a3-df56-55b1f416b118"
   },
   "outputs": [],
   "source": [
    "N_SAMPLES = 1000\n",
    "\n",
    "pds = [('Binomial', stats.binom(20, 0.7), (0., 21.)),\n",
    "      ('Poisson', stats.poisson(10.), (0., 21.))]\n",
    "\n",
    "n_pds = len(pds)\n",
    "fig, ax_list = plt.subplots(n_pds, 3)\n",
    "fig.set_size_inches((8.*n_pds, 8.))\n",
    "for ind, elem in enumerate(pds):\n",
    "    \n",
    "    pd_name, pd_func, pd_range = elem\n",
    "\n",
    "    x_range = np.arange(*pd_range)\n",
    "    x_range_cdf = np.arange(*pd_range,0.1)\n",
    "\n",
    "    # Funkcja masy prawdopodobieństwa\n",
    "    ax_list[ind, 0].bar(x_range, pd_func.pmf(x_range))\n",
    "    ax_list[ind, 0].set_ylabel(pd_name)\n",
    "    \n",
    "    # Dystrybuanta\n",
    "    ax_list[ind, 1].plot(x_range_cdf, pd_func.cdf(x_range_cdf))\n",
    "    ax_list[ind, 1].fill_between(x_range_cdf, pd_func.cdf(x_range_cdf))\n",
    "    ax_list[ind, 1].set_ylim([0., 1.])\n",
    "    \n",
    "    # losowa próbka\n",
    "    ax_list[ind, 2].hist(pd_func.rvs(size=N_SAMPLES), bins=x_range - 0.5)\n",
    "    \n",
    "    if ind == 0:\n",
    "        _ = ax_list[ind, 0].set_title('Probability Mass Function')\n",
    "        _ = ax_list[ind, 1].set_title('Cumulative Distribution Function')\n",
    "        _ = ax_list[ind, 2].set_title('Random Sample')\n",
    "        \n",
    "plt.tight_layout()"
   ]
  },
  {
   "cell_type": "markdown",
   "metadata": {
    "id": "HsxT4FWpYH6A"
   },
   "source": [
    "<a id=multivariate_distributions></a>\n",
    "### Rozkłady wielowymiarowe"
   ]
  },
  {
   "cell_type": "code",
   "execution_count": null,
   "metadata": {
    "executionInfo": {
     "elapsed": 598,
     "status": "ok",
     "timestamp": 1607105596283,
     "user": {
      "displayName": "Tomasz Różański",
      "photoUrl": "https://lh4.googleusercontent.com/-CdAQaQI9V1E/AAAAAAAAAAI/AAAAAAAAAvI/rnNPiSw4f80/s64/photo.jpg",
      "userId": "09904144145241711927"
     },
     "user_tz": -60
    },
    "id": "oDefL_iIYH6A"
   },
   "outputs": [],
   "source": [
    "mult_mean = [0.1, 2.]\n",
    "mult_cov =  [[2.0, 0.3], \n",
    "             [0.3, 0.5]]\n",
    "mult_norm = stats.multivariate_normal(mean=mult_mean, cov=mult_cov)"
   ]
  },
  {
   "cell_type": "code",
   "execution_count": null,
   "metadata": {
    "colab": {
     "base_uri": "https://localhost:8080/",
     "height": 546
    },
    "executionInfo": {
     "elapsed": 1018,
     "status": "ok",
     "timestamp": 1607105646063,
     "user": {
      "displayName": "Tomasz Różański",
      "photoUrl": "https://lh4.googleusercontent.com/-CdAQaQI9V1E/AAAAAAAAAAI/AAAAAAAAAvI/rnNPiSw4f80/s64/photo.jpg",
      "userId": "09904144145241711927"
     },
     "user_tz": -60
    },
    "id": "fkFvD8UUYH6A",
    "outputId": "8aac8802-bcf0-4fcf-cf1b-bc298f3d48d7"
   },
   "outputs": [],
   "source": [
    "from mpl_toolkits.mplot3d import Axes3D\n",
    "import matplotlib.colors as colors\n",
    "\n",
    "XLIM = [-6., 6.]\n",
    "YLIM = [0., 4.]\n",
    "\n",
    "fig, (ax1, ax2) = plt.subplots(1, 2, figsize=(16., 8.))\n",
    "\n",
    "# Make data.\n",
    "x = np.linspace(*XLIM, num=100)\n",
    "y = np.linspace(*YLIM, num=100)\n",
    "X, Y = np.meshgrid(x, y)\n",
    "pos = np.dstack((X, Y))\n",
    "Z = mult_norm.pdf(pos)\n",
    "S = mult_norm.rvs(1000)\n",
    "\n",
    "color_norm = colors.Normalize(vmin=0, vmax=0.5)\n",
    "\n",
    "# Contour plot of the PDF\n",
    "ax1.contourf(X, Y, Z, cmap='coolwarm', norm=color_norm)\n",
    "ax1.set_title('Probability Density Function')\n",
    "\n",
    "\n",
    "# 2D histogram of the random sample\n",
    "h = ax2.hist2d(S[:, 0], S[:, 1], bins=50, density=True, \n",
    "               cmap='coolwarm', range=[XLIM, YLIM],\n",
    "              norm=color_norm)\n",
    "ax2.set_title('Random sample')\n",
    "\n",
    "# Add a common color bar\n",
    "fig.colorbar(h[3], ax=[ax1, ax2]);"
   ]
  },
  {
   "cell_type": "markdown",
   "metadata": {
    "id": "plMYsgzcYH6A"
   },
   "source": [
    "<a id=statistical_functions></a>\n",
    "## Funkcje statystyczne"
   ]
  },
  {
   "cell_type": "markdown",
   "metadata": {
    "id": "1HTnmJuCYH6A"
   },
   "source": [
    "### Test normalności\n",
    "\n",
    "Używany do sprawdzenia czy próbka pochodzi z rozkładu normalnego"
   ]
  },
  {
   "cell_type": "code",
   "execution_count": null,
   "metadata": {
    "executionInfo": {
     "elapsed": 619,
     "status": "ok",
     "timestamp": 1607105653743,
     "user": {
      "displayName": "Tomasz Różański",
      "photoUrl": "https://lh4.googleusercontent.com/-CdAQaQI9V1E/AAAAAAAAAAI/AAAAAAAAAvI/rnNPiSw4f80/s64/photo.jpg",
      "userId": "09904144145241711927"
     },
     "user_tz": -60
    },
    "id": "Sm2L4P5AYH6A"
   },
   "outputs": [],
   "source": [
    "x_sample = stats.norm().rvs(size=1000)\n",
    "\n",
    "alpha = 1e-3"
   ]
  },
  {
   "cell_type": "code",
   "execution_count": null,
   "metadata": {
    "colab": {
     "base_uri": "https://localhost:8080/",
     "height": 488
    },
    "executionInfo": {
     "elapsed": 816,
     "status": "ok",
     "timestamp": 1607105654388,
     "user": {
      "displayName": "Tomasz Różański",
      "photoUrl": "https://lh4.googleusercontent.com/-CdAQaQI9V1E/AAAAAAAAAAI/AAAAAAAAAvI/rnNPiSw4f80/s64/photo.jpg",
      "userId": "09904144145241711927"
     },
     "user_tz": -60
    },
    "id": "-QFqnG3WYH6A",
    "outputId": "2c1e16b1-407c-4e8e-dd30-49bb2be4e3fa"
   },
   "outputs": [],
   "source": [
    "plt.hist(x_sample, bins=50);"
   ]
  },
  {
   "cell_type": "markdown",
   "metadata": {
    "id": "IC7fUBUKYH6A"
   },
   "source": [
    "`normaltest`: sprawdza czy próbka pochodzi z rozkładu normalnego"
   ]
  },
  {
   "cell_type": "code",
   "execution_count": null,
   "metadata": {
    "executionInfo": {
     "elapsed": 583,
     "status": "ok",
     "timestamp": 1607105656286,
     "user": {
      "displayName": "Tomasz Różański",
      "photoUrl": "https://lh4.googleusercontent.com/-CdAQaQI9V1E/AAAAAAAAAAI/AAAAAAAAAvI/rnNPiSw4f80/s64/photo.jpg",
      "userId": "09904144145241711927"
     },
     "user_tz": -60
    },
    "id": "rGi8YEcKYH6A"
   },
   "outputs": [],
   "source": [
    "def print_result(p, alpha):\n",
    "    print(\"p = {:g}\".format(p))\n",
    "    if p < alpha:  # hipoteza zerowa H0: x pochodzi z rozkładu normalnego\n",
    "        print(\"H0 odrzucona\")\n",
    "    else:\n",
    "        print(\"H0 nie odrzucona\")  "
   ]
  },
  {
   "cell_type": "code",
   "execution_count": null,
   "metadata": {
    "colab": {
     "base_uri": "https://localhost:8080/"
    },
    "executionInfo": {
     "elapsed": 664,
     "status": "ok",
     "timestamp": 1607105657005,
     "user": {
      "displayName": "Tomasz Różański",
      "photoUrl": "https://lh4.googleusercontent.com/-CdAQaQI9V1E/AAAAAAAAAAI/AAAAAAAAAvI/rnNPiSw4f80/s64/photo.jpg",
      "userId": "09904144145241711927"
     },
     "user_tz": -60
    },
    "id": "VPM6dBmxYH6A",
    "outputId": "a12b662f-e7f3-44de-902a-a130112e53ac"
   },
   "outputs": [],
   "source": [
    "k2, p = stats.normaltest(x_sample)\n",
    "print_result(p, alpha)"
   ]
  },
  {
   "cell_type": "markdown",
   "metadata": {
    "id": "vKuyGlNEYH6A"
   },
   "source": [
    "### Kolmogorov-Smirnov test\n",
    "\n",
    "Sprawdza czy próbka pochodzi z danego rozkładu."
   ]
  },
  {
   "cell_type": "code",
   "execution_count": null,
   "metadata": {
    "colab": {
     "base_uri": "https://localhost:8080/"
    },
    "executionInfo": {
     "elapsed": 673,
     "status": "ok",
     "timestamp": 1607105668828,
     "user": {
      "displayName": "Tomasz Różański",
      "photoUrl": "https://lh4.googleusercontent.com/-CdAQaQI9V1E/AAAAAAAAAAI/AAAAAAAAAvI/rnNPiSw4f80/s64/photo.jpg",
      "userId": "09904144145241711927"
     },
     "user_tz": -60
    },
    "id": "lE85qpIRYH6A",
    "outputId": "c24cefca-7eb9-4dd3-c585-473634407355"
   },
   "outputs": [],
   "source": [
    "l = x_sample.mean()\n",
    "s = x_sample.std(ddof=1)\n",
    "print('loc={} scale={}'.format(l, s))\n",
    "\n",
    "k, p = stats.kstest(x_sample, stats.norm(l, s).cdf)\n",
    "print_result(p, alpha)\n"
   ]
  },
  {
   "cell_type": "markdown",
   "metadata": {
    "id": "rfWHvwL5YH6A"
   },
   "source": [
    "I wiele więcej...\n",
    "Zobacz [dokumentację](https://docs.scipy.org/doc/scipy/reference/stats.html)"
   ]
  },
  {
   "cell_type": "markdown",
   "metadata": {
    "id": "oC-vTvJgYH6A"
   },
   "source": [
    "<a id=stats_example></a>\n",
    "## Przykład"
   ]
  },
  {
   "cell_type": "code",
   "execution_count": null,
   "metadata": {
    "executionInfo": {
     "elapsed": 440,
     "status": "ok",
     "timestamp": 1607105683411,
     "user": {
      "displayName": "Tomasz Różański",
      "photoUrl": "https://lh4.googleusercontent.com/-CdAQaQI9V1E/AAAAAAAAAAI/AAAAAAAAAvI/rnNPiSw4f80/s64/photo.jpg",
      "userId": "09904144145241711927"
     },
     "user_tz": -60
    },
    "id": "Vo4xBidsczb7"
   },
   "outputs": [],
   "source": [
    "import os\n",
    "import matplotlib.pyplot as plt"
   ]
  },
  {
   "cell_type": "code",
   "execution_count": null,
   "metadata": {
    "colab": {
     "base_uri": "https://localhost:8080/",
     "height": 359
    },
    "executionInfo": {
     "elapsed": 703,
     "status": "ok",
     "timestamp": 1607105684812,
     "user": {
      "displayName": "Tomasz Różański",
      "photoUrl": "https://lh4.googleusercontent.com/-CdAQaQI9V1E/AAAAAAAAAAI/AAAAAAAAAvI/rnNPiSw4f80/s64/photo.jpg",
      "userId": "09904144145241711927"
     },
     "user_tz": -60
    },
    "id": "Xz4XR7gmYH6A",
    "outputId": "496f71fa-3e6e-4e3d-8ad1-164fba76adae"
   },
   "outputs": [],
   "source": [
    "import pandas as pd\n",
    "data_path = os.path.join(\"..\",\"data\",\"scipy_data\",\"stock.csv\")\n",
    "df_prices = pd.read_csv(data_path)\n",
    "df_prices.head(10)"
   ]
  },
  {
   "cell_type": "code",
   "execution_count": null,
   "metadata": {
    "colab": {
     "base_uri": "https://localhost:8080/",
     "height": 400
    },
    "executionInfo": {
     "elapsed": 896,
     "status": "ok",
     "timestamp": 1607105697499,
     "user": {
      "displayName": "Tomasz Różański",
      "photoUrl": "https://lh4.googleusercontent.com/-CdAQaQI9V1E/AAAAAAAAAAI/AAAAAAAAAvI/rnNPiSw4f80/s64/photo.jpg",
      "userId": "09904144145241711927"
     },
     "user_tz": -60
    },
    "id": "e_5tD5z-YH6A",
    "outputId": "29afa0b4-e120-45c1-e681-b033d73a64ae"
   },
   "outputs": [],
   "source": [
    "_ = df_prices[['Apple', 'Microsoft']].plot(title='2016 stock prices', figsize=(6., 6.))"
   ]
  },
  {
   "cell_type": "code",
   "execution_count": null,
   "metadata": {
    "colab": {
     "base_uri": "https://localhost:8080/",
     "height": 359
    },
    "executionInfo": {
     "elapsed": 699,
     "status": "ok",
     "timestamp": 1607105716567,
     "user": {
      "displayName": "Tomasz Różański",
      "photoUrl": "https://lh4.googleusercontent.com/-CdAQaQI9V1E/AAAAAAAAAAI/AAAAAAAAAvI/rnNPiSw4f80/s64/photo.jpg",
      "userId": "09904144145241711927"
     },
     "user_tz": -60
    },
    "id": "XTjeZzR3YH6A",
    "outputId": "38b0a5cb-875d-48ec-b959-732ad5c2b1b4"
   },
   "outputs": [],
   "source": [
    "# Oblicz unormowane dzienne wzrosty\n",
    "df_incs = df_prices.drop('Date', axis=1)\n",
    "df_incs = ((df_incs - df_incs.shift(1))/df_incs.shift(1)).loc[1:, :]\n",
    "df_incs['Date'] = df_prices.Date\n",
    "df_incs.head(10)"
   ]
  },
  {
   "cell_type": "code",
   "execution_count": null,
   "metadata": {
    "colab": {
     "base_uri": "https://localhost:8080/",
     "height": 428
    },
    "executionInfo": {
     "elapsed": 1037,
     "status": "ok",
     "timestamp": 1607105725620,
     "user": {
      "displayName": "Tomasz Różański",
      "photoUrl": "https://lh4.googleusercontent.com/-CdAQaQI9V1E/AAAAAAAAAAI/AAAAAAAAAvI/rnNPiSw4f80/s64/photo.jpg",
      "userId": "09904144145241711927"
     },
     "user_tz": -60
    },
    "id": "SXQ4kV7_YH6A",
    "outputId": "9c2f6288-196c-43fd-f9d3-b10132ea4951"
   },
   "outputs": [],
   "source": [
    "fig, (ax1, ax2) = plt.subplots(1, 2, figsize=(12., 6.))\n",
    "_ = df_incs[['Apple', 'Microsoft']].plot(ax=ax1)\n",
    "_ = ax2.scatter(df_incs['Apple'], df_incs['Microsoft'])\n",
    "ax2.grid()\n",
    "ax2.set_xlabel('Apple')\n",
    "ax2.set_ylabel('Microsoft')\n",
    "plt.tight_layout()"
   ]
  },
  {
   "cell_type": "markdown",
   "metadata": {
    "id": "eIdmnOYaYH6A"
   },
   "source": [
    "Użyjemy metody `fit` aby uzyskać estymatory średniej i odchylenia standardowego."
   ]
  },
  {
   "cell_type": "code",
   "execution_count": null,
   "metadata": {
    "executionInfo": {
     "elapsed": 600,
     "status": "ok",
     "timestamp": 1607105766232,
     "user": {
      "displayName": "Tomasz Różański",
      "photoUrl": "https://lh4.googleusercontent.com/-CdAQaQI9V1E/AAAAAAAAAAI/AAAAAAAAAvI/rnNPiSw4f80/s64/photo.jpg",
      "userId": "09904144145241711927"
     },
     "user_tz": -60
    },
    "id": "ZaKwm_bRYH6A"
   },
   "outputs": [],
   "source": [
    "p = stats.norm.fit(df_incs.Apple)\n",
    "print(p)"
   ]
  },
  {
   "cell_type": "code",
   "execution_count": null,
   "metadata": {
    "executionInfo": {
     "elapsed": 653,
     "status": "ok",
     "timestamp": 1607105767274,
     "user": {
      "displayName": "Tomasz Różański",
      "photoUrl": "https://lh4.googleusercontent.com/-CdAQaQI9V1E/AAAAAAAAAAI/AAAAAAAAAvI/rnNPiSw4f80/s64/photo.jpg",
      "userId": "09904144145241711927"
     },
     "user_tz": -60
    },
    "id": "_jvw6B-VYH6A"
   },
   "outputs": [],
   "source": [
    "# Tworzymy rozkłady na podstawie estymatorów\n",
    "app_dist = stats.norm(*p)"
   ]
  },
  {
   "cell_type": "code",
   "execution_count": null,
   "metadata": {
    "colab": {
     "base_uri": "https://localhost:8080/"
    },
    "executionInfo": {
     "elapsed": 431,
     "status": "ok",
     "timestamp": 1607105767912,
     "user": {
      "displayName": "Tomasz Różański",
      "photoUrl": "https://lh4.googleusercontent.com/-CdAQaQI9V1E/AAAAAAAAAAI/AAAAAAAAAvI/rnNPiSw4f80/s64/photo.jpg",
      "userId": "09904144145241711927"
     },
     "user_tz": -60
    },
    "id": "PQ1DkLDcYH6A",
    "outputId": "919e70f3-e864-4d48-ce15-71b0503f29ae"
   },
   "outputs": [],
   "source": [
    "# Sprawdźmy czy próbka pochodzi z rozkładu normalnego (test Kolmogorowa-Smirnowa)\n",
    "app_K, app_p = stats.kstest(df_incs['Apple'], app_dist.cdf)\n",
    "print_result(app_p, alpha)"
   ]
  },
  {
   "cell_type": "markdown",
   "metadata": {
    "id": "i0anRIqoYH6A"
   },
   "source": [
    "<a id=exercise_5></a>\n",
    "## Ćwiczenie nr 5\n",
    "\n",
    "Zrób to samo dla Microsoft-u:\n",
    "* Dopasuj rozkład normalny\n",
    "* Stwórz rozkład na podstawie dopasowania\n",
    "* Sprawdź czy próbka pochodzi z rozkładu normalnego"
   ]
  },
  {
   "cell_type": "code",
   "execution_count": null,
   "metadata": {
    "id": "7vvhG0FBYH6A"
   },
   "outputs": [],
   "source": []
  },
  {
   "cell_type": "markdown",
   "metadata": {
    "id": "Fc9avLO6YH6A"
   },
   "source": [
    "<a id=special_functions></a>\n",
    "# Funkcje specjalne\n",
    "\n",
    "Pełna lista znajduje się [tutaj](https://docs.scipy.org/doc/scipy-0.14.0/reference/special.html)."
   ]
  },
  {
   "cell_type": "markdown",
   "metadata": {
    "id": "IXcOtSwAYH6B"
   },
   "source": [
    "<a id=bessel></a>\n",
    "## Funkcje Bessel-a"
   ]
  },
  {
   "cell_type": "code",
   "execution_count": null,
   "metadata": {
    "colab": {
     "base_uri": "https://localhost:8080/",
     "height": 488
    },
    "executionInfo": {
     "elapsed": 1171,
     "status": "ok",
     "timestamp": 1607106008478,
     "user": {
      "displayName": "Tomasz Różański",
      "photoUrl": "https://lh4.googleusercontent.com/-CdAQaQI9V1E/AAAAAAAAAAI/AAAAAAAAAvI/rnNPiSw4f80/s64/photo.jpg",
      "userId": "09904144145241711927"
     },
     "user_tz": -60
    },
    "id": "620QLv8iYH6B",
    "outputId": "cb1e6ccd-490e-45ae-c40d-5cf73dba1bc2"
   },
   "outputs": [],
   "source": [
    "from scipy.special import jn\n",
    "\n",
    "x = np.linspace(0, 10, 100)\n",
    "for n in range(6):\n",
    "    plt.plot(x, jn(n, x), label=r'$\\mathtt{J}_{%i}(x)$' % n)\n",
    "plt.grid()\n",
    "plt.legend();"
   ]
  },
  {
   "cell_type": "code",
   "execution_count": null,
   "metadata": {
    "colab": {
     "base_uri": "https://localhost:8080/",
     "height": 1000
    },
    "executionInfo": {
     "elapsed": 2023,
     "status": "ok",
     "timestamp": 1607106020198,
     "user": {
      "displayName": "Tomasz Różański",
      "photoUrl": "https://lh4.googleusercontent.com/-CdAQaQI9V1E/AAAAAAAAAAI/AAAAAAAAAvI/rnNPiSw4f80/s64/photo.jpg",
      "userId": "09904144145241711927"
     },
     "user_tz": -60
    },
    "id": "BQe9N_AuYH6B",
    "outputId": "c6f1f060-3f38-48c1-ff04-2a8062797e25"
   },
   "outputs": [],
   "source": [
    "import mpl_toolkits.mplot3d.axes3d as plt3d\n",
    "from matplotlib.colors import LogNorm\n",
    "\n",
    "def airy_disk(x):\n",
    "    mask = x != 0\n",
    "    result = np.empty_like(x)\n",
    "    result[~mask] = 1.0\n",
    "    result[mask] = (2 * jn(1, x[mask]) / x[mask])**2\n",
    "    return result\n",
    "\n",
    "# 2D plot\n",
    "r = np.linspace(-10, 10, 500)\n",
    "plt.plot(r, airy_disk(r))\n",
    "\n",
    "# 3D plot\n",
    "x = np.arange(-10, 10.1, 0.1)\n",
    "y = np.arange(-10, 10.1, 0.1)\n",
    "\n",
    "X, Y = np.meshgrid(x, y)\n",
    "Z = airy_disk(np.sqrt(X**2 + Y**2))\n",
    "\n",
    "result\n",
    "fig = plt.figure()\n",
    "ax = plt3d.Axes3D(fig)\n",
    "ax.plot_surface(X, Y, Z, cmap='gray', norm=LogNorm(), lw=0)\n",
    "\n",
    "None"
   ]
  },
  {
   "cell_type": "markdown",
   "metadata": {
    "id": "Xg8uOyBMYH6B"
   },
   "source": [
    "<a id=erf></a>\n",
    "## Funkcja błędu i dystrybuanta rozkładu Gaussa\n",
    "\n",
    "$$\\mathrm{erf}(z) = \\frac{2}{\\sqrt{\\pi}} \\int_0^z \\exp\\left( -t^2 \\right) dt $$\n",
    "$$\\mathrm{ndtr}(z) = \\frac{1}{\\sqrt{2\\pi}} \\int_{-\\infty}^z \\exp\\left( \\frac{-t^2}{2} \\right) dt $$"
   ]
  },
  {
   "cell_type": "code",
   "execution_count": null,
   "metadata": {
    "colab": {
     "base_uri": "https://localhost:8080/",
     "height": 488
    },
    "executionInfo": {
     "elapsed": 1044,
     "status": "ok",
     "timestamp": 1607106047441,
     "user": {
      "displayName": "Tomasz Różański",
      "photoUrl": "https://lh4.googleusercontent.com/-CdAQaQI9V1E/AAAAAAAAAAI/AAAAAAAAAvI/rnNPiSw4f80/s64/photo.jpg",
      "userId": "09904144145241711927"
     },
     "user_tz": -60
    },
    "id": "PpLqv-0cYH6B",
    "outputId": "a96ab9b7-5191-4e53-9dd3-f21842ce6b64"
   },
   "outputs": [],
   "source": [
    "from scipy.special import erf, ndtr\n",
    "\n",
    "def gaussian(z):\n",
    "    return np.exp(-z**2)\n",
    "\n",
    "x = np.linspace(-3, 3, 100)\n",
    "plt.plot(x, gaussian(x), label='Gaussian')\n",
    "plt.plot(x, erf(x), label='Error Function')\n",
    "plt.plot(x, ndtr(x), label='Gaussian CDF')\n",
    "plt.ylim(-1.1, 1.1)\n",
    "plt.legend(loc='best');"
   ]
  },
  {
   "cell_type": "markdown",
   "metadata": {
    "id": "sg9e-lGuYH6B"
   },
   "source": [
    "<a id=ortho_polys></a>\n",
    "## Wielomiany ortogonalne"
   ]
  },
  {
   "cell_type": "code",
   "execution_count": null,
   "metadata": {
    "colab": {
     "base_uri": "https://localhost:8080/",
     "height": 509
    },
    "executionInfo": {
     "elapsed": 1008,
     "status": "ok",
     "timestamp": 1607106080704,
     "user": {
      "displayName": "Tomasz Różański",
      "photoUrl": "https://lh4.googleusercontent.com/-CdAQaQI9V1E/AAAAAAAAAAI/AAAAAAAAAvI/rnNPiSw4f80/s64/photo.jpg",
      "userId": "09904144145241711927"
     },
     "user_tz": -60
    },
    "id": "XJGWYabCYH6B",
    "outputId": "69003235-ded3-4567-a3df-771980671738"
   },
   "outputs": [],
   "source": [
    "from scipy.special import eval_legendre, eval_laguerre, eval_hermite, eval_chebyt\n",
    "\n",
    "ortho_poly_dict = {'Legendre': eval_legendre,\n",
    "                   'Laguerre': eval_laguerre,\n",
    "                   'Hermite': eval_hermite,\n",
    "                   'Chebyshev T': eval_chebyt}\n",
    "\n",
    "def plot_ortho_poly(name):\n",
    "    plt.figure()\n",
    "    f = ortho_poly_dict[name]\n",
    "    x = np.linspace(-1, 1, 100)\n",
    "    for n in range(5):\n",
    "        plt.plot(x, f(n, x), label='n = %i' % n)\n",
    "    if name in ['Legendre', 'Chebyshev']:\n",
    "        plt.ylim(-1.1, 1.1)\n",
    "    plt.legend(loc='best', fontsize=16)\n",
    "    plt.title(name + ' Polynomials')\n",
    "    \n",
    "plot_ortho_poly('Legendre')\n",
    "# plot_ortho_poly('Laguerre')\n",
    "# plot_ortho_poly('Hermite')\n",
    "# plot_ortho_poly('Chebyshev T')"
   ]
  },
  {
   "cell_type": "markdown",
   "metadata": {
    "id": "jB2IJ-MbYH6B"
   },
   "source": [
    "## Dodatkowe informacje\n",
    "\n",
    "#### Dopasowywanie z  (i)minuit\n",
    "\n",
    "Jednym z najbardziej rozbudowanych pakietów do optymalizacji/minimalizacji funkcji jest [MINUIT](https://en.wikipedia.org/wiki/MINUIT). Python pozwala używać kody napisanego w C++ za pomocą pakietu [iminuit](https://github.com/iminuit/iminuit).\n",
    "\n",
    "Więcej informacji w [dokumentacji iminuit](http://iminuit.readthedocs.io/en/latest/), oraz w tutorialach [dostępne tutoriale](https://github.com/scikit-hep/iminuit/tree/develop/doc/tutorial) na Git-Hub.\n",
    "\n",
    "\n",
    "\n"
   ]
  }
 ],
 "metadata": {
  "anaconda-cloud": {},
  "colab": {
   "collapsed_sections": [
    "jB2IJ-MbYH6B"
   ],
   "name": "scipy.ipynb",
   "provenance": []
  },
  "kernelspec": {
   "display_name": "Python 3",
   "language": "python",
   "name": "python3"
  },
  "language_info": {
   "codemirror_mode": {
    "name": "ipython",
    "version": 3
   },
   "file_extension": ".py",
   "mimetype": "text/x-python",
   "name": "python",
   "nbconvert_exporter": "python",
   "pygments_lexer": "ipython3",
   "version": "3.8.3"
  }
 },
 "nbformat": 4,
 "nbformat_minor": 4
}
