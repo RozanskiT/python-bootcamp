{
 "cells": [
  {
   "cell_type": "markdown",
   "metadata": {
    "id": "38Cfxr6pBpGj"
   },
   "source": [
    "# Pandas\n",
    "\n",
    "[Pandas](https://pandas.pydata.org/) to biblioteka do pracy z danymi w formie tabelarycznej. Jest wykorzystywana w szeroko pojętej analizie danych i manipulacji na danych.\n",
    "\n",
    "W większości zastosowań przy pomocy tej biblioteki zastąpić można często używane przez astronomów linuxowe komendy wiersza poleceń takie jak: for, split, grep, awk.\n",
    "\n",
    "Kilka punktów wprost z dokumentacji:"
   ]
  },
  {
   "cell_type": "markdown",
   "metadata": {
    "id": "3CKu6cu9DWeY"
   },
   "source": [
    "Library Highlights\n",
    "* A fast and efficient DataFrame object for data manipulation with integrated indexing;\n",
    "\n",
    "* Tools for reading and writing data between in-memory data structures and different formats: CSV and text files, Microsoft Excel, SQL databases, and the fast HDF5 format;\n",
    "\n",
    "* Intelligent data alignment and integrated handling of missing data: gain automatic label-based alignment in computations and easily manipulate messy data into an orderly form;\n",
    "\n",
    "* Flexible reshaping and pivoting of data sets;\n",
    "\n",
    "* Intelligent label-based slicing, fancy indexing, and subsetting of large data sets;\n",
    "\n",
    "* Columns can be inserted and deleted from data structures for size mutability;\n",
    "\n",
    "* Aggregating or transforming data with a powerful group by engine allowing split-apply-combine operations on data sets;\n",
    "\n",
    "* High performance merging and joining of data sets;\n",
    "\n",
    "* Hierarchical axis indexing provides an intuitive way of working with high-dimensional data in a lower-dimensional data structure;\n",
    "\n",
    "* Time series-functionality: date range generation and frequency conversion, moving window statistics, date shifting and lagging. Even create domain-specific time offsets and join time series without losing data;\n",
    "\n",
    "* Highly optimized for performance, with critical code paths written in Cython or C.\n",
    "\n",
    "* Python with pandas is in use in a wide variety of academic and commercial domains, including Finance, Neuroscience, Economics, Statistics, Advertising, Web Analytics, and more.\n",
    "\n"
   ]
  },
  {
   "cell_type": "markdown",
   "metadata": {
    "id": "K8CVWqETwLx2"
   },
   "source": [
    "[10 minute to Pandas](https://pandas.pydata.org/pandas-docs/stable/user_guide/10min.html)"
   ]
  },
  {
   "cell_type": "markdown",
   "metadata": {
    "id": "_ABCD3gGL9qV"
   },
   "source": [
    "## Poznawanie danych"
   ]
  },
  {
   "cell_type": "markdown",
   "metadata": {
    "id": "nwxF-HcuME7O"
   },
   "source": [
    "### Wymiary:\n",
    "    - 1-D: Series; e.g.\n",
    "        - Solar planets: [Mercury, Venus, Earth, Mars, Jupiter, Saturn, Uranus, Neptune]\n",
    "        - Set of astronomical objects and when they were observed:\n",
    "            [[NGC1952, 2012-05-01],\n",
    "             [NGC224, 2013-01-23],\n",
    "             [NGC5194, 2014-02-13]]\n",
    "    - 2-D: DataFrame; e.g (more business oriented):\n",
    "        - 3 months of sales information for 3 fictitious companies:\n",
    "            sales = [{'account': 'Jones LLC', 'Jan': 150, 'Feb': 200, 'Mar': 140},\n",
    "                     {'account': 'Alpha Co',  'Jan': 200, 'Feb': 210, 'Mar': 215},\n",
    "                     {'account': 'Blue Inc',  'Jan': 50,  'Feb': 90,  'Mar': 95 }]"
   ]
  },
  {
   "cell_type": "markdown",
   "metadata": {
    "id": "QY9E-rTxMcn_"
   },
   "source": [
    "### Indeks\n",
    "\n",
    "* Jest to wartość (klucz), którego uzywamy jako referencję dla każdego elementu. (Uwaga: Nie musi być jednoznaczny)\n",
    "\n",
    "* Większość danych posiada przynajniej jeden indeks"
   ]
  },
  {
   "cell_type": "code",
   "execution_count": 109,
   "metadata": {
    "executionInfo": {
     "elapsed": 745,
     "status": "ok",
     "timestamp": 1607098818299,
     "user": {
      "displayName": "Tomasz Różański",
      "photoUrl": "https://lh4.googleusercontent.com/-CdAQaQI9V1E/AAAAAAAAAAI/AAAAAAAAAvI/rnNPiSw4f80/s64/photo.jpg",
      "userId": "09904144145241711927"
     },
     "user_tz": -60
    },
    "id": "KZZmDokTMHRZ"
   },
   "outputs": [],
   "source": [
    "# Importowanie bibliotek\n",
    "import pandas as pd\n",
    "import numpy as np\n",
    "import matplotlib.pyplot as plt"
   ]
  },
  {
   "cell_type": "markdown",
   "metadata": {
    "id": "BpmONBv-Miz1"
   },
   "source": [
    "### Definicja Series\n",
    "Series to jednowymiarowa etykietowana tablica, która może przechowywać dane dowolnego typu.\n",
    "\n",
    "Etykiety kolejnych elementów zbiorowo nazywamy `index`.\n",
    "\n",
    "Ideowo Series biblioteki pandas tworzymy w następujący sposób:\n",
    "\n",
    "**s = pd.Series(data, index=index)**\n",
    "\n",
    "Gdzie danymi może być:\n",
    "- lista \n",
    "- ndarray\n",
    "- słownik pythona\n",
    "- skalar\n",
    "\n",
    "gdzie index to lista indeksów."
   ]
  },
  {
   "cell_type": "markdown",
   "metadata": {
    "id": "jnAS8KVVNa7j"
   },
   "source": [
    "#### Tworzenie Series z listy"
   ]
  },
  {
   "cell_type": "code",
   "execution_count": 4,
   "metadata": {
    "executionInfo": {
     "elapsed": 752,
     "status": "ok",
     "timestamp": 1607098871278,
     "user": {
      "displayName": "Tomasz Różański",
      "photoUrl": "https://lh4.googleusercontent.com/-CdAQaQI9V1E/AAAAAAAAAAI/AAAAAAAAAvI/rnNPiSw4f80/s64/photo.jpg",
      "userId": "09904144145241711927"
     },
     "user_tz": -60
    },
    "id": "4hI-92G3MbBq"
   },
   "outputs": [],
   "source": [
    "solar_planets = ['Mercury','Venus','Earth','Mars','Jupiter','Saturn','Uranus','Neptune']"
   ]
  },
  {
   "cell_type": "code",
   "execution_count": 5,
   "metadata": {
    "executionInfo": {
     "elapsed": 980,
     "status": "ok",
     "timestamp": 1607098876408,
     "user": {
      "displayName": "Tomasz Różański",
      "photoUrl": "https://lh4.googleusercontent.com/-CdAQaQI9V1E/AAAAAAAAAAI/AAAAAAAAAvI/rnNPiSw4f80/s64/photo.jpg",
      "userId": "09904144145241711927"
     },
     "user_tz": -60
    },
    "id": "2K9USPTQNQCu"
   },
   "outputs": [],
   "source": [
    "splanets = pd.Series(solar_planets)"
   ]
  },
  {
   "cell_type": "code",
   "execution_count": 10,
   "metadata": {
    "colab": {
     "base_uri": "https://localhost:8080/"
    },
    "executionInfo": {
     "elapsed": 776,
     "status": "ok",
     "timestamp": 1607098878796,
     "user": {
      "displayName": "Tomasz Różański",
      "photoUrl": "https://lh4.googleusercontent.com/-CdAQaQI9V1E/AAAAAAAAAAI/AAAAAAAAAvI/rnNPiSw4f80/s64/photo.jpg",
      "userId": "09904144145241711927"
     },
     "user_tz": -60
    },
    "id": "hoauuQc7NTfG",
    "outputId": "ed9ae4b6-aa6a-48df-b768-31da623c73b3"
   },
   "outputs": [
    {
     "data": {
      "text/plain": [
       "0    Mercury\n",
       "1      Venus\n",
       "2      Earth\n",
       "3       Mars\n",
       "4    Jupiter\n",
       "5     Saturn\n",
       "6     Uranus\n",
       "7    Neptune\n",
       "dtype: object"
      ]
     },
     "execution_count": 10,
     "metadata": {},
     "output_type": "execute_result"
    }
   ],
   "source": [
    "splanets"
   ]
  },
  {
   "cell_type": "code",
   "execution_count": 11,
   "metadata": {
    "colab": {
     "base_uri": "https://localhost:8080/"
    },
    "executionInfo": {
     "elapsed": 883,
     "status": "ok",
     "timestamp": 1607098937545,
     "user": {
      "displayName": "Tomasz Różański",
      "photoUrl": "https://lh4.googleusercontent.com/-CdAQaQI9V1E/AAAAAAAAAAI/AAAAAAAAAvI/rnNPiSw4f80/s64/photo.jpg",
      "userId": "09904144145241711927"
     },
     "user_tz": -60
    },
    "id": "WjEYD57xNWUU",
    "outputId": "5ef077b4-6ea1-4814-d5b5-0ac5add77e0e"
   },
   "outputs": [
    {
     "data": {
      "text/plain": [
       "RangeIndex(start=0, stop=8, step=1)"
      ]
     },
     "execution_count": 11,
     "metadata": {},
     "output_type": "execute_result"
    }
   ],
   "source": [
    "splanets.index"
   ]
  },
  {
   "cell_type": "markdown",
   "metadata": {
    "id": "VbCgIAcDNdR5"
   },
   "source": [
    "#### Tworzenie series z ndarray\n",
    "\n",
    "1. Bez indeksu"
   ]
  },
  {
   "cell_type": "code",
   "execution_count": 12,
   "metadata": {
    "colab": {
     "base_uri": "https://localhost:8080/"
    },
    "executionInfo": {
     "elapsed": 935,
     "status": "ok",
     "timestamp": 1607098956142,
     "user": {
      "displayName": "Tomasz Różański",
      "photoUrl": "https://lh4.googleusercontent.com/-CdAQaQI9V1E/AAAAAAAAAAI/AAAAAAAAAvI/rnNPiSw4f80/s64/photo.jpg",
      "userId": "09904144145241711927"
     },
     "user_tz": -60
    },
    "id": "Tyk6s_fpNXss",
    "outputId": "e5032c2f-f591-4856-dc44-cf4cdd907b65"
   },
   "outputs": [
    {
     "data": {
      "text/plain": [
       "array([-1.68427778,  0.89966168, -0.82437263,  0.70291547,  0.82184762])"
      ]
     },
     "execution_count": 12,
     "metadata": {},
     "output_type": "execute_result"
    }
   ],
   "source": [
    "np.random.randn(5)"
   ]
  },
  {
   "cell_type": "code",
   "execution_count": 13,
   "metadata": {
    "executionInfo": {
     "elapsed": 1001,
     "status": "ok",
     "timestamp": 1607098974046,
     "user": {
      "displayName": "Tomasz Różański",
      "photoUrl": "https://lh4.googleusercontent.com/-CdAQaQI9V1E/AAAAAAAAAAI/AAAAAAAAAvI/rnNPiSw4f80/s64/photo.jpg",
      "userId": "09904144145241711927"
     },
     "user_tz": -60
    },
    "id": "h8-nujzRNl7G"
   },
   "outputs": [],
   "source": [
    "s1 = pd.Series(np.random.randn(5))"
   ]
  },
  {
   "cell_type": "code",
   "execution_count": 14,
   "metadata": {
    "colab": {
     "base_uri": "https://localhost:8080/"
    },
    "executionInfo": {
     "elapsed": 1399,
     "status": "ok",
     "timestamp": 1607098974830,
     "user": {
      "displayName": "Tomasz Różański",
      "photoUrl": "https://lh4.googleusercontent.com/-CdAQaQI9V1E/AAAAAAAAAAI/AAAAAAAAAvI/rnNPiSw4f80/s64/photo.jpg",
      "userId": "09904144145241711927"
     },
     "user_tz": -60
    },
    "id": "V9ne3GcyNnGz",
    "outputId": "f150a80c-ee95-42f5-df8e-e2916f76e27f"
   },
   "outputs": [
    {
     "data": {
      "text/plain": [
       "0   -0.274834\n",
       "1   -1.071282\n",
       "2    0.155092\n",
       "3    1.547373\n",
       "4    0.661215\n",
       "dtype: float64"
      ]
     },
     "execution_count": 14,
     "metadata": {},
     "output_type": "execute_result"
    }
   ],
   "source": [
    "s1"
   ]
  },
  {
   "cell_type": "code",
   "execution_count": 15,
   "metadata": {
    "colab": {
     "base_uri": "https://localhost:8080/"
    },
    "executionInfo": {
     "elapsed": 770,
     "status": "ok",
     "timestamp": 1607098980630,
     "user": {
      "displayName": "Tomasz Różański",
      "photoUrl": "https://lh4.googleusercontent.com/-CdAQaQI9V1E/AAAAAAAAAAI/AAAAAAAAAvI/rnNPiSw4f80/s64/photo.jpg",
      "userId": "09904144145241711927"
     },
     "user_tz": -60
    },
    "id": "RExbxRi8NnyL",
    "outputId": "c405800f-9a65-4592-8bf0-e5aae5b5b2ec"
   },
   "outputs": [
    {
     "data": {
      "text/plain": [
       "RangeIndex(start=0, stop=5, step=1)"
      ]
     },
     "execution_count": 15,
     "metadata": {},
     "output_type": "execute_result"
    }
   ],
   "source": [
    "s1.index"
   ]
  },
  {
   "cell_type": "markdown",
   "metadata": {
    "id": "xV7vjD1ONqEV"
   },
   "source": [
    "2. Z indeksem"
   ]
  },
  {
   "cell_type": "code",
   "execution_count": 16,
   "metadata": {
    "executionInfo": {
     "elapsed": 764,
     "status": "ok",
     "timestamp": 1607098991545,
     "user": {
      "displayName": "Tomasz Różański",
      "photoUrl": "https://lh4.googleusercontent.com/-CdAQaQI9V1E/AAAAAAAAAAI/AAAAAAAAAvI/rnNPiSw4f80/s64/photo.jpg",
      "userId": "09904144145241711927"
     },
     "user_tz": -60
    },
    "id": "OCc9G_XhNpii"
   },
   "outputs": [],
   "source": [
    "s2 = pd.Series(np.random.randn(5), index=['a', 'b', 'c', 'd', 'e'])"
   ]
  },
  {
   "cell_type": "code",
   "execution_count": 17,
   "metadata": {
    "colab": {
     "base_uri": "https://localhost:8080/"
    },
    "executionInfo": {
     "elapsed": 1187,
     "status": "ok",
     "timestamp": 1607098993693,
     "user": {
      "displayName": "Tomasz Różański",
      "photoUrl": "https://lh4.googleusercontent.com/-CdAQaQI9V1E/AAAAAAAAAAI/AAAAAAAAAvI/rnNPiSw4f80/s64/photo.jpg",
      "userId": "09904144145241711927"
     },
     "user_tz": -60
    },
    "id": "uIQrW6G6NthS",
    "outputId": "29b7137a-29d0-43d2-d09c-fadb8d6046b1"
   },
   "outputs": [
    {
     "data": {
      "text/plain": [
       "a    2.956089\n",
       "b   -0.692170\n",
       "c   -0.391658\n",
       "d    0.568686\n",
       "e    1.909634\n",
       "dtype: float64"
      ]
     },
     "execution_count": 17,
     "metadata": {},
     "output_type": "execute_result"
    }
   ],
   "source": [
    "s2"
   ]
  },
  {
   "cell_type": "code",
   "execution_count": 18,
   "metadata": {
    "colab": {
     "base_uri": "https://localhost:8080/"
    },
    "executionInfo": {
     "elapsed": 928,
     "status": "ok",
     "timestamp": 1607099008643,
     "user": {
      "displayName": "Tomasz Różański",
      "photoUrl": "https://lh4.googleusercontent.com/-CdAQaQI9V1E/AAAAAAAAAAI/AAAAAAAAAvI/rnNPiSw4f80/s64/photo.jpg",
      "userId": "09904144145241711927"
     },
     "user_tz": -60
    },
    "id": "hOSOn7N8NvJB",
    "outputId": "346ee580-a5cf-4a64-bfc3-b23fafdf53eb"
   },
   "outputs": [
    {
     "data": {
      "text/plain": [
       "Index(['a', 'b', 'c', 'd', 'e'], dtype='object')"
      ]
     },
     "execution_count": 18,
     "metadata": {},
     "output_type": "execute_result"
    }
   ],
   "source": [
    "s2.index"
   ]
  },
  {
   "cell_type": "markdown",
   "metadata": {
    "id": "nKngvhlvNzXk"
   },
   "source": [
    "#### Create a Series array from a python dictionary"
   ]
  },
  {
   "cell_type": "code",
   "execution_count": 19,
   "metadata": {
    "executionInfo": {
     "elapsed": 731,
     "status": "ok",
     "timestamp": 1607099016730,
     "user": {
      "displayName": "Tomasz Różański",
      "photoUrl": "https://lh4.googleusercontent.com/-CdAQaQI9V1E/AAAAAAAAAAI/AAAAAAAAAvI/rnNPiSw4f80/s64/photo.jpg",
      "userId": "09904144145241711927"
     },
     "user_tz": -60
    },
    "id": "hbWxFk4dNvti"
   },
   "outputs": [],
   "source": [
    "d = {'a' : 0., 'b' : 1., 'c' : 2.}"
   ]
  },
  {
   "cell_type": "code",
   "execution_count": 20,
   "metadata": {
    "executionInfo": {
     "elapsed": 626,
     "status": "ok",
     "timestamp": 1607099017136,
     "user": {
      "displayName": "Tomasz Różański",
      "photoUrl": "https://lh4.googleusercontent.com/-CdAQaQI9V1E/AAAAAAAAAAI/AAAAAAAAAvI/rnNPiSw4f80/s64/photo.jpg",
      "userId": "09904144145241711927"
     },
     "user_tz": -60
    },
    "id": "05JZ7lvkN0np"
   },
   "outputs": [],
   "source": [
    "sd = pd.Series(d)"
   ]
  },
  {
   "cell_type": "code",
   "execution_count": 21,
   "metadata": {
    "colab": {
     "base_uri": "https://localhost:8080/"
    },
    "executionInfo": {
     "elapsed": 1089,
     "status": "ok",
     "timestamp": 1607099018116,
     "user": {
      "displayName": "Tomasz Różański",
      "photoUrl": "https://lh4.googleusercontent.com/-CdAQaQI9V1E/AAAAAAAAAAI/AAAAAAAAAvI/rnNPiSw4f80/s64/photo.jpg",
      "userId": "09904144145241711927"
     },
     "user_tz": -60
    },
    "id": "mepX6yfZN1vY",
    "outputId": "3c9124d1-105d-46b3-91cb-061f7a1bec57"
   },
   "outputs": [
    {
     "data": {
      "text/plain": [
       "a    0.0\n",
       "b    1.0\n",
       "c    2.0\n",
       "dtype: float64"
      ]
     },
     "execution_count": 21,
     "metadata": {},
     "output_type": "execute_result"
    }
   ],
   "source": [
    "sd"
   ]
  },
  {
   "cell_type": "markdown",
   "metadata": {
    "id": "dF2yCoLQN4Vf"
   },
   "source": [
    "### Definicja DataFrame \n",
    "\n",
    "DataFrame to dwuwymiarowa etykietowana struktura z kolumnami o potencjalnie róznych typach. \n",
    "\n",
    "Można o nich myśleć jak o **arkuszu excela, tablicy SQL albo o słowniku obiektów Series.**\n",
    "\n",
    "Jest to najczęściej używany typ biblioteki pandas.\n",
    "\n",
    "Podobnie jak Series, DataFrame może być stworzone na wiele sposobów, m.in. z:\n",
    "- słownika zawierającego 1d ndarrays, lists, dicts lub Series,\n",
    "- 2D numpy.ndarray,\n",
    "- recndarray,\n",
    "- Series,\n",
    "- z innego DataFrame."
   ]
  },
  {
   "cell_type": "markdown",
   "metadata": {
    "id": "DBDx_RJ2PGUu"
   },
   "source": [
    "#### Z listy słowników"
   ]
  },
  {
   "cell_type": "code",
   "execution_count": 22,
   "metadata": {
    "executionInfo": {
     "elapsed": 886,
     "status": "ok",
     "timestamp": 1607099291954,
     "user": {
      "displayName": "Tomasz Różański",
      "photoUrl": "https://lh4.googleusercontent.com/-CdAQaQI9V1E/AAAAAAAAAAI/AAAAAAAAAvI/rnNPiSw4f80/s64/photo.jpg",
      "userId": "09904144145241711927"
     },
     "user_tz": -60
    },
    "id": "jF-hW_18N17I"
   },
   "outputs": [],
   "source": [
    "sales = [{'account': 'Jones LLC', 'Jan': 150, 'Feb': 200,'Mar': 140},\n",
    "                 {'account': 'Alpha Co',  'Jan': 200, 'Feb': 210, 'Mar': 215},\n",
    "                 {'account': 'Blue Inc',  'Jan': 50,  'Feb': 90,  'Mar': 95 }]"
   ]
  },
  {
   "cell_type": "code",
   "execution_count": 23,
   "metadata": {
    "executionInfo": {
     "elapsed": 1116,
     "status": "ok",
     "timestamp": 1607099292559,
     "user": {
      "displayName": "Tomasz Różański",
      "photoUrl": "https://lh4.googleusercontent.com/-CdAQaQI9V1E/AAAAAAAAAAI/AAAAAAAAAvI/rnNPiSw4f80/s64/photo.jpg",
      "userId": "09904144145241711927"
     },
     "user_tz": -60
    },
    "id": "SKqIM59HPItR"
   },
   "outputs": [],
   "source": [
    "df = pd.DataFrame(sales)"
   ]
  },
  {
   "cell_type": "code",
   "execution_count": 24,
   "metadata": {
    "colab": {
     "base_uri": "https://localhost:8080/",
     "height": 142
    },
    "executionInfo": {
     "elapsed": 1075,
     "status": "ok",
     "timestamp": 1607099292893,
     "user": {
      "displayName": "Tomasz Różański",
      "photoUrl": "https://lh4.googleusercontent.com/-CdAQaQI9V1E/AAAAAAAAAAI/AAAAAAAAAvI/rnNPiSw4f80/s64/photo.jpg",
      "userId": "09904144145241711927"
     },
     "user_tz": -60
    },
    "id": "Q_pkP5sTPKBA",
    "outputId": "fa90f341-71a8-443c-cce1-f838b5e2527b"
   },
   "outputs": [
    {
     "data": {
      "text/html": [
       "<div>\n",
       "<style scoped>\n",
       "    .dataframe tbody tr th:only-of-type {\n",
       "        vertical-align: middle;\n",
       "    }\n",
       "\n",
       "    .dataframe tbody tr th {\n",
       "        vertical-align: top;\n",
       "    }\n",
       "\n",
       "    .dataframe thead th {\n",
       "        text-align: right;\n",
       "    }\n",
       "</style>\n",
       "<table border=\"1\" class=\"dataframe\">\n",
       "  <thead>\n",
       "    <tr style=\"text-align: right;\">\n",
       "      <th></th>\n",
       "      <th>account</th>\n",
       "      <th>Jan</th>\n",
       "      <th>Feb</th>\n",
       "      <th>Mar</th>\n",
       "    </tr>\n",
       "  </thead>\n",
       "  <tbody>\n",
       "    <tr>\n",
       "      <th>0</th>\n",
       "      <td>Jones LLC</td>\n",
       "      <td>150</td>\n",
       "      <td>200</td>\n",
       "      <td>140</td>\n",
       "    </tr>\n",
       "    <tr>\n",
       "      <th>1</th>\n",
       "      <td>Alpha Co</td>\n",
       "      <td>200</td>\n",
       "      <td>210</td>\n",
       "      <td>215</td>\n",
       "    </tr>\n",
       "    <tr>\n",
       "      <th>2</th>\n",
       "      <td>Blue Inc</td>\n",
       "      <td>50</td>\n",
       "      <td>90</td>\n",
       "      <td>95</td>\n",
       "    </tr>\n",
       "  </tbody>\n",
       "</table>\n",
       "</div>"
      ],
      "text/plain": [
       "     account  Jan  Feb  Mar\n",
       "0  Jones LLC  150  200  140\n",
       "1   Alpha Co  200  210  215\n",
       "2   Blue Inc   50   90   95"
      ]
     },
     "execution_count": 24,
     "metadata": {},
     "output_type": "execute_result"
    }
   ],
   "source": [
    "df"
   ]
  },
  {
   "cell_type": "code",
   "execution_count": 25,
   "metadata": {
    "colab": {
     "base_uri": "https://localhost:8080/"
    },
    "executionInfo": {
     "elapsed": 1336,
     "status": "ok",
     "timestamp": 1607099293541,
     "user": {
      "displayName": "Tomasz Różański",
      "photoUrl": "https://lh4.googleusercontent.com/-CdAQaQI9V1E/AAAAAAAAAAI/AAAAAAAAAvI/rnNPiSw4f80/s64/photo.jpg",
      "userId": "09904144145241711927"
     },
     "user_tz": -60
    },
    "id": "TmDiq3B5PKQ4",
    "outputId": "45bd86e6-7ccc-4fd6-b7cd-35ca5274bcbf"
   },
   "outputs": [
    {
     "name": "stdout",
     "output_type": "stream",
     "text": [
      "<class 'pandas.core.frame.DataFrame'>\n",
      "RangeIndex: 3 entries, 0 to 2\n",
      "Data columns (total 4 columns):\n",
      " #   Column   Non-Null Count  Dtype \n",
      "---  ------   --------------  ----- \n",
      " 0   account  3 non-null      object\n",
      " 1   Jan      3 non-null      int64 \n",
      " 2   Feb      3 non-null      int64 \n",
      " 3   Mar      3 non-null      int64 \n",
      "dtypes: int64(3), object(1)\n",
      "memory usage: 224.0+ bytes\n"
     ]
    }
   ],
   "source": [
    "df.info()"
   ]
  },
  {
   "cell_type": "code",
   "execution_count": 26,
   "metadata": {
    "colab": {
     "base_uri": "https://localhost:8080/"
    },
    "executionInfo": {
     "elapsed": 774,
     "status": "ok",
     "timestamp": 1607099300191,
     "user": {
      "displayName": "Tomasz Różański",
      "photoUrl": "https://lh4.googleusercontent.com/-CdAQaQI9V1E/AAAAAAAAAAI/AAAAAAAAAvI/rnNPiSw4f80/s64/photo.jpg",
      "userId": "09904144145241711927"
     },
     "user_tz": -60
    },
    "id": "WvpFYLIDPLwo",
    "outputId": "5cd70fa1-b2c2-4370-f8ea-e9d2fc71322f"
   },
   "outputs": [
    {
     "data": {
      "text/plain": [
       "RangeIndex(start=0, stop=3, step=1)"
      ]
     },
     "execution_count": 26,
     "metadata": {},
     "output_type": "execute_result"
    }
   ],
   "source": [
    "df.index"
   ]
  },
  {
   "cell_type": "code",
   "execution_count": 27,
   "metadata": {
    "executionInfo": {
     "elapsed": 873,
     "status": "ok",
     "timestamp": 1607099359270,
     "user": {
      "displayName": "Tomasz Różański",
      "photoUrl": "https://lh4.googleusercontent.com/-CdAQaQI9V1E/AAAAAAAAAAI/AAAAAAAAAvI/rnNPiSw4f80/s64/photo.jpg",
      "userId": "09904144145241711927"
     },
     "user_tz": -60
    },
    "id": "8gogg16NPNNw"
   },
   "outputs": [],
   "source": [
    "df= df.set_index('account')"
   ]
  },
  {
   "cell_type": "code",
   "execution_count": 28,
   "metadata": {
    "colab": {
     "base_uri": "https://localhost:8080/",
     "height": 173
    },
    "executionInfo": {
     "elapsed": 781,
     "status": "ok",
     "timestamp": 1607099364127,
     "user": {
      "displayName": "Tomasz Różański",
      "photoUrl": "https://lh4.googleusercontent.com/-CdAQaQI9V1E/AAAAAAAAAAI/AAAAAAAAAvI/rnNPiSw4f80/s64/photo.jpg",
      "userId": "09904144145241711927"
     },
     "user_tz": -60
    },
    "id": "L1pIxfzHPO6J",
    "outputId": "5e9ede1f-7c51-4ad5-a14e-ea051523dc85"
   },
   "outputs": [
    {
     "data": {
      "text/html": [
       "<div>\n",
       "<style scoped>\n",
       "    .dataframe tbody tr th:only-of-type {\n",
       "        vertical-align: middle;\n",
       "    }\n",
       "\n",
       "    .dataframe tbody tr th {\n",
       "        vertical-align: top;\n",
       "    }\n",
       "\n",
       "    .dataframe thead th {\n",
       "        text-align: right;\n",
       "    }\n",
       "</style>\n",
       "<table border=\"1\" class=\"dataframe\">\n",
       "  <thead>\n",
       "    <tr style=\"text-align: right;\">\n",
       "      <th></th>\n",
       "      <th>Jan</th>\n",
       "      <th>Feb</th>\n",
       "      <th>Mar</th>\n",
       "    </tr>\n",
       "    <tr>\n",
       "      <th>account</th>\n",
       "      <th></th>\n",
       "      <th></th>\n",
       "      <th></th>\n",
       "    </tr>\n",
       "  </thead>\n",
       "  <tbody>\n",
       "    <tr>\n",
       "      <th>Jones LLC</th>\n",
       "      <td>150</td>\n",
       "      <td>200</td>\n",
       "      <td>140</td>\n",
       "    </tr>\n",
       "    <tr>\n",
       "      <th>Alpha Co</th>\n",
       "      <td>200</td>\n",
       "      <td>210</td>\n",
       "      <td>215</td>\n",
       "    </tr>\n",
       "    <tr>\n",
       "      <th>Blue Inc</th>\n",
       "      <td>50</td>\n",
       "      <td>90</td>\n",
       "      <td>95</td>\n",
       "    </tr>\n",
       "  </tbody>\n",
       "</table>\n",
       "</div>"
      ],
      "text/plain": [
       "           Jan  Feb  Mar\n",
       "account                 \n",
       "Jones LLC  150  200  140\n",
       "Alpha Co   200  210  215\n",
       "Blue Inc    50   90   95"
      ]
     },
     "execution_count": 28,
     "metadata": {},
     "output_type": "execute_result"
    }
   ],
   "source": [
    "df"
   ]
  },
  {
   "cell_type": "code",
   "execution_count": 29,
   "metadata": {
    "executionInfo": {
     "elapsed": 776,
     "status": "ok",
     "timestamp": 1607099397099,
     "user": {
      "displayName": "Tomasz Różański",
      "photoUrl": "https://lh4.googleusercontent.com/-CdAQaQI9V1E/AAAAAAAAAAI/AAAAAAAAAvI/rnNPiSw4f80/s64/photo.jpg",
      "userId": "09904144145241711927"
     },
     "user_tz": -60
    },
    "id": "0eQUbhFxljsp"
   },
   "outputs": [],
   "source": [
    "df= df.transpose()"
   ]
  },
  {
   "cell_type": "code",
   "execution_count": 30,
   "metadata": {
    "colab": {
     "base_uri": "https://localhost:8080/",
     "height": 142
    },
    "executionInfo": {
     "elapsed": 1025,
     "status": "ok",
     "timestamp": 1607099399781,
     "user": {
      "displayName": "Tomasz Różański",
      "photoUrl": "https://lh4.googleusercontent.com/-CdAQaQI9V1E/AAAAAAAAAAI/AAAAAAAAAvI/rnNPiSw4f80/s64/photo.jpg",
      "userId": "09904144145241711927"
     },
     "user_tz": -60
    },
    "id": "8CfHpYV1lok4",
    "outputId": "a9d8cf56-3373-4caf-f540-24933efe1afb"
   },
   "outputs": [
    {
     "data": {
      "text/html": [
       "<div>\n",
       "<style scoped>\n",
       "    .dataframe tbody tr th:only-of-type {\n",
       "        vertical-align: middle;\n",
       "    }\n",
       "\n",
       "    .dataframe tbody tr th {\n",
       "        vertical-align: top;\n",
       "    }\n",
       "\n",
       "    .dataframe thead th {\n",
       "        text-align: right;\n",
       "    }\n",
       "</style>\n",
       "<table border=\"1\" class=\"dataframe\">\n",
       "  <thead>\n",
       "    <tr style=\"text-align: right;\">\n",
       "      <th>account</th>\n",
       "      <th>Jones LLC</th>\n",
       "      <th>Alpha Co</th>\n",
       "      <th>Blue Inc</th>\n",
       "    </tr>\n",
       "  </thead>\n",
       "  <tbody>\n",
       "    <tr>\n",
       "      <th>Jan</th>\n",
       "      <td>150</td>\n",
       "      <td>200</td>\n",
       "      <td>50</td>\n",
       "    </tr>\n",
       "    <tr>\n",
       "      <th>Feb</th>\n",
       "      <td>200</td>\n",
       "      <td>210</td>\n",
       "      <td>90</td>\n",
       "    </tr>\n",
       "    <tr>\n",
       "      <th>Mar</th>\n",
       "      <td>140</td>\n",
       "      <td>215</td>\n",
       "      <td>95</td>\n",
       "    </tr>\n",
       "  </tbody>\n",
       "</table>\n",
       "</div>"
      ],
      "text/plain": [
       "account  Jones LLC  Alpha Co  Blue Inc\n",
       "Jan            150       200        50\n",
       "Feb            200       210        90\n",
       "Mar            140       215        95"
      ]
     },
     "execution_count": 30,
     "metadata": {},
     "output_type": "execute_result"
    }
   ],
   "source": [
    "df"
   ]
  },
  {
   "cell_type": "markdown",
   "metadata": {
    "id": "PFdqeSFJPW21"
   },
   "source": [
    "#### Ze słownika Series lub innych słowników"
   ]
  },
  {
   "cell_type": "code",
   "execution_count": 31,
   "metadata": {
    "executionInfo": {
     "elapsed": 769,
     "status": "ok",
     "timestamp": 1607099416658,
     "user": {
      "displayName": "Tomasz Różański",
      "photoUrl": "https://lh4.googleusercontent.com/-CdAQaQI9V1E/AAAAAAAAAAI/AAAAAAAAAvI/rnNPiSw4f80/s64/photo.jpg",
      "userId": "09904144145241711927"
     },
     "user_tz": -60
    },
    "id": "xv2RpG0VPSPo"
   },
   "outputs": [],
   "source": [
    "d = {'one' : pd.Series([1., 2., 3.], index=['a', 'b', 'c']),\n",
    "     'two' : pd.Series([1., 2., 3., 4.], index=['a', 'b', 'c', 'd'])}"
   ]
  },
  {
   "cell_type": "code",
   "execution_count": 32,
   "metadata": {
    "executionInfo": {
     "elapsed": 808,
     "status": "ok",
     "timestamp": 1607099417043,
     "user": {
      "displayName": "Tomasz Różański",
      "photoUrl": "https://lh4.googleusercontent.com/-CdAQaQI9V1E/AAAAAAAAAAI/AAAAAAAAAvI/rnNPiSw4f80/s64/photo.jpg",
      "userId": "09904144145241711927"
     },
     "user_tz": -60
    },
    "id": "cebMCLz1PbHp"
   },
   "outputs": [],
   "source": [
    "df = pd.DataFrame(d)"
   ]
  },
  {
   "cell_type": "code",
   "execution_count": 33,
   "metadata": {
    "colab": {
     "base_uri": "https://localhost:8080/",
     "height": 173
    },
    "executionInfo": {
     "elapsed": 855,
     "status": "ok",
     "timestamp": 1607099417435,
     "user": {
      "displayName": "Tomasz Różański",
      "photoUrl": "https://lh4.googleusercontent.com/-CdAQaQI9V1E/AAAAAAAAAAI/AAAAAAAAAvI/rnNPiSw4f80/s64/photo.jpg",
      "userId": "09904144145241711927"
     },
     "user_tz": -60
    },
    "id": "ItbxA5muPcV3",
    "outputId": "dfbbd591-8eac-4e69-b518-e3a4c7202929"
   },
   "outputs": [
    {
     "data": {
      "text/html": [
       "<div>\n",
       "<style scoped>\n",
       "    .dataframe tbody tr th:only-of-type {\n",
       "        vertical-align: middle;\n",
       "    }\n",
       "\n",
       "    .dataframe tbody tr th {\n",
       "        vertical-align: top;\n",
       "    }\n",
       "\n",
       "    .dataframe thead th {\n",
       "        text-align: right;\n",
       "    }\n",
       "</style>\n",
       "<table border=\"1\" class=\"dataframe\">\n",
       "  <thead>\n",
       "    <tr style=\"text-align: right;\">\n",
       "      <th></th>\n",
       "      <th>one</th>\n",
       "      <th>two</th>\n",
       "    </tr>\n",
       "  </thead>\n",
       "  <tbody>\n",
       "    <tr>\n",
       "      <th>a</th>\n",
       "      <td>1.0</td>\n",
       "      <td>1.0</td>\n",
       "    </tr>\n",
       "    <tr>\n",
       "      <th>b</th>\n",
       "      <td>2.0</td>\n",
       "      <td>2.0</td>\n",
       "    </tr>\n",
       "    <tr>\n",
       "      <th>c</th>\n",
       "      <td>3.0</td>\n",
       "      <td>3.0</td>\n",
       "    </tr>\n",
       "    <tr>\n",
       "      <th>d</th>\n",
       "      <td>NaN</td>\n",
       "      <td>4.0</td>\n",
       "    </tr>\n",
       "  </tbody>\n",
       "</table>\n",
       "</div>"
      ],
      "text/plain": [
       "   one  two\n",
       "a  1.0  1.0\n",
       "b  2.0  2.0\n",
       "c  3.0  3.0\n",
       "d  NaN  4.0"
      ]
     },
     "execution_count": 33,
     "metadata": {},
     "output_type": "execute_result"
    }
   ],
   "source": [
    "df"
   ]
  },
  {
   "cell_type": "code",
   "execution_count": 34,
   "metadata": {
    "colab": {
     "base_uri": "https://localhost:8080/"
    },
    "executionInfo": {
     "elapsed": 1270,
     "status": "ok",
     "timestamp": 1607099438339,
     "user": {
      "displayName": "Tomasz Różański",
      "photoUrl": "https://lh4.googleusercontent.com/-CdAQaQI9V1E/AAAAAAAAAAI/AAAAAAAAAvI/rnNPiSw4f80/s64/photo.jpg",
      "userId": "09904144145241711927"
     },
     "user_tz": -60
    },
    "id": "QvcfGFgVPc83",
    "outputId": "dcc65b5e-89c4-4753-c54c-b3d8be807d2a"
   },
   "outputs": [
    {
     "name": "stdout",
     "output_type": "stream",
     "text": [
      "<class 'pandas.core.frame.DataFrame'>\n",
      "Index: 4 entries, a to d\n",
      "Data columns (total 2 columns):\n",
      " #   Column  Non-Null Count  Dtype  \n",
      "---  ------  --------------  -----  \n",
      " 0   one     3 non-null      float64\n",
      " 1   two     4 non-null      float64\n",
      "dtypes: float64(2)\n",
      "memory usage: 96.0+ bytes\n"
     ]
    }
   ],
   "source": [
    "df.info()"
   ]
  },
  {
   "cell_type": "code",
   "execution_count": 35,
   "metadata": {
    "colab": {
     "base_uri": "https://localhost:8080/",
     "height": 142
    },
    "executionInfo": {
     "elapsed": 1000,
     "status": "ok",
     "timestamp": 1607099488443,
     "user": {
      "displayName": "Tomasz Różański",
      "photoUrl": "https://lh4.googleusercontent.com/-CdAQaQI9V1E/AAAAAAAAAAI/AAAAAAAAAvI/rnNPiSw4f80/s64/photo.jpg",
      "userId": "09904144145241711927"
     },
     "user_tz": -60
    },
    "id": "lh4dfWPWPedf",
    "outputId": "ecaf4941-0bda-4f2b-9f08-a07fea8eefd0"
   },
   "outputs": [
    {
     "data": {
      "text/html": [
       "<div>\n",
       "<style scoped>\n",
       "    .dataframe tbody tr th:only-of-type {\n",
       "        vertical-align: middle;\n",
       "    }\n",
       "\n",
       "    .dataframe tbody tr th {\n",
       "        vertical-align: top;\n",
       "    }\n",
       "\n",
       "    .dataframe thead th {\n",
       "        text-align: right;\n",
       "    }\n",
       "</style>\n",
       "<table border=\"1\" class=\"dataframe\">\n",
       "  <thead>\n",
       "    <tr style=\"text-align: right;\">\n",
       "      <th></th>\n",
       "      <th>one</th>\n",
       "      <th>two</th>\n",
       "    </tr>\n",
       "  </thead>\n",
       "  <tbody>\n",
       "    <tr>\n",
       "      <th>d</th>\n",
       "      <td>NaN</td>\n",
       "      <td>4.0</td>\n",
       "    </tr>\n",
       "    <tr>\n",
       "      <th>b</th>\n",
       "      <td>2.0</td>\n",
       "      <td>2.0</td>\n",
       "    </tr>\n",
       "    <tr>\n",
       "      <th>a</th>\n",
       "      <td>1.0</td>\n",
       "      <td>1.0</td>\n",
       "    </tr>\n",
       "  </tbody>\n",
       "</table>\n",
       "</div>"
      ],
      "text/plain": [
       "   one  two\n",
       "d  NaN  4.0\n",
       "b  2.0  2.0\n",
       "a  1.0  1.0"
      ]
     },
     "execution_count": 35,
     "metadata": {},
     "output_type": "execute_result"
    }
   ],
   "source": [
    "pd.DataFrame(d, index=['d', 'b', 'a'])"
   ]
  },
  {
   "cell_type": "code",
   "execution_count": 36,
   "metadata": {
    "colab": {
     "base_uri": "https://localhost:8080/"
    },
    "executionInfo": {
     "elapsed": 763,
     "status": "ok",
     "timestamp": 1607099497629,
     "user": {
      "displayName": "Tomasz Różański",
      "photoUrl": "https://lh4.googleusercontent.com/-CdAQaQI9V1E/AAAAAAAAAAI/AAAAAAAAAvI/rnNPiSw4f80/s64/photo.jpg",
      "userId": "09904144145241711927"
     },
     "user_tz": -60
    },
    "id": "rwRcnTkVPhIH",
    "outputId": "268bc596-0259-47b2-9917-bfcc186eb7da"
   },
   "outputs": [
    {
     "data": {
      "text/plain": [
       "Index(['a', 'b', 'c', 'd'], dtype='object')"
      ]
     },
     "execution_count": 36,
     "metadata": {},
     "output_type": "execute_result"
    }
   ],
   "source": [
    "df.index"
   ]
  },
  {
   "cell_type": "code",
   "execution_count": 37,
   "metadata": {
    "colab": {
     "base_uri": "https://localhost:8080/"
    },
    "executionInfo": {
     "elapsed": 971,
     "status": "ok",
     "timestamp": 1607099502268,
     "user": {
      "displayName": "Tomasz Różański",
      "photoUrl": "https://lh4.googleusercontent.com/-CdAQaQI9V1E/AAAAAAAAAAI/AAAAAAAAAvI/rnNPiSw4f80/s64/photo.jpg",
      "userId": "09904144145241711927"
     },
     "user_tz": -60
    },
    "id": "k8EWNMU2PjMw",
    "outputId": "383f5e2d-a882-469f-95c9-b3337c212d05"
   },
   "outputs": [
    {
     "data": {
      "text/plain": [
       "Index(['one', 'two'], dtype='object')"
      ]
     },
     "execution_count": 37,
     "metadata": {},
     "output_type": "execute_result"
    }
   ],
   "source": [
    "df.columns"
   ]
  },
  {
   "cell_type": "markdown",
   "metadata": {
    "id": "r_Rupl2JPpY5"
   },
   "source": [
    "#### Ze słownika ndarrays lub list"
   ]
  },
  {
   "cell_type": "code",
   "execution_count": 38,
   "metadata": {
    "executionInfo": {
     "elapsed": 752,
     "status": "ok",
     "timestamp": 1607099521476,
     "user": {
      "displayName": "Tomasz Różański",
      "photoUrl": "https://lh4.googleusercontent.com/-CdAQaQI9V1E/AAAAAAAAAAI/AAAAAAAAAvI/rnNPiSw4f80/s64/photo.jpg",
      "userId": "09904144145241711927"
     },
     "user_tz": -60
    },
    "id": "EUPnDBz5Pl4P"
   },
   "outputs": [],
   "source": [
    "d = {'one' : [1., 2., 3., 4.], 'two' : [4., 3., 2., 1.]}"
   ]
  },
  {
   "cell_type": "code",
   "execution_count": 39,
   "metadata": {
    "colab": {
     "base_uri": "https://localhost:8080/",
     "height": 173
    },
    "executionInfo": {
     "elapsed": 1074,
     "status": "ok",
     "timestamp": 1607099523254,
     "user": {
      "displayName": "Tomasz Różański",
      "photoUrl": "https://lh4.googleusercontent.com/-CdAQaQI9V1E/AAAAAAAAAAI/AAAAAAAAAvI/rnNPiSw4f80/s64/photo.jpg",
      "userId": "09904144145241711927"
     },
     "user_tz": -60
    },
    "id": "ETraHIGuPvge",
    "outputId": "cdcb39a4-b1c7-47f4-8e28-846affe3276a"
   },
   "outputs": [
    {
     "data": {
      "text/html": [
       "<div>\n",
       "<style scoped>\n",
       "    .dataframe tbody tr th:only-of-type {\n",
       "        vertical-align: middle;\n",
       "    }\n",
       "\n",
       "    .dataframe tbody tr th {\n",
       "        vertical-align: top;\n",
       "    }\n",
       "\n",
       "    .dataframe thead th {\n",
       "        text-align: right;\n",
       "    }\n",
       "</style>\n",
       "<table border=\"1\" class=\"dataframe\">\n",
       "  <thead>\n",
       "    <tr style=\"text-align: right;\">\n",
       "      <th></th>\n",
       "      <th>one</th>\n",
       "      <th>two</th>\n",
       "    </tr>\n",
       "  </thead>\n",
       "  <tbody>\n",
       "    <tr>\n",
       "      <th>0</th>\n",
       "      <td>1.0</td>\n",
       "      <td>4.0</td>\n",
       "    </tr>\n",
       "    <tr>\n",
       "      <th>1</th>\n",
       "      <td>2.0</td>\n",
       "      <td>3.0</td>\n",
       "    </tr>\n",
       "    <tr>\n",
       "      <th>2</th>\n",
       "      <td>3.0</td>\n",
       "      <td>2.0</td>\n",
       "    </tr>\n",
       "    <tr>\n",
       "      <th>3</th>\n",
       "      <td>4.0</td>\n",
       "      <td>1.0</td>\n",
       "    </tr>\n",
       "  </tbody>\n",
       "</table>\n",
       "</div>"
      ],
      "text/plain": [
       "   one  two\n",
       "0  1.0  4.0\n",
       "1  2.0  3.0\n",
       "2  3.0  2.0\n",
       "3  4.0  1.0"
      ]
     },
     "execution_count": 39,
     "metadata": {},
     "output_type": "execute_result"
    }
   ],
   "source": [
    "pd.DataFrame(d)"
   ]
  },
  {
   "cell_type": "code",
   "execution_count": 40,
   "metadata": {
    "colab": {
     "base_uri": "https://localhost:8080/",
     "height": 173
    },
    "executionInfo": {
     "elapsed": 967,
     "status": "ok",
     "timestamp": 1607099531689,
     "user": {
      "displayName": "Tomasz Różański",
      "photoUrl": "https://lh4.googleusercontent.com/-CdAQaQI9V1E/AAAAAAAAAAI/AAAAAAAAAvI/rnNPiSw4f80/s64/photo.jpg",
      "userId": "09904144145241711927"
     },
     "user_tz": -60
    },
    "id": "kLNlcn46Pwnt",
    "outputId": "83f69432-41ed-48dc-f20e-181cfd60f240"
   },
   "outputs": [
    {
     "data": {
      "text/html": [
       "<div>\n",
       "<style scoped>\n",
       "    .dataframe tbody tr th:only-of-type {\n",
       "        vertical-align: middle;\n",
       "    }\n",
       "\n",
       "    .dataframe tbody tr th {\n",
       "        vertical-align: top;\n",
       "    }\n",
       "\n",
       "    .dataframe thead th {\n",
       "        text-align: right;\n",
       "    }\n",
       "</style>\n",
       "<table border=\"1\" class=\"dataframe\">\n",
       "  <thead>\n",
       "    <tr style=\"text-align: right;\">\n",
       "      <th></th>\n",
       "      <th>one</th>\n",
       "      <th>two</th>\n",
       "    </tr>\n",
       "  </thead>\n",
       "  <tbody>\n",
       "    <tr>\n",
       "      <th>a</th>\n",
       "      <td>1.0</td>\n",
       "      <td>4.0</td>\n",
       "    </tr>\n",
       "    <tr>\n",
       "      <th>b</th>\n",
       "      <td>2.0</td>\n",
       "      <td>3.0</td>\n",
       "    </tr>\n",
       "    <tr>\n",
       "      <th>c</th>\n",
       "      <td>3.0</td>\n",
       "      <td>2.0</td>\n",
       "    </tr>\n",
       "    <tr>\n",
       "      <th>d</th>\n",
       "      <td>4.0</td>\n",
       "      <td>1.0</td>\n",
       "    </tr>\n",
       "  </tbody>\n",
       "</table>\n",
       "</div>"
      ],
      "text/plain": [
       "   one  two\n",
       "a  1.0  4.0\n",
       "b  2.0  3.0\n",
       "c  3.0  2.0\n",
       "d  4.0  1.0"
      ]
     },
     "execution_count": 40,
     "metadata": {},
     "output_type": "execute_result"
    }
   ],
   "source": [
    "pd.DataFrame(d, index=['a', 'b', 'c', 'd'])"
   ]
  },
  {
   "cell_type": "markdown",
   "metadata": {
    "id": "o8s5o8ngP1xk"
   },
   "source": [
    "#### Z listy słowników"
   ]
  },
  {
   "cell_type": "code",
   "execution_count": 41,
   "metadata": {
    "executionInfo": {
     "elapsed": 884,
     "status": "ok",
     "timestamp": 1607099577646,
     "user": {
      "displayName": "Tomasz Różański",
      "photoUrl": "https://lh4.googleusercontent.com/-CdAQaQI9V1E/AAAAAAAAAAI/AAAAAAAAAvI/rnNPiSw4f80/s64/photo.jpg",
      "userId": "09904144145241711927"
     },
     "user_tz": -60
    },
    "id": "anj68hiaPyKp"
   },
   "outputs": [],
   "source": [
    "data2 = [{'a': 1, 'b': 2}, {'a': 5, 'b': 10, 'c': 20}]"
   ]
  },
  {
   "cell_type": "code",
   "execution_count": 42,
   "metadata": {
    "colab": {
     "base_uri": "https://localhost:8080/",
     "height": 111
    },
    "executionInfo": {
     "elapsed": 852,
     "status": "ok",
     "timestamp": 1607099578014,
     "user": {
      "displayName": "Tomasz Różański",
      "photoUrl": "https://lh4.googleusercontent.com/-CdAQaQI9V1E/AAAAAAAAAAI/AAAAAAAAAvI/rnNPiSw4f80/s64/photo.jpg",
      "userId": "09904144145241711927"
     },
     "user_tz": -60
    },
    "id": "F9IDjvngP3P-",
    "outputId": "d6e0d8b9-768e-4186-8472-d0b441ebfec9"
   },
   "outputs": [
    {
     "data": {
      "text/html": [
       "<div>\n",
       "<style scoped>\n",
       "    .dataframe tbody tr th:only-of-type {\n",
       "        vertical-align: middle;\n",
       "    }\n",
       "\n",
       "    .dataframe tbody tr th {\n",
       "        vertical-align: top;\n",
       "    }\n",
       "\n",
       "    .dataframe thead th {\n",
       "        text-align: right;\n",
       "    }\n",
       "</style>\n",
       "<table border=\"1\" class=\"dataframe\">\n",
       "  <thead>\n",
       "    <tr style=\"text-align: right;\">\n",
       "      <th></th>\n",
       "      <th>a</th>\n",
       "      <th>b</th>\n",
       "      <th>c</th>\n",
       "    </tr>\n",
       "  </thead>\n",
       "  <tbody>\n",
       "    <tr>\n",
       "      <th>0</th>\n",
       "      <td>1</td>\n",
       "      <td>2</td>\n",
       "      <td>NaN</td>\n",
       "    </tr>\n",
       "    <tr>\n",
       "      <th>1</th>\n",
       "      <td>5</td>\n",
       "      <td>10</td>\n",
       "      <td>20.0</td>\n",
       "    </tr>\n",
       "  </tbody>\n",
       "</table>\n",
       "</div>"
      ],
      "text/plain": [
       "   a   b     c\n",
       "0  1   2   NaN\n",
       "1  5  10  20.0"
      ]
     },
     "execution_count": 42,
     "metadata": {},
     "output_type": "execute_result"
    }
   ],
   "source": [
    "pd.DataFrame(data2)"
   ]
  },
  {
   "cell_type": "code",
   "execution_count": 43,
   "metadata": {
    "colab": {
     "base_uri": "https://localhost:8080/",
     "height": 111
    },
    "executionInfo": {
     "elapsed": 1120,
     "status": "ok",
     "timestamp": 1607099580762,
     "user": {
      "displayName": "Tomasz Różański",
      "photoUrl": "https://lh4.googleusercontent.com/-CdAQaQI9V1E/AAAAAAAAAAI/AAAAAAAAAvI/rnNPiSw4f80/s64/photo.jpg",
      "userId": "09904144145241711927"
     },
     "user_tz": -60
    },
    "id": "sn5T10h5P4ml",
    "outputId": "270c8a58-a1ee-4f93-f057-b4f35207e8e8"
   },
   "outputs": [
    {
     "data": {
      "text/html": [
       "<div>\n",
       "<style scoped>\n",
       "    .dataframe tbody tr th:only-of-type {\n",
       "        vertical-align: middle;\n",
       "    }\n",
       "\n",
       "    .dataframe tbody tr th {\n",
       "        vertical-align: top;\n",
       "    }\n",
       "\n",
       "    .dataframe thead th {\n",
       "        text-align: right;\n",
       "    }\n",
       "</style>\n",
       "<table border=\"1\" class=\"dataframe\">\n",
       "  <thead>\n",
       "    <tr style=\"text-align: right;\">\n",
       "      <th></th>\n",
       "      <th>a</th>\n",
       "      <th>b</th>\n",
       "      <th>c</th>\n",
       "    </tr>\n",
       "  </thead>\n",
       "  <tbody>\n",
       "    <tr>\n",
       "      <th>first</th>\n",
       "      <td>1</td>\n",
       "      <td>2</td>\n",
       "      <td>NaN</td>\n",
       "    </tr>\n",
       "    <tr>\n",
       "      <th>second</th>\n",
       "      <td>5</td>\n",
       "      <td>10</td>\n",
       "      <td>20.0</td>\n",
       "    </tr>\n",
       "  </tbody>\n",
       "</table>\n",
       "</div>"
      ],
      "text/plain": [
       "        a   b     c\n",
       "first   1   2   NaN\n",
       "second  5  10  20.0"
      ]
     },
     "execution_count": 43,
     "metadata": {},
     "output_type": "execute_result"
    }
   ],
   "source": [
    "pd.DataFrame(data2, index=['first', 'second'])"
   ]
  },
  {
   "cell_type": "code",
   "execution_count": 44,
   "metadata": {
    "colab": {
     "base_uri": "https://localhost:8080/",
     "height": 111
    },
    "executionInfo": {
     "elapsed": 1002,
     "status": "ok",
     "timestamp": 1607099584769,
     "user": {
      "displayName": "Tomasz Różański",
      "photoUrl": "https://lh4.googleusercontent.com/-CdAQaQI9V1E/AAAAAAAAAAI/AAAAAAAAAvI/rnNPiSw4f80/s64/photo.jpg",
      "userId": "09904144145241711927"
     },
     "user_tz": -60
    },
    "id": "N2YQI97vP6NH",
    "outputId": "f91674d2-f79e-4e0d-b5aa-a2b8180c3d72"
   },
   "outputs": [
    {
     "data": {
      "text/html": [
       "<div>\n",
       "<style scoped>\n",
       "    .dataframe tbody tr th:only-of-type {\n",
       "        vertical-align: middle;\n",
       "    }\n",
       "\n",
       "    .dataframe tbody tr th {\n",
       "        vertical-align: top;\n",
       "    }\n",
       "\n",
       "    .dataframe thead th {\n",
       "        text-align: right;\n",
       "    }\n",
       "</style>\n",
       "<table border=\"1\" class=\"dataframe\">\n",
       "  <thead>\n",
       "    <tr style=\"text-align: right;\">\n",
       "      <th></th>\n",
       "      <th>a</th>\n",
       "      <th>b</th>\n",
       "    </tr>\n",
       "  </thead>\n",
       "  <tbody>\n",
       "    <tr>\n",
       "      <th>0</th>\n",
       "      <td>1</td>\n",
       "      <td>2</td>\n",
       "    </tr>\n",
       "    <tr>\n",
       "      <th>1</th>\n",
       "      <td>5</td>\n",
       "      <td>10</td>\n",
       "    </tr>\n",
       "  </tbody>\n",
       "</table>\n",
       "</div>"
      ],
      "text/plain": [
       "   a   b\n",
       "0  1   2\n",
       "1  5  10"
      ]
     },
     "execution_count": 44,
     "metadata": {},
     "output_type": "execute_result"
    }
   ],
   "source": [
    "pd.DataFrame(data2, columns=['a', 'b'])"
   ]
  },
  {
   "cell_type": "markdown",
   "metadata": {
    "id": "hhbGfpNlQEkz"
   },
   "source": [
    "## IO\n",
    "\n",
    "Zaprezentuję jedynie wczytywanie z plików CSV, ale pracować można także z tablicami **SQL** oraz z plikami **.fits**. \n",
    "\n",
    "Funkcja do wczytywania plków csv: https://pandas.pydata.org/pandas-docs/stable/reference/api/pandas.read_csv.html"
   ]
  },
  {
   "cell_type": "code",
   "execution_count": 46,
   "metadata": {
    "executionInfo": {
     "elapsed": 789,
     "status": "ok",
     "timestamp": 1607099725003,
     "user": {
      "displayName": "Tomasz Różański",
      "photoUrl": "https://lh4.googleusercontent.com/-CdAQaQI9V1E/AAAAAAAAAAI/AAAAAAAAAvI/rnNPiSw4f80/s64/photo.jpg",
      "userId": "09904144145241711927"
     },
     "user_tz": -60
    },
    "id": "jIedVUedQ7TC"
   },
   "outputs": [],
   "source": [
    "import os\n",
    "import pandas as pd\n",
    "import matplotlib.pyplot as plt\n",
    "# Przygotowanie ścieżki do pliku:\n",
    "data_directory= os.path.join(\"..\",\"data\") # Jeżeli zapisaliśmy dane gdzieś indziej musimy tutaj to zmienić.\n",
    "data_path= os.path.join(data_directory, \"pandas_data/galaxy_sample.csv\")"
   ]
  },
  {
   "cell_type": "code",
   "execution_count": 47,
   "metadata": {
    "colab": {
     "base_uri": "https://localhost:8080/"
    },
    "executionInfo": {
     "elapsed": 809,
     "status": "ok",
     "timestamp": 1607099727330,
     "user": {
      "displayName": "Tomasz Różański",
      "photoUrl": "https://lh4.googleusercontent.com/-CdAQaQI9V1E/AAAAAAAAAAI/AAAAAAAAAvI/rnNPiSw4f80/s64/photo.jpg",
      "userId": "09904144145241711927"
     },
     "user_tz": -60
    },
    "id": "6N8rPa8zRgvf",
    "outputId": "a09d835c-7147-4cb4-e2d1-af66a1be748c"
   },
   "outputs": [
    {
     "name": "stdout",
     "output_type": "stream",
     "text": [
      "# This catalog has been produced on behalf of Jorge Carretero (jorgecarreteropalacios@gmail.com) with ID #1365.\r\n",
      "# It took 0:01:07 (h:mm:ss) to complete and the SQL issued was:\r\n",
      "# \r\n",
      "# SELECT unique_gal_id, ra_gal, dec_gal, z_cgal, z_cgal_v, lmhalo, (mr_gal - 0.8 * (atan(1.5 * z_cgal)- 0.1489)) AS abs_mag, gr_gal AS color, (des_asahi_full_i_true - 0.8 * (atan(1.5 * z_cgal)- 0.1489)) AS app_mag FROM micecatv2_0_view TABLESAMPLE (BUCKET 1 OUT OF 2048)\r\n",
      "# \r\n",
      "# Please, remember to follow the citation guide if you use any of this data in your work.\r\n",
      "# \r\n",
      "# Generated by CosmoHub (https://cosmohub.pic.es) on 2017-09-08 06:48:53.790000 UTC.\r\n",
      "unique_gal_id,ra_gal,dec_gal,z_cgal,z_cgal_v,lmhalo,abs_mag,color,app_mag\r\n",
      "28581888,6.322946,25.82068,0.30917,0.30894,13.5638,-19.107266531240747,0.8683,20.77373398755808\r\n",
      "6686720,32.696644,53.073577,0.17156,0.16844,14.4175,-16.58748015323386,0.8183,21.80361977657571\r\n",
      "23693312,17.699937,75.128659,0.7227,0.72423,11.4068,-19.40324439630544,0.5311,22.553554157161358\r\n",
      "6115328,61.603497,59.016913,0.21891,0.21605,13.9224,-16.929097189164242,0.178,22.106301294112125\r\n",
      "8955904,32.202269,71.912705,0.29446,0.29086,13.2412,-15.597617325985594,0.1631,24.230382742678955\r\n",
      "12351488,41.511403,78.611159,0.76228,0.75945,13.7969,-18.716348138800523,0.8499,23.537352117547133\r\n",
      "15034368,36.454818,1.470759,0.16827,0.16882,12.4438,-16.753473599612725,0.4932,21.75932661706208\r\n",
      "17098752,22.305408,32.920644,0.19433,0.19137,12.1769,-16.021588954690156,0.1543,22.86121114754373\r\n",
      "15955968,30.081703,6.398922,0.18972,0.1857,13.6578,-15.146480886677807,0.3872,23.614318521281177\r\n",
      "17274880,16.696839,21.846449,0.19777,0.19551,13.7144,-14.924288406743717,0.2035,23.980410918817807\r\n",
      "14092288,3.541733,85.717794,1.31216,1.31286,11.5322,-19.98245272930953,0.5755,23.95354809466508\r\n",
      "25870336,5.528031,2.875193,0.21961,0.21972,11.6945,-18.44865593197829,0.4378,20.672544629545147\r\n",
      "18204672,12.074143,52.012108,0.22054,0.22186,12.4425,-17.070662557153483,0.3652,22.121537149877767\r\n",
      "474025984,35.962536,43.925263,0.33557,0.33542,10.6528,-15.86584273397462,0.3234,24.258056725864247\r\n",
      "490539008,50.947777,47.746368,0.52318,0.52377,10.847,-16.736888047898713,0.5417,24.525811079298553\r\n",
      "486078464,82.925868,40.278724,0.43548,0.43453,10.7899,-16.574388766204994,0.4893,24.2242123843077\r\n",
      "492756992,39.031435,29.778038,0.50572,0.50422,10.8007,-16.679455657486493,0.3927,24.55894384812874\r\n",
      "497823744,60.660616,2.134763,0.44947,0.44761,10.7859,-16.56814253669491,0.3134,24.27155816215763\r\n",
      "499359744,58.234774,38.335735,0.5406,0.5412,10.8696,-17.01766122837339,0.5047,24.23103795985903\r\n",
      "475473920,40.885934,66.26802,0.47488,0.47545,10.7638,-16.48843737798432,0.5151,24.55796269220611\r\n",
      "480016384,18.843799,4.63252,0.35112,0.34933,10.8375,-16.71459043721701,0.3904,23.555308931069124\r\n"
     ]
    }
   ],
   "source": [
    "!head -30 {data_path}"
   ]
  },
  {
   "cell_type": "code",
   "execution_count": 48,
   "metadata": {
    "colab": {
     "base_uri": "https://localhost:8080/"
    },
    "executionInfo": {
     "elapsed": 794,
     "status": "ok",
     "timestamp": 1607100098641,
     "user": {
      "displayName": "Tomasz Różański",
      "photoUrl": "https://lh4.googleusercontent.com/-CdAQaQI9V1E/AAAAAAAAAAI/AAAAAAAAAvI/rnNPiSw4f80/s64/photo.jpg",
      "userId": "09904144145241711927"
     },
     "user_tz": -60
    },
    "id": "B4lKrzhToN7S",
    "outputId": "c26a5aab-980b-4a57-8b4c-da4e26d01aa1"
   },
   "outputs": [
    {
     "name": "stdout",
     "output_type": "stream",
     "text": [
      "61456384,86.53829,14.352161,0.14028,0.14349,13.8817,-14.45119540825824,0.7766,23.48320515021344\r\n",
      "48244736,10.330761,15.381618,0.64717,0.64651,11.6325,-19.97822762045092,0.6734,21.861671442659432\r\n",
      "53536768,4.038207,22.9018,0.92618,0.92719,12.6905,-20.333802931012343,0.4837,22.52959657460289\r\n",
      "72990720,34.863831,2.792849,0.19577,0.19544,12.4254,-16.18298123008797,0.7664,22.620619081191325\r\n",
      "63993856,68.025492,34.740194,0.20558,0.20466,13.8767,-14.26427450495626,0.3934,24.659826370898234\r\n"
     ]
    }
   ],
   "source": [
    "!tail -5 {data_path}"
   ]
  },
  {
   "cell_type": "code",
   "execution_count": 49,
   "metadata": {
    "executionInfo": {
     "elapsed": 1079,
     "status": "ok",
     "timestamp": 1607099795784,
     "user": {
      "displayName": "Tomasz Różański",
      "photoUrl": "https://lh4.googleusercontent.com/-CdAQaQI9V1E/AAAAAAAAAAI/AAAAAAAAAvI/rnNPiSw4f80/s64/photo.jpg",
      "userId": "09904144145241711927"
     },
     "user_tz": -60
    },
    "id": "rrVzEfEXRXl8"
   },
   "outputs": [],
   "source": [
    "unique_gal_id_field = 'unique_gal_id'"
   ]
  },
  {
   "cell_type": "code",
   "execution_count": 52,
   "metadata": {
    "executionInfo": {
     "elapsed": 935,
     "status": "ok",
     "timestamp": 1607100035132,
     "user": {
      "displayName": "Tomasz Różański",
      "photoUrl": "https://lh4.googleusercontent.com/-CdAQaQI9V1E/AAAAAAAAAAI/AAAAAAAAAvI/rnNPiSw4f80/s64/photo.jpg",
      "userId": "09904144145241711927"
     },
     "user_tz": -60
    },
    "id": "5WZFLCGcRdjK"
   },
   "outputs": [],
   "source": [
    "galaxy_sample = pd.read_csv(data_path, sep=',', index_col = unique_gal_id_field, comment='#', na_values = '\\\\N')"
   ]
  },
  {
   "cell_type": "code",
   "execution_count": 53,
   "metadata": {
    "colab": {
     "base_uri": "https://localhost:8080/",
     "height": 235
    },
    "executionInfo": {
     "elapsed": 542,
     "status": "ok",
     "timestamp": 1607100035133,
     "user": {
      "displayName": "Tomasz Różański",
      "photoUrl": "https://lh4.googleusercontent.com/-CdAQaQI9V1E/AAAAAAAAAAI/AAAAAAAAAvI/rnNPiSw4f80/s64/photo.jpg",
      "userId": "09904144145241711927"
     },
     "user_tz": -60
    },
    "id": "h3GGxWtDR0b1",
    "outputId": "847fb359-ac68-4c50-ca69-6f000d309533"
   },
   "outputs": [
    {
     "data": {
      "text/html": [
       "<div>\n",
       "<style scoped>\n",
       "    .dataframe tbody tr th:only-of-type {\n",
       "        vertical-align: middle;\n",
       "    }\n",
       "\n",
       "    .dataframe tbody tr th {\n",
       "        vertical-align: top;\n",
       "    }\n",
       "\n",
       "    .dataframe thead th {\n",
       "        text-align: right;\n",
       "    }\n",
       "</style>\n",
       "<table border=\"1\" class=\"dataframe\">\n",
       "  <thead>\n",
       "    <tr style=\"text-align: right;\">\n",
       "      <th></th>\n",
       "      <th>ra_gal</th>\n",
       "      <th>dec_gal</th>\n",
       "      <th>z_cgal</th>\n",
       "      <th>z_cgal_v</th>\n",
       "      <th>lmhalo</th>\n",
       "      <th>abs_mag</th>\n",
       "      <th>color</th>\n",
       "      <th>app_mag</th>\n",
       "    </tr>\n",
       "    <tr>\n",
       "      <th>unique_gal_id</th>\n",
       "      <th></th>\n",
       "      <th></th>\n",
       "      <th></th>\n",
       "      <th></th>\n",
       "      <th></th>\n",
       "      <th></th>\n",
       "      <th></th>\n",
       "      <th></th>\n",
       "    </tr>\n",
       "  </thead>\n",
       "  <tbody>\n",
       "    <tr>\n",
       "      <th>28581888</th>\n",
       "      <td>6.322946</td>\n",
       "      <td>25.820680</td>\n",
       "      <td>0.30917</td>\n",
       "      <td>0.30894</td>\n",
       "      <td>13.5638</td>\n",
       "      <td>-19.107267</td>\n",
       "      <td>0.8683</td>\n",
       "      <td>20.773734</td>\n",
       "    </tr>\n",
       "    <tr>\n",
       "      <th>6686720</th>\n",
       "      <td>32.696644</td>\n",
       "      <td>53.073577</td>\n",
       "      <td>0.17156</td>\n",
       "      <td>0.16844</td>\n",
       "      <td>14.4175</td>\n",
       "      <td>-16.587480</td>\n",
       "      <td>0.8183</td>\n",
       "      <td>21.803620</td>\n",
       "    </tr>\n",
       "    <tr>\n",
       "      <th>23693312</th>\n",
       "      <td>17.699937</td>\n",
       "      <td>75.128659</td>\n",
       "      <td>0.72270</td>\n",
       "      <td>0.72423</td>\n",
       "      <td>11.4068</td>\n",
       "      <td>-19.403244</td>\n",
       "      <td>0.5311</td>\n",
       "      <td>22.553554</td>\n",
       "    </tr>\n",
       "    <tr>\n",
       "      <th>6115328</th>\n",
       "      <td>61.603497</td>\n",
       "      <td>59.016913</td>\n",
       "      <td>0.21891</td>\n",
       "      <td>0.21605</td>\n",
       "      <td>13.9224</td>\n",
       "      <td>-16.929097</td>\n",
       "      <td>0.1780</td>\n",
       "      <td>22.106301</td>\n",
       "    </tr>\n",
       "    <tr>\n",
       "      <th>8955904</th>\n",
       "      <td>32.202269</td>\n",
       "      <td>71.912705</td>\n",
       "      <td>0.29446</td>\n",
       "      <td>0.29086</td>\n",
       "      <td>13.2412</td>\n",
       "      <td>-15.597617</td>\n",
       "      <td>0.1631</td>\n",
       "      <td>24.230383</td>\n",
       "    </tr>\n",
       "  </tbody>\n",
       "</table>\n",
       "</div>"
      ],
      "text/plain": [
       "                  ra_gal    dec_gal   z_cgal  z_cgal_v   lmhalo    abs_mag  \\\n",
       "unique_gal_id                                                                \n",
       "28581888        6.322946  25.820680  0.30917   0.30894  13.5638 -19.107267   \n",
       "6686720        32.696644  53.073577  0.17156   0.16844  14.4175 -16.587480   \n",
       "23693312       17.699937  75.128659  0.72270   0.72423  11.4068 -19.403244   \n",
       "6115328        61.603497  59.016913  0.21891   0.21605  13.9224 -16.929097   \n",
       "8955904        32.202269  71.912705  0.29446   0.29086  13.2412 -15.597617   \n",
       "\n",
       "                color    app_mag  \n",
       "unique_gal_id                     \n",
       "28581888       0.8683  20.773734  \n",
       "6686720        0.8183  21.803620  \n",
       "23693312       0.5311  22.553554  \n",
       "6115328        0.1780  22.106301  \n",
       "8955904        0.1631  24.230383  "
      ]
     },
     "execution_count": 53,
     "metadata": {},
     "output_type": "execute_result"
    }
   ],
   "source": [
    "galaxy_sample.head()"
   ]
  },
  {
   "cell_type": "code",
   "execution_count": 54,
   "metadata": {
    "colab": {
     "base_uri": "https://localhost:8080/",
     "height": 390
    },
    "executionInfo": {
     "elapsed": 782,
     "status": "ok",
     "timestamp": 1607100041558,
     "user": {
      "displayName": "Tomasz Różański",
      "photoUrl": "https://lh4.googleusercontent.com/-CdAQaQI9V1E/AAAAAAAAAAI/AAAAAAAAAvI/rnNPiSw4f80/s64/photo.jpg",
      "userId": "09904144145241711927"
     },
     "user_tz": -60
    },
    "id": "tjNmmYwaR58a",
    "outputId": "3240bbf1-4f79-4865-8cc5-938740d93fa1"
   },
   "outputs": [
    {
     "data": {
      "text/html": [
       "<div>\n",
       "<style scoped>\n",
       "    .dataframe tbody tr th:only-of-type {\n",
       "        vertical-align: middle;\n",
       "    }\n",
       "\n",
       "    .dataframe tbody tr th {\n",
       "        vertical-align: top;\n",
       "    }\n",
       "\n",
       "    .dataframe thead th {\n",
       "        text-align: right;\n",
       "    }\n",
       "</style>\n",
       "<table border=\"1\" class=\"dataframe\">\n",
       "  <thead>\n",
       "    <tr style=\"text-align: right;\">\n",
       "      <th></th>\n",
       "      <th>ra_gal</th>\n",
       "      <th>dec_gal</th>\n",
       "      <th>z_cgal</th>\n",
       "      <th>z_cgal_v</th>\n",
       "      <th>lmhalo</th>\n",
       "      <th>abs_mag</th>\n",
       "      <th>color</th>\n",
       "      <th>app_mag</th>\n",
       "    </tr>\n",
       "    <tr>\n",
       "      <th>unique_gal_id</th>\n",
       "      <th></th>\n",
       "      <th></th>\n",
       "      <th></th>\n",
       "      <th></th>\n",
       "      <th></th>\n",
       "      <th></th>\n",
       "      <th></th>\n",
       "      <th></th>\n",
       "    </tr>\n",
       "  </thead>\n",
       "  <tbody>\n",
       "    <tr>\n",
       "      <th>65386496</th>\n",
       "      <td>66.370770</td>\n",
       "      <td>48.483216</td>\n",
       "      <td>0.23369</td>\n",
       "      <td>0.23318</td>\n",
       "      <td>13.0960</td>\n",
       "      <td>-16.209401</td>\n",
       "      <td>0.8161</td>\n",
       "      <td>22.876399</td>\n",
       "    </tr>\n",
       "    <tr>\n",
       "      <th>35108864</th>\n",
       "      <td>15.013475</td>\n",
       "      <td>0.029625</td>\n",
       "      <td>0.34678</td>\n",
       "      <td>0.34580</td>\n",
       "      <td>11.8156</td>\n",
       "      <td>-20.119203</td>\n",
       "      <td>0.7126</td>\n",
       "      <td>20.080397</td>\n",
       "    </tr>\n",
       "    <tr>\n",
       "      <th>65302528</th>\n",
       "      <td>56.558624</td>\n",
       "      <td>36.787993</td>\n",
       "      <td>0.24120</td>\n",
       "      <td>0.24362</td>\n",
       "      <td>12.4450</td>\n",
       "      <td>-16.964598</td>\n",
       "      <td>0.3157</td>\n",
       "      <td>22.367401</td>\n",
       "    </tr>\n",
       "    <tr>\n",
       "      <th>37863424</th>\n",
       "      <td>9.710972</td>\n",
       "      <td>34.448477</td>\n",
       "      <td>0.46939</td>\n",
       "      <td>0.46876</td>\n",
       "      <td>12.2258</td>\n",
       "      <td>-20.530049</td>\n",
       "      <td>0.7172</td>\n",
       "      <td>20.485350</td>\n",
       "    </tr>\n",
       "    <tr>\n",
       "      <th>75610112</th>\n",
       "      <td>43.292052</td>\n",
       "      <td>41.488275</td>\n",
       "      <td>0.28673</td>\n",
       "      <td>0.28792</td>\n",
       "      <td>13.6292</td>\n",
       "      <td>-15.888523</td>\n",
       "      <td>0.3105</td>\n",
       "      <td>23.902177</td>\n",
       "    </tr>\n",
       "    <tr>\n",
       "      <th>61456384</th>\n",
       "      <td>86.538290</td>\n",
       "      <td>14.352161</td>\n",
       "      <td>0.14028</td>\n",
       "      <td>0.14349</td>\n",
       "      <td>13.8817</td>\n",
       "      <td>-14.451195</td>\n",
       "      <td>0.7766</td>\n",
       "      <td>23.483205</td>\n",
       "    </tr>\n",
       "    <tr>\n",
       "      <th>48244736</th>\n",
       "      <td>10.330761</td>\n",
       "      <td>15.381618</td>\n",
       "      <td>0.64717</td>\n",
       "      <td>0.64651</td>\n",
       "      <td>11.6325</td>\n",
       "      <td>-19.978228</td>\n",
       "      <td>0.6734</td>\n",
       "      <td>21.861671</td>\n",
       "    </tr>\n",
       "    <tr>\n",
       "      <th>53536768</th>\n",
       "      <td>4.038207</td>\n",
       "      <td>22.901800</td>\n",
       "      <td>0.92618</td>\n",
       "      <td>0.92719</td>\n",
       "      <td>12.6905</td>\n",
       "      <td>-20.333803</td>\n",
       "      <td>0.4837</td>\n",
       "      <td>22.529597</td>\n",
       "    </tr>\n",
       "    <tr>\n",
       "      <th>72990720</th>\n",
       "      <td>34.863831</td>\n",
       "      <td>2.792849</td>\n",
       "      <td>0.19577</td>\n",
       "      <td>0.19544</td>\n",
       "      <td>12.4254</td>\n",
       "      <td>-16.182981</td>\n",
       "      <td>0.7664</td>\n",
       "      <td>22.620619</td>\n",
       "    </tr>\n",
       "    <tr>\n",
       "      <th>63993856</th>\n",
       "      <td>68.025492</td>\n",
       "      <td>34.740194</td>\n",
       "      <td>0.20558</td>\n",
       "      <td>0.20466</td>\n",
       "      <td>13.8767</td>\n",
       "      <td>-14.264275</td>\n",
       "      <td>0.3934</td>\n",
       "      <td>24.659826</td>\n",
       "    </tr>\n",
       "  </tbody>\n",
       "</table>\n",
       "</div>"
      ],
      "text/plain": [
       "                  ra_gal    dec_gal   z_cgal  z_cgal_v   lmhalo    abs_mag  \\\n",
       "unique_gal_id                                                                \n",
       "65386496       66.370770  48.483216  0.23369   0.23318  13.0960 -16.209401   \n",
       "35108864       15.013475   0.029625  0.34678   0.34580  11.8156 -20.119203   \n",
       "65302528       56.558624  36.787993  0.24120   0.24362  12.4450 -16.964598   \n",
       "37863424        9.710972  34.448477  0.46939   0.46876  12.2258 -20.530049   \n",
       "75610112       43.292052  41.488275  0.28673   0.28792  13.6292 -15.888523   \n",
       "61456384       86.538290  14.352161  0.14028   0.14349  13.8817 -14.451195   \n",
       "48244736       10.330761  15.381618  0.64717   0.64651  11.6325 -19.978228   \n",
       "53536768        4.038207  22.901800  0.92618   0.92719  12.6905 -20.333803   \n",
       "72990720       34.863831   2.792849  0.19577   0.19544  12.4254 -16.182981   \n",
       "63993856       68.025492  34.740194  0.20558   0.20466  13.8767 -14.264275   \n",
       "\n",
       "                color    app_mag  \n",
       "unique_gal_id                     \n",
       "65386496       0.8161  22.876399  \n",
       "35108864       0.7126  20.080397  \n",
       "65302528       0.3157  22.367401  \n",
       "37863424       0.7172  20.485350  \n",
       "75610112       0.3105  23.902177  \n",
       "61456384       0.7766  23.483205  \n",
       "48244736       0.6734  21.861671  \n",
       "53536768       0.4837  22.529597  \n",
       "72990720       0.7664  22.620619  \n",
       "63993856       0.3934  24.659826  "
      ]
     },
     "execution_count": 54,
     "metadata": {},
     "output_type": "execute_result"
    }
   ],
   "source": [
    "galaxy_sample.tail(10)"
   ]
  },
  {
   "cell_type": "code",
   "execution_count": 55,
   "metadata": {
    "colab": {
     "base_uri": "https://localhost:8080/",
     "height": 297
    },
    "executionInfo": {
     "elapsed": 1193,
     "status": "ok",
     "timestamp": 1607100105392,
     "user": {
      "displayName": "Tomasz Różański",
      "photoUrl": "https://lh4.googleusercontent.com/-CdAQaQI9V1E/AAAAAAAAAAI/AAAAAAAAAvI/rnNPiSw4f80/s64/photo.jpg",
      "userId": "09904144145241711927"
     },
     "user_tz": -60
    },
    "id": "y2EFLm7uR7Tj",
    "outputId": "1fe07767-30b3-4bd8-dd91-f8421b251d64"
   },
   "outputs": [
    {
     "data": {
      "text/html": [
       "<div>\n",
       "<style scoped>\n",
       "    .dataframe tbody tr th:only-of-type {\n",
       "        vertical-align: middle;\n",
       "    }\n",
       "\n",
       "    .dataframe tbody tr th {\n",
       "        vertical-align: top;\n",
       "    }\n",
       "\n",
       "    .dataframe thead th {\n",
       "        text-align: right;\n",
       "    }\n",
       "</style>\n",
       "<table border=\"1\" class=\"dataframe\">\n",
       "  <thead>\n",
       "    <tr style=\"text-align: right;\">\n",
       "      <th></th>\n",
       "      <th>ra_gal</th>\n",
       "      <th>dec_gal</th>\n",
       "      <th>z_cgal</th>\n",
       "      <th>z_cgal_v</th>\n",
       "      <th>lmhalo</th>\n",
       "      <th>abs_mag</th>\n",
       "      <th>color</th>\n",
       "      <th>app_mag</th>\n",
       "    </tr>\n",
       "  </thead>\n",
       "  <tbody>\n",
       "    <tr>\n",
       "      <th>count</th>\n",
       "      <td>243988.000000</td>\n",
       "      <td>243988.000000</td>\n",
       "      <td>243988.000000</td>\n",
       "      <td>243988.000000</td>\n",
       "      <td>243988.000000</td>\n",
       "      <td>243988.000000</td>\n",
       "      <td>243988.000000</td>\n",
       "      <td>243988.000000</td>\n",
       "    </tr>\n",
       "    <tr>\n",
       "      <th>mean</th>\n",
       "      <td>44.997907</td>\n",
       "      <td>33.592570</td>\n",
       "      <td>0.713766</td>\n",
       "      <td>0.713795</td>\n",
       "      <td>11.754810</td>\n",
       "      <td>-18.731732</td>\n",
       "      <td>0.583744</td>\n",
       "      <td>23.089854</td>\n",
       "    </tr>\n",
       "    <tr>\n",
       "      <th>std</th>\n",
       "      <td>25.659674</td>\n",
       "      <td>21.614009</td>\n",
       "      <td>0.344807</td>\n",
       "      <td>0.344841</td>\n",
       "      <td>0.848638</td>\n",
       "      <td>1.886084</td>\n",
       "      <td>0.227726</td>\n",
       "      <td>1.157234</td>\n",
       "    </tr>\n",
       "    <tr>\n",
       "      <th>min</th>\n",
       "      <td>0.000000</td>\n",
       "      <td>-0.000512</td>\n",
       "      <td>0.073050</td>\n",
       "      <td>0.070340</td>\n",
       "      <td>10.077000</td>\n",
       "      <td>-23.352722</td>\n",
       "      <td>-0.168600</td>\n",
       "      <td>14.606459</td>\n",
       "    </tr>\n",
       "    <tr>\n",
       "      <th>25%</th>\n",
       "      <td>23.076223</td>\n",
       "      <td>15.321979</td>\n",
       "      <td>0.428300</td>\n",
       "      <td>0.428210</td>\n",
       "      <td>11.157100</td>\n",
       "      <td>-20.145995</td>\n",
       "      <td>0.402700</td>\n",
       "      <td>22.515134</td>\n",
       "    </tr>\n",
       "    <tr>\n",
       "      <th>50%</th>\n",
       "      <td>45.041130</td>\n",
       "      <td>31.260208</td>\n",
       "      <td>0.700715</td>\n",
       "      <td>0.700655</td>\n",
       "      <td>11.563100</td>\n",
       "      <td>-19.056837</td>\n",
       "      <td>0.548100</td>\n",
       "      <td>23.376388</td>\n",
       "    </tr>\n",
       "    <tr>\n",
       "      <th>75%</th>\n",
       "      <td>66.876238</td>\n",
       "      <td>49.743220</td>\n",
       "      <td>0.979260</td>\n",
       "      <td>0.979553</td>\n",
       "      <td>12.205400</td>\n",
       "      <td>-17.604014</td>\n",
       "      <td>0.788400</td>\n",
       "      <td>23.931370</td>\n",
       "    </tr>\n",
       "    <tr>\n",
       "      <th>max</th>\n",
       "      <td>90.000000</td>\n",
       "      <td>89.834812</td>\n",
       "      <td>1.417080</td>\n",
       "      <td>1.421850</td>\n",
       "      <td>15.268300</td>\n",
       "      <td>-12.979675</td>\n",
       "      <td>1.346700</td>\n",
       "      <td>24.957492</td>\n",
       "    </tr>\n",
       "  </tbody>\n",
       "</table>\n",
       "</div>"
      ],
      "text/plain": [
       "              ra_gal        dec_gal         z_cgal       z_cgal_v  \\\n",
       "count  243988.000000  243988.000000  243988.000000  243988.000000   \n",
       "mean       44.997907      33.592570       0.713766       0.713795   \n",
       "std        25.659674      21.614009       0.344807       0.344841   \n",
       "min         0.000000      -0.000512       0.073050       0.070340   \n",
       "25%        23.076223      15.321979       0.428300       0.428210   \n",
       "50%        45.041130      31.260208       0.700715       0.700655   \n",
       "75%        66.876238      49.743220       0.979260       0.979553   \n",
       "max        90.000000      89.834812       1.417080       1.421850   \n",
       "\n",
       "              lmhalo        abs_mag          color        app_mag  \n",
       "count  243988.000000  243988.000000  243988.000000  243988.000000  \n",
       "mean       11.754810     -18.731732       0.583744      23.089854  \n",
       "std         0.848638       1.886084       0.227726       1.157234  \n",
       "min        10.077000     -23.352722      -0.168600      14.606459  \n",
       "25%        11.157100     -20.145995       0.402700      22.515134  \n",
       "50%        11.563100     -19.056837       0.548100      23.376388  \n",
       "75%        12.205400     -17.604014       0.788400      23.931370  \n",
       "max        15.268300     -12.979675       1.346700      24.957492  "
      ]
     },
     "execution_count": 55,
     "metadata": {},
     "output_type": "execute_result"
    }
   ],
   "source": [
    "galaxy_sample.describe()"
   ]
  },
  {
   "cell_type": "code",
   "execution_count": 56,
   "metadata": {
    "colab": {
     "base_uri": "https://localhost:8080/"
    },
    "executionInfo": {
     "elapsed": 802,
     "status": "ok",
     "timestamp": 1607100185143,
     "user": {
      "displayName": "Tomasz Różański",
      "photoUrl": "https://lh4.googleusercontent.com/-CdAQaQI9V1E/AAAAAAAAAAI/AAAAAAAAAvI/rnNPiSw4f80/s64/photo.jpg",
      "userId": "09904144145241711927"
     },
     "user_tz": -60
    },
    "id": "CQKJMqjjR9VS",
    "outputId": "e70d6b32-9ce4-4194-d487-9f84f3853743"
   },
   "outputs": [
    {
     "name": "stdout",
     "output_type": "stream",
     "text": [
      "<class 'pandas.core.frame.DataFrame'>\n",
      "Int64Index: 243988 entries, 28581888 to 63993856\n",
      "Data columns (total 8 columns):\n",
      " #   Column    Non-Null Count   Dtype  \n",
      "---  ------    --------------   -----  \n",
      " 0   ra_gal    243988 non-null  float64\n",
      " 1   dec_gal   243988 non-null  float64\n",
      " 2   z_cgal    243988 non-null  float64\n",
      " 3   z_cgal_v  243988 non-null  float64\n",
      " 4   lmhalo    243988 non-null  float64\n",
      " 5   abs_mag   243988 non-null  float64\n",
      " 6   color     243988 non-null  float64\n",
      " 7   app_mag   243988 non-null  float64\n",
      "dtypes: float64(8)\n",
      "memory usage: 16.8 MB\n"
     ]
    }
   ],
   "source": [
    "galaxy_sample.info()"
   ]
  },
  {
   "cell_type": "code",
   "execution_count": 57,
   "metadata": {
    "executionInfo": {
     "elapsed": 3351,
     "status": "ok",
     "timestamp": 1607100209664,
     "user": {
      "displayName": "Tomasz Różański",
      "photoUrl": "https://lh4.googleusercontent.com/-CdAQaQI9V1E/AAAAAAAAAAI/AAAAAAAAAvI/rnNPiSw4f80/s64/photo.jpg",
      "userId": "09904144145241711927"
     },
     "user_tz": -60
    },
    "id": "sli9-wkqR_eF"
   },
   "outputs": [],
   "source": [
    "filename_bz2= os.path.join(data_directory, \"pandas_data/galaxy_sample.csv.bz2\")\n",
    "galaxy_sample_bz2 = pd.read_csv(filename_bz2, sep=',', index_col = unique_gal_id_field, comment='#', na_values = r'\\N')"
   ]
  },
  {
   "cell_type": "code",
   "execution_count": 58,
   "metadata": {
    "colab": {
     "base_uri": "https://localhost:8080/",
     "height": 235
    },
    "executionInfo": {
     "elapsed": 2655,
     "status": "ok",
     "timestamp": 1607100209665,
     "user": {
      "displayName": "Tomasz Różański",
      "photoUrl": "https://lh4.googleusercontent.com/-CdAQaQI9V1E/AAAAAAAAAAI/AAAAAAAAAvI/rnNPiSw4f80/s64/photo.jpg",
      "userId": "09904144145241711927"
     },
     "user_tz": -60
    },
    "id": "Fm63-8GZSBj6",
    "outputId": "e608c709-844c-4cde-d0e4-3cbd2934e62b"
   },
   "outputs": [
    {
     "data": {
      "text/html": [
       "<div>\n",
       "<style scoped>\n",
       "    .dataframe tbody tr th:only-of-type {\n",
       "        vertical-align: middle;\n",
       "    }\n",
       "\n",
       "    .dataframe tbody tr th {\n",
       "        vertical-align: top;\n",
       "    }\n",
       "\n",
       "    .dataframe thead th {\n",
       "        text-align: right;\n",
       "    }\n",
       "</style>\n",
       "<table border=\"1\" class=\"dataframe\">\n",
       "  <thead>\n",
       "    <tr style=\"text-align: right;\">\n",
       "      <th></th>\n",
       "      <th>ra_gal</th>\n",
       "      <th>dec_gal</th>\n",
       "      <th>z_cgal</th>\n",
       "      <th>z_cgal_v</th>\n",
       "      <th>lmhalo</th>\n",
       "      <th>abs_mag</th>\n",
       "      <th>color</th>\n",
       "      <th>app_mag</th>\n",
       "    </tr>\n",
       "    <tr>\n",
       "      <th>unique_gal_id</th>\n",
       "      <th></th>\n",
       "      <th></th>\n",
       "      <th></th>\n",
       "      <th></th>\n",
       "      <th></th>\n",
       "      <th></th>\n",
       "      <th></th>\n",
       "      <th></th>\n",
       "    </tr>\n",
       "  </thead>\n",
       "  <tbody>\n",
       "    <tr>\n",
       "      <th>28581888</th>\n",
       "      <td>6.322946</td>\n",
       "      <td>25.820680</td>\n",
       "      <td>0.30917</td>\n",
       "      <td>0.30894</td>\n",
       "      <td>13.5638</td>\n",
       "      <td>-19.107267</td>\n",
       "      <td>0.8683</td>\n",
       "      <td>20.773734</td>\n",
       "    </tr>\n",
       "    <tr>\n",
       "      <th>6686720</th>\n",
       "      <td>32.696644</td>\n",
       "      <td>53.073577</td>\n",
       "      <td>0.17156</td>\n",
       "      <td>0.16844</td>\n",
       "      <td>14.4175</td>\n",
       "      <td>-16.587480</td>\n",
       "      <td>0.8183</td>\n",
       "      <td>21.803620</td>\n",
       "    </tr>\n",
       "    <tr>\n",
       "      <th>23693312</th>\n",
       "      <td>17.699937</td>\n",
       "      <td>75.128659</td>\n",
       "      <td>0.72270</td>\n",
       "      <td>0.72423</td>\n",
       "      <td>11.4068</td>\n",
       "      <td>-19.403244</td>\n",
       "      <td>0.5311</td>\n",
       "      <td>22.553554</td>\n",
       "    </tr>\n",
       "    <tr>\n",
       "      <th>6115328</th>\n",
       "      <td>61.603497</td>\n",
       "      <td>59.016913</td>\n",
       "      <td>0.21891</td>\n",
       "      <td>0.21605</td>\n",
       "      <td>13.9224</td>\n",
       "      <td>-16.929097</td>\n",
       "      <td>0.1780</td>\n",
       "      <td>22.106301</td>\n",
       "    </tr>\n",
       "    <tr>\n",
       "      <th>8955904</th>\n",
       "      <td>32.202269</td>\n",
       "      <td>71.912705</td>\n",
       "      <td>0.29446</td>\n",
       "      <td>0.29086</td>\n",
       "      <td>13.2412</td>\n",
       "      <td>-15.597617</td>\n",
       "      <td>0.1631</td>\n",
       "      <td>24.230383</td>\n",
       "    </tr>\n",
       "  </tbody>\n",
       "</table>\n",
       "</div>"
      ],
      "text/plain": [
       "                  ra_gal    dec_gal   z_cgal  z_cgal_v   lmhalo    abs_mag  \\\n",
       "unique_gal_id                                                                \n",
       "28581888        6.322946  25.820680  0.30917   0.30894  13.5638 -19.107267   \n",
       "6686720        32.696644  53.073577  0.17156   0.16844  14.4175 -16.587480   \n",
       "23693312       17.699937  75.128659  0.72270   0.72423  11.4068 -19.403244   \n",
       "6115328        61.603497  59.016913  0.21891   0.21605  13.9224 -16.929097   \n",
       "8955904        32.202269  71.912705  0.29446   0.29086  13.2412 -15.597617   \n",
       "\n",
       "                color    app_mag  \n",
       "unique_gal_id                     \n",
       "28581888       0.8683  20.773734  \n",
       "6686720        0.8183  21.803620  \n",
       "23693312       0.5311  22.553554  \n",
       "6115328        0.1780  22.106301  \n",
       "8955904        0.1631  24.230383  "
      ]
     },
     "execution_count": 58,
     "metadata": {},
     "output_type": "execute_result"
    }
   ],
   "source": [
    "galaxy_sample_bz2.head()"
   ]
  },
  {
   "cell_type": "code",
   "execution_count": 59,
   "metadata": {
    "colab": {
     "base_uri": "https://localhost:8080/"
    },
    "executionInfo": {
     "elapsed": 831,
     "status": "ok",
     "timestamp": 1607100220500,
     "user": {
      "displayName": "Tomasz Różański",
      "photoUrl": "https://lh4.googleusercontent.com/-CdAQaQI9V1E/AAAAAAAAAAI/AAAAAAAAAvI/rnNPiSw4f80/s64/photo.jpg",
      "userId": "09904144145241711927"
     },
     "user_tz": -60
    },
    "id": "m1s5xdYMSLpf",
    "outputId": "681d6afb-bb77-46e4-e7af-774430ec1be1"
   },
   "outputs": [
    {
     "data": {
      "text/plain": [
       "ra_gal      float64\n",
       "dec_gal     float64\n",
       "z_cgal      float64\n",
       "z_cgal_v    float64\n",
       "lmhalo      float64\n",
       "abs_mag     float64\n",
       "color       float64\n",
       "app_mag     float64\n",
       "dtype: object"
      ]
     },
     "execution_count": 59,
     "metadata": {},
     "output_type": "execute_result"
    }
   ],
   "source": [
    "galaxy_sample.dtypes"
   ]
  },
  {
   "cell_type": "markdown",
   "metadata": {
    "id": "uaQyD9y1SR9P"
   },
   "source": [
    "### Zapisywanie do pliku\n",
    "\n",
    "[`to_csv`](https://pandas.pydata.org/pandas-docs/stable/reference/api/pandas.DataFrame.to_csv.html)"
   ]
  },
  {
   "cell_type": "code",
   "execution_count": 61,
   "metadata": {
    "executionInfo": {
     "elapsed": 2047,
     "status": "ok",
     "timestamp": 1607100278128,
     "user": {
      "displayName": "Tomasz Różański",
      "photoUrl": "https://lh4.googleusercontent.com/-CdAQaQI9V1E/AAAAAAAAAAI/AAAAAAAAAvI/rnNPiSw4f80/s64/photo.jpg",
      "userId": "09904144145241711927"
     },
     "user_tz": -60
    },
    "id": "7bYakYmoSND2"
   },
   "outputs": [],
   "source": [
    "outfile= os.path.join(data_directory, \"pandas_data/outfile_name.csv\")\n",
    "galaxy_sample_bz2.to_csv(outfile,\n",
    "          columns = ['ra_gal', 'dec_gal','color'],\n",
    "          index=True,\n",
    "          header=True\n",
    "          )"
   ]
  },
  {
   "cell_type": "code",
   "execution_count": 62,
   "metadata": {
    "colab": {
     "base_uri": "https://localhost:8080/"
    },
    "executionInfo": {
     "elapsed": 754,
     "status": "ok",
     "timestamp": 1607100280534,
     "user": {
      "displayName": "Tomasz Różański",
      "photoUrl": "https://lh4.googleusercontent.com/-CdAQaQI9V1E/AAAAAAAAAAI/AAAAAAAAAvI/rnNPiSw4f80/s64/photo.jpg",
      "userId": "09904144145241711927"
     },
     "user_tz": -60
    },
    "id": "OhQkH68TSq4I",
    "outputId": "375ca9e1-ef22-4214-8796-087c355d010b"
   },
   "outputs": [
    {
     "name": "stdout",
     "output_type": "stream",
     "text": [
      "unique_gal_id,ra_gal,dec_gal,color\r\n",
      "28581888,6.322946,25.82068,0.8683\r\n",
      "6686720,32.696644,53.073577,0.8183\r\n",
      "23693312,17.699937,75.128659,0.5311\r\n",
      "6115328,61.603497,59.016913,0.17800000000000002\r\n",
      "8955904,32.202269,71.912705,0.1631\r\n",
      "12351488,41.511403,78.611159,0.8499\r\n",
      "15034368,36.454817999999996,1.470759,0.4932\r\n",
      "17098752,22.305408,32.920644,0.1543\r\n",
      "15955968,30.081703000000005,6.398922,0.3872\r\n"
     ]
    }
   ],
   "source": [
    "!head {outfile}"
   ]
  },
  {
   "cell_type": "markdown",
   "metadata": {
    "id": "UcbKq7RiTCRi"
   },
   "source": [
    "## Indeksowanie i \"slicing\"\n",
    "\n",
    "Podstawy indeksowania prezentuje poniższa tabela:\n",
    "\n",
    "| Operation                      | Syntax           | Result        |\n",
    "|--------------------------------|------------------|---------------|\n",
    "| Select column                  | df[column label] | Series        |\n",
    "| Select row by index            | df.loc[index]    | Series        |\n",
    "| Select row by integer location | df.iloc[pos]     | Series        |\n",
    "| Slice rows                     | df[5:10]         | DataFrame     |\n",
    "| Select rows by boolean vector  | df[bool_vec]     | DataFrame     |"
   ]
  },
  {
   "cell_type": "code",
   "execution_count": 64,
   "metadata": {
    "executionInfo": {
     "elapsed": 2874,
     "status": "ok",
     "timestamp": 1607100544579,
     "user": {
      "displayName": "Tomasz Różański",
      "photoUrl": "https://lh4.googleusercontent.com/-CdAQaQI9V1E/AAAAAAAAAAI/AAAAAAAAAvI/rnNPiSw4f80/s64/photo.jpg",
      "userId": "09904144145241711927"
     },
     "user_tz": -60
    },
    "id": "SAKsp2dBTBNa"
   },
   "outputs": [],
   "source": [
    "filename_bz2= os.path.join(data_directory, \"pandas_data/galaxy_sample.csv.bz2\")\n",
    "galaxy_sample_bz2 = pd.read_csv(filename_bz2, sep=',', index_col = unique_gal_id_field, comment='#', na_values = r'\\N')"
   ]
  },
  {
   "cell_type": "code",
   "execution_count": 65,
   "metadata": {
    "colab": {
     "base_uri": "https://localhost:8080/",
     "height": 235
    },
    "executionInfo": {
     "elapsed": 2498,
     "status": "ok",
     "timestamp": 1607100544580,
     "user": {
      "displayName": "Tomasz Różański",
      "photoUrl": "https://lh4.googleusercontent.com/-CdAQaQI9V1E/AAAAAAAAAAI/AAAAAAAAAvI/rnNPiSw4f80/s64/photo.jpg",
      "userId": "09904144145241711927"
     },
     "user_tz": -60
    },
    "id": "sEVckQPKS-Nr",
    "outputId": "088c5503-0138-4c21-f768-d2c8a7aae4ea"
   },
   "outputs": [
    {
     "data": {
      "text/html": [
       "<div>\n",
       "<style scoped>\n",
       "    .dataframe tbody tr th:only-of-type {\n",
       "        vertical-align: middle;\n",
       "    }\n",
       "\n",
       "    .dataframe tbody tr th {\n",
       "        vertical-align: top;\n",
       "    }\n",
       "\n",
       "    .dataframe thead th {\n",
       "        text-align: right;\n",
       "    }\n",
       "</style>\n",
       "<table border=\"1\" class=\"dataframe\">\n",
       "  <thead>\n",
       "    <tr style=\"text-align: right;\">\n",
       "      <th></th>\n",
       "      <th>ra_gal</th>\n",
       "      <th>dec_gal</th>\n",
       "      <th>z_cgal</th>\n",
       "      <th>z_cgal_v</th>\n",
       "      <th>lmhalo</th>\n",
       "      <th>abs_mag</th>\n",
       "      <th>color</th>\n",
       "      <th>app_mag</th>\n",
       "    </tr>\n",
       "    <tr>\n",
       "      <th>unique_gal_id</th>\n",
       "      <th></th>\n",
       "      <th></th>\n",
       "      <th></th>\n",
       "      <th></th>\n",
       "      <th></th>\n",
       "      <th></th>\n",
       "      <th></th>\n",
       "      <th></th>\n",
       "    </tr>\n",
       "  </thead>\n",
       "  <tbody>\n",
       "    <tr>\n",
       "      <th>28581888</th>\n",
       "      <td>6.322946</td>\n",
       "      <td>25.820680</td>\n",
       "      <td>0.30917</td>\n",
       "      <td>0.30894</td>\n",
       "      <td>13.5638</td>\n",
       "      <td>-19.107267</td>\n",
       "      <td>0.8683</td>\n",
       "      <td>20.773734</td>\n",
       "    </tr>\n",
       "    <tr>\n",
       "      <th>6686720</th>\n",
       "      <td>32.696644</td>\n",
       "      <td>53.073577</td>\n",
       "      <td>0.17156</td>\n",
       "      <td>0.16844</td>\n",
       "      <td>14.4175</td>\n",
       "      <td>-16.587480</td>\n",
       "      <td>0.8183</td>\n",
       "      <td>21.803620</td>\n",
       "    </tr>\n",
       "    <tr>\n",
       "      <th>23693312</th>\n",
       "      <td>17.699937</td>\n",
       "      <td>75.128659</td>\n",
       "      <td>0.72270</td>\n",
       "      <td>0.72423</td>\n",
       "      <td>11.4068</td>\n",
       "      <td>-19.403244</td>\n",
       "      <td>0.5311</td>\n",
       "      <td>22.553554</td>\n",
       "    </tr>\n",
       "    <tr>\n",
       "      <th>6115328</th>\n",
       "      <td>61.603497</td>\n",
       "      <td>59.016913</td>\n",
       "      <td>0.21891</td>\n",
       "      <td>0.21605</td>\n",
       "      <td>13.9224</td>\n",
       "      <td>-16.929097</td>\n",
       "      <td>0.1780</td>\n",
       "      <td>22.106301</td>\n",
       "    </tr>\n",
       "    <tr>\n",
       "      <th>8955904</th>\n",
       "      <td>32.202269</td>\n",
       "      <td>71.912705</td>\n",
       "      <td>0.29446</td>\n",
       "      <td>0.29086</td>\n",
       "      <td>13.2412</td>\n",
       "      <td>-15.597617</td>\n",
       "      <td>0.1631</td>\n",
       "      <td>24.230383</td>\n",
       "    </tr>\n",
       "  </tbody>\n",
       "</table>\n",
       "</div>"
      ],
      "text/plain": [
       "                  ra_gal    dec_gal   z_cgal  z_cgal_v   lmhalo    abs_mag  \\\n",
       "unique_gal_id                                                                \n",
       "28581888        6.322946  25.820680  0.30917   0.30894  13.5638 -19.107267   \n",
       "6686720        32.696644  53.073577  0.17156   0.16844  14.4175 -16.587480   \n",
       "23693312       17.699937  75.128659  0.72270   0.72423  11.4068 -19.403244   \n",
       "6115328        61.603497  59.016913  0.21891   0.21605  13.9224 -16.929097   \n",
       "8955904        32.202269  71.912705  0.29446   0.29086  13.2412 -15.597617   \n",
       "\n",
       "                color    app_mag  \n",
       "unique_gal_id                     \n",
       "28581888       0.8683  20.773734  \n",
       "6686720        0.8183  21.803620  \n",
       "23693312       0.5311  22.553554  \n",
       "6115328        0.1780  22.106301  \n",
       "8955904        0.1631  24.230383  "
      ]
     },
     "execution_count": 65,
     "metadata": {},
     "output_type": "execute_result"
    }
   ],
   "source": [
    "galaxy_sample.head()"
   ]
  },
  {
   "cell_type": "code",
   "execution_count": 66,
   "metadata": {
    "colab": {
     "base_uri": "https://localhost:8080/"
    },
    "executionInfo": {
     "elapsed": 676,
     "status": "ok",
     "timestamp": 1607100550865,
     "user": {
      "displayName": "Tomasz Różański",
      "photoUrl": "https://lh4.googleusercontent.com/-CdAQaQI9V1E/AAAAAAAAAAI/AAAAAAAAAvI/rnNPiSw4f80/s64/photo.jpg",
      "userId": "09904144145241711927"
     },
     "user_tz": -60
    },
    "id": "Cwry5Y_zTWR-",
    "outputId": "9400681b-55e3-49e7-efa7-0530c16d561f"
   },
   "outputs": [
    {
     "data": {
      "text/plain": [
       "243988"
      ]
     },
     "execution_count": 66,
     "metadata": {},
     "output_type": "execute_result"
    }
   ],
   "source": [
    "len(galaxy_sample)"
   ]
  },
  {
   "cell_type": "markdown",
   "metadata": {
    "id": "7SyFuHaDTZFJ"
   },
   "source": [
    "* wybieranie kolumny"
   ]
  },
  {
   "cell_type": "code",
   "execution_count": 67,
   "metadata": {
    "colab": {
     "base_uri": "https://localhost:8080/"
    },
    "executionInfo": {
     "elapsed": 934,
     "status": "ok",
     "timestamp": 1607100577656,
     "user": {
      "displayName": "Tomasz Różański",
      "photoUrl": "https://lh4.googleusercontent.com/-CdAQaQI9V1E/AAAAAAAAAAI/AAAAAAAAAvI/rnNPiSw4f80/s64/photo.jpg",
      "userId": "09904144145241711927"
     },
     "user_tz": -60
    },
    "id": "5QIAc-tCTXyi",
    "outputId": "0f01a45a-250b-428a-986c-63f4b727f5f1"
   },
   "outputs": [
    {
     "data": {
      "text/plain": [
       "unique_gal_id\n",
       "28581888     6.322946\n",
       "6686720     32.696644\n",
       "23693312    17.699937\n",
       "6115328     61.603497\n",
       "8955904     32.202269\n",
       "Name: ra_gal, dtype: float64"
      ]
     },
     "execution_count": 67,
     "metadata": {},
     "output_type": "execute_result"
    }
   ],
   "source": [
    "galaxy_sample['ra_gal'].head()"
   ]
  },
  {
   "cell_type": "code",
   "execution_count": 68,
   "metadata": {
    "colab": {
     "base_uri": "https://localhost:8080/"
    },
    "executionInfo": {
     "elapsed": 790,
     "status": "ok",
     "timestamp": 1607100588559,
     "user": {
      "displayName": "Tomasz Różański",
      "photoUrl": "https://lh4.googleusercontent.com/-CdAQaQI9V1E/AAAAAAAAAAI/AAAAAAAAAvI/rnNPiSw4f80/s64/photo.jpg",
      "userId": "09904144145241711927"
     },
     "user_tz": -60
    },
    "id": "TuFV1bqrTd1L",
    "outputId": "bf4e107b-505e-416c-8b50-50a1238a5b4c"
   },
   "outputs": [
    {
     "data": {
      "text/plain": [
       "pandas.core.series.Series"
      ]
     },
     "execution_count": 68,
     "metadata": {},
     "output_type": "execute_result"
    }
   ],
   "source": [
    "type(galaxy_sample['dec_gal'])"
   ]
  },
  {
   "cell_type": "code",
   "execution_count": 69,
   "metadata": {
    "colab": {
     "base_uri": "https://localhost:8080/",
     "height": 235
    },
    "executionInfo": {
     "elapsed": 789,
     "status": "ok",
     "timestamp": 1607100858561,
     "user": {
      "displayName": "Tomasz Różański",
      "photoUrl": "https://lh4.googleusercontent.com/-CdAQaQI9V1E/AAAAAAAAAAI/AAAAAAAAAvI/rnNPiSw4f80/s64/photo.jpg",
      "userId": "09904144145241711927"
     },
     "user_tz": -60
    },
    "id": "af1TrSjKThK5",
    "outputId": "9534d268-d0ce-49ce-8552-5068b449e1c2"
   },
   "outputs": [
    {
     "data": {
      "text/html": [
       "<div>\n",
       "<style scoped>\n",
       "    .dataframe tbody tr th:only-of-type {\n",
       "        vertical-align: middle;\n",
       "    }\n",
       "\n",
       "    .dataframe tbody tr th {\n",
       "        vertical-align: top;\n",
       "    }\n",
       "\n",
       "    .dataframe thead th {\n",
       "        text-align: right;\n",
       "    }\n",
       "</style>\n",
       "<table border=\"1\" class=\"dataframe\">\n",
       "  <thead>\n",
       "    <tr style=\"text-align: right;\">\n",
       "      <th></th>\n",
       "      <th>ra_gal</th>\n",
       "      <th>dec_gal</th>\n",
       "      <th>lmhalo</th>\n",
       "    </tr>\n",
       "    <tr>\n",
       "      <th>unique_gal_id</th>\n",
       "      <th></th>\n",
       "      <th></th>\n",
       "      <th></th>\n",
       "    </tr>\n",
       "  </thead>\n",
       "  <tbody>\n",
       "    <tr>\n",
       "      <th>28581888</th>\n",
       "      <td>6.322946</td>\n",
       "      <td>25.820680</td>\n",
       "      <td>13.5638</td>\n",
       "    </tr>\n",
       "    <tr>\n",
       "      <th>6686720</th>\n",
       "      <td>32.696644</td>\n",
       "      <td>53.073577</td>\n",
       "      <td>14.4175</td>\n",
       "    </tr>\n",
       "    <tr>\n",
       "      <th>23693312</th>\n",
       "      <td>17.699937</td>\n",
       "      <td>75.128659</td>\n",
       "      <td>11.4068</td>\n",
       "    </tr>\n",
       "    <tr>\n",
       "      <th>6115328</th>\n",
       "      <td>61.603497</td>\n",
       "      <td>59.016913</td>\n",
       "      <td>13.9224</td>\n",
       "    </tr>\n",
       "    <tr>\n",
       "      <th>8955904</th>\n",
       "      <td>32.202269</td>\n",
       "      <td>71.912705</td>\n",
       "      <td>13.2412</td>\n",
       "    </tr>\n",
       "  </tbody>\n",
       "</table>\n",
       "</div>"
      ],
      "text/plain": [
       "                  ra_gal    dec_gal   lmhalo\n",
       "unique_gal_id                               \n",
       "28581888        6.322946  25.820680  13.5638\n",
       "6686720        32.696644  53.073577  14.4175\n",
       "23693312       17.699937  75.128659  11.4068\n",
       "6115328        61.603497  59.016913  13.9224\n",
       "8955904        32.202269  71.912705  13.2412"
      ]
     },
     "execution_count": 69,
     "metadata": {},
     "output_type": "execute_result"
    }
   ],
   "source": [
    "galaxy_sample[['ra_gal','dec_gal','lmhalo']].head()"
   ]
  },
  {
   "cell_type": "markdown",
   "metadata": {
    "id": "r3-mUaJnTgls"
   },
   "source": [
    "* Wybieranie wiersza przez indeks"
   ]
  },
  {
   "cell_type": "code",
   "execution_count": 70,
   "metadata": {
    "colab": {
     "base_uri": "https://localhost:8080/"
    },
    "executionInfo": {
     "elapsed": 1065,
     "status": "ok",
     "timestamp": 1607100900064,
     "user": {
      "displayName": "Tomasz Różański",
      "photoUrl": "https://lh4.googleusercontent.com/-CdAQaQI9V1E/AAAAAAAAAAI/AAAAAAAAAvI/rnNPiSw4f80/s64/photo.jpg",
      "userId": "09904144145241711927"
     },
     "user_tz": -60
    },
    "id": "YOxWNZINTbkK",
    "outputId": "69687a40-3f29-4d3e-ec9b-6f80361d20a2"
   },
   "outputs": [
    {
     "data": {
      "text/plain": [
       "ra_gal       6.322946\n",
       "dec_gal     25.820680\n",
       "z_cgal       0.309170\n",
       "z_cgal_v     0.308940\n",
       "lmhalo      13.563800\n",
       "abs_mag    -19.107267\n",
       "color        0.868300\n",
       "app_mag     20.773734\n",
       "Name: 28581888, dtype: float64"
      ]
     },
     "execution_count": 70,
     "metadata": {},
     "output_type": "execute_result"
    }
   ],
   "source": [
    "galaxy_sample.loc[28581888]"
   ]
  },
  {
   "cell_type": "code",
   "execution_count": 71,
   "metadata": {
    "colab": {
     "base_uri": "https://localhost:8080/"
    },
    "executionInfo": {
     "elapsed": 798,
     "status": "ok",
     "timestamp": 1607100936910,
     "user": {
      "displayName": "Tomasz Różański",
      "photoUrl": "https://lh4.googleusercontent.com/-CdAQaQI9V1E/AAAAAAAAAAI/AAAAAAAAAvI/rnNPiSw4f80/s64/photo.jpg",
      "userId": "09904144145241711927"
     },
     "user_tz": -60
    },
    "id": "3PNFM44hToth",
    "outputId": "29a1d00c-997d-43d2-cc8b-ab56bac2b43d"
   },
   "outputs": [
    {
     "data": {
      "text/plain": [
       "pandas.core.series.Series"
      ]
     },
     "execution_count": 71,
     "metadata": {},
     "output_type": "execute_result"
    }
   ],
   "source": [
    "type(galaxy_sample.loc[28581888])"
   ]
  },
  {
   "cell_type": "markdown",
   "metadata": {
    "id": "tV1j9U26Tx4k"
   },
   "source": [
    "* Wybieranie wiersza przez położenie (wyrażone liczbą naturalną)"
   ]
  },
  {
   "cell_type": "code",
   "execution_count": 72,
   "metadata": {
    "colab": {
     "base_uri": "https://localhost:8080/"
    },
    "executionInfo": {
     "elapsed": 793,
     "status": "ok",
     "timestamp": 1607100942390,
     "user": {
      "displayName": "Tomasz Różański",
      "photoUrl": "https://lh4.googleusercontent.com/-CdAQaQI9V1E/AAAAAAAAAAI/AAAAAAAAAvI/rnNPiSw4f80/s64/photo.jpg",
      "userId": "09904144145241711927"
     },
     "user_tz": -60
    },
    "id": "vl0WKeGETsaf",
    "outputId": "efbab78f-6dde-49a7-acc3-ed30c9d77562"
   },
   "outputs": [
    {
     "data": {
      "text/plain": [
       "ra_gal       6.322946\n",
       "dec_gal     25.820680\n",
       "z_cgal       0.309170\n",
       "z_cgal_v     0.308940\n",
       "lmhalo      13.563800\n",
       "abs_mag    -19.107267\n",
       "color        0.868300\n",
       "app_mag     20.773734\n",
       "Name: 28581888, dtype: float64"
      ]
     },
     "execution_count": 72,
     "metadata": {},
     "output_type": "execute_result"
    }
   ],
   "source": [
    "galaxy_sample.iloc[0]"
   ]
  },
  {
   "cell_type": "code",
   "execution_count": 73,
   "metadata": {
    "colab": {
     "base_uri": "https://localhost:8080/"
    },
    "executionInfo": {
     "elapsed": 752,
     "status": "ok",
     "timestamp": 1607100952098,
     "user": {
      "displayName": "Tomasz Różański",
      "photoUrl": "https://lh4.googleusercontent.com/-CdAQaQI9V1E/AAAAAAAAAAI/AAAAAAAAAvI/rnNPiSw4f80/s64/photo.jpg",
      "userId": "09904144145241711927"
     },
     "user_tz": -60
    },
    "id": "7AAItHwFTqhh",
    "outputId": "498ab73d-af84-457c-dbfd-60d792e78a97"
   },
   "outputs": [
    {
     "data": {
      "text/plain": [
       "pandas.core.series.Series"
      ]
     },
     "execution_count": 73,
     "metadata": {},
     "output_type": "execute_result"
    }
   ],
   "source": [
    "type(galaxy_sample.iloc[0])"
   ]
  },
  {
   "cell_type": "markdown",
   "metadata": {
    "id": "HTj_uwYxT-t-"
   },
   "source": [
    "* \"Slice\" przez wiersze"
   ]
  },
  {
   "cell_type": "code",
   "execution_count": 78,
   "metadata": {
    "colab": {
     "base_uri": "https://localhost:8080/",
     "height": 204
    },
    "executionInfo": {
     "elapsed": 785,
     "status": "ok",
     "timestamp": 1607100956023,
     "user": {
      "displayName": "Tomasz Różański",
      "photoUrl": "https://lh4.googleusercontent.com/-CdAQaQI9V1E/AAAAAAAAAAI/AAAAAAAAAvI/rnNPiSw4f80/s64/photo.jpg",
      "userId": "09904144145241711927"
     },
     "user_tz": -60
    },
    "id": "yX5fIvZET2us",
    "outputId": "0f8aeb05-5163-4549-896e-99b5597ac263"
   },
   "outputs": [
    {
     "data": {
      "text/html": [
       "<div>\n",
       "<style scoped>\n",
       "    .dataframe tbody tr th:only-of-type {\n",
       "        vertical-align: middle;\n",
       "    }\n",
       "\n",
       "    .dataframe tbody tr th {\n",
       "        vertical-align: top;\n",
       "    }\n",
       "\n",
       "    .dataframe thead th {\n",
       "        text-align: right;\n",
       "    }\n",
       "</style>\n",
       "<table border=\"1\" class=\"dataframe\">\n",
       "  <thead>\n",
       "    <tr style=\"text-align: right;\">\n",
       "      <th></th>\n",
       "      <th>ra_gal</th>\n",
       "      <th>dec_gal</th>\n",
       "      <th>z_cgal</th>\n",
       "      <th>z_cgal_v</th>\n",
       "      <th>lmhalo</th>\n",
       "      <th>abs_mag</th>\n",
       "      <th>color</th>\n",
       "      <th>app_mag</th>\n",
       "    </tr>\n",
       "    <tr>\n",
       "      <th>unique_gal_id</th>\n",
       "      <th></th>\n",
       "      <th></th>\n",
       "      <th></th>\n",
       "      <th></th>\n",
       "      <th></th>\n",
       "      <th></th>\n",
       "      <th></th>\n",
       "      <th></th>\n",
       "    </tr>\n",
       "  </thead>\n",
       "  <tbody>\n",
       "    <tr>\n",
       "      <th>6115328</th>\n",
       "      <td>61.603497</td>\n",
       "      <td>59.016913</td>\n",
       "      <td>0.21891</td>\n",
       "      <td>0.21605</td>\n",
       "      <td>13.9224</td>\n",
       "      <td>-16.929097</td>\n",
       "      <td>0.1780</td>\n",
       "      <td>22.106301</td>\n",
       "    </tr>\n",
       "    <tr>\n",
       "      <th>8955904</th>\n",
       "      <td>32.202269</td>\n",
       "      <td>71.912705</td>\n",
       "      <td>0.29446</td>\n",
       "      <td>0.29086</td>\n",
       "      <td>13.2412</td>\n",
       "      <td>-15.597617</td>\n",
       "      <td>0.1631</td>\n",
       "      <td>24.230383</td>\n",
       "    </tr>\n",
       "    <tr>\n",
       "      <th>12351488</th>\n",
       "      <td>41.511403</td>\n",
       "      <td>78.611159</td>\n",
       "      <td>0.76228</td>\n",
       "      <td>0.75945</td>\n",
       "      <td>13.7969</td>\n",
       "      <td>-18.716348</td>\n",
       "      <td>0.8499</td>\n",
       "      <td>23.537352</td>\n",
       "    </tr>\n",
       "    <tr>\n",
       "      <th>15034368</th>\n",
       "      <td>36.454818</td>\n",
       "      <td>1.470759</td>\n",
       "      <td>0.16827</td>\n",
       "      <td>0.16882</td>\n",
       "      <td>12.4438</td>\n",
       "      <td>-16.753474</td>\n",
       "      <td>0.4932</td>\n",
       "      <td>21.759327</td>\n",
       "    </tr>\n",
       "  </tbody>\n",
       "</table>\n",
       "</div>"
      ],
      "text/plain": [
       "                  ra_gal    dec_gal   z_cgal  z_cgal_v   lmhalo    abs_mag  \\\n",
       "unique_gal_id                                                                \n",
       "6115328        61.603497  59.016913  0.21891   0.21605  13.9224 -16.929097   \n",
       "8955904        32.202269  71.912705  0.29446   0.29086  13.2412 -15.597617   \n",
       "12351488       41.511403  78.611159  0.76228   0.75945  13.7969 -18.716348   \n",
       "15034368       36.454818   1.470759  0.16827   0.16882  12.4438 -16.753474   \n",
       "\n",
       "                color    app_mag  \n",
       "unique_gal_id                     \n",
       "6115328        0.1780  22.106301  \n",
       "8955904        0.1631  24.230383  \n",
       "12351488       0.8499  23.537352  \n",
       "15034368       0.4932  21.759327  "
      ]
     },
     "execution_count": 78,
     "metadata": {},
     "output_type": "execute_result"
    }
   ],
   "source": [
    "galaxy_sample.iloc[3:7]"
   ]
  },
  {
   "cell_type": "code",
   "execution_count": 199,
   "metadata": {
    "colab": {
     "base_uri": "https://localhost:8080/",
     "height": 204
    },
    "executionInfo": {
     "elapsed": 824,
     "status": "ok",
     "timestamp": 1607100964032,
     "user": {
      "displayName": "Tomasz Różański",
      "photoUrl": "https://lh4.googleusercontent.com/-CdAQaQI9V1E/AAAAAAAAAAI/AAAAAAAAAvI/rnNPiSw4f80/s64/photo.jpg",
      "userId": "09904144145241711927"
     },
     "user_tz": -60
    },
    "id": "YaFKvxZUT9Po",
    "outputId": "3d6ba7c9-659b-4bcb-f5a0-167647f50c14"
   },
   "outputs": [
    {
     "data": {
      "text/html": [
       "<div>\n",
       "<style scoped>\n",
       "    .dataframe tbody tr th:only-of-type {\n",
       "        vertical-align: middle;\n",
       "    }\n",
       "\n",
       "    .dataframe tbody tr th {\n",
       "        vertical-align: top;\n",
       "    }\n",
       "\n",
       "    .dataframe thead th {\n",
       "        text-align: right;\n",
       "    }\n",
       "</style>\n",
       "<table border=\"1\" class=\"dataframe\">\n",
       "  <thead>\n",
       "    <tr style=\"text-align: right;\">\n",
       "      <th></th>\n",
       "      <th>ra_gal</th>\n",
       "      <th>dec_gal</th>\n",
       "      <th>z_cgal</th>\n",
       "      <th>z_cgal_v</th>\n",
       "      <th>lmhalo</th>\n",
       "      <th>abs_mag</th>\n",
       "      <th>color</th>\n",
       "      <th>app_mag</th>\n",
       "    </tr>\n",
       "    <tr>\n",
       "      <th>unique_gal_id</th>\n",
       "      <th></th>\n",
       "      <th></th>\n",
       "      <th></th>\n",
       "      <th></th>\n",
       "      <th></th>\n",
       "      <th></th>\n",
       "      <th></th>\n",
       "      <th></th>\n",
       "    </tr>\n",
       "  </thead>\n",
       "  <tbody>\n",
       "    <tr>\n",
       "      <th>6115328</th>\n",
       "      <td>61.603497</td>\n",
       "      <td>59.016913</td>\n",
       "      <td>0.21891</td>\n",
       "      <td>0.21605</td>\n",
       "      <td>13.9224</td>\n",
       "      <td>-16.929097</td>\n",
       "      <td>0.1780</td>\n",
       "      <td>22.106301</td>\n",
       "    </tr>\n",
       "    <tr>\n",
       "      <th>8955904</th>\n",
       "      <td>32.202269</td>\n",
       "      <td>71.912705</td>\n",
       "      <td>0.29446</td>\n",
       "      <td>0.29086</td>\n",
       "      <td>13.2412</td>\n",
       "      <td>-15.597617</td>\n",
       "      <td>0.1631</td>\n",
       "      <td>24.230383</td>\n",
       "    </tr>\n",
       "    <tr>\n",
       "      <th>12351488</th>\n",
       "      <td>41.511403</td>\n",
       "      <td>78.611159</td>\n",
       "      <td>0.76228</td>\n",
       "      <td>0.75945</td>\n",
       "      <td>13.7969</td>\n",
       "      <td>-18.716348</td>\n",
       "      <td>0.8499</td>\n",
       "      <td>23.537352</td>\n",
       "    </tr>\n",
       "    <tr>\n",
       "      <th>15034368</th>\n",
       "      <td>36.454818</td>\n",
       "      <td>1.470759</td>\n",
       "      <td>0.16827</td>\n",
       "      <td>0.16882</td>\n",
       "      <td>12.4438</td>\n",
       "      <td>-16.753474</td>\n",
       "      <td>0.4932</td>\n",
       "      <td>21.759327</td>\n",
       "    </tr>\n",
       "  </tbody>\n",
       "</table>\n",
       "</div>"
      ],
      "text/plain": [
       "                  ra_gal    dec_gal   z_cgal  ...    abs_mag   color    app_mag\n",
       "unique_gal_id                                 ...                              \n",
       "6115328        61.603497  59.016913  0.21891  ... -16.929097  0.1780  22.106301\n",
       "8955904        32.202269  71.912705  0.29446  ... -15.597617  0.1631  24.230383\n",
       "12351488       41.511403  78.611159  0.76228  ... -18.716348  0.8499  23.537352\n",
       "15034368       36.454818   1.470759  0.16827  ... -16.753474  0.4932  21.759327\n",
       "\n",
       "[4 rows x 8 columns]"
      ]
     },
     "execution_count": 199,
     "metadata": {
      "tags": []
     },
     "output_type": "execute_result"
    }
   ],
   "source": [
    "galaxy_sample[3:7]"
   ]
  },
  {
   "cell_type": "code",
   "execution_count": 79,
   "metadata": {
    "colab": {
     "base_uri": "https://localhost:8080/"
    },
    "executionInfo": {
     "elapsed": 1133,
     "status": "ok",
     "timestamp": 1607101041377,
     "user": {
      "displayName": "Tomasz Różański",
      "photoUrl": "https://lh4.googleusercontent.com/-CdAQaQI9V1E/AAAAAAAAAAI/AAAAAAAAAvI/rnNPiSw4f80/s64/photo.jpg",
      "userId": "09904144145241711927"
     },
     "user_tz": -60
    },
    "id": "LByRAI71UCgz",
    "outputId": "1a6a8e64-69f6-4519-ef08-01c7550a8cb4"
   },
   "outputs": [
    {
     "data": {
      "text/plain": [
       "pandas.core.frame.DataFrame"
      ]
     },
     "execution_count": 79,
     "metadata": {},
     "output_type": "execute_result"
    }
   ],
   "source": [
    "type(galaxy_sample.iloc[3:7])"
   ]
  },
  {
   "cell_type": "markdown",
   "metadata": {
    "id": "7gkqML8xUL1q"
   },
   "source": [
    "* Wybieranie wierszy przez maskę"
   ]
  },
  {
   "cell_type": "code",
   "execution_count": 82,
   "metadata": {
    "colab": {
     "base_uri": "https://localhost:8080/"
    },
    "executionInfo": {
     "elapsed": 968,
     "status": "ok",
     "timestamp": 1607101083245,
     "user": {
      "displayName": "Tomasz Różański",
      "photoUrl": "https://lh4.googleusercontent.com/-CdAQaQI9V1E/AAAAAAAAAAI/AAAAAAAAAvI/rnNPiSw4f80/s64/photo.jpg",
      "userId": "09904144145241711927"
     },
     "user_tz": -60
    },
    "id": "sJExfdoPUIOn",
    "outputId": "da690dbb-46f7-4df8-dae8-221be6502770"
   },
   "outputs": [
    {
     "data": {
      "text/plain": [
       "unique_gal_id\n",
       "61456384    False\n",
       "48244736     True\n",
       "53536768     True\n",
       "72990720     True\n",
       "63993856    False\n",
       "Name: ra_gal, dtype: bool"
      ]
     },
     "execution_count": 82,
     "metadata": {},
     "output_type": "execute_result"
    }
   ],
   "source": [
    "(galaxy_sample['ra_gal'] < 45).tail()"
   ]
  },
  {
   "cell_type": "code",
   "execution_count": 83,
   "metadata": {
    "colab": {
     "base_uri": "https://localhost:8080/"
    },
    "executionInfo": {
     "elapsed": 1403,
     "status": "ok",
     "timestamp": 1607101089098,
     "user": {
      "displayName": "Tomasz Różański",
      "photoUrl": "https://lh4.googleusercontent.com/-CdAQaQI9V1E/AAAAAAAAAAI/AAAAAAAAAvI/rnNPiSw4f80/s64/photo.jpg",
      "userId": "09904144145241711927"
     },
     "user_tz": -60
    },
    "id": "MxYg0thLUGKZ",
    "outputId": "35b93cb1-3332-49ca-d417-6f58df58fd23"
   },
   "outputs": [
    {
     "data": {
      "text/plain": [
       "pandas.core.series.Series"
      ]
     },
     "execution_count": 83,
     "metadata": {},
     "output_type": "execute_result"
    }
   ],
   "source": [
    "type(galaxy_sample['ra_gal'] < 45)"
   ]
  },
  {
   "cell_type": "code",
   "execution_count": 84,
   "metadata": {
    "colab": {
     "base_uri": "https://localhost:8080/",
     "height": 235
    },
    "executionInfo": {
     "elapsed": 773,
     "status": "ok",
     "timestamp": 1607101126044,
     "user": {
      "displayName": "Tomasz Różański",
      "photoUrl": "https://lh4.googleusercontent.com/-CdAQaQI9V1E/AAAAAAAAAAI/AAAAAAAAAvI/rnNPiSw4f80/s64/photo.jpg",
      "userId": "09904144145241711927"
     },
     "user_tz": -60
    },
    "id": "PuMTCUAZUQje",
    "outputId": "6936284a-cc35-4485-99eb-28daaf4f4fbd"
   },
   "outputs": [
    {
     "data": {
      "text/html": [
       "<div>\n",
       "<style scoped>\n",
       "    .dataframe tbody tr th:only-of-type {\n",
       "        vertical-align: middle;\n",
       "    }\n",
       "\n",
       "    .dataframe tbody tr th {\n",
       "        vertical-align: top;\n",
       "    }\n",
       "\n",
       "    .dataframe thead th {\n",
       "        text-align: right;\n",
       "    }\n",
       "</style>\n",
       "<table border=\"1\" class=\"dataframe\">\n",
       "  <thead>\n",
       "    <tr style=\"text-align: right;\">\n",
       "      <th></th>\n",
       "      <th>ra_gal</th>\n",
       "      <th>dec_gal</th>\n",
       "      <th>z_cgal</th>\n",
       "      <th>z_cgal_v</th>\n",
       "      <th>lmhalo</th>\n",
       "      <th>abs_mag</th>\n",
       "      <th>color</th>\n",
       "      <th>app_mag</th>\n",
       "    </tr>\n",
       "    <tr>\n",
       "      <th>unique_gal_id</th>\n",
       "      <th></th>\n",
       "      <th></th>\n",
       "      <th></th>\n",
       "      <th></th>\n",
       "      <th></th>\n",
       "      <th></th>\n",
       "      <th></th>\n",
       "      <th></th>\n",
       "    </tr>\n",
       "  </thead>\n",
       "  <tbody>\n",
       "    <tr>\n",
       "      <th>6115328</th>\n",
       "      <td>61.603497</td>\n",
       "      <td>59.016913</td>\n",
       "      <td>0.21891</td>\n",
       "      <td>0.21605</td>\n",
       "      <td>13.9224</td>\n",
       "      <td>-16.929097</td>\n",
       "      <td>0.1780</td>\n",
       "      <td>22.106301</td>\n",
       "    </tr>\n",
       "    <tr>\n",
       "      <th>490539008</th>\n",
       "      <td>50.947777</td>\n",
       "      <td>47.746368</td>\n",
       "      <td>0.52318</td>\n",
       "      <td>0.52377</td>\n",
       "      <td>10.8470</td>\n",
       "      <td>-16.736888</td>\n",
       "      <td>0.5417</td>\n",
       "      <td>24.525811</td>\n",
       "    </tr>\n",
       "    <tr>\n",
       "      <th>486078464</th>\n",
       "      <td>82.925868</td>\n",
       "      <td>40.278724</td>\n",
       "      <td>0.43548</td>\n",
       "      <td>0.43453</td>\n",
       "      <td>10.7899</td>\n",
       "      <td>-16.574389</td>\n",
       "      <td>0.4893</td>\n",
       "      <td>24.224212</td>\n",
       "    </tr>\n",
       "    <tr>\n",
       "      <th>497823744</th>\n",
       "      <td>60.660616</td>\n",
       "      <td>2.134763</td>\n",
       "      <td>0.44947</td>\n",
       "      <td>0.44761</td>\n",
       "      <td>10.7859</td>\n",
       "      <td>-16.568143</td>\n",
       "      <td>0.3134</td>\n",
       "      <td>24.271558</td>\n",
       "    </tr>\n",
       "    <tr>\n",
       "      <th>499359744</th>\n",
       "      <td>58.234774</td>\n",
       "      <td>38.335735</td>\n",
       "      <td>0.54060</td>\n",
       "      <td>0.54120</td>\n",
       "      <td>10.8696</td>\n",
       "      <td>-17.017661</td>\n",
       "      <td>0.5047</td>\n",
       "      <td>24.231038</td>\n",
       "    </tr>\n",
       "  </tbody>\n",
       "</table>\n",
       "</div>"
      ],
      "text/plain": [
       "                  ra_gal    dec_gal   z_cgal  z_cgal_v   lmhalo    abs_mag  \\\n",
       "unique_gal_id                                                                \n",
       "6115328        61.603497  59.016913  0.21891   0.21605  13.9224 -16.929097   \n",
       "490539008      50.947777  47.746368  0.52318   0.52377  10.8470 -16.736888   \n",
       "486078464      82.925868  40.278724  0.43548   0.43453  10.7899 -16.574389   \n",
       "497823744      60.660616   2.134763  0.44947   0.44761  10.7859 -16.568143   \n",
       "499359744      58.234774  38.335735  0.54060   0.54120  10.8696 -17.017661   \n",
       "\n",
       "                color    app_mag  \n",
       "unique_gal_id                     \n",
       "6115328        0.1780  22.106301  \n",
       "490539008      0.5417  24.525811  \n",
       "486078464      0.4893  24.224212  \n",
       "497823744      0.3134  24.271558  \n",
       "499359744      0.5047  24.231038  "
      ]
     },
     "execution_count": 84,
     "metadata": {},
     "output_type": "execute_result"
    }
   ],
   "source": [
    "galaxy_sample[galaxy_sample['ra_gal'] > 45].head()"
   ]
  },
  {
   "cell_type": "code",
   "execution_count": 210,
   "metadata": {
    "executionInfo": {
     "elapsed": 820,
     "status": "ok",
     "timestamp": 1607101256460,
     "user": {
      "displayName": "Tomasz Różański",
      "photoUrl": "https://lh4.googleusercontent.com/-CdAQaQI9V1E/AAAAAAAAAAI/AAAAAAAAAvI/rnNPiSw4f80/s64/photo.jpg",
      "userId": "09904144145241711927"
     },
     "user_tz": -60
    },
    "id": "s1dSwEeVsa8-"
   },
   "outputs": [],
   "source": [
    "# AND - &\n",
    "# OR  - |\n",
    "# NOT - ~\n",
    "# (galaxy_sample.z_cgal <= 0.2) OR (galaxy_sample.z_cgal >= 1.0)"
   ]
  },
  {
   "cell_type": "code",
   "execution_count": 85,
   "metadata": {
    "colab": {
     "base_uri": "https://localhost:8080/",
     "height": 235
    },
    "executionInfo": {
     "elapsed": 1463,
     "status": "ok",
     "timestamp": 1607101289972,
     "user": {
      "displayName": "Tomasz Różański",
      "photoUrl": "https://lh4.googleusercontent.com/-CdAQaQI9V1E/AAAAAAAAAAI/AAAAAAAAAvI/rnNPiSw4f80/s64/photo.jpg",
      "userId": "09904144145241711927"
     },
     "user_tz": -60
    },
    "id": "2bl74NSiUSOG",
    "outputId": "e0fd2d77-c0b1-4f37-f081-c43960281784"
   },
   "outputs": [
    {
     "data": {
      "text/html": [
       "<div>\n",
       "<style scoped>\n",
       "    .dataframe tbody tr th:only-of-type {\n",
       "        vertical-align: middle;\n",
       "    }\n",
       "\n",
       "    .dataframe tbody tr th {\n",
       "        vertical-align: top;\n",
       "    }\n",
       "\n",
       "    .dataframe thead th {\n",
       "        text-align: right;\n",
       "    }\n",
       "</style>\n",
       "<table border=\"1\" class=\"dataframe\">\n",
       "  <thead>\n",
       "    <tr style=\"text-align: right;\">\n",
       "      <th></th>\n",
       "      <th>ra_gal</th>\n",
       "      <th>dec_gal</th>\n",
       "      <th>z_cgal</th>\n",
       "      <th>z_cgal_v</th>\n",
       "      <th>lmhalo</th>\n",
       "      <th>abs_mag</th>\n",
       "      <th>color</th>\n",
       "      <th>app_mag</th>\n",
       "    </tr>\n",
       "    <tr>\n",
       "      <th>unique_gal_id</th>\n",
       "      <th></th>\n",
       "      <th></th>\n",
       "      <th></th>\n",
       "      <th></th>\n",
       "      <th></th>\n",
       "      <th></th>\n",
       "      <th></th>\n",
       "      <th></th>\n",
       "    </tr>\n",
       "  </thead>\n",
       "  <tbody>\n",
       "    <tr>\n",
       "      <th>6686720</th>\n",
       "      <td>32.696644</td>\n",
       "      <td>53.073577</td>\n",
       "      <td>0.17156</td>\n",
       "      <td>0.16844</td>\n",
       "      <td>14.4175</td>\n",
       "      <td>-16.587480</td>\n",
       "      <td>0.8183</td>\n",
       "      <td>21.803620</td>\n",
       "    </tr>\n",
       "    <tr>\n",
       "      <th>15034368</th>\n",
       "      <td>36.454818</td>\n",
       "      <td>1.470759</td>\n",
       "      <td>0.16827</td>\n",
       "      <td>0.16882</td>\n",
       "      <td>12.4438</td>\n",
       "      <td>-16.753474</td>\n",
       "      <td>0.4932</td>\n",
       "      <td>21.759327</td>\n",
       "    </tr>\n",
       "    <tr>\n",
       "      <th>17098752</th>\n",
       "      <td>22.305408</td>\n",
       "      <td>32.920644</td>\n",
       "      <td>0.19433</td>\n",
       "      <td>0.19137</td>\n",
       "      <td>12.1769</td>\n",
       "      <td>-16.021589</td>\n",
       "      <td>0.1543</td>\n",
       "      <td>22.861211</td>\n",
       "    </tr>\n",
       "    <tr>\n",
       "      <th>15955968</th>\n",
       "      <td>30.081703</td>\n",
       "      <td>6.398922</td>\n",
       "      <td>0.18972</td>\n",
       "      <td>0.18570</td>\n",
       "      <td>13.6578</td>\n",
       "      <td>-15.146481</td>\n",
       "      <td>0.3872</td>\n",
       "      <td>23.614319</td>\n",
       "    </tr>\n",
       "    <tr>\n",
       "      <th>17274880</th>\n",
       "      <td>16.696839</td>\n",
       "      <td>21.846449</td>\n",
       "      <td>0.19777</td>\n",
       "      <td>0.19551</td>\n",
       "      <td>13.7144</td>\n",
       "      <td>-14.924288</td>\n",
       "      <td>0.2035</td>\n",
       "      <td>23.980411</td>\n",
       "    </tr>\n",
       "  </tbody>\n",
       "</table>\n",
       "</div>"
      ],
      "text/plain": [
       "                  ra_gal    dec_gal   z_cgal  z_cgal_v   lmhalo    abs_mag  \\\n",
       "unique_gal_id                                                                \n",
       "6686720        32.696644  53.073577  0.17156   0.16844  14.4175 -16.587480   \n",
       "15034368       36.454818   1.470759  0.16827   0.16882  12.4438 -16.753474   \n",
       "17098752       22.305408  32.920644  0.19433   0.19137  12.1769 -16.021589   \n",
       "15955968       30.081703   6.398922  0.18972   0.18570  13.6578 -15.146481   \n",
       "17274880       16.696839  21.846449  0.19777   0.19551  13.7144 -14.924288   \n",
       "\n",
       "                color    app_mag  \n",
       "unique_gal_id                     \n",
       "6686720        0.8183  21.803620  \n",
       "15034368       0.4932  21.759327  \n",
       "17098752       0.1543  22.861211  \n",
       "15955968       0.3872  23.614319  \n",
       "17274880       0.2035  23.980411  "
      ]
     },
     "execution_count": 85,
     "metadata": {},
     "output_type": "execute_result"
    }
   ],
   "source": [
    "galaxy_sample[(galaxy_sample.z_cgal <= 0.2) | (galaxy_sample.z_cgal >= 1.0)].head()"
   ]
  },
  {
   "cell_type": "code",
   "execution_count": 86,
   "metadata": {
    "colab": {
     "base_uri": "https://localhost:8080/",
     "height": 111
    },
    "executionInfo": {
     "elapsed": 1016,
     "status": "ok",
     "timestamp": 1607101313525,
     "user": {
      "displayName": "Tomasz Różański",
      "photoUrl": "https://lh4.googleusercontent.com/-CdAQaQI9V1E/AAAAAAAAAAI/AAAAAAAAAvI/rnNPiSw4f80/s64/photo.jpg",
      "userId": "09904144145241711927"
     },
     "user_tz": -60
    },
    "id": "utV6s6MAUT89",
    "outputId": "e1988593-d90d-4df2-de9f-42fd1d91246e"
   },
   "outputs": [
    {
     "data": {
      "text/html": [
       "<div>\n",
       "<style scoped>\n",
       "    .dataframe tbody tr th:only-of-type {\n",
       "        vertical-align: middle;\n",
       "    }\n",
       "\n",
       "    .dataframe tbody tr th {\n",
       "        vertical-align: top;\n",
       "    }\n",
       "\n",
       "    .dataframe thead th {\n",
       "        text-align: right;\n",
       "    }\n",
       "</style>\n",
       "<table border=\"1\" class=\"dataframe\">\n",
       "  <thead>\n",
       "    <tr style=\"text-align: right;\">\n",
       "      <th></th>\n",
       "      <th>ra_gal</th>\n",
       "      <th>dec_gal</th>\n",
       "      <th>z_cgal</th>\n",
       "      <th>z_cgal_v</th>\n",
       "      <th>lmhalo</th>\n",
       "      <th>abs_mag</th>\n",
       "      <th>color</th>\n",
       "      <th>app_mag</th>\n",
       "    </tr>\n",
       "    <tr>\n",
       "      <th>unique_gal_id</th>\n",
       "      <th></th>\n",
       "      <th></th>\n",
       "      <th></th>\n",
       "      <th></th>\n",
       "      <th></th>\n",
       "      <th></th>\n",
       "      <th></th>\n",
       "      <th></th>\n",
       "    </tr>\n",
       "  </thead>\n",
       "  <tbody>\n",
       "    <tr>\n",
       "      <th>6686720</th>\n",
       "      <td>32.696644</td>\n",
       "      <td>53.073577</td>\n",
       "      <td>0.17156</td>\n",
       "      <td>0.16844</td>\n",
       "      <td>14.4175</td>\n",
       "      <td>-16.58748</td>\n",
       "      <td>0.8183</td>\n",
       "      <td>21.80362</td>\n",
       "    </tr>\n",
       "  </tbody>\n",
       "</table>\n",
       "</div>"
      ],
      "text/plain": [
       "                  ra_gal    dec_gal   z_cgal  z_cgal_v   lmhalo   abs_mag  \\\n",
       "unique_gal_id                                                               \n",
       "6686720        32.696644  53.073577  0.17156   0.16844  14.4175 -16.58748   \n",
       "\n",
       "                color   app_mag  \n",
       "unique_gal_id                    \n",
       "6686720        0.8183  21.80362  "
      ]
     },
     "execution_count": 86,
     "metadata": {},
     "output_type": "execute_result"
    }
   ],
   "source": [
    "galaxy_sample[(galaxy_sample.z_cgal <= 1.0) & (galaxy_sample.index.isin([6686720,13615360,3231232]))]"
   ]
  },
  {
   "cell_type": "code",
   "execution_count": 87,
   "metadata": {
    "colab": {
     "base_uri": "https://localhost:8080/",
     "height": 235
    },
    "executionInfo": {
     "elapsed": 914,
     "status": "ok",
     "timestamp": 1607101470151,
     "user": {
      "displayName": "Tomasz Różański",
      "photoUrl": "https://lh4.googleusercontent.com/-CdAQaQI9V1E/AAAAAAAAAAI/AAAAAAAAAvI/rnNPiSw4f80/s64/photo.jpg",
      "userId": "09904144145241711927"
     },
     "user_tz": -60
    },
    "id": "VuJpUdOmUWJL",
    "outputId": "e2ef4ab5-a383-46c0-ad4b-1a9c0c2469f4"
   },
   "outputs": [
    {
     "data": {
      "text/html": [
       "<div>\n",
       "<style scoped>\n",
       "    .dataframe tbody tr th:only-of-type {\n",
       "        vertical-align: middle;\n",
       "    }\n",
       "\n",
       "    .dataframe tbody tr th {\n",
       "        vertical-align: top;\n",
       "    }\n",
       "\n",
       "    .dataframe thead th {\n",
       "        text-align: right;\n",
       "    }\n",
       "</style>\n",
       "<table border=\"1\" class=\"dataframe\">\n",
       "  <thead>\n",
       "    <tr style=\"text-align: right;\">\n",
       "      <th></th>\n",
       "      <th>ra_gal</th>\n",
       "      <th>dec_gal</th>\n",
       "    </tr>\n",
       "    <tr>\n",
       "      <th>unique_gal_id</th>\n",
       "      <th></th>\n",
       "      <th></th>\n",
       "    </tr>\n",
       "  </thead>\n",
       "  <tbody>\n",
       "    <tr>\n",
       "      <th>60252160</th>\n",
       "      <td>0.506340</td>\n",
       "      <td>0.603683</td>\n",
       "    </tr>\n",
       "    <tr>\n",
       "      <th>325529600</th>\n",
       "      <td>0.511039</td>\n",
       "      <td>0.443529</td>\n",
       "    </tr>\n",
       "    <tr>\n",
       "      <th>443926528</th>\n",
       "      <td>0.322707</td>\n",
       "      <td>0.102679</td>\n",
       "    </tr>\n",
       "    <tr>\n",
       "      <th>60200960</th>\n",
       "      <td>0.944569</td>\n",
       "      <td>0.540849</td>\n",
       "    </tr>\n",
       "    <tr>\n",
       "      <th>445370368</th>\n",
       "      <td>0.774362</td>\n",
       "      <td>0.125568</td>\n",
       "    </tr>\n",
       "  </tbody>\n",
       "</table>\n",
       "</div>"
      ],
      "text/plain": [
       "                 ra_gal   dec_gal\n",
       "unique_gal_id                    \n",
       "60252160       0.506340  0.603683\n",
       "325529600      0.511039  0.443529\n",
       "443926528      0.322707  0.102679\n",
       "60200960       0.944569  0.540849\n",
       "445370368      0.774362  0.125568"
      ]
     },
     "execution_count": 87,
     "metadata": {},
     "output_type": "execute_result"
    }
   ],
   "source": [
    "galaxy_sample[(galaxy_sample['ra_gal'] < 1.) & (galaxy_sample['dec_gal'] < 1.)]\\\n",
    "              [['ra_gal','dec_gal']]\\\n",
    "              .head()"
   ]
  },
  {
   "cell_type": "markdown",
   "metadata": {
    "id": "kdnwMEyuUs6-"
   },
   "source": [
    "### Merge, join i concatenate\n",
    "\n",
    "<https://pandas.pydata.org/pandas-docs/stable/merging.html>\n",
    "\n",
    "- pandas dostarcza wiele funkcjonalności dla łattwego łączenia Series i DataFrame w oparciu o różne zależności pomiędzy indeksami i algebrę relacyjną w przypadku operacji typu `join`/`merge`.\n",
    "\n",
    "- metoda *concat* :\n",
    "```\n",
    "pd.concat(objs, axis=0, join='outer', join_axes=None, ignore_index=False,\n",
    "          keys=None, levels=None, names=None, verify_integrity=False,\n",
    "          copy=True)\n",
    "```"
   ]
  },
  {
   "cell_type": "code",
   "execution_count": 88,
   "metadata": {
    "executionInfo": {
     "elapsed": 1326,
     "status": "ok",
     "timestamp": 1607101544333,
     "user": {
      "displayName": "Tomasz Różański",
      "photoUrl": "https://lh4.googleusercontent.com/-CdAQaQI9V1E/AAAAAAAAAAI/AAAAAAAAAvI/rnNPiSw4f80/s64/photo.jpg",
      "userId": "09904144145241711927"
     },
     "user_tz": -60
    },
    "id": "ZRsGS9OeUZg0"
   },
   "outputs": [],
   "source": [
    "df1 = pd.DataFrame(\n",
    "    {'A': ['A0', 'A1', 'A2', 'A3'],\n",
    "     'B': ['B0', 'B1', 'B2', 'B3'],\n",
    "     'C': ['C0', 'C1', 'C2', 'C3'],\n",
    "     'D': ['D0', 'D1', 'D2', 'D3']},\n",
    "    index=[0, 1, 2, 3]\n",
    ")"
   ]
  },
  {
   "cell_type": "code",
   "execution_count": 89,
   "metadata": {
    "executionInfo": {
     "elapsed": 1444,
     "status": "ok",
     "timestamp": 1607101544844,
     "user": {
      "displayName": "Tomasz Różański",
      "photoUrl": "https://lh4.googleusercontent.com/-CdAQaQI9V1E/AAAAAAAAAAI/AAAAAAAAAvI/rnNPiSw4f80/s64/photo.jpg",
      "userId": "09904144145241711927"
     },
     "user_tz": -60
    },
    "id": "dgXgryZkVKWI"
   },
   "outputs": [],
   "source": [
    "df2 = pd.DataFrame(\n",
    "    {'A': ['A4', 'A5', 'A6', 'A7'],\n",
    "     'B': ['B4', 'B5', 'B6', 'B7'],\n",
    "     'C': ['C4', 'C5', 'C6', 'C7'],\n",
    "     'D': ['D4', 'D5', 'D6', 'D7']},\n",
    "    index=[4, 5, 6, 7]\n",
    ") "
   ]
  },
  {
   "cell_type": "code",
   "execution_count": 90,
   "metadata": {
    "executionInfo": {
     "elapsed": 1067,
     "status": "ok",
     "timestamp": 1607101544845,
     "user": {
      "displayName": "Tomasz Różański",
      "photoUrl": "https://lh4.googleusercontent.com/-CdAQaQI9V1E/AAAAAAAAAAI/AAAAAAAAAvI/rnNPiSw4f80/s64/photo.jpg",
      "userId": "09904144145241711927"
     },
     "user_tz": -60
    },
    "id": "jn9XUGyHVLlc"
   },
   "outputs": [],
   "source": [
    "df3 = pd.DataFrame(\n",
    "    {'A': ['A8', 'A9', 'A10', 'A11'],\n",
    "     'B': ['B8', 'B9', 'B10', 'B11'],\n",
    "     'C': ['C8', 'C9', 'C10', 'C11'],\n",
    "     'D': ['D8', 'D9', 'D10', 'D11']},\n",
    "    index=[8, 9, 10, 11]\n",
    ")"
   ]
  },
  {
   "cell_type": "code",
   "execution_count": 91,
   "metadata": {
    "colab": {
     "base_uri": "https://localhost:8080/",
     "height": 173
    },
    "executionInfo": {
     "elapsed": 1037,
     "status": "ok",
     "timestamp": 1607101547303,
     "user": {
      "displayName": "Tomasz Różański",
      "photoUrl": "https://lh4.googleusercontent.com/-CdAQaQI9V1E/AAAAAAAAAAI/AAAAAAAAAvI/rnNPiSw4f80/s64/photo.jpg",
      "userId": "09904144145241711927"
     },
     "user_tz": -60
    },
    "id": "kUAJLhDfVM9B",
    "outputId": "e7fd242c-3c4c-4ce3-b87f-cfed4287fcee"
   },
   "outputs": [
    {
     "data": {
      "text/html": [
       "<div>\n",
       "<style scoped>\n",
       "    .dataframe tbody tr th:only-of-type {\n",
       "        vertical-align: middle;\n",
       "    }\n",
       "\n",
       "    .dataframe tbody tr th {\n",
       "        vertical-align: top;\n",
       "    }\n",
       "\n",
       "    .dataframe thead th {\n",
       "        text-align: right;\n",
       "    }\n",
       "</style>\n",
       "<table border=\"1\" class=\"dataframe\">\n",
       "  <thead>\n",
       "    <tr style=\"text-align: right;\">\n",
       "      <th></th>\n",
       "      <th>A</th>\n",
       "      <th>B</th>\n",
       "      <th>C</th>\n",
       "      <th>D</th>\n",
       "    </tr>\n",
       "  </thead>\n",
       "  <tbody>\n",
       "    <tr>\n",
       "      <th>8</th>\n",
       "      <td>A8</td>\n",
       "      <td>B8</td>\n",
       "      <td>C8</td>\n",
       "      <td>D8</td>\n",
       "    </tr>\n",
       "    <tr>\n",
       "      <th>9</th>\n",
       "      <td>A9</td>\n",
       "      <td>B9</td>\n",
       "      <td>C9</td>\n",
       "      <td>D9</td>\n",
       "    </tr>\n",
       "    <tr>\n",
       "      <th>10</th>\n",
       "      <td>A10</td>\n",
       "      <td>B10</td>\n",
       "      <td>C10</td>\n",
       "      <td>D10</td>\n",
       "    </tr>\n",
       "    <tr>\n",
       "      <th>11</th>\n",
       "      <td>A11</td>\n",
       "      <td>B11</td>\n",
       "      <td>C11</td>\n",
       "      <td>D11</td>\n",
       "    </tr>\n",
       "  </tbody>\n",
       "</table>\n",
       "</div>"
      ],
      "text/plain": [
       "      A    B    C    D\n",
       "8    A8   B8   C8   D8\n",
       "9    A9   B9   C9   D9\n",
       "10  A10  B10  C10  D10\n",
       "11  A11  B11  C11  D11"
      ]
     },
     "execution_count": 91,
     "metadata": {},
     "output_type": "execute_result"
    }
   ],
   "source": [
    "df3"
   ]
  },
  {
   "cell_type": "code",
   "execution_count": 92,
   "metadata": {
    "colab": {
     "base_uri": "https://localhost:8080/",
     "height": 173
    },
    "executionInfo": {
     "elapsed": 852,
     "status": "ok",
     "timestamp": 1607101547687,
     "user": {
      "displayName": "Tomasz Różański",
      "photoUrl": "https://lh4.googleusercontent.com/-CdAQaQI9V1E/AAAAAAAAAAI/AAAAAAAAAvI/rnNPiSw4f80/s64/photo.jpg",
      "userId": "09904144145241711927"
     },
     "user_tz": -60
    },
    "id": "vdRIQxcoVOJ6",
    "outputId": "d7bd639a-714f-4754-f0cc-b4c0c0845431"
   },
   "outputs": [
    {
     "data": {
      "text/html": [
       "<div>\n",
       "<style scoped>\n",
       "    .dataframe tbody tr th:only-of-type {\n",
       "        vertical-align: middle;\n",
       "    }\n",
       "\n",
       "    .dataframe tbody tr th {\n",
       "        vertical-align: top;\n",
       "    }\n",
       "\n",
       "    .dataframe thead th {\n",
       "        text-align: right;\n",
       "    }\n",
       "</style>\n",
       "<table border=\"1\" class=\"dataframe\">\n",
       "  <thead>\n",
       "    <tr style=\"text-align: right;\">\n",
       "      <th></th>\n",
       "      <th>A</th>\n",
       "      <th>B</th>\n",
       "      <th>C</th>\n",
       "      <th>D</th>\n",
       "    </tr>\n",
       "  </thead>\n",
       "  <tbody>\n",
       "    <tr>\n",
       "      <th>4</th>\n",
       "      <td>A4</td>\n",
       "      <td>B4</td>\n",
       "      <td>C4</td>\n",
       "      <td>D4</td>\n",
       "    </tr>\n",
       "    <tr>\n",
       "      <th>5</th>\n",
       "      <td>A5</td>\n",
       "      <td>B5</td>\n",
       "      <td>C5</td>\n",
       "      <td>D5</td>\n",
       "    </tr>\n",
       "    <tr>\n",
       "      <th>6</th>\n",
       "      <td>A6</td>\n",
       "      <td>B6</td>\n",
       "      <td>C6</td>\n",
       "      <td>D6</td>\n",
       "    </tr>\n",
       "    <tr>\n",
       "      <th>7</th>\n",
       "      <td>A7</td>\n",
       "      <td>B7</td>\n",
       "      <td>C7</td>\n",
       "      <td>D7</td>\n",
       "    </tr>\n",
       "  </tbody>\n",
       "</table>\n",
       "</div>"
      ],
      "text/plain": [
       "    A   B   C   D\n",
       "4  A4  B4  C4  D4\n",
       "5  A5  B5  C5  D5\n",
       "6  A6  B6  C6  D6\n",
       "7  A7  B7  C7  D7"
      ]
     },
     "execution_count": 92,
     "metadata": {},
     "output_type": "execute_result"
    }
   ],
   "source": [
    "df2"
   ]
  },
  {
   "cell_type": "code",
   "execution_count": 93,
   "metadata": {
    "executionInfo": {
     "elapsed": 1006,
     "status": "ok",
     "timestamp": 1607101563310,
     "user": {
      "displayName": "Tomasz Różański",
      "photoUrl": "https://lh4.googleusercontent.com/-CdAQaQI9V1E/AAAAAAAAAAI/AAAAAAAAAvI/rnNPiSw4f80/s64/photo.jpg",
      "userId": "09904144145241711927"
     },
     "user_tz": -60
    },
    "id": "8J4iE-dJVPkL"
   },
   "outputs": [],
   "source": [
    "frames = [df1, df2, df3]"
   ]
  },
  {
   "cell_type": "code",
   "execution_count": 94,
   "metadata": {
    "colab": {
     "base_uri": "https://localhost:8080/"
    },
    "executionInfo": {
     "elapsed": 554,
     "status": "ok",
     "timestamp": 1607101563311,
     "user": {
      "displayName": "Tomasz Różański",
      "photoUrl": "https://lh4.googleusercontent.com/-CdAQaQI9V1E/AAAAAAAAAAI/AAAAAAAAAvI/rnNPiSw4f80/s64/photo.jpg",
      "userId": "09904144145241711927"
     },
     "user_tz": -60
    },
    "id": "ed_lm4fVVQpV",
    "outputId": "2b6eb55b-965f-4aa8-efcb-0eba0b624b18"
   },
   "outputs": [
    {
     "data": {
      "text/plain": [
       "[    A   B   C   D\n",
       " 0  A0  B0  C0  D0\n",
       " 1  A1  B1  C1  D1\n",
       " 2  A2  B2  C2  D2\n",
       " 3  A3  B3  C3  D3,\n",
       "     A   B   C   D\n",
       " 4  A4  B4  C4  D4\n",
       " 5  A5  B5  C5  D5\n",
       " 6  A6  B6  C6  D6\n",
       " 7  A7  B7  C7  D7,\n",
       "       A    B    C    D\n",
       " 8    A8   B8   C8   D8\n",
       " 9    A9   B9   C9   D9\n",
       " 10  A10  B10  C10  D10\n",
       " 11  A11  B11  C11  D11]"
      ]
     },
     "execution_count": 94,
     "metadata": {},
     "output_type": "execute_result"
    }
   ],
   "source": [
    "frames"
   ]
  },
  {
   "cell_type": "code",
   "execution_count": 95,
   "metadata": {
    "colab": {
     "base_uri": "https://localhost:8080/",
     "height": 421
    },
    "executionInfo": {
     "elapsed": 980,
     "status": "ok",
     "timestamp": 1607101568879,
     "user": {
      "displayName": "Tomasz Różański",
      "photoUrl": "https://lh4.googleusercontent.com/-CdAQaQI9V1E/AAAAAAAAAAI/AAAAAAAAAvI/rnNPiSw4f80/s64/photo.jpg",
      "userId": "09904144145241711927"
     },
     "user_tz": -60
    },
    "id": "3H0H-KM2VRCI",
    "outputId": "13e5a9f6-a1c3-483a-e92f-212c7dcfbfff"
   },
   "outputs": [
    {
     "data": {
      "text/html": [
       "<div>\n",
       "<style scoped>\n",
       "    .dataframe tbody tr th:only-of-type {\n",
       "        vertical-align: middle;\n",
       "    }\n",
       "\n",
       "    .dataframe tbody tr th {\n",
       "        vertical-align: top;\n",
       "    }\n",
       "\n",
       "    .dataframe thead th {\n",
       "        text-align: right;\n",
       "    }\n",
       "</style>\n",
       "<table border=\"1\" class=\"dataframe\">\n",
       "  <thead>\n",
       "    <tr style=\"text-align: right;\">\n",
       "      <th></th>\n",
       "      <th>A</th>\n",
       "      <th>B</th>\n",
       "      <th>C</th>\n",
       "      <th>D</th>\n",
       "    </tr>\n",
       "  </thead>\n",
       "  <tbody>\n",
       "    <tr>\n",
       "      <th>0</th>\n",
       "      <td>A0</td>\n",
       "      <td>B0</td>\n",
       "      <td>C0</td>\n",
       "      <td>D0</td>\n",
       "    </tr>\n",
       "    <tr>\n",
       "      <th>1</th>\n",
       "      <td>A1</td>\n",
       "      <td>B1</td>\n",
       "      <td>C1</td>\n",
       "      <td>D1</td>\n",
       "    </tr>\n",
       "    <tr>\n",
       "      <th>2</th>\n",
       "      <td>A2</td>\n",
       "      <td>B2</td>\n",
       "      <td>C2</td>\n",
       "      <td>D2</td>\n",
       "    </tr>\n",
       "    <tr>\n",
       "      <th>3</th>\n",
       "      <td>A3</td>\n",
       "      <td>B3</td>\n",
       "      <td>C3</td>\n",
       "      <td>D3</td>\n",
       "    </tr>\n",
       "    <tr>\n",
       "      <th>4</th>\n",
       "      <td>A4</td>\n",
       "      <td>B4</td>\n",
       "      <td>C4</td>\n",
       "      <td>D4</td>\n",
       "    </tr>\n",
       "    <tr>\n",
       "      <th>5</th>\n",
       "      <td>A5</td>\n",
       "      <td>B5</td>\n",
       "      <td>C5</td>\n",
       "      <td>D5</td>\n",
       "    </tr>\n",
       "    <tr>\n",
       "      <th>6</th>\n",
       "      <td>A6</td>\n",
       "      <td>B6</td>\n",
       "      <td>C6</td>\n",
       "      <td>D6</td>\n",
       "    </tr>\n",
       "    <tr>\n",
       "      <th>7</th>\n",
       "      <td>A7</td>\n",
       "      <td>B7</td>\n",
       "      <td>C7</td>\n",
       "      <td>D7</td>\n",
       "    </tr>\n",
       "    <tr>\n",
       "      <th>8</th>\n",
       "      <td>A8</td>\n",
       "      <td>B8</td>\n",
       "      <td>C8</td>\n",
       "      <td>D8</td>\n",
       "    </tr>\n",
       "    <tr>\n",
       "      <th>9</th>\n",
       "      <td>A9</td>\n",
       "      <td>B9</td>\n",
       "      <td>C9</td>\n",
       "      <td>D9</td>\n",
       "    </tr>\n",
       "    <tr>\n",
       "      <th>10</th>\n",
       "      <td>A10</td>\n",
       "      <td>B10</td>\n",
       "      <td>C10</td>\n",
       "      <td>D10</td>\n",
       "    </tr>\n",
       "    <tr>\n",
       "      <th>11</th>\n",
       "      <td>A11</td>\n",
       "      <td>B11</td>\n",
       "      <td>C11</td>\n",
       "      <td>D11</td>\n",
       "    </tr>\n",
       "  </tbody>\n",
       "</table>\n",
       "</div>"
      ],
      "text/plain": [
       "      A    B    C    D\n",
       "0    A0   B0   C0   D0\n",
       "1    A1   B1   C1   D1\n",
       "2    A2   B2   C2   D2\n",
       "3    A3   B3   C3   D3\n",
       "4    A4   B4   C4   D4\n",
       "5    A5   B5   C5   D5\n",
       "6    A6   B6   C6   D6\n",
       "7    A7   B7   C7   D7\n",
       "8    A8   B8   C8   D8\n",
       "9    A9   B9   C9   D9\n",
       "10  A10  B10  C10  D10\n",
       "11  A11  B11  C11  D11"
      ]
     },
     "execution_count": 95,
     "metadata": {},
     "output_type": "execute_result"
    }
   ],
   "source": [
    "result = pd.concat(frames)\n",
    "result"
   ]
  },
  {
   "cell_type": "code",
   "execution_count": 96,
   "metadata": {
    "executionInfo": {
     "elapsed": 1215,
     "status": "ok",
     "timestamp": 1607101603661,
     "user": {
      "displayName": "Tomasz Różański",
      "photoUrl": "https://lh4.googleusercontent.com/-CdAQaQI9V1E/AAAAAAAAAAI/AAAAAAAAAvI/rnNPiSw4f80/s64/photo.jpg",
      "userId": "09904144145241711927"
     },
     "user_tz": -60
    },
    "id": "1LX6tykaVSZd"
   },
   "outputs": [],
   "source": [
    "# Multiindex\n",
    "result = pd.concat(frames, keys=['x', 'y','z'])"
   ]
  },
  {
   "cell_type": "code",
   "execution_count": 97,
   "metadata": {
    "colab": {
     "base_uri": "https://localhost:8080/",
     "height": 421
    },
    "executionInfo": {
     "elapsed": 971,
     "status": "ok",
     "timestamp": 1607101604310,
     "user": {
      "displayName": "Tomasz Różański",
      "photoUrl": "https://lh4.googleusercontent.com/-CdAQaQI9V1E/AAAAAAAAAAI/AAAAAAAAAvI/rnNPiSw4f80/s64/photo.jpg",
      "userId": "09904144145241711927"
     },
     "user_tz": -60
    },
    "id": "2P22PKvmVUNu",
    "outputId": "0789a6b5-2b80-4a24-d176-ad92b32c9dfd"
   },
   "outputs": [
    {
     "data": {
      "text/html": [
       "<div>\n",
       "<style scoped>\n",
       "    .dataframe tbody tr th:only-of-type {\n",
       "        vertical-align: middle;\n",
       "    }\n",
       "\n",
       "    .dataframe tbody tr th {\n",
       "        vertical-align: top;\n",
       "    }\n",
       "\n",
       "    .dataframe thead th {\n",
       "        text-align: right;\n",
       "    }\n",
       "</style>\n",
       "<table border=\"1\" class=\"dataframe\">\n",
       "  <thead>\n",
       "    <tr style=\"text-align: right;\">\n",
       "      <th></th>\n",
       "      <th></th>\n",
       "      <th>A</th>\n",
       "      <th>B</th>\n",
       "      <th>C</th>\n",
       "      <th>D</th>\n",
       "    </tr>\n",
       "  </thead>\n",
       "  <tbody>\n",
       "    <tr>\n",
       "      <th rowspan=\"4\" valign=\"top\">x</th>\n",
       "      <th>0</th>\n",
       "      <td>A0</td>\n",
       "      <td>B0</td>\n",
       "      <td>C0</td>\n",
       "      <td>D0</td>\n",
       "    </tr>\n",
       "    <tr>\n",
       "      <th>1</th>\n",
       "      <td>A1</td>\n",
       "      <td>B1</td>\n",
       "      <td>C1</td>\n",
       "      <td>D1</td>\n",
       "    </tr>\n",
       "    <tr>\n",
       "      <th>2</th>\n",
       "      <td>A2</td>\n",
       "      <td>B2</td>\n",
       "      <td>C2</td>\n",
       "      <td>D2</td>\n",
       "    </tr>\n",
       "    <tr>\n",
       "      <th>3</th>\n",
       "      <td>A3</td>\n",
       "      <td>B3</td>\n",
       "      <td>C3</td>\n",
       "      <td>D3</td>\n",
       "    </tr>\n",
       "    <tr>\n",
       "      <th rowspan=\"4\" valign=\"top\">y</th>\n",
       "      <th>4</th>\n",
       "      <td>A4</td>\n",
       "      <td>B4</td>\n",
       "      <td>C4</td>\n",
       "      <td>D4</td>\n",
       "    </tr>\n",
       "    <tr>\n",
       "      <th>5</th>\n",
       "      <td>A5</td>\n",
       "      <td>B5</td>\n",
       "      <td>C5</td>\n",
       "      <td>D5</td>\n",
       "    </tr>\n",
       "    <tr>\n",
       "      <th>6</th>\n",
       "      <td>A6</td>\n",
       "      <td>B6</td>\n",
       "      <td>C6</td>\n",
       "      <td>D6</td>\n",
       "    </tr>\n",
       "    <tr>\n",
       "      <th>7</th>\n",
       "      <td>A7</td>\n",
       "      <td>B7</td>\n",
       "      <td>C7</td>\n",
       "      <td>D7</td>\n",
       "    </tr>\n",
       "    <tr>\n",
       "      <th rowspan=\"4\" valign=\"top\">z</th>\n",
       "      <th>8</th>\n",
       "      <td>A8</td>\n",
       "      <td>B8</td>\n",
       "      <td>C8</td>\n",
       "      <td>D8</td>\n",
       "    </tr>\n",
       "    <tr>\n",
       "      <th>9</th>\n",
       "      <td>A9</td>\n",
       "      <td>B9</td>\n",
       "      <td>C9</td>\n",
       "      <td>D9</td>\n",
       "    </tr>\n",
       "    <tr>\n",
       "      <th>10</th>\n",
       "      <td>A10</td>\n",
       "      <td>B10</td>\n",
       "      <td>C10</td>\n",
       "      <td>D10</td>\n",
       "    </tr>\n",
       "    <tr>\n",
       "      <th>11</th>\n",
       "      <td>A11</td>\n",
       "      <td>B11</td>\n",
       "      <td>C11</td>\n",
       "      <td>D11</td>\n",
       "    </tr>\n",
       "  </tbody>\n",
       "</table>\n",
       "</div>"
      ],
      "text/plain": [
       "        A    B    C    D\n",
       "x 0    A0   B0   C0   D0\n",
       "  1    A1   B1   C1   D1\n",
       "  2    A2   B2   C2   D2\n",
       "  3    A3   B3   C3   D3\n",
       "y 4    A4   B4   C4   D4\n",
       "  5    A5   B5   C5   D5\n",
       "  6    A6   B6   C6   D6\n",
       "  7    A7   B7   C7   D7\n",
       "z 8    A8   B8   C8   D8\n",
       "  9    A9   B9   C9   D9\n",
       "  10  A10  B10  C10  D10\n",
       "  11  A11  B11  C11  D11"
      ]
     },
     "execution_count": 97,
     "metadata": {},
     "output_type": "execute_result"
    }
   ],
   "source": [
    "result"
   ]
  },
  {
   "cell_type": "code",
   "execution_count": 98,
   "metadata": {
    "colab": {
     "base_uri": "https://localhost:8080/"
    },
    "executionInfo": {
     "elapsed": 886,
     "status": "ok",
     "timestamp": 1607101656314,
     "user": {
      "displayName": "Tomasz Różański",
      "photoUrl": "https://lh4.googleusercontent.com/-CdAQaQI9V1E/AAAAAAAAAAI/AAAAAAAAAvI/rnNPiSw4f80/s64/photo.jpg",
      "userId": "09904144145241711927"
     },
     "user_tz": -60
    },
    "id": "fqvsNSH9uRJe",
    "outputId": "998cda2c-8b2d-42db-e3bc-51f6be6905ef"
   },
   "outputs": [
    {
     "data": {
      "text/plain": [
       "MultiIndex([('x',  0),\n",
       "            ('x',  1),\n",
       "            ('x',  2),\n",
       "            ('x',  3),\n",
       "            ('y',  4),\n",
       "            ('y',  5),\n",
       "            ('y',  6),\n",
       "            ('y',  7),\n",
       "            ('z',  8),\n",
       "            ('z',  9),\n",
       "            ('z', 10),\n",
       "            ('z', 11)],\n",
       "           )"
      ]
     },
     "execution_count": 98,
     "metadata": {},
     "output_type": "execute_result"
    }
   ],
   "source": [
    "result.index"
   ]
  },
  {
   "cell_type": "code",
   "execution_count": 99,
   "metadata": {
    "colab": {
     "base_uri": "https://localhost:8080/",
     "height": 173
    },
    "executionInfo": {
     "elapsed": 1237,
     "status": "ok",
     "timestamp": 1607101692584,
     "user": {
      "displayName": "Tomasz Różański",
      "photoUrl": "https://lh4.googleusercontent.com/-CdAQaQI9V1E/AAAAAAAAAAI/AAAAAAAAAvI/rnNPiSw4f80/s64/photo.jpg",
      "userId": "09904144145241711927"
     },
     "user_tz": -60
    },
    "id": "wpAUUKifuZ2Y",
    "outputId": "d455bcb6-c689-42ff-d458-3cf9df6173d7"
   },
   "outputs": [
    {
     "data": {
      "text/html": [
       "<div>\n",
       "<style scoped>\n",
       "    .dataframe tbody tr th:only-of-type {\n",
       "        vertical-align: middle;\n",
       "    }\n",
       "\n",
       "    .dataframe tbody tr th {\n",
       "        vertical-align: top;\n",
       "    }\n",
       "\n",
       "    .dataframe thead th {\n",
       "        text-align: right;\n",
       "    }\n",
       "</style>\n",
       "<table border=\"1\" class=\"dataframe\">\n",
       "  <thead>\n",
       "    <tr style=\"text-align: right;\">\n",
       "      <th></th>\n",
       "      <th>A</th>\n",
       "      <th>B</th>\n",
       "      <th>C</th>\n",
       "      <th>D</th>\n",
       "    </tr>\n",
       "  </thead>\n",
       "  <tbody>\n",
       "    <tr>\n",
       "      <th>4</th>\n",
       "      <td>A4</td>\n",
       "      <td>B4</td>\n",
       "      <td>C4</td>\n",
       "      <td>D4</td>\n",
       "    </tr>\n",
       "    <tr>\n",
       "      <th>5</th>\n",
       "      <td>A5</td>\n",
       "      <td>B5</td>\n",
       "      <td>C5</td>\n",
       "      <td>D5</td>\n",
       "    </tr>\n",
       "    <tr>\n",
       "      <th>6</th>\n",
       "      <td>A6</td>\n",
       "      <td>B6</td>\n",
       "      <td>C6</td>\n",
       "      <td>D6</td>\n",
       "    </tr>\n",
       "    <tr>\n",
       "      <th>7</th>\n",
       "      <td>A7</td>\n",
       "      <td>B7</td>\n",
       "      <td>C7</td>\n",
       "      <td>D7</td>\n",
       "    </tr>\n",
       "  </tbody>\n",
       "</table>\n",
       "</div>"
      ],
      "text/plain": [
       "    A   B   C   D\n",
       "4  A4  B4  C4  D4\n",
       "5  A5  B5  C5  D5\n",
       "6  A6  B6  C6  D6\n",
       "7  A7  B7  C7  D7"
      ]
     },
     "execution_count": 99,
     "metadata": {},
     "output_type": "execute_result"
    }
   ],
   "source": [
    "result.loc['y']"
   ]
  },
  {
   "cell_type": "code",
   "execution_count": 100,
   "metadata": {
    "colab": {
     "base_uri": "https://localhost:8080/"
    },
    "executionInfo": {
     "elapsed": 964,
     "status": "ok",
     "timestamp": 1607101681968,
     "user": {
      "displayName": "Tomasz Różański",
      "photoUrl": "https://lh4.googleusercontent.com/-CdAQaQI9V1E/AAAAAAAAAAI/AAAAAAAAAvI/rnNPiSw4f80/s64/photo.jpg",
      "userId": "09904144145241711927"
     },
     "user_tz": -60
    },
    "id": "CLvMjJZOVVh6",
    "outputId": "c7687d53-a20e-486c-86a5-ff880c060636"
   },
   "outputs": [
    {
     "data": {
      "text/plain": [
       "A    A4\n",
       "B    B4\n",
       "C    C4\n",
       "D    D4\n",
       "Name: (y, 4), dtype: object"
      ]
     },
     "execution_count": 100,
     "metadata": {},
     "output_type": "execute_result"
    }
   ],
   "source": [
    "result.loc[('y',4)]"
   ]
  },
  {
   "cell_type": "code",
   "execution_count": 101,
   "metadata": {
    "executionInfo": {
     "elapsed": 975,
     "status": "ok",
     "timestamp": 1607101699933,
     "user": {
      "displayName": "Tomasz Różański",
      "photoUrl": "https://lh4.googleusercontent.com/-CdAQaQI9V1E/AAAAAAAAAAI/AAAAAAAAAvI/rnNPiSw4f80/s64/photo.jpg",
      "userId": "09904144145241711927"
     },
     "user_tz": -60
    },
    "id": "4vCnWvivVXXI"
   },
   "outputs": [],
   "source": [
    "df4 = pd.DataFrame(\n",
    "    {'B': ['B2', 'B3', 'B6', 'B7'],\n",
    "     'D': ['D2', 'D3', 'D6', 'D7'],\n",
    "     'F': ['F2', 'F3', 'F6', 'F7']},\n",
    "    index=[2, 3, 6, 7]\n",
    ")"
   ]
  },
  {
   "cell_type": "code",
   "execution_count": 102,
   "metadata": {
    "colab": {
     "base_uri": "https://localhost:8080/",
     "height": 173
    },
    "executionInfo": {
     "elapsed": 605,
     "status": "ok",
     "timestamp": 1607101700366,
     "user": {
      "displayName": "Tomasz Różański",
      "photoUrl": "https://lh4.googleusercontent.com/-CdAQaQI9V1E/AAAAAAAAAAI/AAAAAAAAAvI/rnNPiSw4f80/s64/photo.jpg",
      "userId": "09904144145241711927"
     },
     "user_tz": -60
    },
    "id": "WfgLvDW9VYya",
    "outputId": "aa20681c-b3ec-4a3c-93dc-ca1e2256e462"
   },
   "outputs": [
    {
     "data": {
      "text/html": [
       "<div>\n",
       "<style scoped>\n",
       "    .dataframe tbody tr th:only-of-type {\n",
       "        vertical-align: middle;\n",
       "    }\n",
       "\n",
       "    .dataframe tbody tr th {\n",
       "        vertical-align: top;\n",
       "    }\n",
       "\n",
       "    .dataframe thead th {\n",
       "        text-align: right;\n",
       "    }\n",
       "</style>\n",
       "<table border=\"1\" class=\"dataframe\">\n",
       "  <thead>\n",
       "    <tr style=\"text-align: right;\">\n",
       "      <th></th>\n",
       "      <th>B</th>\n",
       "      <th>D</th>\n",
       "      <th>F</th>\n",
       "    </tr>\n",
       "  </thead>\n",
       "  <tbody>\n",
       "    <tr>\n",
       "      <th>2</th>\n",
       "      <td>B2</td>\n",
       "      <td>D2</td>\n",
       "      <td>F2</td>\n",
       "    </tr>\n",
       "    <tr>\n",
       "      <th>3</th>\n",
       "      <td>B3</td>\n",
       "      <td>D3</td>\n",
       "      <td>F3</td>\n",
       "    </tr>\n",
       "    <tr>\n",
       "      <th>6</th>\n",
       "      <td>B6</td>\n",
       "      <td>D6</td>\n",
       "      <td>F6</td>\n",
       "    </tr>\n",
       "    <tr>\n",
       "      <th>7</th>\n",
       "      <td>B7</td>\n",
       "      <td>D7</td>\n",
       "      <td>F7</td>\n",
       "    </tr>\n",
       "  </tbody>\n",
       "</table>\n",
       "</div>"
      ],
      "text/plain": [
       "    B   D   F\n",
       "2  B2  D2  F2\n",
       "3  B3  D3  F3\n",
       "6  B6  D6  F6\n",
       "7  B7  D7  F7"
      ]
     },
     "execution_count": 102,
     "metadata": {},
     "output_type": "execute_result"
    }
   ],
   "source": [
    "df4"
   ]
  },
  {
   "cell_type": "code",
   "execution_count": 103,
   "metadata": {
    "colab": {
     "base_uri": "https://localhost:8080/",
     "height": 173
    },
    "executionInfo": {
     "elapsed": 561,
     "status": "ok",
     "timestamp": 1607101702154,
     "user": {
      "displayName": "Tomasz Różański",
      "photoUrl": "https://lh4.googleusercontent.com/-CdAQaQI9V1E/AAAAAAAAAAI/AAAAAAAAAvI/rnNPiSw4f80/s64/photo.jpg",
      "userId": "09904144145241711927"
     },
     "user_tz": -60
    },
    "id": "GpmHCBsLVaml",
    "outputId": "b1122fab-2478-473e-f28d-6bf18f465a61"
   },
   "outputs": [
    {
     "data": {
      "text/html": [
       "<div>\n",
       "<style scoped>\n",
       "    .dataframe tbody tr th:only-of-type {\n",
       "        vertical-align: middle;\n",
       "    }\n",
       "\n",
       "    .dataframe tbody tr th {\n",
       "        vertical-align: top;\n",
       "    }\n",
       "\n",
       "    .dataframe thead th {\n",
       "        text-align: right;\n",
       "    }\n",
       "</style>\n",
       "<table border=\"1\" class=\"dataframe\">\n",
       "  <thead>\n",
       "    <tr style=\"text-align: right;\">\n",
       "      <th></th>\n",
       "      <th>A</th>\n",
       "      <th>B</th>\n",
       "      <th>C</th>\n",
       "      <th>D</th>\n",
       "    </tr>\n",
       "  </thead>\n",
       "  <tbody>\n",
       "    <tr>\n",
       "      <th>0</th>\n",
       "      <td>A0</td>\n",
       "      <td>B0</td>\n",
       "      <td>C0</td>\n",
       "      <td>D0</td>\n",
       "    </tr>\n",
       "    <tr>\n",
       "      <th>1</th>\n",
       "      <td>A1</td>\n",
       "      <td>B1</td>\n",
       "      <td>C1</td>\n",
       "      <td>D1</td>\n",
       "    </tr>\n",
       "    <tr>\n",
       "      <th>2</th>\n",
       "      <td>A2</td>\n",
       "      <td>B2</td>\n",
       "      <td>C2</td>\n",
       "      <td>D2</td>\n",
       "    </tr>\n",
       "    <tr>\n",
       "      <th>3</th>\n",
       "      <td>A3</td>\n",
       "      <td>B3</td>\n",
       "      <td>C3</td>\n",
       "      <td>D3</td>\n",
       "    </tr>\n",
       "  </tbody>\n",
       "</table>\n",
       "</div>"
      ],
      "text/plain": [
       "    A   B   C   D\n",
       "0  A0  B0  C0  D0\n",
       "1  A1  B1  C1  D1\n",
       "2  A2  B2  C2  D2\n",
       "3  A3  B3  C3  D3"
      ]
     },
     "execution_count": 103,
     "metadata": {},
     "output_type": "execute_result"
    }
   ],
   "source": [
    "df1"
   ]
  },
  {
   "cell_type": "code",
   "execution_count": 104,
   "metadata": {
    "colab": {
     "base_uri": "https://localhost:8080/",
     "height": 297
    },
    "executionInfo": {
     "elapsed": 1683,
     "status": "ok",
     "timestamp": 1607101737095,
     "user": {
      "displayName": "Tomasz Różański",
      "photoUrl": "https://lh4.googleusercontent.com/-CdAQaQI9V1E/AAAAAAAAAAI/AAAAAAAAAvI/rnNPiSw4f80/s64/photo.jpg",
      "userId": "09904144145241711927"
     },
     "user_tz": -60
    },
    "id": "qR-d2K8vVcjk",
    "outputId": "98e10489-2910-419c-e9bd-80e82e8288c4"
   },
   "outputs": [
    {
     "data": {
      "text/html": [
       "<div>\n",
       "<style scoped>\n",
       "    .dataframe tbody tr th:only-of-type {\n",
       "        vertical-align: middle;\n",
       "    }\n",
       "\n",
       "    .dataframe tbody tr th {\n",
       "        vertical-align: top;\n",
       "    }\n",
       "\n",
       "    .dataframe thead th {\n",
       "        text-align: right;\n",
       "    }\n",
       "</style>\n",
       "<table border=\"1\" class=\"dataframe\">\n",
       "  <thead>\n",
       "    <tr style=\"text-align: right;\">\n",
       "      <th></th>\n",
       "      <th>A</th>\n",
       "      <th>B</th>\n",
       "      <th>C</th>\n",
       "      <th>D</th>\n",
       "      <th>F</th>\n",
       "    </tr>\n",
       "  </thead>\n",
       "  <tbody>\n",
       "    <tr>\n",
       "      <th>0</th>\n",
       "      <td>A0</td>\n",
       "      <td>B0</td>\n",
       "      <td>C0</td>\n",
       "      <td>D0</td>\n",
       "      <td>NaN</td>\n",
       "    </tr>\n",
       "    <tr>\n",
       "      <th>1</th>\n",
       "      <td>A1</td>\n",
       "      <td>B1</td>\n",
       "      <td>C1</td>\n",
       "      <td>D1</td>\n",
       "      <td>NaN</td>\n",
       "    </tr>\n",
       "    <tr>\n",
       "      <th>2</th>\n",
       "      <td>A2</td>\n",
       "      <td>B2</td>\n",
       "      <td>C2</td>\n",
       "      <td>D2</td>\n",
       "      <td>NaN</td>\n",
       "    </tr>\n",
       "    <tr>\n",
       "      <th>3</th>\n",
       "      <td>A3</td>\n",
       "      <td>B3</td>\n",
       "      <td>C3</td>\n",
       "      <td>D3</td>\n",
       "      <td>NaN</td>\n",
       "    </tr>\n",
       "    <tr>\n",
       "      <th>2</th>\n",
       "      <td>NaN</td>\n",
       "      <td>B2</td>\n",
       "      <td>NaN</td>\n",
       "      <td>D2</td>\n",
       "      <td>F2</td>\n",
       "    </tr>\n",
       "    <tr>\n",
       "      <th>3</th>\n",
       "      <td>NaN</td>\n",
       "      <td>B3</td>\n",
       "      <td>NaN</td>\n",
       "      <td>D3</td>\n",
       "      <td>F3</td>\n",
       "    </tr>\n",
       "    <tr>\n",
       "      <th>6</th>\n",
       "      <td>NaN</td>\n",
       "      <td>B6</td>\n",
       "      <td>NaN</td>\n",
       "      <td>D6</td>\n",
       "      <td>F6</td>\n",
       "    </tr>\n",
       "    <tr>\n",
       "      <th>7</th>\n",
       "      <td>NaN</td>\n",
       "      <td>B7</td>\n",
       "      <td>NaN</td>\n",
       "      <td>D7</td>\n",
       "      <td>F7</td>\n",
       "    </tr>\n",
       "  </tbody>\n",
       "</table>\n",
       "</div>"
      ],
      "text/plain": [
       "     A   B    C   D    F\n",
       "0   A0  B0   C0  D0  NaN\n",
       "1   A1  B1   C1  D1  NaN\n",
       "2   A2  B2   C2  D2  NaN\n",
       "3   A3  B3   C3  D3  NaN\n",
       "2  NaN  B2  NaN  D2   F2\n",
       "3  NaN  B3  NaN  D3   F3\n",
       "6  NaN  B6  NaN  D6   F6\n",
       "7  NaN  B7  NaN  D7   F7"
      ]
     },
     "execution_count": 104,
     "metadata": {},
     "output_type": "execute_result"
    }
   ],
   "source": [
    "result = pd.concat([df1, df4])\n",
    "result"
   ]
  },
  {
   "cell_type": "code",
   "execution_count": 105,
   "metadata": {
    "colab": {
     "base_uri": "https://localhost:8080/",
     "height": 235
    },
    "executionInfo": {
     "elapsed": 794,
     "status": "ok",
     "timestamp": 1607101781393,
     "user": {
      "displayName": "Tomasz Różański",
      "photoUrl": "https://lh4.googleusercontent.com/-CdAQaQI9V1E/AAAAAAAAAAI/AAAAAAAAAvI/rnNPiSw4f80/s64/photo.jpg",
      "userId": "09904144145241711927"
     },
     "user_tz": -60
    },
    "id": "ng2kEVmQVc1J",
    "outputId": "4ff2f727-0978-40ee-83c5-0b97603d41e2"
   },
   "outputs": [
    {
     "data": {
      "text/html": [
       "<div>\n",
       "<style scoped>\n",
       "    .dataframe tbody tr th:only-of-type {\n",
       "        vertical-align: middle;\n",
       "    }\n",
       "\n",
       "    .dataframe tbody tr th {\n",
       "        vertical-align: top;\n",
       "    }\n",
       "\n",
       "    .dataframe thead th {\n",
       "        text-align: right;\n",
       "    }\n",
       "</style>\n",
       "<table border=\"1\" class=\"dataframe\">\n",
       "  <thead>\n",
       "    <tr style=\"text-align: right;\">\n",
       "      <th></th>\n",
       "      <th>A</th>\n",
       "      <th>B</th>\n",
       "      <th>C</th>\n",
       "      <th>D</th>\n",
       "      <th>B</th>\n",
       "      <th>D</th>\n",
       "      <th>F</th>\n",
       "    </tr>\n",
       "  </thead>\n",
       "  <tbody>\n",
       "    <tr>\n",
       "      <th>0</th>\n",
       "      <td>A0</td>\n",
       "      <td>B0</td>\n",
       "      <td>C0</td>\n",
       "      <td>D0</td>\n",
       "      <td>NaN</td>\n",
       "      <td>NaN</td>\n",
       "      <td>NaN</td>\n",
       "    </tr>\n",
       "    <tr>\n",
       "      <th>1</th>\n",
       "      <td>A1</td>\n",
       "      <td>B1</td>\n",
       "      <td>C1</td>\n",
       "      <td>D1</td>\n",
       "      <td>NaN</td>\n",
       "      <td>NaN</td>\n",
       "      <td>NaN</td>\n",
       "    </tr>\n",
       "    <tr>\n",
       "      <th>2</th>\n",
       "      <td>A2</td>\n",
       "      <td>B2</td>\n",
       "      <td>C2</td>\n",
       "      <td>D2</td>\n",
       "      <td>B2</td>\n",
       "      <td>D2</td>\n",
       "      <td>F2</td>\n",
       "    </tr>\n",
       "    <tr>\n",
       "      <th>3</th>\n",
       "      <td>A3</td>\n",
       "      <td>B3</td>\n",
       "      <td>C3</td>\n",
       "      <td>D3</td>\n",
       "      <td>B3</td>\n",
       "      <td>D3</td>\n",
       "      <td>F3</td>\n",
       "    </tr>\n",
       "    <tr>\n",
       "      <th>6</th>\n",
       "      <td>NaN</td>\n",
       "      <td>NaN</td>\n",
       "      <td>NaN</td>\n",
       "      <td>NaN</td>\n",
       "      <td>B6</td>\n",
       "      <td>D6</td>\n",
       "      <td>F6</td>\n",
       "    </tr>\n",
       "    <tr>\n",
       "      <th>7</th>\n",
       "      <td>NaN</td>\n",
       "      <td>NaN</td>\n",
       "      <td>NaN</td>\n",
       "      <td>NaN</td>\n",
       "      <td>B7</td>\n",
       "      <td>D7</td>\n",
       "      <td>F7</td>\n",
       "    </tr>\n",
       "  </tbody>\n",
       "</table>\n",
       "</div>"
      ],
      "text/plain": [
       "     A    B    C    D    B    D    F\n",
       "0   A0   B0   C0   D0  NaN  NaN  NaN\n",
       "1   A1   B1   C1   D1  NaN  NaN  NaN\n",
       "2   A2   B2   C2   D2   B2   D2   F2\n",
       "3   A3   B3   C3   D3   B3   D3   F3\n",
       "6  NaN  NaN  NaN  NaN   B6   D6   F6\n",
       "7  NaN  NaN  NaN  NaN   B7   D7   F7"
      ]
     },
     "execution_count": 105,
     "metadata": {},
     "output_type": "execute_result"
    }
   ],
   "source": [
    "result = pd.concat([df1, df4], axis=1)\n",
    "result"
   ]
  },
  {
   "cell_type": "code",
   "execution_count": 108,
   "metadata": {
    "colab": {
     "base_uri": "https://localhost:8080/",
     "height": 111
    },
    "executionInfo": {
     "elapsed": 911,
     "status": "ok",
     "timestamp": 1607101803670,
     "user": {
      "displayName": "Tomasz Różański",
      "photoUrl": "https://lh4.googleusercontent.com/-CdAQaQI9V1E/AAAAAAAAAAI/AAAAAAAAAvI/rnNPiSw4f80/s64/photo.jpg",
      "userId": "09904144145241711927"
     },
     "user_tz": -60
    },
    "id": "6oDi2_ErVe8N",
    "outputId": "fac507ed-0146-439d-b518-b88b21c2ad41"
   },
   "outputs": [
    {
     "data": {
      "text/html": [
       "<div>\n",
       "<style scoped>\n",
       "    .dataframe tbody tr th:only-of-type {\n",
       "        vertical-align: middle;\n",
       "    }\n",
       "\n",
       "    .dataframe tbody tr th {\n",
       "        vertical-align: top;\n",
       "    }\n",
       "\n",
       "    .dataframe thead th {\n",
       "        text-align: right;\n",
       "    }\n",
       "</style>\n",
       "<table border=\"1\" class=\"dataframe\">\n",
       "  <thead>\n",
       "    <tr style=\"text-align: right;\">\n",
       "      <th></th>\n",
       "      <th>A</th>\n",
       "      <th>B</th>\n",
       "      <th>C</th>\n",
       "      <th>D</th>\n",
       "      <th>B</th>\n",
       "      <th>D</th>\n",
       "      <th>F</th>\n",
       "    </tr>\n",
       "  </thead>\n",
       "  <tbody>\n",
       "    <tr>\n",
       "      <th>2</th>\n",
       "      <td>A2</td>\n",
       "      <td>B2</td>\n",
       "      <td>C2</td>\n",
       "      <td>D2</td>\n",
       "      <td>B2</td>\n",
       "      <td>D2</td>\n",
       "      <td>F2</td>\n",
       "    </tr>\n",
       "    <tr>\n",
       "      <th>3</th>\n",
       "      <td>A3</td>\n",
       "      <td>B3</td>\n",
       "      <td>C3</td>\n",
       "      <td>D3</td>\n",
       "      <td>B3</td>\n",
       "      <td>D3</td>\n",
       "      <td>F3</td>\n",
       "    </tr>\n",
       "  </tbody>\n",
       "</table>\n",
       "</div>"
      ],
      "text/plain": [
       "    A   B   C   D   B   D   F\n",
       "2  A2  B2  C2  D2  B2  D2  F2\n",
       "3  A3  B3  C3  D3  B3  D3  F3"
      ]
     },
     "execution_count": 108,
     "metadata": {},
     "output_type": "execute_result"
    }
   ],
   "source": [
    "result = pd.concat([df1, df4], axis=1, join='inner')\n",
    "result"
   ]
  },
  {
   "cell_type": "markdown",
   "metadata": {
    "id": "XBgiz2t_VwnJ"
   },
   "source": [
    "### Takeaways\n",
    "\n",
    "* Nie przeglądaj DataFrame przy pomocy funkcji for, jeżeli naprawdę nie musisz.\n",
    "* Preferuj wbudowane metody nad własne funkcje.\n",
    "* Pracuj na standardowych formatach danych.\n",
    "\n",
    "---\n",
    "#### View vs. Copy\n",
    "\n",
    "<https://pandas.pydata.org/pandas-docs/stable/indexing.html#returning-a-view-versus-a-copy>"
   ]
  }
 ],
 "metadata": {
  "colab": {
   "authorship_tag": "ABX9TyO4CT8L3I3cHOo/NvPTgXU5",
   "collapsed_sections": [],
   "name": "pandas.ipynb",
   "provenance": []
  },
  "kernelspec": {
   "display_name": "Python 3",
   "language": "python",
   "name": "python3"
  },
  "language_info": {
   "codemirror_mode": {
    "name": "ipython",
    "version": 3
   },
   "file_extension": ".py",
   "mimetype": "text/x-python",
   "name": "python",
   "nbconvert_exporter": "python",
   "pygments_lexer": "ipython3",
   "version": "3.8.3"
  }
 },
 "nbformat": 4,
 "nbformat_minor": 1
}
