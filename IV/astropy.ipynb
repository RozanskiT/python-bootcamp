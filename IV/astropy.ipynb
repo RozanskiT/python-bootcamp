{
 "cells": [
  {
   "cell_type": "markdown",
   "metadata": {},
   "source": [
    "# [Astropy](https://www.astropy.org/)\n",
    "\\\n",
    "![Astropy](https://docs.astropy.org/en/stable/_static/astropy_banner.svg)\n",
    "\\\n",
    "`astropy` zawiera mnóstwo funkcji i narzędzi do pracy z danymi astronomicznymi.\n",
    "\n",
    "W dokumentacji można przeczytać, że pakiet ma funkcje dot.:\n",
    "* struktura danych i transformacje, m.in: stałe, jednostki, czas i data, współrzędne\n",
    "* obsługa plików (I/O): tabele ascii, pliki fits, votable\n",
    "* obliczenia: kosmologia, konwolucje i filtrowanie sygnałów, wizualizacja danych, astrostatystyka\n",
    "\n",
    "# Spis Treści\n",
    "\n",
    "1. [Struktura danych](#data_structure)\n",
    "    * [Stałe i jednostki](#const_and_units)\n",
    "        - [Ćwiczenie nr 1](#ex1)\n",
    "    * [Obsługa czasu](#timedate)\n",
    "    * [Współrzędne](#cooridinates)\n",
    "2. [Obsługa plików](#files)\n",
    "    * [Otwieranie plików FITS](#fits)\n",
    "    * [Wyświetlanie - normalizacja](#norm)\n",
    "3. [Prosta i szybka fotometria aperturowa](#aperture)"
   ]
  },
  {
   "cell_type": "markdown",
   "metadata": {},
   "source": [
    "# Importowanie i ustawienie notebook-a (uruchomić jako pierwsze!)"
   ]
  },
  {
   "cell_type": "code",
   "execution_count": null,
   "metadata": {
    "vscode": {
     "languageId": "python"
    }
   },
   "outputs": [],
   "source": [
    "# import astropy as ap\n",
    "import numpy as np\n",
    "\n",
    "# we will need to plot stuff later\n",
    "import matplotlib.pyplot as plt\n",
    "\n",
    "%matplotlib inline\n",
    "plt.rcParams['figure.figsize'] = (12, 8)\n",
    "plt.rcParams['font.size'] = 16\n",
    "plt.rcParams['lines.linewidth'] = 2"
   ]
  },
  {
   "cell_type": "markdown",
   "metadata": {},
   "source": [
    "<a id=data_structure></a>\n",
    "# 1. Struktura danych"
   ]
  },
  {
   "cell_type": "markdown",
   "metadata": {},
   "source": [
    "<a id=const_and_units></a>\n",
    "## Stałe i jednostki"
   ]
  },
  {
   "cell_type": "code",
   "execution_count": null,
   "metadata": {
    "vscode": {
     "languageId": "python"
    }
   },
   "outputs": [],
   "source": [
    "import astropy.constants as const\n",
    "import astropy.units as u"
   ]
  },
  {
   "cell_type": "code",
   "execution_count": null,
   "metadata": {
    "vscode": {
     "languageId": "python"
    }
   },
   "outputs": [],
   "source": [
    "const.G"
   ]
  },
  {
   "cell_type": "code",
   "execution_count": null,
   "metadata": {
    "vscode": {
     "languageId": "python"
    }
   },
   "outputs": [],
   "source": [
    "print(const.c)\n",
    "print(\"-----------------------\")\n",
    "print(const.c.cgs)\n",
    "print(type(const.c))\n",
    "print(const.c.to(\"pc/yr\"))  # konwersja jednostek"
   ]
  },
  {
   "cell_type": "code",
   "execution_count": null,
   "metadata": {
    "scrolled": true,
    "vscode": {
     "languageId": "python"
    }
   },
   "outputs": [],
   "source": [
    "g = (const.G * const.M_earth) / (const.R_earth) ** 2\n",
    "print(g)"
   ]
  },
  {
   "cell_type": "code",
   "execution_count": null,
   "metadata": {
    "vscode": {
     "languageId": "python"
    }
   },
   "outputs": [],
   "source": [
    "print(const.g0.value)"
   ]
  },
  {
   "cell_type": "code",
   "execution_count": null,
   "metadata": {
    "vscode": {
     "languageId": "python"
    }
   },
   "outputs": [],
   "source": [
    "(g*80*u.kg).to(u.N)"
   ]
  },
  {
   "cell_type": "code",
   "execution_count": null,
   "metadata": {
    "vscode": {
     "languageId": "python"
    }
   },
   "outputs": [],
   "source": [
    "# dir(const)"
   ]
  },
  {
   "cell_type": "code",
   "execution_count": null,
   "metadata": {
    "vscode": {
     "languageId": "python"
    }
   },
   "outputs": [],
   "source": [
    "# (0.8 * u.arcsec).to(u.parsec)\n",
    "print((0.5 * u.arcsec).to(u.parsec, equivalencies=u.parallax()))\n",
    "print((6568 * u.Angstrom).to(u.GHz, equivalencies=u.spectral()))"
   ]
  },
  {
   "cell_type": "code",
   "execution_count": null,
   "metadata": {
    "vscode": {
     "languageId": "python"
    }
   },
   "outputs": [],
   "source": [
    "grosz = u.def_unit(\"grosz\") # definiowanie własnych jednostek\n",
    "pln = u.def_unit(\"pln\", 100*grosz)\n",
    "2.49*pln.to(grosz)"
   ]
  },
  {
   "cell_type": "code",
   "execution_count": null,
   "metadata": {
    "vscode": {
     "languageId": "python"
    }
   },
   "outputs": [],
   "source": [
    "fortnight = u.def_unit('fortnight', 14 * u.day)\n",
    "const.c.to(\"lyr/fortnight\")"
   ]
  },
  {
   "cell_type": "markdown",
   "metadata": {},
   "source": [
    "<a id=\"ex1\"></a>\n",
    "### Ćwiczenie nr 1\n",
    "\n",
    "Policz prędkość Ziemi w km/s wokół Słońca (zakładając orbitę kołową). Skorzystaj z poniższego wzoru oraz z modułów `constants` i `units`:\n",
    "\n",
    "$$v = \\sqrt{\\frac{G M_{\\odot}}{r}}$$"
   ]
  },
  {
   "cell_type": "code",
   "execution_count": null,
   "metadata": {
    "vscode": {
     "languageId": "python"
    }
   },
   "outputs": [],
   "source": []
  },
  {
   "cell_type": "markdown",
   "metadata": {},
   "source": [
    "<a id=\"timedate\"></a>\n",
    "## Obsługa czasu"
   ]
  },
  {
   "cell_type": "code",
   "execution_count": null,
   "metadata": {
    "vscode": {
     "languageId": "python"
    }
   },
   "outputs": [],
   "source": [
    "from astropy.time import Time"
   ]
  },
  {
   "cell_type": "code",
   "execution_count": null,
   "metadata": {
    "vscode": {
     "languageId": "python"
    }
   },
   "outputs": [],
   "source": [
    "times = ['1999-01-01T00:00:00.123456789', '2010-01-01T00:00:00']\n",
    "t = Time(times, format='isot', scale='utc')\n",
    "t"
   ]
  },
  {
   "cell_type": "code",
   "execution_count": null,
   "metadata": {
    "vscode": {
     "languageId": "python"
    }
   },
   "outputs": [],
   "source": [
    "t[1]"
   ]
  },
  {
   "cell_type": "code",
   "execution_count": null,
   "metadata": {
    "vscode": {
     "languageId": "python"
    }
   },
   "outputs": [],
   "source": [
    "t = Time(times)\n",
    "t"
   ]
  },
  {
   "cell_type": "code",
   "execution_count": null,
   "metadata": {
    "vscode": {
     "languageId": "python"
    }
   },
   "outputs": [],
   "source": [
    "t.jd"
   ]
  },
  {
   "cell_type": "code",
   "execution_count": null,
   "metadata": {
    "vscode": {
     "languageId": "python"
    }
   },
   "outputs": [],
   "source": [
    "t.mjd"
   ]
  },
  {
   "cell_type": "code",
   "execution_count": null,
   "metadata": {
    "vscode": {
     "languageId": "python"
    }
   },
   "outputs": [],
   "source": [
    "nt = Time.now() # current time\n",
    "print(nt)\n",
    "nt.sidereal_time('apparent', 'greenwich') "
   ]
  },
  {
   "cell_type": "code",
   "execution_count": null,
   "metadata": {
    "vscode": {
     "languageId": "python"
    }
   },
   "outputs": [],
   "source": [
    "nt = Time.now() # current time\n",
    "t = Time(nt, scale='utc', location=('17d', '51.1d'))\n",
    "print(t)\n",
    "t.sidereal_time('apparent')"
   ]
  },
  {
   "cell_type": "markdown",
   "metadata": {},
   "source": [
    "<a id=\"coordinates\"></a>\n",
    "## Współrzędne"
   ]
  },
  {
   "cell_type": "code",
   "execution_count": null,
   "metadata": {
    "vscode": {
     "languageId": "python"
    }
   },
   "outputs": [],
   "source": [
    "from astropy.coordinates import SkyCoord, EarthLocation, AltAz, get_sun, get_moon"
   ]
  },
  {
   "cell_type": "markdown",
   "metadata": {},
   "source": [
    "`astropy.coordinates.SkyCoord.from_name` używa Simbad-a do wyszkiwania obiektów po nazwie\n",
    "\n",
    "Wyszukajmy współrzędne dla NGC6823:"
   ]
  },
  {
   "cell_type": "code",
   "execution_count": null,
   "metadata": {
    "vscode": {
     "languageId": "python"
    }
   },
   "outputs": [],
   "source": [
    "obj_name = \"NGC6823\"\n",
    "obj = SkyCoord.from_name(obj_name)"
   ]
  },
  {
   "cell_type": "code",
   "execution_count": null,
   "metadata": {
    "vscode": {
     "languageId": "python"
    }
   },
   "outputs": [],
   "source": [
    "obj"
   ]
  },
  {
   "cell_type": "markdown",
   "metadata": {},
   "source": [
    "Użyjmy `astropy.coordinates.EarthLocation` żeby stworzyć obiekt `location` z danymi dot. miejsca obserwacji.\n",
    "Weźmy obserwatorium w Białkowie:\n"
   ]
  },
  {
   "cell_type": "code",
   "execution_count": null,
   "metadata": {
    "vscode": {
     "languageId": "python"
    }
   },
   "outputs": [],
   "source": [
    "bialkow = EarthLocation(lat=51.476111*u.deg, lon=16.656667*u.deg, height=130*u.m)\n",
    "utcoffset = 1*u.hour  # Obecnie mamy czas zimowy\n",
    "time = Time.now()\n",
    "time"
   ]
  },
  {
   "cell_type": "markdown",
   "metadata": {},
   "source": [
    "Skonwertujmy współrzędne do `AltAz`(ymutalnych) w miejscu obserwacji"
   ]
  },
  {
   "cell_type": "code",
   "execution_count": null,
   "metadata": {
    "vscode": {
     "languageId": "python"
    }
   },
   "outputs": [],
   "source": [
    "obj_altaz = obj.transform_to(AltAz(obstime=time,location=bialkow))\n",
    "print(obj_altaz.alt)"
   ]
  },
  {
   "cell_type": "code",
   "execution_count": null,
   "metadata": {
    "vscode": {
     "languageId": "python"
    }
   },
   "outputs": [],
   "source": [
    "y, m, d, _, _, _ = time.ymdhms\n",
    "midnight = Time(str(y)+'-'+str(m)+'-'+str(d)+' 00:00:00') - utcoffset\n",
    "delta_midnight = np.linspace(-12, 12, 1000)*u.hour\n",
    "delta_midnight\n",
    "night = AltAz(obstime=midnight+delta_midnight, location=bialkow)\n",
    "obj_altaz = obj.transform_to(night)"
   ]
  },
  {
   "cell_type": "code",
   "execution_count": null,
   "metadata": {
    "vscode": {
     "languageId": "python"
    }
   },
   "outputs": [],
   "source": [
    "plt.plot(delta_midnight, obj_altaz.alt)\n",
    "plt.xlim(-12, 12)\n",
    "plt.ylim(-20, 65)\n",
    "plt.xlabel('Hours from midnight [h]')\n",
    "plt.ylabel('Altitude [deg]')\n",
    "plt.show()"
   ]
  },
  {
   "cell_type": "code",
   "execution_count": null,
   "metadata": {
    "vscode": {
     "languageId": "python"
    }
   },
   "outputs": [],
   "source": [
    "sun_altaz = get_sun(midnight+delta_midnight).transform_to(night)\n",
    "moon_altaz = get_moon(midnight+delta_midnight).transform_to(night)"
   ]
  },
  {
   "cell_type": "code",
   "execution_count": null,
   "metadata": {
    "vscode": {
     "languageId": "python"
    }
   },
   "outputs": [],
   "source": [
    "plt.plot(delta_midnight, obj_altaz.alt, lw=3, label=obj_name)\n",
    "plt.plot(delta_midnight, sun_altaz.alt, color=\"orange\", ls=\"--\", lw=1, label=\"Sun\")\n",
    "plt.plot(delta_midnight, moon_altaz.alt, color=\"gray\", ls=\"--\", lw=1, label=\"Moon\")\n",
    "plt.fill_between(delta_midnight, -90*u.deg, 90*u.deg, sun_altaz.alt < -0*u.deg, color='0.75')\n",
    "plt.fill_between(delta_midnight, -90*u.deg, 90*u.deg, sun_altaz.alt < -6*u.deg, color='0.5')\n",
    "plt.fill_between(delta_midnight, -90*u.deg, 90*u.deg, sun_altaz.alt < -12*u.deg, color='0.25')\n",
    "plt.fill_between(delta_midnight, -90*u.deg, 90*u.deg, sun_altaz.alt < -18*u.deg, color='k')\n",
    "plt.xlim(-12, 12)\n",
    "plt.ylim(-90, 90)\n",
    "plt.xlabel('Hours from midnight [h]')\n",
    "plt.ylabel('Altitude [deg]')\n",
    "plt.legend(loc='lower left')\n",
    "plt.show()"
   ]
  },
  {
   "cell_type": "markdown",
   "metadata": {},
   "source": [
    "# 2. Obsługa plików"
   ]
  },
  {
   "cell_type": "markdown",
   "metadata": {},
   "source": [
    "<a id=\"fits\"></a>\n",
    "## Otwieranie plików FITS"
   ]
  },
  {
   "cell_type": "code",
   "execution_count": null,
   "metadata": {
    "vscode": {
     "languageId": "python"
    }
   },
   "outputs": [],
   "source": [
    "import os\n",
    "from astropy.io import fits\n",
    "import matplotlib.pyplot as plt"
   ]
  },
  {
   "cell_type": "code",
   "execution_count": null,
   "metadata": {
    "vscode": {
     "languageId": "python"
    }
   },
   "outputs": [],
   "source": [
    "dirpath = os.path.join(\"..\",\"data\")\n",
    "inputfile = \"NGC6823_UDF_I.fits\"\n",
    "data, header = fits.getdata(os.path.join(dirpath, inputfile), header=True)"
   ]
  },
  {
   "cell_type": "code",
   "execution_count": null,
   "metadata": {
    "vscode": {
     "languageId": "python"
    }
   },
   "outputs": [],
   "source": [
    "fitsfile = fits.open(os.path.join(dirpath, inputfile))"
   ]
  },
  {
   "cell_type": "code",
   "execution_count": null,
   "metadata": {
    "vscode": {
     "languageId": "python"
    }
   },
   "outputs": [],
   "source": [
    "print(fitsfile.info())"
   ]
  },
  {
   "cell_type": "code",
   "execution_count": null,
   "metadata": {
    "vscode": {
     "languageId": "python"
    }
   },
   "outputs": [],
   "source": [
    "print(fitsfile[0].data)"
   ]
  },
  {
   "cell_type": "code",
   "execution_count": null,
   "metadata": {
    "vscode": {
     "languageId": "python"
    }
   },
   "outputs": [],
   "source": [
    "print(fitsfile[0].header)"
   ]
  },
  {
   "cell_type": "code",
   "execution_count": null,
   "metadata": {
    "vscode": {
     "languageId": "python"
    }
   },
   "outputs": [],
   "source": [
    "#with fits.open(os.path.join(dirpath, inputfile), mode='update') as filehandle:\n",
    "    #filehandle[0].header.pop('MYHDRKW')\n",
    "    #filehandle[0].header['MYHDRKW']='My Header Keyword'"
   ]
  },
  {
   "cell_type": "code",
   "execution_count": null,
   "metadata": {
    "vscode": {
     "languageId": "python"
    }
   },
   "outputs": [],
   "source": [
    "plt.imshow(fitsfile[0].data, cmap='gray')\n",
    "plt.colorbar()"
   ]
  },
  {
   "cell_type": "code",
   "execution_count": null,
   "metadata": {
    "vscode": {
     "languageId": "python"
    }
   },
   "outputs": [],
   "source": [
    "from matplotlib.colors import LogNorm"
   ]
  },
  {
   "cell_type": "code",
   "execution_count": null,
   "metadata": {
    "vscode": {
     "languageId": "python"
    }
   },
   "outputs": [],
   "source": [
    "plt.imshow(fitsfile[0].data, cmap='gray', norm=LogNorm())"
   ]
  },
  {
   "cell_type": "code",
   "execution_count": null,
   "metadata": {
    "vscode": {
     "languageId": "python"
    }
   },
   "outputs": [],
   "source": [
    "from astropy.visualization import MinMaxInterval, SqrtStretch, ImageNormalize, ZScaleInterval\n",
    "\n",
    "norm = ImageNormalize(fitsfile[0].data, interval=ZScaleInterval(), stretch=SqrtStretch())\n",
    "plt.imshow(fitsfile[0].data, cmap='gray', norm=norm)"
   ]
  },
  {
   "cell_type": "markdown",
   "metadata": {},
   "source": [
    "<a id=\"norm\"></a>\n",
    "## Wyświetlanie - normalizacja"
   ]
  },
  {
   "cell_type": "code",
   "execution_count": null,
   "metadata": {
    "vscode": {
     "languageId": "python"
    }
   },
   "outputs": [],
   "source": [
    "image_list = [os.path.join(dirpath,\"M13_blue_000\"+str(n)+\".fits\") for n in range(1, 5+1)]\n",
    "image_concat = [fits.getdata(image) for image in image_list]"
   ]
  },
  {
   "cell_type": "code",
   "execution_count": null,
   "metadata": {
    "vscode": {
     "languageId": "python"
    }
   },
   "outputs": [],
   "source": [
    "image_concat"
   ]
  },
  {
   "cell_type": "code",
   "execution_count": null,
   "metadata": {
    "vscode": {
     "languageId": "python"
    }
   },
   "outputs": [],
   "source": [
    "final_image = np.zeros(shape=image_concat[0].shape)"
   ]
  },
  {
   "cell_type": "code",
   "execution_count": null,
   "metadata": {
    "vscode": {
     "languageId": "python"
    }
   },
   "outputs": [],
   "source": [
    "for image in image_concat:\n",
    "    final_image += image"
   ]
  },
  {
   "cell_type": "code",
   "execution_count": null,
   "metadata": {
    "vscode": {
     "languageId": "python"
    }
   },
   "outputs": [],
   "source": [
    "final_image"
   ]
  },
  {
   "cell_type": "code",
   "execution_count": null,
   "metadata": {
    "vscode": {
     "languageId": "python"
    }
   },
   "outputs": [],
   "source": [
    "from astropy.visualization.stretch import SinhStretch, LinearStretch\n",
    "\n",
    "norm = ImageNormalize(image_concat[0], interval=ZScaleInterval(), stretch=SinhStretch())\n",
    "\n",
    "plt.imshow(image_concat[0], cmap='gray', norm=norm)"
   ]
  },
  {
   "cell_type": "code",
   "execution_count": null,
   "metadata": {
    "vscode": {
     "languageId": "python"
    }
   },
   "outputs": [],
   "source": [
    "norm = ImageNormalize(final_image, interval=ZScaleInterval(), stretch=SinhStretch())\n",
    "\n",
    "plt.imshow(final_image, cmap='gray', norm=norm)"
   ]
  },
  {
   "cell_type": "markdown",
   "metadata": {},
   "source": [
    "<a id=\"aperture\"></a>\n",
    "# Prosta i szybka fotometria aperturowa"
   ]
  },
  {
   "cell_type": "code",
   "execution_count": null,
   "metadata": {
    "vscode": {
     "languageId": "python"
    }
   },
   "outputs": [],
   "source": [
    "inputfile = \"HST.fits\"\n",
    "hst = fits.open(os.path.join(dirpath, inputfile))\n",
    "hst_image = hst[0].data[0]\n",
    "hst_image -= np.median(hst_image)"
   ]
  },
  {
   "cell_type": "code",
   "execution_count": null,
   "metadata": {
    "vscode": {
     "languageId": "python"
    }
   },
   "outputs": [],
   "source": [
    "norm = ImageNormalize(hst_image, interval=ZScaleInterval(), stretch=SqrtStretch())\n",
    "plt.imshow(hst_image, cmap='gray', norm=norm)"
   ]
  },
  {
   "cell_type": "code",
   "execution_count": null,
   "metadata": {
    "vscode": {
     "languageId": "python"
    }
   },
   "outputs": [],
   "source": [
    "# conda install -c conda-forge photutils\n",
    "# pip install photutils\n",
    "\n",
    "from photutils.detection import DAOStarFinder\n",
    "from astropy.stats import mad_std\n",
    "bkg_sigma = mad_std(hst_image)  \n",
    "daofind = DAOStarFinder(fwhm=1., threshold=3. * bkg_sigma)  \n",
    "sources = daofind(hst_image)  \n",
    "for col in sources.colnames:  \n",
    "    sources[col].info.format = '%.8g'  # for consistent table output\n",
    "print(sources)  "
   ]
  },
  {
   "cell_type": "code",
   "execution_count": null,
   "metadata": {
    "vscode": {
     "languageId": "python"
    }
   },
   "outputs": [],
   "source": [
    "from photutils.aperture import aperture_photometry, CircularAperture\n",
    "positions = np.transpose((sources['xcentroid'], sources['ycentroid']))  \n",
    "apertures = CircularAperture(positions, r=4.)  \n",
    "phot_table = aperture_photometry(image, apertures)  \n",
    "for col in phot_table.colnames:  \n",
    "    phot_table[col].info.format = '%.8g'  # for consistent table output\n",
    "print(phot_table)"
   ]
  },
  {
   "cell_type": "code",
   "execution_count": null,
   "metadata": {
    "vscode": {
     "languageId": "python"
    }
   },
   "outputs": [],
   "source": [
    "import matplotlib.pyplot as plt\n",
    "plt.imshow(hst_image, cmap='gray', origin='lower', norm=norm)\n",
    "apertures.plot(color='blue', lw=1.5, alpha=0.5);"
   ]
  }
 ],
 "metadata": {
  "kernelspec": {
   "display_name": "Python 3",
   "language": "python",
   "name": "python3"
  }
 },
 "nbformat": 4,
 "nbformat_minor": 4
}
