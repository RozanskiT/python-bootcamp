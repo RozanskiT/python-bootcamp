{
 "cells": [
  {
   "cell_type": "markdown",
   "metadata": {
    "id": "3rCO8TpfnpzM"
   },
   "source": [
    "# Programowanie\n",
    "\n",
    "Istnieje wiele języków programowania i wiele stylów programowania, na szczęście różnią się od siebie nieznacznie w porównaniu do tego jak różne są od siebie języki naturalne, np. język polski i chiński.\n",
    "\n",
    "#### Komputery\n",
    "\n",
    "Bez komputerów nie było by programowania. Bez języków programowania, komputery byłyby bezużyteczne. Rozwój komputerów umożliwił symulacje, które pomogły dokładniej zrozumieć takie procesy jak powstawanie galaktyk, gromad otwartych i kulistych, gwiazd i ich ewolucję. Symulacje komputerowe miały udział we wszystkich problemach, dla których nie istnieją rozwiązania analityczne. Wszędzie tam trzeba polegać na wynikach tych przybliżonych obliczeń.\n",
    "\n",
    "Co więcej, znaczenie wykorzystania komputerów w astronomii cały czas rośnie. Cała nowoczesna radioastronomia, fotometryczne przeglądy nieba czy badania satelitarne nie byłby możliwe bez wykorzystania superkomputerów wspomagających badania na wszystkich etapach: zbierania, przetwarzania i analizy obrazów. \n",
    "\n",
    "Z tego powodu astronom w wahlarzu swoich umiejętności poza matematyką i fizyką, powinien sięgać także do szeroko pojętego programowania.\n",
    "\n",
    "#### Krótkie porównanie Pythona, C i FORTRANA.\n",
    "Implementacja [szyfru Cezara](https://pl.wikipedia.org/wiki/Szyfr_Cezara):\n",
    "---\n",
    "**Python**\n",
    "```\n",
    "def caesar(s, k, decode = False):\n",
    "\tif decode: k = 26 - k\n",
    "\treturn \"\".join([chr((ord(i) - 65 + k) % 26 + 65)\n",
    "\t\t\t\tfor i in s.upper()\n",
    "\t\t\t\tif ord(i) >= 65 and ord(i) <= 90 ])\n",
    " \n",
    "msg = \"The quick brown fox jumped over the lazy dogs\"\n",
    "print(msg)\n",
    "enc = caesar(msg, 11)\n",
    "print(enc)\n",
    "print caesar(enc, 11, decode = True)\n",
    "```\n",
    "---\n",
    "**C**\n",
    "```\n",
    "#include <stdio.h>\n",
    "#include <stdlib.h>\n",
    "#include <string.h>\n",
    "#include <ctype.h>\n",
    " \n",
    "#define caesar(x) rot(13, x)\n",
    "#define decaesar(x) rot(13, x)\n",
    "#define decrypt_rot(x, y) rot((26-x), y)\n",
    " \n",
    "void rot(int c, char *str)\n",
    "{\n",
    "\tint l = strlen(str);\n",
    "\tconst char *alpha[2] = { \"abcdefghijklmnopqrstuvwxyz\", \"ABCDEFGHIJKLMNOPQRSTUVWXYZ\"};\n",
    " \n",
    "\tint i;\n",
    "\tfor (i = 0; i < l; i++)\n",
    "\t{\n",
    "\t\tif (!isalpha(str[i]))\n",
    "\t\t\tcontinue;\n",
    " \n",
    "\t\tif (isupper(str[i]))\n",
    "                        str[i] = alpha[1][((int)(tolower(str[i]) - 'a') + c) % 26];\n",
    "                else\n",
    "                        str[i] = alpha[0][((int)(tolower(str[i]) - 'a') + c) % 26];\n",
    "\t}\n",
    "}\n",
    " \n",
    " \n",
    "int main()\n",
    "{\n",
    "\tchar str[] = \"This is a top secret text message!\";\n",
    " \n",
    "\tprintf(\"Original: %s\\n\", str);\n",
    "\tcaesar(str);\n",
    "\tprintf(\"Encrypted: %s\\n\", str);\n",
    "\tdecaesar(str);\n",
    "\tprintf(\"Decrypted: %s\\n\", str);\n",
    " \n",
    "\treturn 0;\n",
    "}\n",
    "```\n",
    "---\n",
    "**FORTRAN**\n",
    "```\n",
    "program Caesar_Cipher\n",
    "  implicit none\n",
    " \n",
    "  integer, parameter :: key = 3     \n",
    "  character(43) :: message = \"The five boxing wizards jump quickly\"\n",
    " \n",
    "  write(*, \"(2a)\") \"Original message  = \", message\n",
    "  call encrypt(message)\n",
    "  write(*, \"(2a)\") \"Encrypted message = \", message\n",
    "  call decrypt(message)\n",
    "  write(*, \"(2a)\") \"Decrypted message = \", message\n",
    " \n",
    "contains\n",
    " \n",
    "subroutine encrypt(text)\n",
    "  character(*), intent(inout) :: text\n",
    "  integer :: i\n",
    " \n",
    "  do i = 1, len(text)\n",
    "    select case(text(i:i))\n",
    "      case ('A':'Z')\n",
    "        text(i:i) = achar(modulo(iachar(text(i:i)) - 65 + key, 26) + 65)\n",
    "      case ('a':'z')\n",
    "        text(i:i) = achar(modulo(iachar(text(i:i)) - 97 + key, 26) + 97)\n",
    "    end select\n",
    "  end do\n",
    "end subroutine\n",
    " \n",
    "subroutine decrypt(text)\n",
    "  character(*), intent(inout) :: text\n",
    "  integer :: i\n",
    " \n",
    "  do i = 1, len(text)\n",
    "    select case(text(i:i))\n",
    "      case ('A':'Z')\n",
    "        text(i:i) = achar(modulo(iachar(text(i:i)) - 65 - key, 26) + 65)\n",
    "      case ('a':'z')\n",
    "        text(i:i) = achar(modulo(iachar(text(i:i)) - 97 - key, 26) + 97)\n",
    "    end select\n",
    "  end do\n",
    "end subroutine\n",
    " \n",
    "end program Caesar_Cipher\n",
    "```\n",
    "\n"
   ]
  },
  {
   "cell_type": "markdown",
   "metadata": {
    "id": "9Vjta_W_qKRW"
   },
   "source": [
    "---\n",
    "Widać teraz wyraźnie, dlaczego naukę zaczynamy od Pythona - ukrywa przed nami wiele techniczych szczegółów, którymi astronom niekoniecznie musi się przejmować.\n",
    "\n",
    "\"Nudne\" cechy Pythona, o których warto raz w życiu usłyszeć:\n",
    "* działa na wszystkich podstawowych systemach operacyjnych (Windows, MacOS, Ubuntu, itd.),\n",
    "* posiada prostą składnię opartą o język angielski,\n",
    "* programy w nim napisane są zwykle dużo krótsze od napisanych w innych językach programowania,\n",
    "* wspiera programowanie proceduralne, obiektowe i funkcyjne,\n",
    "* posiada dwie wersje 2. i 3., które nie są ze sobą kompatybilne; dzisiaj standardem jest Python 3,\n",
    "* jest silnie, dynamicznie typowany.\n"
   ]
  },
  {
   "cell_type": "markdown",
   "metadata": {
    "id": "VOervumsuINC"
   },
   "source": [
    "---\n",
    "\n",
    "Tak w rzeczywistym kodzie wykorzystać można funkcję `caesar`, do szyfrowania i deszyfrowania wiadomości szyfrem Cezara:"
   ]
  },
  {
   "cell_type": "code",
   "execution_count": 11,
   "metadata": {
    "colab": {
     "base_uri": "https://localhost:8080/"
    },
    "executionInfo": {
     "elapsed": 846,
     "status": "ok",
     "timestamp": 1606408756203,
     "user": {
      "displayName": "Tomasz Różański",
      "photoUrl": "https://lh4.googleusercontent.com/-CdAQaQI9V1E/AAAAAAAAAAI/AAAAAAAAAvI/rnNPiSw4f80/s64/photo.jpg",
      "userId": "09904144145241711927"
     },
     "user_tz": -60
    },
    "id": "zx5X0xE1mHKG",
    "outputId": "541fbd4d-7a75-4ddd-9175-8468542165f5"
   },
   "outputs": [
    {
     "name": "stdout",
     "output_type": "stream",
     "text": [
      "The quick brown fox jumped over the lazy cats\n",
      "ESPBFTNVMCZHYQZIUFXAPOZGPCESPWLKJNLED\n",
      "THEQUICKBROWNFOXJUMPEDOVERTHELAZYCATS\n"
     ]
    }
   ],
   "source": [
    "def caesar(s, k, decode = False):\n",
    "\tif decode: k = 26 - k\n",
    "\treturn \"\".join([chr((ord(i) - 65 + k) % 26 + 65)\n",
    "\t\t\t\tfor i in s.upper()\n",
    "\t\t\t\tif ord(i) >= 65 and ord(i) <= 90 ])\n",
    " \n",
    "msg = \"The quick brown fox jumped over the lazy cats\"\n",
    "print(msg)\n",
    "enc = caesar(msg, 11)\n",
    "print(enc)\n",
    "print(caesar(enc, 11, decode = True))"
   ]
  },
  {
   "cell_type": "code",
   "execution_count": 13,
   "metadata": {},
   "outputs": [
    {
     "name": "stdout",
     "output_type": "stream",
     "text": [
      "JESUISDELABAGUETTE\n"
     ]
    }
   ],
   "source": [
    "print(caesar(\"UPDFTDOPWLMLRFPEEP\", 11, decode=True))"
   ]
  },
  {
   "cell_type": "markdown",
   "metadata": {
    "id": "DM0k78urm3Pp"
   },
   "source": [
    "W następny zeszycie znaleźć można informacje o podstawach języka Python."
   ]
  }
 ],
 "metadata": {
  "colab": {
   "authorship_tag": "ABX9TyPaIEwyODCxoqUAZeKiYlM3",
   "collapsed_sections": [],
   "name": "02_wprowadzenie.ipynb",
   "provenance": []
  },
  "kernelspec": {
   "display_name": "Python 3",
   "language": "python",
   "name": "python3"
  },
  "language_info": {
   "codemirror_mode": {
    "name": "ipython",
    "version": 3
   },
   "file_extension": ".py",
   "mimetype": "text/x-python",
   "name": "python",
   "nbconvert_exporter": "python",
   "pygments_lexer": "ipython3",
   "version": "3.8.3"
  }
 },
 "nbformat": 4,
 "nbformat_minor": 1
}
