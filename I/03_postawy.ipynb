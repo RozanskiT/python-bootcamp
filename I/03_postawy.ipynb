{
 "cells": [
  {
   "cell_type": "markdown",
   "metadata": {
    "id": "O5DrLoQsrc2O"
   },
   "source": [
    "# Postawy języka Python\n",
    "\n",
    "W tym zeszycie przyjrzymy się składnii języka i fragmentom z jakich zbudowany jest każdy kod w języku Python. Przegląd ten jest daleki od kompletności, ale ma dać pojęcie o tym co możemy spotkać w kodzie, z którym pracujemy."
   ]
  },
  {
   "cell_type": "markdown",
   "metadata": {
    "id": "izmgKHJkr5GJ"
   },
   "source": [
    "---\n",
    "## Bloki\n",
    "Spróbujmy przeczytać poniższy kod jakby to był język angielski."
   ]
  },
  {
   "cell_type": "code",
   "execution_count": 1,
   "metadata": {
    "id": "tenRPZPksczj"
   },
   "outputs": [
    {
     "name": "stdout",
     "output_type": "stream",
     "text": [
      "25\n"
     ]
    }
   ],
   "source": [
    "a= 10\n",
    "b= 15\n",
    "print(a+b)"
   ]
  },
  {
   "cell_type": "code",
   "execution_count": 13,
   "metadata": {
    "id": "8WLwc8WssLM3"
   },
   "outputs": [
    {
     "name": "stdout",
     "output_type": "stream",
     "text": [
      "To prawda, że 5>2.\n"
     ]
    }
   ],
   "source": [
    "if 5>2:\n",
    "    print(\"To prawda, że 5>2.\")\n",
    "else:\n",
    "    print(\"To fałsz, że 5>2.\")"
   ]
  },
  {
   "cell_type": "code",
   "execution_count": 15,
   "metadata": {
    "id": "ebo2ceLnsb9T"
   },
   "outputs": [
    {
     "name": "stdout",
     "output_type": "stream",
     "text": [
      "Teraz i =  0\n",
      "Teraz i =  1\n",
      "Teraz i =  2\n",
      "Teraz i =  3\n",
      "Teraz i =  4\n",
      "Teraz i =  5\n",
      "Teraz i =  6\n",
      "Teraz i =  7\n",
      "Teraz i =  8\n",
      "Teraz i =  9\n",
      "45.0\n"
     ]
    }
   ],
   "source": [
    "i= 0\n",
    "suma= 0.\n",
    "while i<10:\n",
    "    print(\"Teraz i = \",i)\n",
    "    suma= suma + i\n",
    "    i = i+1\n",
    "print(suma)"
   ]
  },
  {
   "cell_type": "code",
   "execution_count": 16,
   "metadata": {
    "id": "v3yRO2Lfs9Y-"
   },
   "outputs": [
    {
     "name": "stdout",
     "output_type": "stream",
     "text": [
      "[1, 2, 3, 4, 5, 6, 7, 8, 9, 10]\n",
      "[2, 4, 6, 8, 10, 12, 14, 16, 18, 20]\n",
      "[3, 6, 9, 12, 15, 18, 21, 24, 27, 30]\n",
      "[4, 8, 12, 16, 20, 24, 28, 32, 36, 40]\n",
      "[5, 10, 15, 20, 25, 30, 35, 40, 45, 50]\n",
      "[6, 12, 18, 24, 30, 36, 42, 48, 54, 60]\n",
      "[7, 14, 21, 28, 35, 42, 49, 56, 63, 70]\n",
      "[8, 16, 24, 32, 40, 48, 56, 64, 72, 80]\n",
      "[9, 18, 27, 36, 45, 54, 63, 72, 81, 90]\n",
      "[10, 20, 30, 40, 50, 60, 70, 80, 90, 100]\n"
     ]
    }
   ],
   "source": [
    "N= 10\n",
    "M= 10\n",
    "i,j= 1,1\n",
    "multiplication_table= []\n",
    "while i <= N:\n",
    "    next_row_of_multiplicable_table= []\n",
    "    while j <= M:\n",
    "        next_row_of_multiplicable_table.append(i*j)\n",
    "        j= j+1\n",
    "    i= i+1\n",
    "    j= 1\n",
    "    print(next_row_of_multiplicable_table)\n",
    "    multiplication_table.append(next_row_of_multiplicable_table)"
   ]
  },
  {
   "cell_type": "code",
   "execution_count": 17,
   "metadata": {
    "id": "Vwi1iyck9qVf"
   },
   "outputs": [
    {
     "name": "stdout",
     "output_type": "stream",
     "text": [
      "[[1, 2, 3, 4, 5, 6, 7, 8, 9, 10], [2, 4, 6, 8, 10, 12, 14, 16, 18, 20], [3, 6, 9, 12, 15, 18, 21, 24, 27, 30], [4, 8, 12, 16, 20, 24, 28, 32, 36, 40], [5, 10, 15, 20, 25, 30, 35, 40, 45, 50], [6, 12, 18, 24, 30, 36, 42, 48, 54, 60], [7, 14, 21, 28, 35, 42, 49, 56, 63, 70], [8, 16, 24, 32, 40, 48, 56, 64, 72, 80], [9, 18, 27, 36, 45, 54, 63, 72, 81, 90], [10, 20, 30, 40, 50, 60, 70, 80, 90, 100]]\n"
     ]
    }
   ],
   "source": [
    "print(multiplication_table)"
   ]
  },
  {
   "cell_type": "markdown",
   "metadata": {
    "id": "Qrw_UFxbG6-T"
   },
   "source": [
    "* **Ważne są wcięcia: 1, 2, 3 spacje - wszystko jedno, tylko że wszędzie tyle samo!!!**\n",
    "* Nie **Tab** - na szczęście w praktyce większość edytorów zastępuje Tab spacjami.\n"
   ]
  },
  {
   "cell_type": "markdown",
   "metadata": {
    "id": "YED5BnRtrp51"
   },
   "source": [
    "---\n",
    "## Zmienne\n",
    "\n",
    "* Zmienne mają przpisaną wartość.\n",
    "* Wartości mają typ.\n",
    "* Zmienne \"żyją\" w całym zeszycie programu jupyter, jeżeli już zostały utworzone. Chyba, że posidają zakres ograniczony do pewnego bloku kodu np. funkcji.\n",
    "* Zmienne przechowują w kodzie wszystkie informacje potrzebne do prowadzenia obliczeń."
   ]
  },
  {
   "cell_type": "code",
   "execution_count": 19,
   "metadata": {
    "id": "1w8sFis7rVnW"
   },
   "outputs": [
    {
     "name": "stdout",
     "output_type": "stream",
     "text": [
      "10\n"
     ]
    }
   ],
   "source": [
    "a= 10\n",
    "print(a)"
   ]
  },
  {
   "cell_type": "code",
   "execution_count": 20,
   "metadata": {
    "id": "25E8YuiQrk1q"
   },
   "outputs": [
    {
     "data": {
      "text/plain": [
       "int"
      ]
     },
     "execution_count": 20,
     "metadata": {},
     "output_type": "execute_result"
    }
   ],
   "source": [
    "type(a)"
   ]
  },
  {
   "cell_type": "code",
   "execution_count": 25,
   "metadata": {
    "id": "U-BOOTWZreiS"
   },
   "outputs": [
    {
     "name": "stdout",
     "output_type": "stream",
     "text": [
      "15.0996\n"
     ]
    }
   ],
   "source": [
    "print(a)"
   ]
  },
  {
   "cell_type": "markdown",
   "metadata": {
    "id": "EYVaS-Uwumrs"
   },
   "source": [
    "Wartości i typy(!) zmiennych można zmieniać."
   ]
  },
  {
   "cell_type": "code",
   "execution_count": 22,
   "metadata": {
    "id": "-k8dSlloulP6"
   },
   "outputs": [],
   "source": [
    "a = 15.0996"
   ]
  },
  {
   "cell_type": "code",
   "execution_count": 23,
   "metadata": {
    "id": "563t8TQ_uzkD"
   },
   "outputs": [
    {
     "data": {
      "text/plain": [
       "float"
      ]
     },
     "execution_count": 23,
     "metadata": {},
     "output_type": "execute_result"
    }
   ],
   "source": [
    "type(a)"
   ]
  },
  {
   "cell_type": "code",
   "execution_count": 24,
   "metadata": {
    "id": "BSjWwmXOu25r"
   },
   "outputs": [
    {
     "name": "stdout",
     "output_type": "stream",
     "text": [
      "15.0996\n"
     ]
    }
   ],
   "source": [
    "print(a)"
   ]
  },
  {
   "cell_type": "markdown",
   "metadata": {
    "id": "cF8maUM_wlJu"
   },
   "source": [
    "Zmienne typu `string`, napisy:"
   ]
  },
  {
   "cell_type": "code",
   "execution_count": 27,
   "metadata": {
    "id": "zFCqVYVEu3e7"
   },
   "outputs": [
    {
     "name": "stdout",
     "output_type": "stream",
     "text": [
      "Ala ma kota\n"
     ]
    }
   ],
   "source": [
    "a= \"Ala ma kota\"\n",
    "print(a)"
   ]
  },
  {
   "cell_type": "code",
   "execution_count": 28,
   "metadata": {},
   "outputs": [
    {
     "data": {
      "text/plain": [
       "str"
      ]
     },
     "execution_count": 28,
     "metadata": {},
     "output_type": "execute_result"
    }
   ],
   "source": [
    "type(a)"
   ]
  },
  {
   "cell_type": "code",
   "execution_count": 29,
   "metadata": {
    "id": "DELta72IwkjK"
   },
   "outputs": [
    {
     "name": "stdout",
     "output_type": "stream",
     "text": [
      "A\n"
     ]
    }
   ],
   "source": [
    "print(a[0])"
   ]
  },
  {
   "cell_type": "code",
   "execution_count": 30,
   "metadata": {
    "id": "KQzCmrzCwvTo"
   },
   "outputs": [
    {
     "name": "stdout",
     "output_type": "stream",
     "text": [
      "Ala m\n"
     ]
    }
   ],
   "source": [
    "print(a[0:5])"
   ]
  },
  {
   "cell_type": "code",
   "execution_count": 31,
   "metadata": {
    "id": "ecwTdrNzzelx"
   },
   "outputs": [
    {
     "name": "stdout",
     "output_type": "stream",
     "text": [
      "Krzyś ma kota\n"
     ]
    }
   ],
   "source": [
    "print(a.replace(\"Ala\",'Krzyś'))"
   ]
  },
  {
   "cell_type": "code",
   "execution_count": 32,
   "metadata": {
    "id": "j2T67iB92N4p"
   },
   "outputs": [
    {
     "name": "stdout",
     "output_type": "stream",
     "text": [
      "Pierwszy wiersz,\n",
      " Drugi wiersz\n",
      "Trzeci\n"
     ]
    }
   ],
   "source": [
    "print(\"Pierwszy wiersz,\\n Drugi wiersz\\nTrzeci\")"
   ]
  },
  {
   "cell_type": "code",
   "execution_count": 33,
   "metadata": {
    "id": "kT9PgZDP15Qn"
   },
   "outputs": [
    {
     "name": "stdout",
     "output_type": "stream",
     "text": [
      "3.32 <class 'float'>\n"
     ]
    }
   ],
   "source": [
    "x= float(\"3.32\")\n",
    "print(x, type(x))"
   ]
  },
  {
   "cell_type": "code",
   "execution_count": 46,
   "metadata": {
    "id": "s1oxcuDi2XdU"
   },
   "outputs": [
    {
     "name": "stdout",
     "output_type": "stream",
     "text": [
      "Ala ma kota\n"
     ]
    }
   ],
   "source": [
    "name= \"Ala\"\n",
    "x = name + \" ma kota\"\n",
    "print(x)"
   ]
  },
  {
   "cell_type": "markdown",
   "metadata": {
    "id": "k3CjMhCeyZmj"
   },
   "source": [
    "Zmienne typu logicznego (boolean, bool)"
   ]
  },
  {
   "cell_type": "code",
   "execution_count": 48,
   "metadata": {
    "id": "6hOqF-4jyZ1C"
   },
   "outputs": [
    {
     "name": "stdout",
     "output_type": "stream",
     "text": [
      "True\n"
     ]
    }
   ],
   "source": [
    "a= True # False\n",
    "print(a)"
   ]
  },
  {
   "cell_type": "code",
   "execution_count": 49,
   "metadata": {
    "id": "II9MRvHwio2U"
   },
   "outputs": [
    {
     "data": {
      "text/plain": [
       "True"
      ]
     },
     "execution_count": 49,
     "metadata": {},
     "output_type": "execute_result"
    }
   ],
   "source": [
    "5 == 5"
   ]
  },
  {
   "cell_type": "code",
   "execution_count": 50,
   "metadata": {
    "id": "HGCSahGKzJ5s"
   },
   "outputs": [
    {
     "name": "stdout",
     "output_type": "stream",
     "text": [
      "True\n"
     ]
    }
   ],
   "source": [
    "a =  (5 == 5)\n",
    "print(a)"
   ]
  },
  {
   "cell_type": "code",
   "execution_count": 56,
   "metadata": {
    "id": "tVSI7nW_iywk"
   },
   "outputs": [
    {
     "ename": "SyntaxError",
     "evalue": "invalid syntax (<ipython-input-56-da6ebd424689>, line 2)",
     "output_type": "error",
     "traceback": [
      "\u001b[0;36m  File \u001b[0;32m\"<ipython-input-56-da6ebd424689>\"\u001b[0;36m, line \u001b[0;32m2\u001b[0m\n\u001b[0;31m    if x = 5: # Powinno być ==\u001b[0m\n\u001b[0m         ^\u001b[0m\n\u001b[0;31mSyntaxError\u001b[0m\u001b[0;31m:\u001b[0m invalid syntax\n"
     ]
    }
   ],
   "source": [
    "x = 5\n",
    "if x = 5: # Powinno być ==\n",
    "    print(x)"
   ]
  },
  {
   "cell_type": "markdown",
   "metadata": {
    "id": "jdB4Po9gzsSp"
   },
   "source": [
    "Complex"
   ]
  },
  {
   "cell_type": "code",
   "execution_count": 62,
   "metadata": {
    "id": "Bq8lcYS8zsaB"
   },
   "outputs": [],
   "source": [
    "a= 1j + 8"
   ]
  },
  {
   "cell_type": "code",
   "execution_count": 58,
   "metadata": {
    "id": "ypyhg57PzwJT"
   },
   "outputs": [
    {
     "data": {
      "text/plain": [
       "(8+1j)"
      ]
     },
     "execution_count": 58,
     "metadata": {},
     "output_type": "execute_result"
    }
   ],
   "source": [
    "a"
   ]
  },
  {
   "cell_type": "code",
   "execution_count": 59,
   "metadata": {
    "id": "ny31HHJSzxIK"
   },
   "outputs": [
    {
     "data": {
      "text/plain": [
       "(16+2j)"
      ]
     },
     "execution_count": 59,
     "metadata": {},
     "output_type": "execute_result"
    }
   ],
   "source": [
    "a+a"
   ]
  },
  {
   "cell_type": "code",
   "execution_count": 69,
   "metadata": {
    "id": "6HD5MiVVjRgQ"
   },
   "outputs": [
    {
     "ename": "NameError",
     "evalue": "name 'j' is not defined",
     "output_type": "error",
     "traceback": [
      "\u001b[0;31m---------------------------------------------------------------------------\u001b[0m",
      "\u001b[0;31mNameError\u001b[0m                                 Traceback (most recent call last)",
      "\u001b[0;32m<ipython-input-69-45d2fce73099>\u001b[0m in \u001b[0;36m<module>\u001b[0;34m\u001b[0m\n\u001b[0;32m----> 1\u001b[0;31m \u001b[0;32mdel\u001b[0m \u001b[0mj\u001b[0m\u001b[0;34m\u001b[0m\u001b[0;34m\u001b[0m\u001b[0m\n\u001b[0m\u001b[1;32m      2\u001b[0m \u001b[0ma\u001b[0m \u001b[0;34m=\u001b[0m \u001b[0;36m10\u001b[0m \u001b[0;34m+\u001b[0m \u001b[0mj\u001b[0m\u001b[0;34m\u001b[0m\u001b[0;34m\u001b[0m\u001b[0m\n",
      "\u001b[0;31mNameError\u001b[0m: name 'j' is not defined"
     ]
    }
   ],
   "source": [
    "del j\n",
    "a = 10 + j"
   ]
  },
  {
   "cell_type": "code",
   "execution_count": 66,
   "metadata": {
    "id": "2aWYYIaEjWu0"
   },
   "outputs": [],
   "source": [
    "a = 10 + 1.0123123123j"
   ]
  },
  {
   "cell_type": "markdown",
   "metadata": {
    "id": "dsPOm7hswTv3"
   },
   "source": [
    "### Pytania i odpowiedzi:"
   ]
  },
  {
   "cell_type": "code",
   "execution_count": 71,
   "metadata": {
    "id": "Vtgi9XSPwW8g"
   },
   "outputs": [],
   "source": [
    "# Utworz zmienną przechowującą napis, liczbę typu float i liczbę typu integer.\n",
    "x = 1232.2321"
   ]
  },
  {
   "cell_type": "code",
   "execution_count": 72,
   "metadata": {
    "id": "2R4qLxHEw-yi"
   },
   "outputs": [
    {
     "data": {
      "text/plain": [
       "str"
      ]
     },
     "execution_count": 72,
     "metadata": {},
     "output_type": "execute_result"
    }
   ],
   "source": [
    "type(\"Ala ma kota\")"
   ]
  },
  {
   "cell_type": "code",
   "execution_count": 73,
   "metadata": {
    "id": "kwV8L1SXxNYX"
   },
   "outputs": [
    {
     "data": {
      "text/plain": [
       "float"
      ]
     },
     "execution_count": 73,
     "metadata": {},
     "output_type": "execute_result"
    }
   ],
   "source": [
    "type(1.0)"
   ]
  },
  {
   "cell_type": "code",
   "execution_count": 74,
   "metadata": {
    "id": "EwjWF_kVxvjm"
   },
   "outputs": [
    {
     "data": {
      "text/plain": [
       "int"
      ]
     },
     "execution_count": 74,
     "metadata": {},
     "output_type": "execute_result"
    }
   ],
   "source": [
    "a= 10\n",
    "type(a)"
   ]
  },
  {
   "cell_type": "code",
   "execution_count": 77,
   "metadata": {
    "id": "5giroh2sxzls"
   },
   "outputs": [
    {
     "data": {
      "text/plain": [
       "float"
      ]
     },
     "execution_count": 77,
     "metadata": {},
     "output_type": "execute_result"
    }
   ],
   "source": [
    "a= 10\n",
    "b= 0.0\n",
    "type(a+b)"
   ]
  },
  {
   "cell_type": "code",
   "execution_count": 84,
   "metadata": {
    "id": "hOmvevV4ynqL"
   },
   "outputs": [
    {
     "name": "stdout",
     "output_type": "stream",
     "text": [
      "True\n"
     ]
    }
   ],
   "source": [
    "print(bool(\"a\"))"
   ]
  },
  {
   "cell_type": "code",
   "execution_count": 85,
   "metadata": {
    "id": "57r1v3Ceyuug"
   },
   "outputs": [
    {
     "name": "stdout",
     "output_type": "stream",
     "text": [
      "False\n",
      "False\n",
      "False\n",
      "False\n"
     ]
    }
   ],
   "source": [
    "print(bool(\"\"))\n",
    "print(bool(0))\n",
    "print(bool(0.))\n",
    "print(bool(None))"
   ]
  },
  {
   "cell_type": "code",
   "execution_count": 93,
   "metadata": {
    "id": "7WL5hSB6HeNX"
   },
   "outputs": [
    {
     "ename": "IndentationError",
     "evalue": "expected an indented block (<ipython-input-93-98c7ec7e17a8>, line 2)",
     "output_type": "error",
     "traceback": [
      "\u001b[0;36m  File \u001b[0;32m\"<ipython-input-93-98c7ec7e17a8>\"\u001b[0;36m, line \u001b[0;32m2\u001b[0m\n\u001b[0;31m    print(\"Ala ma kota\")\u001b[0m\n\u001b[0m    ^\u001b[0m\n\u001b[0;31mIndentationError\u001b[0m\u001b[0;31m:\u001b[0m expected an indented block\n"
     ]
    }
   ],
   "source": [
    "if 1==1:\n",
    "print(\"Ala ma kota\")"
   ]
  },
  {
   "cell_type": "markdown",
   "metadata": {
    "id": "pAhg6PdOxDZ2"
   },
   "source": [
    "### Działania na zmiennych - operatory: +,-,*,/,//,%,=,=="
   ]
  },
  {
   "cell_type": "code",
   "execution_count": 97,
   "metadata": {
    "id": "CYfdQItxzq_I"
   },
   "outputs": [
    {
     "name": "stdout",
     "output_type": "stream",
     "text": [
      "20\n"
     ]
    }
   ],
   "source": [
    "a= 10\n",
    "print(2*a)"
   ]
  },
  {
   "cell_type": "code",
   "execution_count": 98,
   "metadata": {
    "id": "rdLSuL9Tz-Zd"
   },
   "outputs": [
    {
     "data": {
      "text/plain": [
       "5.0"
      ]
     },
     "execution_count": 98,
     "metadata": {},
     "output_type": "execute_result"
    }
   ],
   "source": [
    "a/2"
   ]
  },
  {
   "cell_type": "code",
   "execution_count": 100,
   "metadata": {
    "id": "IUZSi9WVz_wM"
   },
   "outputs": [
    {
     "data": {
      "text/plain": [
       "3.3333333333333335"
      ]
     },
     "execution_count": 100,
     "metadata": {},
     "output_type": "execute_result"
    }
   ],
   "source": [
    "a/3"
   ]
  },
  {
   "cell_type": "code",
   "execution_count": 101,
   "metadata": {
    "id": "IznBXh350BG7"
   },
   "outputs": [
    {
     "data": {
      "text/plain": [
       "3"
      ]
     },
     "execution_count": 101,
     "metadata": {},
     "output_type": "execute_result"
    }
   ],
   "source": [
    "a//3"
   ]
  },
  {
   "cell_type": "code",
   "execution_count": 102,
   "metadata": {
    "id": "6JqE9IbI0DCC"
   },
   "outputs": [
    {
     "data": {
      "text/plain": [
       "1"
      ]
     },
     "execution_count": 102,
     "metadata": {},
     "output_type": "execute_result"
    }
   ],
   "source": [
    "a%3"
   ]
  },
  {
   "cell_type": "code",
   "execution_count": 103,
   "metadata": {
    "id": "VpUXFLZ10ENy"
   },
   "outputs": [
    {
     "data": {
      "text/plain": [
       "20"
      ]
     },
     "execution_count": 103,
     "metadata": {},
     "output_type": "execute_result"
    }
   ],
   "source": [
    "a + a"
   ]
  },
  {
   "cell_type": "code",
   "execution_count": 124,
   "metadata": {
    "id": "yLJFojNq0HZA"
   },
   "outputs": [
    {
     "name": "stdout",
     "output_type": "stream",
     "text": [
      "1430511474609375\n"
     ]
    }
   ],
   "source": [
    "a += 5 # to jest skrót dla zapisu a = a + 5\n",
    "print(a)"
   ]
  },
  {
   "cell_type": "markdown",
   "metadata": {},
   "source": [
    "Operatory realizują różne funkcje dla zmiennych o różnych typach."
   ]
  },
  {
   "cell_type": "code",
   "execution_count": 129,
   "metadata": {},
   "outputs": [
    {
     "name": "stdout",
     "output_type": "stream",
     "text": [
      "Ala ma kota Ala ma kota Ala ma kota Ala ma kota Ala ma kota \n"
     ]
    }
   ],
   "source": [
    "a=\"Ala ma kota \"\n",
    "print(5*a)"
   ]
  },
  {
   "cell_type": "code",
   "execution_count": 130,
   "metadata": {},
   "outputs": [
    {
     "ename": "TypeError",
     "evalue": "unsupported operand type(s) for /: 'str' and 'int'",
     "output_type": "error",
     "traceback": [
      "\u001b[0;31m---------------------------------------------------------------------------\u001b[0m",
      "\u001b[0;31mTypeError\u001b[0m                                 Traceback (most recent call last)",
      "\u001b[0;32m<ipython-input-130-dd963752a75c>\u001b[0m in \u001b[0;36m<module>\u001b[0;34m\u001b[0m\n\u001b[0;32m----> 1\u001b[0;31m \u001b[0ma\u001b[0m\u001b[0;34m/\u001b[0m\u001b[0;36m2\u001b[0m \u001b[0;31m# a//2\u001b[0m\u001b[0;34m\u001b[0m\u001b[0;34m\u001b[0m\u001b[0m\n\u001b[0m",
      "\u001b[0;31mTypeError\u001b[0m: unsupported operand type(s) for /: 'str' and 'int'"
     ]
    }
   ],
   "source": [
    "a/2 # a//2"
   ]
  },
  {
   "cell_type": "code",
   "execution_count": 132,
   "metadata": {},
   "outputs": [
    {
     "data": {
      "text/plain": [
       "'2.00000'"
      ]
     },
     "execution_count": 132,
     "metadata": {},
     "output_type": "execute_result"
    }
   ],
   "source": [
    "\"%.5f\" % 2"
   ]
  },
  {
   "cell_type": "code",
   "execution_count": 133,
   "metadata": {},
   "outputs": [
    {
     "data": {
      "text/plain": [
       "'Ala ma kota Ala ma kota '"
      ]
     },
     "execution_count": 133,
     "metadata": {},
     "output_type": "execute_result"
    }
   ],
   "source": [
    "a+a"
   ]
  },
  {
   "cell_type": "markdown",
   "metadata": {
    "id": "RZYJSHWz0w2U"
   },
   "source": [
    "Funkcje logiczne"
   ]
  },
  {
   "cell_type": "code",
   "execution_count": 134,
   "metadata": {
    "id": "F8Hy-u_20LDW"
   },
   "outputs": [
    {
     "data": {
      "text/plain": [
       "True"
      ]
     },
     "execution_count": 134,
     "metadata": {},
     "output_type": "execute_result"
    }
   ],
   "source": [
    "(True and True)"
   ]
  },
  {
   "cell_type": "code",
   "execution_count": 135,
   "metadata": {
    "id": "KhfO0XFL03dW"
   },
   "outputs": [
    {
     "data": {
      "text/plain": [
       "False"
      ]
     },
     "execution_count": 135,
     "metadata": {},
     "output_type": "execute_result"
    }
   ],
   "source": [
    "False and True"
   ]
  },
  {
   "cell_type": "code",
   "execution_count": 136,
   "metadata": {
    "id": "-ZrDW5Os04oc"
   },
   "outputs": [
    {
     "data": {
      "text/plain": [
       "True"
      ]
     },
     "execution_count": 136,
     "metadata": {},
     "output_type": "execute_result"
    }
   ],
   "source": [
    "False or True"
   ]
  },
  {
   "cell_type": "code",
   "execution_count": 137,
   "metadata": {
    "id": "rC4s-_lx06HL"
   },
   "outputs": [
    {
     "data": {
      "text/plain": [
       "True"
      ]
     },
     "execution_count": 137,
     "metadata": {},
     "output_type": "execute_result"
    }
   ],
   "source": [
    "(False or True) and True"
   ]
  },
  {
   "cell_type": "code",
   "execution_count": 138,
   "metadata": {
    "id": "QncwVcqj08qX"
   },
   "outputs": [
    {
     "data": {
      "text/plain": [
       "True"
      ]
     },
     "execution_count": 138,
     "metadata": {},
     "output_type": "execute_result"
    }
   ],
   "source": [
    "(3>5) or True"
   ]
  },
  {
   "cell_type": "code",
   "execution_count": 139,
   "metadata": {
    "id": "t4exJni01GtD"
   },
   "outputs": [
    {
     "data": {
      "text/plain": [
       "False"
      ]
     },
     "execution_count": 139,
     "metadata": {},
     "output_type": "execute_result"
    }
   ],
   "source": [
    "not True"
   ]
  },
  {
   "cell_type": "code",
   "execution_count": 140,
   "metadata": {
    "id": "qasR8-OG1IpK"
   },
   "outputs": [
    {
     "data": {
      "text/plain": [
       "True"
      ]
     },
     "execution_count": 140,
     "metadata": {},
     "output_type": "execute_result"
    }
   ],
   "source": [
    "1+1+1 == 3"
   ]
  },
  {
   "cell_type": "code",
   "execution_count": 141,
   "metadata": {
    "id": "AlFzeRBs1QhG"
   },
   "outputs": [
    {
     "data": {
      "text/plain": [
       "False"
      ]
     },
     "execution_count": 141,
     "metadata": {},
     "output_type": "execute_result"
    }
   ],
   "source": [
    "0.1 + 0.1 + 0.1 == 0.3"
   ]
  },
  {
   "cell_type": "code",
   "execution_count": 144,
   "metadata": {},
   "outputs": [
    {
     "data": {
      "text/plain": [
       "0.3"
      ]
     },
     "execution_count": 144,
     "metadata": {},
     "output_type": "execute_result"
    }
   ],
   "source": [
    "0.3"
   ]
  },
  {
   "cell_type": "markdown",
   "metadata": {},
   "source": [
    "### Operator `in`"
   ]
  },
  {
   "cell_type": "code",
   "execution_count": 148,
   "metadata": {},
   "outputs": [
    {
     "data": {
      "text/plain": [
       "True"
      ]
     },
     "execution_count": 148,
     "metadata": {},
     "output_type": "execute_result"
    }
   ],
   "source": [
    "'m' in \"Ala ma kota\""
   ]
  },
  {
   "cell_type": "code",
   "execution_count": 146,
   "metadata": {},
   "outputs": [
    {
     "data": {
      "text/plain": [
       "False"
      ]
     },
     "execution_count": 146,
     "metadata": {},
     "output_type": "execute_result"
    }
   ],
   "source": [
    "'K' in \"Ala ma kota\""
   ]
  },
  {
   "cell_type": "markdown",
   "metadata": {
    "id": "XHBvxz7m3HnR"
   },
   "source": [
    "### Pytania i odpowiedzi\n",
    "\n",
    "zastąp `?`"
   ]
  },
  {
   "cell_type": "code",
   "execution_count": 149,
   "metadata": {
    "id": "Hv0wp5QL1SmW"
   },
   "outputs": [
    {
     "name": "stdout",
     "output_type": "stream",
     "text": [
      "At least one of the statements is true\n"
     ]
    }
   ],
   "source": [
    "if 3 == 7 or 0 == 0:\n",
    "  print(\"At least one of the statements is true\")"
   ]
  },
  {
   "cell_type": "code",
   "execution_count": 152,
   "metadata": {
    "id": "hfOWnmzL3VbK"
   },
   "outputs": [
    {
     "name": "stdout",
     "output_type": "stream",
     "text": [
      "If 3 not equal 5\n"
     ]
    }
   ],
   "source": [
    "if 3 != 5:\n",
    "  print(\"If 3 not equal 5\")"
   ]
  },
  {
   "cell_type": "markdown",
   "metadata": {
    "id": "PbugomNU3zVq"
   },
   "source": [
    "### Grupy zmiennych / kontenery\n",
    "\n",
    "#### Listy:\n",
    "* Jaka jest idea?"
   ]
  },
  {
   "cell_type": "code",
   "execution_count": 154,
   "metadata": {
    "id": "ybwYx8Ei3sr_"
   },
   "outputs": [
    {
     "data": {
      "text/plain": [
       "list"
      ]
     },
     "execution_count": 154,
     "metadata": {},
     "output_type": "execute_result"
    }
   ],
   "source": [
    "a= [1,2,3,4]\n",
    "type(a)"
   ]
  },
  {
   "cell_type": "code",
   "execution_count": 155,
   "metadata": {
    "id": "5xuB8l193_Rj"
   },
   "outputs": [
    {
     "name": "stdout",
     "output_type": "stream",
     "text": [
      "[10, 2, 3, 4]\n"
     ]
    }
   ],
   "source": [
    "a[0] = 10\n",
    "print(a)"
   ]
  },
  {
   "cell_type": "code",
   "execution_count": 156,
   "metadata": {
    "id": "-83zVWUoDGgB"
   },
   "outputs": [
    {
     "data": {
      "text/plain": [
       "4"
      ]
     },
     "execution_count": 156,
     "metadata": {},
     "output_type": "execute_result"
    }
   ],
   "source": [
    "len(a)"
   ]
  },
  {
   "cell_type": "code",
   "execution_count": 157,
   "metadata": {
    "id": "q7B_eyD94DGl"
   },
   "outputs": [
    {
     "name": "stdout",
     "output_type": "stream",
     "text": [
      "[10, 3, 4]\n"
     ]
    }
   ],
   "source": [
    "del a[1]\n",
    "print(a)"
   ]
  },
  {
   "cell_type": "code",
   "execution_count": 162,
   "metadata": {
    "id": "N0z2dUgH4Fsd"
   },
   "outputs": [
    {
     "name": "stdout",
     "output_type": "stream",
     "text": [
      "[10, 3, 4, 8, 8, 8, 8, 8]\n"
     ]
    }
   ],
   "source": [
    "a.append(8)\n",
    "print(a)"
   ]
  },
  {
   "cell_type": "code",
   "execution_count": 168,
   "metadata": {
    "id": "YJHf9A1JEz-v"
   },
   "outputs": [
    {
     "name": "stdout",
     "output_type": "stream",
     "text": [
      "[-12, -12, -12, -12, -12, 10, -12, 3, 4, 8, 8, 8, 8, 8]\n"
     ]
    }
   ],
   "source": [
    "a.insert(0,-12)\n",
    "print(a)"
   ]
  },
  {
   "cell_type": "code",
   "execution_count": 169,
   "metadata": {
    "id": "E8F9TEkT4ek5"
   },
   "outputs": [
    {
     "name": "stdout",
     "output_type": "stream",
     "text": [
      "[-12, -12, -12, -12, -12, 10, -12, 3, 4, 8, 8, 8, 8, 8, 1, 2, 3, 4]\n"
     ]
    }
   ],
   "source": [
    "a = a + [1,2,3,4]\n",
    "print(a)"
   ]
  },
  {
   "cell_type": "code",
   "execution_count": 173,
   "metadata": {
    "id": "K5pOId-wCE90"
   },
   "outputs": [
    {
     "name": "stdout",
     "output_type": "stream",
     "text": [
      "['Ala', [1, 2, 3], 6.9, {1, 2, 3}, (1, 2)]\n",
      "2\n"
     ]
    }
   ],
   "source": [
    "x= [\"Ala\", [1,2,3], 6.9, {1,2,3},(1,2)]\n",
    "print(x)\n",
    "print(x[1][1])"
   ]
  },
  {
   "cell_type": "code",
   "execution_count": 179,
   "metadata": {
    "id": "0_lo_sFMAbKb"
   },
   "outputs": [
    {
     "data": {
      "text/plain": [
       "True"
      ]
     },
     "execution_count": 179,
     "metadata": {},
     "output_type": "execute_result"
    }
   ],
   "source": [
    "1 in x[1]"
   ]
  },
  {
   "cell_type": "markdown",
   "metadata": {
    "id": "UekAoWLV4Vg9"
   },
   "source": [
    "#### Krotki (ang. tuple):"
   ]
  },
  {
   "cell_type": "code",
   "execution_count": 180,
   "metadata": {
    "id": "VPeCCFvW4KWe"
   },
   "outputs": [
    {
     "name": "stdout",
     "output_type": "stream",
     "text": [
      "(1, 2, 3, 4)\n"
     ]
    }
   ],
   "source": [
    "a = (1,2,3,4)\n",
    "print(a)"
   ]
  },
  {
   "cell_type": "code",
   "execution_count": 181,
   "metadata": {
    "id": "QyCiSMTJ4kyt"
   },
   "outputs": [
    {
     "ename": "TypeError",
     "evalue": "'tuple' object does not support item assignment",
     "output_type": "error",
     "traceback": [
      "\u001b[0;31m---------------------------------------------------------------------------\u001b[0m",
      "\u001b[0;31mTypeError\u001b[0m                                 Traceback (most recent call last)",
      "\u001b[0;32m<ipython-input-181-3fdec95f3a09>\u001b[0m in \u001b[0;36m<module>\u001b[0;34m\u001b[0m\n\u001b[0;32m----> 1\u001b[0;31m \u001b[0ma\u001b[0m\u001b[0;34m[\u001b[0m\u001b[0;36m0\u001b[0m\u001b[0;34m]\u001b[0m\u001b[0;34m=\u001b[0m\u001b[0;36m5\u001b[0m\u001b[0;34m\u001b[0m\u001b[0;34m\u001b[0m\u001b[0m\n\u001b[0m",
      "\u001b[0;31mTypeError\u001b[0m: 'tuple' object does not support item assignment"
     ]
    }
   ],
   "source": [
    "a[0]=5"
   ]
  },
  {
   "cell_type": "code",
   "execution_count": 182,
   "metadata": {
    "id": "CLqU2blY4l3E"
   },
   "outputs": [
    {
     "name": "stdout",
     "output_type": "stream",
     "text": [
      "1\n"
     ]
    }
   ],
   "source": [
    "print(a[0])"
   ]
  },
  {
   "cell_type": "code",
   "execution_count": 188,
   "metadata": {
    "id": "dleAUQHc_ZyL"
   },
   "outputs": [
    {
     "name": "stdout",
     "output_type": "stream",
     "text": [
      "4\n"
     ]
    }
   ],
   "source": [
    "(x,_,_,w) = list(a)\n",
    "print(w)"
   ]
  },
  {
   "cell_type": "code",
   "execution_count": 189,
   "metadata": {
    "id": "eC7l0fS4_jO2"
   },
   "outputs": [],
   "source": [
    "a,b,c= 1,10.,\"X\""
   ]
  },
  {
   "cell_type": "code",
   "execution_count": 190,
   "metadata": {
    "id": "Il-qcxInCl-o"
   },
   "outputs": [
    {
     "name": "stdout",
     "output_type": "stream",
     "text": [
      "15\n"
     ]
    }
   ],
   "source": [
    "a= 10\n",
    "b= 15\n",
    "a,b= b,a\n",
    "print(a)"
   ]
  },
  {
   "cell_type": "markdown",
   "metadata": {
    "id": "MAciDF9hAL7S"
   },
   "source": [
    "### Zbiory"
   ]
  },
  {
   "cell_type": "code",
   "execution_count": 191,
   "metadata": {
    "id": "nOvHLMBR5nM7"
   },
   "outputs": [
    {
     "name": "stdout",
     "output_type": "stream",
     "text": [
      "{1, 3, 4, 5}\n"
     ]
    }
   ],
   "source": [
    "a= {1,1,3,4,5}\n",
    "print(a)"
   ]
  },
  {
   "cell_type": "code",
   "execution_count": 192,
   "metadata": {
    "id": "QAJsDdv2ASvj"
   },
   "outputs": [
    {
     "data": {
      "text/plain": [
       "True"
      ]
     },
     "execution_count": 192,
     "metadata": {},
     "output_type": "execute_result"
    }
   ],
   "source": [
    "1 in a"
   ]
  },
  {
   "cell_type": "code",
   "execution_count": 193,
   "metadata": {
    "id": "VzLvBEGJAetK"
   },
   "outputs": [
    {
     "name": "stdout",
     "output_type": "stream",
     "text": [
      "{1, 3, 4, 5, 'a'}\n"
     ]
    }
   ],
   "source": [
    "a.add('a')\n",
    "a.add('a')\n",
    "print(a)"
   ]
  },
  {
   "cell_type": "code",
   "execution_count": 194,
   "metadata": {},
   "outputs": [],
   "source": [
    "b = {1,4,7,8}"
   ]
  },
  {
   "cell_type": "code",
   "execution_count": 195,
   "metadata": {},
   "outputs": [
    {
     "data": {
      "text/plain": [
       "{1, 3, 4, 5, 7, 8, 'a'}"
      ]
     },
     "execution_count": 195,
     "metadata": {},
     "output_type": "execute_result"
    }
   ],
   "source": [
    "a | b # or"
   ]
  },
  {
   "cell_type": "code",
   "execution_count": 196,
   "metadata": {},
   "outputs": [
    {
     "data": {
      "text/plain": [
       "{1, 4}"
      ]
     },
     "execution_count": 196,
     "metadata": {},
     "output_type": "execute_result"
    }
   ],
   "source": [
    "a & b # and"
   ]
  },
  {
   "cell_type": "code",
   "execution_count": 197,
   "metadata": {},
   "outputs": [
    {
     "data": {
      "text/plain": [
       "{3, 5, 7, 8, 'a'}"
      ]
     },
     "execution_count": 197,
     "metadata": {},
     "output_type": "execute_result"
    }
   ],
   "source": [
    "a ^ b # xor"
   ]
  },
  {
   "cell_type": "code",
   "execution_count": 198,
   "metadata": {},
   "outputs": [
    {
     "data": {
      "text/plain": [
       "{3, 5, 'a'}"
      ]
     },
     "execution_count": 198,
     "metadata": {},
     "output_type": "execute_result"
    }
   ],
   "source": [
    "a - b"
   ]
  },
  {
   "cell_type": "markdown",
   "metadata": {
    "id": "O1yPz_ZUAv-A"
   },
   "source": [
    "### Słowniki"
   ]
  },
  {
   "cell_type": "code",
   "execution_count": 201,
   "metadata": {
    "id": "MgYJYLYVAmkU"
   },
   "outputs": [
    {
     "name": "stdout",
     "output_type": "stream",
     "text": [
      "{'age': 10, 'name': 'Bob', 'phone': '+11 111 222 333'}\n"
     ]
    }
   ],
   "source": [
    "a= {\"age\": 10, \"name\":\"Bob\",\"phone\":\"+11 111 222 333\"}\n",
    "print(a)"
   ]
  },
  {
   "cell_type": "code",
   "execution_count": 202,
   "metadata": {
    "id": "bIl1boBSBCFg"
   },
   "outputs": [
    {
     "name": "stdout",
     "output_type": "stream",
     "text": [
      "10\n"
     ]
    }
   ],
   "source": [
    "print(a[\"age\"])"
   ]
  },
  {
   "cell_type": "code",
   "execution_count": 203,
   "metadata": {
    "id": "MEkzUZY5BHlQ"
   },
   "outputs": [
    {
     "name": "stdout",
     "output_type": "stream",
     "text": [
      "{'age': 10, 'name': 'Bob', 'phone': '+11 111 222 333', 'second_name': 'John'}\n"
     ]
    }
   ],
   "source": [
    "a[\"second_name\"] =\"John\"\n",
    "print(a)"
   ]
  },
  {
   "cell_type": "code",
   "execution_count": 204,
   "metadata": {
    "id": "XD_MfWxGB4F-"
   },
   "outputs": [
    {
     "data": {
      "text/plain": [
       "dict_values([10, 'Bob', '+11 111 222 333', 'John'])"
      ]
     },
     "execution_count": 204,
     "metadata": {},
     "output_type": "execute_result"
    }
   ],
   "source": [
    "a.values()"
   ]
  },
  {
   "cell_type": "code",
   "execution_count": 207,
   "metadata": {},
   "outputs": [
    {
     "data": {
      "text/plain": [
       "dict_keys(['age', 'name', 'phone', 'second_name'])"
      ]
     },
     "execution_count": 207,
     "metadata": {},
     "output_type": "execute_result"
    }
   ],
   "source": [
    "a.keys()"
   ]
  },
  {
   "cell_type": "code",
   "execution_count": 205,
   "metadata": {
    "id": "G84t5YuiCvYU"
   },
   "outputs": [
    {
     "name": "stdout",
     "output_type": "stream",
     "text": [
      "age\n",
      "name\n",
      "phone\n",
      "second_name\n"
     ]
    }
   ],
   "source": [
    "for key in a:\n",
    "    print(key)"
   ]
  },
  {
   "cell_type": "code",
   "execution_count": 208,
   "metadata": {
    "id": "F-G950q7B8mG"
   },
   "outputs": [
    {
     "name": "stdout",
     "output_type": "stream",
     "text": [
      "age   10\n",
      "name   Bob\n",
      "phone   +11 111 222 333\n",
      "second_name   John\n"
     ]
    }
   ],
   "source": [
    "for key, value in a.items():\n",
    "    print(key, \" \", value)"
   ]
  },
  {
   "cell_type": "markdown",
   "metadata": {
    "id": "CFP9ehlYDDsh"
   },
   "source": [
    "### Pytania i odpowiedzi"
   ]
  },
  {
   "cell_type": "code",
   "execution_count": 214,
   "metadata": {
    "id": "th4WhicwCI75"
   },
   "outputs": [
    {
     "name": "stdout",
     "output_type": "stream",
     "text": [
      "cherry\n"
     ]
    }
   ],
   "source": [
    "# Wyświetl ostatni element z listy\n",
    "fruits = [\"apple\", \"banana\", \"cherry\"]\n",
    "print(fruits[-1])"
   ]
  },
  {
   "cell_type": "code",
   "execution_count": 215,
   "metadata": {
    "id": "lEA97glDDBrw"
   },
   "outputs": [
    {
     "name": "stdout",
     "output_type": "stream",
     "text": [
      "6\n"
     ]
    }
   ],
   "source": [
    "# Wyświetl liczbę elementów w liście\n",
    "a = [1,2,3,4,5,6]\n",
    "print(len(a))"
   ]
  },
  {
   "cell_type": "code",
   "execution_count": 216,
   "metadata": {
    "id": "Hu-MkKPQEAjO"
   },
   "outputs": [
    {
     "name": "stdout",
     "output_type": "stream",
     "text": [
      "1\n"
     ]
    }
   ],
   "source": [
    "# Wyświetl pierwszy element z listy:\n",
    "a = [1,2,3,4,5,6]\n",
    "print(a[0])"
   ]
  },
  {
   "cell_type": "code",
   "execution_count": 217,
   "metadata": {
    "id": "JIJQrn8wEayD"
   },
   "outputs": [
    {
     "name": "stdout",
     "output_type": "stream",
     "text": [
      "[2, 3, 4]\n"
     ]
    }
   ],
   "source": [
    "# Co może wyświetlić poniższy kod?\n",
    "a= [1,2,3,4,5,6]\n",
    "print(a[1:4]) # ?"
   ]
  },
  {
   "cell_type": "markdown",
   "metadata": {
    "id": "j9m0HS-kIUeM"
   },
   "source": [
    "---\n",
    "### Instrukcje warunkowe i pętle\n",
    "\n",
    "IF-ELIF-ELSE"
   ]
  },
  {
   "cell_type": "code",
   "execution_count": 221,
   "metadata": {
    "id": "gTXSq6crIWYo"
   },
   "outputs": [
    {
     "name": "stdout",
     "output_type": "stream",
     "text": [
      "Y\n"
     ]
    }
   ],
   "source": [
    "a= 12\n",
    "if a<10:\n",
    "    print(\"X\")\n",
    "elif a<15:\n",
    "    print(\"Y\")\n",
    "else:\n",
    "    print(\"Z\")"
   ]
  },
  {
   "cell_type": "code",
   "execution_count": 230,
   "metadata": {
    "id": "Luy8ujWXIrYg"
   },
   "outputs": [
    {
     "name": "stdout",
     "output_type": "stream",
     "text": [
      "Write your name: asdasdasd\n",
      "You are not a user!\n"
     ]
    }
   ],
   "source": [
    "users= [\"Ala\", \"Gosia\", \"Kasia\"]\n",
    "name= input(\"Write your name: \") # Nowy element! Co robi?\n",
    "if name in users:\n",
    "    print(\"You are one of the users. You have access to this branch\")\n",
    "else:\n",
    "    print(\"You are not a user!\")"
   ]
  },
  {
   "cell_type": "markdown",
   "metadata": {
    "id": "gAwdjA_sKenL"
   },
   "source": [
    "FOR"
   ]
  },
  {
   "cell_type": "code",
   "execution_count": 231,
   "metadata": {
    "id": "A0eks6qzKLcA"
   },
   "outputs": [
    {
     "name": "stdout",
     "output_type": "stream",
     "text": [
      "1\n",
      "2\n",
      "6\n"
     ]
    }
   ],
   "source": [
    "x= 10232\n",
    "for x in [1,2,6]:\n",
    "    print(x)"
   ]
  },
  {
   "cell_type": "code",
   "execution_count": 232,
   "metadata": {
    "id": "5OvM83dzEyu8"
   },
   "outputs": [
    {
     "name": "stdout",
     "output_type": "stream",
     "text": [
      "6\n"
     ]
    }
   ],
   "source": [
    "print(x)"
   ]
  },
  {
   "cell_type": "code",
   "execution_count": 235,
   "metadata": {
    "id": "RMAH2hgXKiFC"
   },
   "outputs": [
    {
     "name": "stdout",
     "output_type": "stream",
     "text": [
      "0 0\n",
      "1 1\n",
      "2 4\n",
      "3 9\n",
      "4 16\n",
      "5 25\n",
      "6 36\n",
      "7 49\n",
      "8 64\n",
      "9 81\n",
      "[0, 1, 4, 9, 16, 25, 36, 49, 64, 81]\n"
     ]
    }
   ],
   "source": [
    "x2 = []\n",
    "for x in range(10):\n",
    "    print(x, x**2)\n",
    "    x2.append(x**2)\n",
    "    # funkcja_od(x)\n",
    "    \n",
    "print(x2)"
   ]
  },
  {
   "cell_type": "code",
   "execution_count": 238,
   "metadata": {
    "id": "oGXhAkEVK8ds"
   },
   "outputs": [
    {
     "name": "stdout",
     "output_type": "stream",
     "text": [
      "S\n",
      "o\n",
      "m\n",
      "e\n",
      " \n",
      "l\n",
      "o\n",
      "n\n",
      "g\n",
      " \n",
      "t\n",
      "e\n",
      "x\n",
      "t\n"
     ]
    }
   ],
   "source": [
    "for letter in \"Some long text\":\n",
    "    print(letter)"
   ]
  },
  {
   "cell_type": "code",
   "execution_count": 245,
   "metadata": {
    "id": "ds10hG-VxM-n"
   },
   "outputs": [
    {
     "ename": "TypeError",
     "evalue": "'int' object is not iterable",
     "output_type": "error",
     "traceback": [
      "\u001b[0;31m---------------------------------------------------------------------------\u001b[0m",
      "\u001b[0;31mTypeError\u001b[0m                                 Traceback (most recent call last)",
      "\u001b[0;32m<ipython-input-245-8a1f11565974>\u001b[0m in \u001b[0;36m<module>\u001b[0;34m\u001b[0m\n\u001b[0;32m----> 1\u001b[0;31m \u001b[0;32mfor\u001b[0m \u001b[0mx\u001b[0m \u001b[0;32min\u001b[0m \u001b[0;36m10\u001b[0m\u001b[0;34m:\u001b[0m\u001b[0;34m\u001b[0m\u001b[0;34m\u001b[0m\u001b[0m\n\u001b[0m\u001b[1;32m      2\u001b[0m     \u001b[0mprint\u001b[0m\u001b[0;34m(\u001b[0m\u001b[0mx\u001b[0m\u001b[0;34m)\u001b[0m\u001b[0;34m\u001b[0m\u001b[0;34m\u001b[0m\u001b[0m\n",
      "\u001b[0;31mTypeError\u001b[0m: 'int' object is not iterable"
     ]
    }
   ],
   "source": [
    "for x in 10:\n",
    "    print(x)"
   ]
  },
  {
   "cell_type": "code",
   "execution_count": 248,
   "metadata": {
    "id": "ggs1xuhnxVx6"
   },
   "outputs": [
    {
     "name": "stdout",
     "output_type": "stream",
     "text": [
      "12\n",
      "54\n",
      "23\n"
     ]
    }
   ],
   "source": [
    "for x in {12,23,54,12}:\n",
    "    print(x)"
   ]
  },
  {
   "cell_type": "code",
   "execution_count": 247,
   "metadata": {
    "id": "c1z-5mynx8p7"
   },
   "outputs": [
    {
     "name": "stdout",
     "output_type": "stream",
     "text": [
      "1\n",
      "2\n",
      "3\n",
      "4\n"
     ]
    }
   ],
   "source": [
    "x = [1,2,3,4]\n",
    "for i in range(len(x)): # Bad pattern!\n",
    "    print(x[i])"
   ]
  },
  {
   "cell_type": "markdown",
   "metadata": {
    "id": "hhDFtbWNKslh"
   },
   "source": [
    "WHILE"
   ]
  },
  {
   "cell_type": "code",
   "execution_count": 249,
   "metadata": {
    "id": "QCRPyE_2Km81"
   },
   "outputs": [
    {
     "name": "stdout",
     "output_type": "stream",
     "text": [
      "1\n",
      "2\n",
      "3\n",
      "4\n",
      "5\n",
      "6\n",
      "7\n",
      "8\n",
      "9\n",
      "10\n"
     ]
    }
   ],
   "source": [
    "i= 0\n",
    "while i<10:\n",
    "    i= i+1\n",
    "    print(i)"
   ]
  },
  {
   "cell_type": "code",
   "execution_count": 250,
   "metadata": {
    "id": "iepEIRsmFt34"
   },
   "outputs": [
    {
     "name": "stdout",
     "output_type": "stream",
     "text": [
      "10\n"
     ]
    }
   ],
   "source": [
    "print(i)"
   ]
  },
  {
   "cell_type": "markdown",
   "metadata": {
    "id": "XXSXBgBZL5ku"
   },
   "source": [
    "Continue i break"
   ]
  },
  {
   "cell_type": "code",
   "execution_count": 251,
   "metadata": {
    "id": "bKHkWSENK4Gc"
   },
   "outputs": [
    {
     "name": "stdout",
     "output_type": "stream",
     "text": [
      "1\n",
      "2\n",
      "3\n",
      "5\n",
      "6\n",
      "7\n",
      "8\n",
      "9\n",
      "10\n"
     ]
    }
   ],
   "source": [
    "# Przeanalizujmy:\n",
    "i= 0\n",
    "while i<10:\n",
    "    i= i+1\n",
    "    if i == 4:\n",
    "        continue\n",
    "    print(i)"
   ]
  },
  {
   "cell_type": "code",
   "execution_count": 254,
   "metadata": {
    "id": "gCxdEurcK0QE"
   },
   "outputs": [
    {
     "name": "stdout",
     "output_type": "stream",
     "text": [
      "1\n",
      "2\n",
      "3\n"
     ]
    }
   ],
   "source": [
    "# Przeanalizujmy:\n",
    "i= 0\n",
    "while i<10:\n",
    "    i= i+1\n",
    "    if i == 4:\n",
    "        break\n",
    "    print(i)"
   ]
  },
  {
   "cell_type": "markdown",
   "metadata": {
    "id": "ZZerFR-G604U"
   },
   "source": [
    "--- \n",
    "## Moduły\n",
    "\n",
    "Wiele funkcji, których często potrzebujemy możemy znaleźć w bibliotekach dostępnych w każdym interpreterze Pythona. Pełną listę tych bibliotek znaleźć możemy w [dokumentacji](https://docs.python.org/3/library/).\n",
    "\n",
    "Najważniejsze z nich to:\n",
    "* sys\n",
    "* os\n",
    "* math\n",
    "* glob\n",
    "* time\n",
    "* argparse\n",
    "\n",
    "Obok nich istnieje też bardzo wiele modułów (zwanych też bibliotekami) nie należących do biblioteki standardowej, które trzeba zwykle zainstalować samodzielnie (dwa najważniejsze narzędzia do instalacji modułów to: `pip` i `conda`. Powiemy o nich więcej na spotkaniu dotyczącym bibliotek). Najważniejsze z nich to:\n",
    "* matplotlib - tworzenie wykresów\n",
    "* scipy - scientific Python,\n",
    "* numpy - numerical Python,\n",
    "* pandas - DataFrames, praca z danymi,\n",
    "* scikit-learn - uczenie maszynowe,\n",
    "* tensorflow i keras - uczenie maszynowe (sieci neuronowe),\n",
    "* astropy - zbiór narzędzi dla astronomów."
   ]
  },
  {
   "cell_type": "code",
   "execution_count": 255,
   "metadata": {
    "id": "nSHh8SFuMgTc"
   },
   "outputs": [
    {
     "name": "stdout",
     "output_type": "stream",
     "text": [
      "3.141592653589793\n"
     ]
    }
   ],
   "source": [
    "import math # Tak importujemy bibliotekę\n",
    "\n",
    "print(math.pi)"
   ]
  },
  {
   "cell_type": "code",
   "execution_count": 256,
   "metadata": {
    "id": "UVnjxvpV0u9C"
   },
   "outputs": [
    {
     "data": {
      "text/plain": [
       "array([10, 10])"
      ]
     },
     "execution_count": 256,
     "metadata": {},
     "output_type": "execute_result"
    }
   ],
   "source": [
    "import numpy as np\n",
    "np.abs([-10,10])"
   ]
  },
  {
   "cell_type": "code",
   "execution_count": 257,
   "metadata": {
    "id": "dcai2QeC1cPY"
   },
   "outputs": [
    {
     "ename": "ModuleNotFoundError",
     "evalue": "No module named 'biblioteka_ktorej_nie_ma'",
     "output_type": "error",
     "traceback": [
      "\u001b[0;31m---------------------------------------------------------------------------\u001b[0m",
      "\u001b[0;31mModuleNotFoundError\u001b[0m                       Traceback (most recent call last)",
      "\u001b[0;32m<ipython-input-257-3bbd93e64fed>\u001b[0m in \u001b[0;36m<module>\u001b[0;34m\u001b[0m\n\u001b[0;32m----> 1\u001b[0;31m \u001b[0;32mimport\u001b[0m \u001b[0mbiblioteka_ktorej_nie_ma\u001b[0m\u001b[0;34m\u001b[0m\u001b[0;34m\u001b[0m\u001b[0m\n\u001b[0m",
      "\u001b[0;31mModuleNotFoundError\u001b[0m: No module named 'biblioteka_ktorej_nie_ma'"
     ]
    }
   ],
   "source": [
    "import biblioteka_ktorej_nie_ma"
   ]
  },
  {
   "cell_type": "code",
   "execution_count": 258,
   "metadata": {
    "id": "H3E_PeGg8ji4",
    "scrolled": true
   },
   "outputs": [
    {
     "data": {
      "text/plain": [
       "['__doc__',\n",
       " '__file__',\n",
       " '__loader__',\n",
       " '__name__',\n",
       " '__package__',\n",
       " '__spec__',\n",
       " 'acos',\n",
       " 'acosh',\n",
       " 'asin',\n",
       " 'asinh',\n",
       " 'atan',\n",
       " 'atan2',\n",
       " 'atanh',\n",
       " 'ceil',\n",
       " 'comb',\n",
       " 'copysign',\n",
       " 'cos',\n",
       " 'cosh',\n",
       " 'degrees',\n",
       " 'dist',\n",
       " 'e',\n",
       " 'erf',\n",
       " 'erfc',\n",
       " 'exp',\n",
       " 'expm1',\n",
       " 'fabs',\n",
       " 'factorial',\n",
       " 'floor',\n",
       " 'fmod',\n",
       " 'frexp',\n",
       " 'fsum',\n",
       " 'gamma',\n",
       " 'gcd',\n",
       " 'hypot',\n",
       " 'inf',\n",
       " 'isclose',\n",
       " 'isfinite',\n",
       " 'isinf',\n",
       " 'isnan',\n",
       " 'isqrt',\n",
       " 'ldexp',\n",
       " 'lgamma',\n",
       " 'log',\n",
       " 'log10',\n",
       " 'log1p',\n",
       " 'log2',\n",
       " 'modf',\n",
       " 'nan',\n",
       " 'perm',\n",
       " 'pi',\n",
       " 'pow',\n",
       " 'prod',\n",
       " 'radians',\n",
       " 'remainder',\n",
       " 'sin',\n",
       " 'sinh',\n",
       " 'sqrt',\n",
       " 'tan',\n",
       " 'tanh',\n",
       " 'tau',\n",
       " 'trunc']"
      ]
     },
     "execution_count": 258,
     "metadata": {},
     "output_type": "execute_result"
    }
   ],
   "source": [
    "dir(math) # zwraca listę zawierającą funkcje dostępne w module math"
   ]
  },
  {
   "cell_type": "code",
   "execution_count": 259,
   "metadata": {
    "id": "Y_7a9vBb8mu2"
   },
   "outputs": [
    {
     "name": "stdout",
     "output_type": "stream",
     "text": [
      "Help on built-in function isclose in module math:\n",
      "\n",
      "isclose(a, b, *, rel_tol=1e-09, abs_tol=0.0)\n",
      "    Determine whether two floating point numbers are close in value.\n",
      "    \n",
      "      rel_tol\n",
      "        maximum difference for being considered \"close\", relative to the\n",
      "        magnitude of the input values\n",
      "      abs_tol\n",
      "        maximum difference for being considered \"close\", regardless of the\n",
      "        magnitude of the input values\n",
      "    \n",
      "    Return True if a is close in value to b, and False otherwise.\n",
      "    \n",
      "    For the values to be considered close, the difference between them\n",
      "    must be smaller than at least one of the tolerances.\n",
      "    \n",
      "    -inf, inf and NaN behave similarly to the IEEE 754 Standard.  That\n",
      "    is, NaN is not close to anything, even itself.  inf and -inf are\n",
      "    only close to themselves.\n",
      "\n"
     ]
    }
   ],
   "source": [
    "help(math.isclose)"
   ]
  },
  {
   "cell_type": "code",
   "execution_count": 274,
   "metadata": {
    "id": "0nPHvIGX8xvu"
   },
   "outputs": [
    {
     "name": "stdout",
     "output_type": "stream",
     "text": [
      "False\n",
      "False\n"
     ]
    }
   ],
   "source": [
    "print(0.1+0.1+0.1 == 0.3)\n",
    "print(math.isclose(0.1+0.1+0.1,0.3,rel_tol=1e-17, abs_tol=1.0e-17))"
   ]
  },
  {
   "cell_type": "markdown",
   "metadata": {
    "id": "JqdX9jn5MjVM"
   },
   "source": [
    "## Funkcje\n",
    "\n",
    "Bardzo często wykorzystwane fragmenty kodu, dobrze jest wydzielić w postacji funkcji. Dzięki funkcjom kod zyskuje na czytelności i jest łatwiejszy do rozwijania.\n",
    "\n",
    "Dodatkowo nie musimy wiedzieć jak funkcja rozwiązuje pewniem problem - wystarczy, że rozumiemy jakie przyjmuje argumenty i jaki zwraca wynik."
   ]
  },
  {
   "cell_type": "code",
   "execution_count": 275,
   "metadata": {
    "id": "bDb78ab784A2"
   },
   "outputs": [],
   "source": [
    "def function(arg1, arg2, arg3):\n",
    "    \"\"\"\n",
    "    Compute average of three numbers\n",
    "    Other comments\n",
    "    \"\"\"\n",
    "    return (arg1+arg2+arg3)/3"
   ]
  },
  {
   "cell_type": "code",
   "execution_count": 276,
   "metadata": {
    "id": "PK1xbXaeOvx_"
   },
   "outputs": [
    {
     "name": "stdout",
     "output_type": "stream",
     "text": [
      "Help on function function in module __main__:\n",
      "\n",
      "function(arg1, arg2, arg3)\n",
      "    Compute average of three numbers\n",
      "    Other comments\n",
      "\n"
     ]
    }
   ],
   "source": [
    "help(function)"
   ]
  },
  {
   "cell_type": "code",
   "execution_count": 277,
   "metadata": {
    "id": "Bg7qyDFmOxAP"
   },
   "outputs": [
    {
     "name": "stdout",
     "output_type": "stream",
     "text": [
      "2.0\n"
     ]
    }
   ],
   "source": [
    "result= function(1,2,3)\n",
    "print(result)"
   ]
  },
  {
   "cell_type": "code",
   "execution_count": 287,
   "metadata": {
    "id": "QhrfjwAe23hc"
   },
   "outputs": [
    {
     "name": "stdout",
     "output_type": "stream",
     "text": [
      "5\n",
      "2.0\n",
      "10\n"
     ]
    }
   ],
   "source": [
    "x = 10\n",
    "def function(arg1, arg2, arg3):\n",
    "    \"\"\"\n",
    "    Compute average of three numbers\n",
    "    Other comments\n",
    "    \"\"\"\n",
    "    x = 5\n",
    "    print(x) # Rozwiewa wątpliwości dotyczące zakresów istnienia zmiennych\n",
    "    return (arg1+arg2+arg3)/3\n",
    "\n",
    "avr= function(1,2,3)\n",
    "print(avr)\n",
    "print(x)"
   ]
  },
  {
   "cell_type": "markdown",
   "metadata": {
    "id": "MySoz7kSPqn7"
   },
   "source": [
    "#### Jak napisać dobrą funkcję?\n"
   ]
  },
  {
   "cell_type": "code",
   "execution_count": 301,
   "metadata": {
    "id": "kEmvVaiEO9qH",
    "scrolled": true
   },
   "outputs": [
    {
     "name": "stdout",
     "output_type": "stream",
     "text": [
      "[3, 6, 5, 10, 3, 0, 9, 9, 8, 4, 3, 4, 3, 3, 5, 6, 2, 10, 4, 5, 8, 5, 4, 1, 8, 4, 5, 5, 2, 0, 3, 0, 5, 2, 8, 0, 3, 1, 6, 3, 0, 9, 8, 10, 3, 10, 5, 6, 7, 9, 9, 10, 6, 4, 4, 5, 10, 1, 8, 0, 6, 8, 9, 4, 10, 0, 4, 9, 8, 10, 0, 9, 0, 1, 7, 5, 10, 1, 10, 9, 3, 5, 2, 6, 1, 9, 0, 4, 9, 9, 6, 0, 2, 7, 4, 3, 10, 7, 5, 2]\n"
     ]
    }
   ],
   "source": [
    "# Chcę poznać wartość średniej ze 100 pomiarów\n",
    "import random\n",
    "\n",
    "no_measurements= 100\n",
    "measurements= []\n",
    "for _ in range(no_measurements):\n",
    "    single_measurement= random.randint(0,10)\n",
    "    measurements.append(single_measurement)\n",
    "print(measurements)"
   ]
  },
  {
   "cell_type": "code",
   "execution_count": 298,
   "metadata": {
    "id": "DzZe0FELQPHP"
   },
   "outputs": [
    {
     "name": "stdout",
     "output_type": "stream",
     "text": [
      "4.9\n"
     ]
    }
   ],
   "source": [
    "cumulative= 0\n",
    "for single_measurement in measurements:\n",
    "    cumulative = cumulative + single_measurement\n",
    "    # cumulative += single_measurement\n",
    "average_of_measurements= cumulative/no_measurements\n",
    "print(average_of_measurements)"
   ]
  },
  {
   "cell_type": "code",
   "execution_count": 308,
   "metadata": {
    "id": "WkeCzhMcQrRu"
   },
   "outputs": [],
   "source": [
    "def average(measurements):\n",
    "    cumulative= 0\n",
    "    for single_measurement in measurements:\n",
    "        cumulative += single_measurement\n",
    "    return cumulative/len(measurements)"
   ]
  },
  {
   "cell_type": "code",
   "execution_count": 310,
   "metadata": {
    "id": "jE5pZ8KpRg2O"
   },
   "outputs": [
    {
     "name": "stdout",
     "output_type": "stream",
     "text": [
      "5.13\n",
      "5.13\n"
     ]
    }
   ],
   "source": [
    "x = average(measurements)\n",
    "print(x)\n",
    "# ---\n",
    "print(average(measurements))"
   ]
  },
  {
   "cell_type": "code",
   "execution_count": 311,
   "metadata": {},
   "outputs": [
    {
     "data": {
      "text/plain": [
       "NoneType"
      ]
     },
     "execution_count": 311,
     "metadata": {},
     "output_type": "execute_result"
    }
   ],
   "source": [
    "type(None)"
   ]
  },
  {
   "cell_type": "code",
   "execution_count": 312,
   "metadata": {
    "id": "Tc9gKhdGRlQG"
   },
   "outputs": [],
   "source": [
    "# Chcę policzyć silnię z N"
   ]
  },
  {
   "cell_type": "code",
   "execution_count": 313,
   "metadata": {
    "id": "Sn4P8knfRwDu"
   },
   "outputs": [
    {
     "name": "stdout",
     "output_type": "stream",
     "text": [
      "120.0\n"
     ]
    }
   ],
   "source": [
    "N= 5\n",
    "N_factorial = 1.\n",
    "for i in range(1,N+1):\n",
    "    N_factorial= N_factorial*i\n",
    "print(N_factorial)"
   ]
  },
  {
   "cell_type": "code",
   "execution_count": 330,
   "metadata": {
    "id": "WJmD6uYmR4PW"
   },
   "outputs": [
    {
     "name": "stdout",
     "output_type": "stream",
     "text": [
      "3628800\n"
     ]
    }
   ],
   "source": [
    "def factorial(N):\n",
    "    N_factorial = 1\n",
    "    for i in range(1,N+1):\n",
    "        N_factorial*=i\n",
    "    return N_factorial\n",
    "\n",
    "print(factorial(10))"
   ]
  },
  {
   "cell_type": "code",
   "execution_count": null,
   "metadata": {
    "id": "jEttM9hnSJS3"
   },
   "outputs": [],
   "source": [
    "# Chcę żeby w zmiennej a była zawsze większa liczba, w zmiennej b mniejsza"
   ]
  },
  {
   "cell_type": "code",
   "execution_count": 331,
   "metadata": {
    "id": "AyopyRB6SWpV"
   },
   "outputs": [
    {
     "name": "stdout",
     "output_type": "stream",
     "text": [
      "a =  15 ; b =  10\n"
     ]
    }
   ],
   "source": [
    "a= 10\n",
    "b= 15\n",
    "if a<b:\n",
    "    temp=a\n",
    "    a=b\n",
    "    b=temp\n",
    "print(\"a = \", a,\"; b = \",b)"
   ]
  },
  {
   "cell_type": "code",
   "execution_count": 336,
   "metadata": {
    "id": "KQCVA7rcSzEt"
   },
   "outputs": [],
   "source": [
    "def swap_first_bigger(a,b):\n",
    "    if a<b: \n",
    "        a,b=b,a\n",
    "    return a,b"
   ]
  },
  {
   "cell_type": "code",
   "execution_count": 337,
   "metadata": {
    "id": "QT__TnHQTF-3"
   },
   "outputs": [
    {
     "name": "stdout",
     "output_type": "stream",
     "text": [
      "a =  15 ; b =  10\n"
     ]
    }
   ],
   "source": [
    "a= 10\n",
    "b= 15\n",
    "a,b= swap_first_bigger(a,b)\n",
    "print(\"a = \", a,\"; b = \",b)"
   ]
  },
  {
   "cell_type": "code",
   "execution_count": null,
   "metadata": {
    "id": "K3M6fY_pTGad"
   },
   "outputs": [],
   "source": [
    "# Sortowanie listy liczb"
   ]
  },
  {
   "cell_type": "markdown",
   "metadata": {
    "id": "ZMhcQ_JOjiNY"
   },
   "source": [
    "Example:\n",
    "First Pass:\n",
    "1. ( 5 1 4 2 8 ) –> ( 1 5 4 2 8 ), Here, algorithm compares the first two elements, and swaps since 5 > 1.\n",
    "2. ( 1 5 4 2 8 ) –>  ( 1 4 5 2 8 ), Swap since 5 > 4\n",
    "3. ( 1 4 5 2 8 ) –>  ( 1 4 2 5 8 ), Swap since 5 > 2\n",
    "4. ( 1 4 2 5 8 ) –> ( 1 4 2 5 8 ), Now, since these elements are already in order (8 > 5), algorithm does not swap them.\n",
    "\n",
    "Second Pass:\n",
    "1. ( 1 4 2 5 8 ) –> ( 1 4 2 5 8 )\n",
    "2. ( 1 4 2 5 8 ) –> ( 1 2 4 5 8 ), Swap since 4 > 2\n",
    "3. ( 1 2 4 5 8 ) –> ( 1 2 4 5 8 )\n",
    "4. ( 1 2 4 5 8 ) –>  ( 1 2 4 5 8 )\n",
    "\n",
    "Now, the array is already sorted, but our algorithm does not know if it is completed. The algorithm needs one whole pass without any swap to know it is sorted.\n",
    "\n",
    "Third Pass:\n",
    "1. ( 1 2 4 5 8 ) –> ( 1 2 4 5 8 )\n",
    "2. ( 1 2 4 5 8 ) –> ( 1 2 4 5 8 )\n",
    "3. ( 1 2 4 5 8 ) –> ( 1 2 4 5 8 )\n",
    "4. ( 1 2 4 5 8 ) –> ( 1 2 4 5 8 )"
   ]
  },
  {
   "cell_type": "code",
   "execution_count": 338,
   "metadata": {
    "id": "-RY4ifQwjA0A"
   },
   "outputs": [
    {
     "name": "stdout",
     "output_type": "stream",
     "text": [
      "Last  0 already sorted!\n",
      "0 1  swapped:\n",
      "[1, 5, 4, 2, 3]\n",
      "1 2  swapped:\n",
      "[1, 4, 5, 2, 3]\n",
      "2 3  swapped:\n",
      "[1, 4, 2, 5, 3]\n",
      "3 4  swapped:\n",
      "[1, 4, 2, 3, 5]\n",
      "Last  1 already sorted!\n",
      "[1, 4, 2, 3, 5]\n",
      "1 2  swapped:\n",
      "[1, 2, 4, 3, 5]\n",
      "2 3  swapped:\n",
      "[1, 2, 3, 4, 5]\n",
      "Last  2 already sorted!\n",
      "[1, 2, 3, 4, 5]\n",
      "[1, 2, 3, 4, 5]\n",
      "Last  3 already sorted!\n",
      "[1, 2, 3, 4, 5]\n",
      "Last  4 already sorted!\n",
      "[1, 2, 3, 4, 5]\n"
     ]
    }
   ],
   "source": [
    "import numpy as np\n",
    "x= [5, 1, 4, 2, 3]\n",
    "\n",
    "n= len(x)\n",
    "for i in range(n):\n",
    "    print(\"Last \",i, \"already sorted!\")\n",
    "    for j in range(0, n-i-1): \n",
    "        if x[j] > x[j+1]: \n",
    "            x[j], x[j+1] = x[j+1], x[j]\n",
    "            print(j,j+1, \" swapped:\")\n",
    "        print(x)\n",
    "print(x)"
   ]
  },
  {
   "cell_type": "code",
   "execution_count": null,
   "metadata": {
    "id": "t3Min-v9mUUM"
   },
   "outputs": [],
   "source": [
    "def bubble_sort(x):\n",
    "    # https://youtu.be/lyZQPjUT5B4\n",
    "    n= len(x)\n",
    "    for i in range(n):\n",
    "        for j in range(0, n-i-1): \n",
    "            if x[j] > x[j+1]: \n",
    "                x[j], x[j+1] = x[j+1], x[j]\n",
    "\n",
    "x= [5, 1, 4, 2, 3]\n",
    "bubble_sort(x)\n",
    "print(x)"
   ]
  },
  {
   "cell_type": "code",
   "execution_count": null,
   "metadata": {
    "id": "Js7I4xg4nyFQ"
   },
   "outputs": [],
   "source": []
  }
 ],
 "metadata": {
  "colab": {
   "authorship_tag": "ABX9TyMVkU5MgJBzcBJldIPDDjuN",
   "collapsed_sections": [],
   "name": "03_postawy.ipynb",
   "provenance": []
  },
  "kernelspec": {
   "display_name": "Python 3",
   "language": "python",
   "name": "python3"
  },
  "language_info": {
   "codemirror_mode": {
    "name": "ipython",
    "version": 3
   },
   "file_extension": ".py",
   "mimetype": "text/x-python",
   "name": "python",
   "nbconvert_exporter": "python",
   "pygments_lexer": "ipython3",
   "version": "3.8.3"
  }
 },
 "nbformat": 4,
 "nbformat_minor": 1
}
