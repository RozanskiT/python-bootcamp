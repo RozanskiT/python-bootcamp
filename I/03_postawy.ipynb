{
 "cells": [
  {
   "cell_type": "markdown",
   "metadata": {
    "id": "O5DrLoQsrc2O"
   },
   "source": [
    "# Postawy języka Python\n",
    "\n",
    "W tym zeszycie przyjrzymy się składnii języka i fragmentom z jakich zbudowany jest każdy kod w języku Python. Przegląd ten jest daleki od kompletności, ale ma dać pojęcie o tym co możemy spotkać w kodzie, z którym pracujemy."
   ]
  },
  {
   "cell_type": "markdown",
   "metadata": {
    "id": "izmgKHJkr5GJ"
   },
   "source": [
    "---\n",
    "## Bloki\n",
    "Spróbujmy przeczytać poniższy kod jakby to był język angielski."
   ]
  },
  {
   "cell_type": "code",
   "execution_count": null,
   "metadata": {
    "id": "tenRPZPksczj"
   },
   "outputs": [],
   "source": [
    "a= 10\n",
    "b= 15\n",
    "print(a+b)"
   ]
  },
  {
   "cell_type": "code",
   "execution_count": null,
   "metadata": {
    "id": "8WLwc8WssLM3"
   },
   "outputs": [],
   "source": [
    "if 5>2:\n",
    "    print(\"To prawda, że 5>2.\")\n",
    "else:\n",
    "    print(\"To fałsz, że 5>2.\")"
   ]
  },
  {
   "cell_type": "code",
   "execution_count": null,
   "metadata": {
    "id": "ebo2ceLnsb9T"
   },
   "outputs": [],
   "source": [
    "i= 0\n",
    "sum= 0.\n",
    "while i<10:\n",
    "    print(\"Teraz i = \",i)\n",
    "    sum= sum + i\n",
    "    i = i+1 \n",
    "print(sum)"
   ]
  },
  {
   "cell_type": "code",
   "execution_count": null,
   "metadata": {
    "id": "v3yRO2Lfs9Y-"
   },
   "outputs": [],
   "source": [
    "N= 10\n",
    "M= 10\n",
    "i,j= 1,1\n",
    "multiplication_table= []\n",
    "while i <= N:\n",
    "    next_row_of_multiplicable_table= []\n",
    "    while j <= M:\n",
    "        next_row_of_multiplicable_table.append(i*j)\n",
    "        j= j+1\n",
    "    i= i+1\n",
    "    j= 1\n",
    "    print(next_row_of_multiplicable_table)\n",
    "    multiplication_table.append(next_row_of_multiplicable_table)"
   ]
  },
  {
   "cell_type": "code",
   "execution_count": null,
   "metadata": {
    "id": "Vwi1iyck9qVf"
   },
   "outputs": [],
   "source": [
    "print(multiplication_table)"
   ]
  },
  {
   "cell_type": "markdown",
   "metadata": {
    "id": "Qrw_UFxbG6-T"
   },
   "source": [
    "* **Ważne są wcięcia: 1, 2, 3 spacje - wszystko jedno, tylko że wszędzie tyle samo!!!**\n",
    "* Nie **Tab** - na szczęście w praktyce większość edytorów zastępuje Tab spacjami.\n"
   ]
  },
  {
   "cell_type": "markdown",
   "metadata": {
    "id": "YED5BnRtrp51"
   },
   "source": [
    "---\n",
    "## Zmienne\n",
    "\n",
    "* Zmienne mają przpisaną wartość.\n",
    "* Wartości mają typ.\n",
    "* Zmienne \"żyją\" w całym zeszycie programu jupyter, jeżeli już zostały utworzone. Chyba, że posidają zakres ograniczony do pewnego bloku kodu np. funkcji.\n",
    "* Zmienne przechowują w kodzie wszystkie informacje potrzebne do prowadzenia obliczeń."
   ]
  },
  {
   "cell_type": "code",
   "execution_count": null,
   "metadata": {
    "id": "1w8sFis7rVnW"
   },
   "outputs": [],
   "source": [
    "a= 10\n",
    "print(a)"
   ]
  },
  {
   "cell_type": "code",
   "execution_count": null,
   "metadata": {
    "id": "25E8YuiQrk1q"
   },
   "outputs": [],
   "source": [
    "type(a)"
   ]
  },
  {
   "cell_type": "code",
   "execution_count": null,
   "metadata": {
    "id": "U-BOOTWZreiS"
   },
   "outputs": [],
   "source": [
    "print(a)"
   ]
  },
  {
   "cell_type": "markdown",
   "metadata": {
    "id": "EYVaS-Uwumrs"
   },
   "source": [
    "Wartości i typy(!) zmiennych można zmieniać."
   ]
  },
  {
   "cell_type": "code",
   "execution_count": null,
   "metadata": {
    "id": "-k8dSlloulP6"
   },
   "outputs": [],
   "source": [
    "a = 15.0996"
   ]
  },
  {
   "cell_type": "code",
   "execution_count": null,
   "metadata": {
    "id": "563t8TQ_uzkD"
   },
   "outputs": [],
   "source": [
    "type(a)"
   ]
  },
  {
   "cell_type": "code",
   "execution_count": null,
   "metadata": {
    "id": "BSjWwmXOu25r"
   },
   "outputs": [],
   "source": [
    "print(a)"
   ]
  },
  {
   "cell_type": "markdown",
   "metadata": {
    "id": "cF8maUM_wlJu"
   },
   "source": [
    "Zmienne typu `string`, napisy:"
   ]
  },
  {
   "cell_type": "code",
   "execution_count": null,
   "metadata": {
    "id": "zFCqVYVEu3e7"
   },
   "outputs": [],
   "source": [
    "a= \"Ala ma kota\"\n",
    "print(a)"
   ]
  },
  {
   "cell_type": "code",
   "execution_count": null,
   "metadata": {
    "id": "DELta72IwkjK"
   },
   "outputs": [],
   "source": [
    "print(a[0])"
   ]
  },
  {
   "cell_type": "code",
   "execution_count": null,
   "metadata": {
    "id": "KQzCmrzCwvTo"
   },
   "outputs": [],
   "source": [
    "print(a[0:5])"
   ]
  },
  {
   "cell_type": "code",
   "execution_count": null,
   "metadata": {
    "id": "ecwTdrNzzelx"
   },
   "outputs": [],
   "source": [
    "print(a.replace(\"Ala\",'Krzyś'))"
   ]
  },
  {
   "cell_type": "code",
   "execution_count": null,
   "metadata": {
    "id": "j2T67iB92N4p"
   },
   "outputs": [],
   "source": [
    "print(\"Pierwszy wiersz,\\n Drugi wiersz\\nTrzeci\")"
   ]
  },
  {
   "cell_type": "code",
   "execution_count": null,
   "metadata": {
    "id": "kT9PgZDP15Qn"
   },
   "outputs": [],
   "source": [
    "x= float(\"3.32\")\n",
    "print(x, type(x))"
   ]
  },
  {
   "cell_type": "code",
   "execution_count": null,
   "metadata": {
    "id": "s1oxcuDi2XdU"
   },
   "outputs": [],
   "source": [
    "name= \"Ala\"\n",
    "x= name+\" ma kota\"\n",
    "print(x)"
   ]
  },
  {
   "cell_type": "markdown",
   "metadata": {
    "id": "k3CjMhCeyZmj"
   },
   "source": [
    "Zmienne typu logicznego (boolean, bool)"
   ]
  },
  {
   "cell_type": "code",
   "execution_count": null,
   "metadata": {
    "id": "6hOqF-4jyZ1C"
   },
   "outputs": [],
   "source": [
    "a= True # False\n",
    "print(a)"
   ]
  },
  {
   "cell_type": "code",
   "execution_count": null,
   "metadata": {
    "id": "II9MRvHwio2U"
   },
   "outputs": [],
   "source": [
    "5 == 5"
   ]
  },
  {
   "cell_type": "code",
   "execution_count": null,
   "metadata": {
    "id": "HGCSahGKzJ5s"
   },
   "outputs": [],
   "source": [
    "a =  (5 == 5)\n",
    "print(a)"
   ]
  },
  {
   "cell_type": "code",
   "execution_count": null,
   "metadata": {
    "id": "tVSI7nW_iywk"
   },
   "outputs": [],
   "source": [
    "x = 5\n",
    "if x = 5: # Powinno być ==\n",
    "    print(x)"
   ]
  },
  {
   "cell_type": "markdown",
   "metadata": {
    "id": "jdB4Po9gzsSp"
   },
   "source": [
    "Complex"
   ]
  },
  {
   "cell_type": "code",
   "execution_count": null,
   "metadata": {
    "id": "Bq8lcYS8zsaB"
   },
   "outputs": [],
   "source": [
    "a= 1j + 8"
   ]
  },
  {
   "cell_type": "code",
   "execution_count": null,
   "metadata": {
    "id": "ypyhg57PzwJT"
   },
   "outputs": [],
   "source": [
    "a"
   ]
  },
  {
   "cell_type": "code",
   "execution_count": null,
   "metadata": {
    "id": "ny31HHJSzxIK"
   },
   "outputs": [],
   "source": [
    "a+a"
   ]
  },
  {
   "cell_type": "code",
   "execution_count": null,
   "metadata": {
    "id": "6HD5MiVVjRgQ"
   },
   "outputs": [],
   "source": [
    "a = 10 + j"
   ]
  },
  {
   "cell_type": "code",
   "execution_count": null,
   "metadata": {
    "id": "2aWYYIaEjWu0"
   },
   "outputs": [],
   "source": [
    "a = 10 + 1.0j"
   ]
  },
  {
   "cell_type": "markdown",
   "metadata": {
    "id": "dsPOm7hswTv3"
   },
   "source": [
    "### Pytania i odpowiedzi:"
   ]
  },
  {
   "cell_type": "code",
   "execution_count": null,
   "metadata": {
    "id": "Vtgi9XSPwW8g"
   },
   "outputs": [],
   "source": [
    "# Utworz zmienną przechowującą napis, liczbę typu float i liczbę typu integer."
   ]
  },
  {
   "cell_type": "code",
   "execution_count": null,
   "metadata": {
    "id": "2R4qLxHEw-yi"
   },
   "outputs": [],
   "source": [
    "# type(\"Ala ma kota\")"
   ]
  },
  {
   "cell_type": "code",
   "execution_count": null,
   "metadata": {
    "id": "kwV8L1SXxNYX"
   },
   "outputs": [],
   "source": [
    "# type(1.0)"
   ]
  },
  {
   "cell_type": "code",
   "execution_count": null,
   "metadata": {
    "id": "EwjWF_kVxvjm"
   },
   "outputs": [],
   "source": [
    "# a= 10\n",
    "# type(a)"
   ]
  },
  {
   "cell_type": "code",
   "execution_count": null,
   "metadata": {
    "id": "5giroh2sxzls"
   },
   "outputs": [],
   "source": [
    "# a= 10\n",
    "# b= 10.\n",
    "# type(a+b)"
   ]
  },
  {
   "cell_type": "code",
   "execution_count": null,
   "metadata": {
    "id": "hOmvevV4ynqL"
   },
   "outputs": [],
   "source": [
    "# print(bool(\"a\"))"
   ]
  },
  {
   "cell_type": "code",
   "execution_count": null,
   "metadata": {
    "id": "57r1v3Ceyuug"
   },
   "outputs": [],
   "source": [
    "# print(bool(\"\"))\n",
    "# print(bool(0))\n",
    "# print(bool(0.))\n",
    "# print(bool(None))"
   ]
  },
  {
   "cell_type": "code",
   "execution_count": null,
   "metadata": {
    "id": "7WL5hSB6HeNX"
   },
   "outputs": [],
   "source": [
    "# if True:\n",
    "# print(\"Ala ma kota\")"
   ]
  },
  {
   "cell_type": "markdown",
   "metadata": {
    "id": "pAhg6PdOxDZ2"
   },
   "source": [
    "### Działania na zmiennych - operatory: +,-,*,/,//,%,=,=="
   ]
  },
  {
   "cell_type": "code",
   "execution_count": null,
   "metadata": {
    "id": "CYfdQItxzq_I"
   },
   "outputs": [],
   "source": [
    "a= 10\n",
    "print(2*a)"
   ]
  },
  {
   "cell_type": "code",
   "execution_count": null,
   "metadata": {
    "id": "rdLSuL9Tz-Zd"
   },
   "outputs": [],
   "source": [
    "a/2"
   ]
  },
  {
   "cell_type": "code",
   "execution_count": null,
   "metadata": {
    "id": "IUZSi9WVz_wM"
   },
   "outputs": [],
   "source": [
    "a/3"
   ]
  },
  {
   "cell_type": "code",
   "execution_count": null,
   "metadata": {
    "id": "IznBXh350BG7"
   },
   "outputs": [],
   "source": [
    "a//3"
   ]
  },
  {
   "cell_type": "code",
   "execution_count": null,
   "metadata": {
    "id": "6JqE9IbI0DCC"
   },
   "outputs": [],
   "source": [
    "a%3"
   ]
  },
  {
   "cell_type": "code",
   "execution_count": null,
   "metadata": {
    "id": "VpUXFLZ10ENy"
   },
   "outputs": [],
   "source": [
    "a + a"
   ]
  },
  {
   "cell_type": "code",
   "execution_count": null,
   "metadata": {
    "id": "yLJFojNq0HZA"
   },
   "outputs": [],
   "source": [
    "a -= 5 # to jest skrót dla zapisu a = a + 5\n",
    "print(a)"
   ]
  },
  {
   "cell_type": "markdown",
   "metadata": {},
   "source": [
    "Operatory realizują różne funkcje dla zmiennych o różnych typach."
   ]
  },
  {
   "cell_type": "code",
   "execution_count": null,
   "metadata": {},
   "outputs": [],
   "source": [
    "a=\"Ala ma kota\"\n",
    "print(2*a)"
   ]
  },
  {
   "cell_type": "code",
   "execution_count": null,
   "metadata": {},
   "outputs": [],
   "source": [
    "a/2 # a//2"
   ]
  },
  {
   "cell_type": "code",
   "execution_count": null,
   "metadata": {},
   "outputs": [],
   "source": [
    "\"%.2f\" % 2"
   ]
  },
  {
   "cell_type": "code",
   "execution_count": null,
   "metadata": {},
   "outputs": [],
   "source": [
    "a+a"
   ]
  },
  {
   "cell_type": "markdown",
   "metadata": {
    "id": "RZYJSHWz0w2U"
   },
   "source": [
    "Funkcje logiczne"
   ]
  },
  {
   "cell_type": "code",
   "execution_count": null,
   "metadata": {
    "id": "F8Hy-u_20LDW"
   },
   "outputs": [],
   "source": [
    "(True and True)"
   ]
  },
  {
   "cell_type": "code",
   "execution_count": null,
   "metadata": {
    "id": "KhfO0XFL03dW"
   },
   "outputs": [],
   "source": [
    "False and True"
   ]
  },
  {
   "cell_type": "code",
   "execution_count": null,
   "metadata": {
    "id": "-ZrDW5Os04oc"
   },
   "outputs": [],
   "source": [
    "False or True"
   ]
  },
  {
   "cell_type": "code",
   "execution_count": null,
   "metadata": {
    "id": "rC4s-_lx06HL"
   },
   "outputs": [],
   "source": [
    "(False or True) and True"
   ]
  },
  {
   "cell_type": "code",
   "execution_count": null,
   "metadata": {
    "id": "QncwVcqj08qX"
   },
   "outputs": [],
   "source": [
    "(3>5) or True"
   ]
  },
  {
   "cell_type": "code",
   "execution_count": null,
   "metadata": {
    "id": "t4exJni01GtD"
   },
   "outputs": [],
   "source": [
    "not True"
   ]
  },
  {
   "cell_type": "code",
   "execution_count": null,
   "metadata": {
    "id": "qasR8-OG1IpK"
   },
   "outputs": [],
   "source": [
    "1+1+1 == 3"
   ]
  },
  {
   "cell_type": "code",
   "execution_count": null,
   "metadata": {
    "id": "AlFzeRBs1QhG"
   },
   "outputs": [],
   "source": [
    "0.1 + 0.1 + 0.1 == 0.3"
   ]
  },
  {
   "cell_type": "markdown",
   "metadata": {},
   "source": [
    "### Operator `in`"
   ]
  },
  {
   "cell_type": "code",
   "execution_count": null,
   "metadata": {},
   "outputs": [],
   "source": [
    "'a' in \"Ala ma kota\""
   ]
  },
  {
   "cell_type": "code",
   "execution_count": null,
   "metadata": {},
   "outputs": [],
   "source": [
    "'K' in \"Ala ma kota\""
   ]
  },
  {
   "cell_type": "markdown",
   "metadata": {
    "id": "XHBvxz7m3HnR"
   },
   "source": [
    "### Pytania i odpowiedzi\n",
    "\n",
    "zastąp `?`"
   ]
  },
  {
   "cell_type": "code",
   "execution_count": null,
   "metadata": {
    "id": "Hv0wp5QL1SmW"
   },
   "outputs": [],
   "source": [
    "# if 3 == 7 ? 0 == 0:\n",
    "  # print(\"At least one of the statements is true\")"
   ]
  },
  {
   "cell_type": "code",
   "execution_count": null,
   "metadata": {
    "id": "hfOWnmzL3VbK"
   },
   "outputs": [],
   "source": [
    "# if 3 ? 5:\n",
    "#   print(\"If 3 not equal 5\")"
   ]
  },
  {
   "cell_type": "markdown",
   "metadata": {
    "id": "PbugomNU3zVq"
   },
   "source": [
    "### Grupy zmiennych / kontenery\n",
    "\n",
    "#### Listy:\n",
    "* Jaka jest idea?"
   ]
  },
  {
   "cell_type": "code",
   "execution_count": null,
   "metadata": {
    "id": "ybwYx8Ei3sr_"
   },
   "outputs": [],
   "source": [
    "a= [1,2,3,4]\n",
    "print(type(a))"
   ]
  },
  {
   "cell_type": "code",
   "execution_count": null,
   "metadata": {
    "id": "5xuB8l193_Rj"
   },
   "outputs": [],
   "source": [
    "a[0] = 10\n",
    "print(a)"
   ]
  },
  {
   "cell_type": "code",
   "execution_count": null,
   "metadata": {
    "id": "-83zVWUoDGgB"
   },
   "outputs": [],
   "source": [
    "len(a)"
   ]
  },
  {
   "cell_type": "code",
   "execution_count": null,
   "metadata": {
    "id": "q7B_eyD94DGl"
   },
   "outputs": [],
   "source": [
    "del a[1]\n",
    "print(a)"
   ]
  },
  {
   "cell_type": "code",
   "execution_count": null,
   "metadata": {
    "id": "N0z2dUgH4Fsd"
   },
   "outputs": [],
   "source": [
    "a.append(8)\n",
    "print(a)"
   ]
  },
  {
   "cell_type": "code",
   "execution_count": null,
   "metadata": {
    "id": "YJHf9A1JEz-v"
   },
   "outputs": [],
   "source": [
    "a.insert(0,-12)\n",
    "print(a)"
   ]
  },
  {
   "cell_type": "code",
   "execution_count": null,
   "metadata": {
    "id": "E8F9TEkT4ek5"
   },
   "outputs": [],
   "source": [
    "a = a + [1,2,3,4]\n",
    "print(a)"
   ]
  },
  {
   "cell_type": "code",
   "execution_count": null,
   "metadata": {
    "id": "K5pOId-wCE90"
   },
   "outputs": [],
   "source": [
    "x= [\"Ala\", [1,2,3], 6.9, {1,2,3},(1,2)]\n",
    "print(x)\n",
    "# print(x[1])"
   ]
  },
  {
   "cell_type": "code",
   "execution_count": null,
   "metadata": {
    "id": "0_lo_sFMAbKb"
   },
   "outputs": [],
   "source": [
    "11 in a"
   ]
  },
  {
   "cell_type": "markdown",
   "metadata": {
    "id": "UekAoWLV4Vg9"
   },
   "source": [
    "#### Krotki (ang. tuple):"
   ]
  },
  {
   "cell_type": "code",
   "execution_count": null,
   "metadata": {
    "id": "VPeCCFvW4KWe"
   },
   "outputs": [],
   "source": [
    "a = (1,2,3,4)\n",
    "print(a)"
   ]
  },
  {
   "cell_type": "code",
   "execution_count": null,
   "metadata": {
    "id": "QyCiSMTJ4kyt"
   },
   "outputs": [],
   "source": [
    "a[0]=5"
   ]
  },
  {
   "cell_type": "code",
   "execution_count": null,
   "metadata": {
    "id": "CLqU2blY4l3E"
   },
   "outputs": [],
   "source": [
    "print(a[0])"
   ]
  },
  {
   "cell_type": "code",
   "execution_count": null,
   "metadata": {
    "id": "dleAUQHc_ZyL"
   },
   "outputs": [],
   "source": [
    "x,y,z,w = a\n",
    "print(w)"
   ]
  },
  {
   "cell_type": "code",
   "execution_count": null,
   "metadata": {
    "id": "eC7l0fS4_jO2"
   },
   "outputs": [],
   "source": [
    "a,b,c= 1,10.,\"X\""
   ]
  },
  {
   "cell_type": "code",
   "execution_count": null,
   "metadata": {
    "id": "Il-qcxInCl-o"
   },
   "outputs": [],
   "source": [
    "a= 10\n",
    "b= 15\n",
    "a,b= b,a\n",
    "print(a)"
   ]
  },
  {
   "cell_type": "markdown",
   "metadata": {
    "id": "MAciDF9hAL7S"
   },
   "source": [
    "### Zbiory"
   ]
  },
  {
   "cell_type": "code",
   "execution_count": null,
   "metadata": {
    "id": "nOvHLMBR5nM7"
   },
   "outputs": [],
   "source": [
    "a= {1,1,3,4,5}\n",
    "print(a)"
   ]
  },
  {
   "cell_type": "code",
   "execution_count": null,
   "metadata": {
    "id": "QAJsDdv2ASvj"
   },
   "outputs": [],
   "source": [
    "1 in a"
   ]
  },
  {
   "cell_type": "code",
   "execution_count": null,
   "metadata": {
    "id": "VzLvBEGJAetK"
   },
   "outputs": [],
   "source": [
    "a.add('a')\n",
    "a.add('a')\n",
    "print(a)"
   ]
  },
  {
   "cell_type": "code",
   "execution_count": null,
   "metadata": {},
   "outputs": [],
   "source": [
    "b = {1,4,7,8}"
   ]
  },
  {
   "cell_type": "code",
   "execution_count": null,
   "metadata": {},
   "outputs": [],
   "source": [
    "a | b # or"
   ]
  },
  {
   "cell_type": "code",
   "execution_count": null,
   "metadata": {},
   "outputs": [],
   "source": [
    "a & b # and"
   ]
  },
  {
   "cell_type": "code",
   "execution_count": null,
   "metadata": {},
   "outputs": [],
   "source": [
    "a ^ b # xor"
   ]
  },
  {
   "cell_type": "code",
   "execution_count": null,
   "metadata": {},
   "outputs": [],
   "source": [
    "a - b"
   ]
  },
  {
   "cell_type": "markdown",
   "metadata": {
    "id": "O1yPz_ZUAv-A"
   },
   "source": [
    "### Słowniki"
   ]
  },
  {
   "cell_type": "code",
   "execution_count": null,
   "metadata": {
    "id": "MgYJYLYVAmkU"
   },
   "outputs": [],
   "source": [
    "a= {\"age\": 20, \"name\":\"Bob\",\"phone\":\"+11 111 222 333\"}\n",
    "print(a)"
   ]
  },
  {
   "cell_type": "code",
   "execution_count": null,
   "metadata": {
    "id": "bIl1boBSBCFg"
   },
   "outputs": [],
   "source": [
    "print(a[\"age\"])"
   ]
  },
  {
   "cell_type": "code",
   "execution_count": null,
   "metadata": {
    "id": "MEkzUZY5BHlQ"
   },
   "outputs": [],
   "source": [
    "a[\"second_name\"] =\"John\"\n",
    "print(a)"
   ]
  },
  {
   "cell_type": "code",
   "execution_count": null,
   "metadata": {
    "id": "XD_MfWxGB4F-"
   },
   "outputs": [],
   "source": [
    "a.values()"
   ]
  },
  {
   "cell_type": "code",
   "execution_count": null,
   "metadata": {
    "id": "G84t5YuiCvYU"
   },
   "outputs": [],
   "source": [
    "for key in a:\n",
    "    print(key)"
   ]
  },
  {
   "cell_type": "code",
   "execution_count": null,
   "metadata": {
    "id": "F-G950q7B8mG"
   },
   "outputs": [],
   "source": [
    "for key, value in a.items():\n",
    "    print(key, \" \", value)"
   ]
  },
  {
   "cell_type": "markdown",
   "metadata": {
    "id": "CFP9ehlYDDsh"
   },
   "source": [
    "### Pytania i odpowiedzi"
   ]
  },
  {
   "cell_type": "code",
   "execution_count": null,
   "metadata": {
    "id": "th4WhicwCI75"
   },
   "outputs": [],
   "source": [
    "# Wyświetl ostatni element z listy\n",
    "# fruits = [\"apple\", \"banana\", \"cherry\"]\n",
    "# print(?)"
   ]
  },
  {
   "cell_type": "code",
   "execution_count": null,
   "metadata": {
    "id": "lEA97glDDBrw"
   },
   "outputs": [],
   "source": [
    "# Wyświetl liczbę elementów w liście\n",
    "# a = [1,2,3,4,5,6]\n",
    "# print(?)"
   ]
  },
  {
   "cell_type": "code",
   "execution_count": null,
   "metadata": {
    "id": "Hu-MkKPQEAjO"
   },
   "outputs": [],
   "source": [
    "# Wyświetl pierwszy element z listy:\n",
    "# a = [1,2,3,4,5,6]\n",
    "# print(a[?])"
   ]
  },
  {
   "cell_type": "code",
   "execution_count": null,
   "metadata": {
    "id": "JIJQrn8wEayD"
   },
   "outputs": [],
   "source": [
    "# Co może wyświetlić poniższy kod?\n",
    "# a= [1,2,3,4,5,6]\n",
    "# print(a[1:4]) # ?"
   ]
  },
  {
   "cell_type": "markdown",
   "metadata": {
    "id": "j9m0HS-kIUeM"
   },
   "source": [
    "---\n",
    "### Instrukcje warunkowe i pętle\n",
    "\n",
    "IF-ELIF-ELSE"
   ]
  },
  {
   "cell_type": "code",
   "execution_count": null,
   "metadata": {
    "id": "gTXSq6crIWYo"
   },
   "outputs": [],
   "source": [
    "a= 5\n",
    "if a<10:\n",
    "    print(\"X\")\n",
    "elif a<15:\n",
    "    print(\"Y\")\n",
    "else:\n",
    "    print(\"Z\")"
   ]
  },
  {
   "cell_type": "code",
   "execution_count": null,
   "metadata": {
    "id": "Luy8ujWXIrYg"
   },
   "outputs": [],
   "source": [
    "users= [\"Ala\", \"Gosia\", \"Kasia\"]\n",
    "name= input(\"Write your name: \") # Nowy element! Co robi?\n",
    "if name in users:\n",
    "    print(\"You are one of the users. You have access to this branch\")\n",
    "else:\n",
    "    print(\"You are not a user!\")"
   ]
  },
  {
   "cell_type": "markdown",
   "metadata": {
    "id": "gAwdjA_sKenL"
   },
   "source": [
    "FOR"
   ]
  },
  {
   "cell_type": "code",
   "execution_count": null,
   "metadata": {
    "id": "A0eks6qzKLcA"
   },
   "outputs": [],
   "source": [
    "x= 10232\n",
    "for x in [1,2,3,4,6]:\n",
    "    print(x)"
   ]
  },
  {
   "cell_type": "code",
   "execution_count": null,
   "metadata": {
    "id": "5OvM83dzEyu8"
   },
   "outputs": [],
   "source": [
    "print(x)"
   ]
  },
  {
   "cell_type": "code",
   "execution_count": null,
   "metadata": {
    "id": "RMAH2hgXKiFC"
   },
   "outputs": [],
   "source": [
    "for x in range(10):\n",
    "    print(x, x**2)\n",
    "    # funkcja_od(x)"
   ]
  },
  {
   "cell_type": "code",
   "execution_count": null,
   "metadata": {
    "id": "oGXhAkEVK8ds"
   },
   "outputs": [],
   "source": [
    "for letter in \"Some long text\":\n",
    "    print(letter)"
   ]
  },
  {
   "cell_type": "code",
   "execution_count": null,
   "metadata": {
    "id": "ds10hG-VxM-n"
   },
   "outputs": [],
   "source": [
    "for x in 10:\n",
    "    print(x)"
   ]
  },
  {
   "cell_type": "code",
   "execution_count": null,
   "metadata": {
    "id": "ggs1xuhnxVx6"
   },
   "outputs": [],
   "source": [
    "for x in {12,23,54,12}:\n",
    "    print(x)"
   ]
  },
  {
   "cell_type": "code",
   "execution_count": null,
   "metadata": {
    "id": "c1z-5mynx8p7"
   },
   "outputs": [],
   "source": [
    "x = [1,2,3,4]\n",
    "for i in range(len(x)): # Bad pattern!\n",
    "    print(x[i])"
   ]
  },
  {
   "cell_type": "markdown",
   "metadata": {
    "id": "hhDFtbWNKslh"
   },
   "source": [
    "WHILE"
   ]
  },
  {
   "cell_type": "code",
   "execution_count": null,
   "metadata": {
    "id": "QCRPyE_2Km81"
   },
   "outputs": [],
   "source": [
    "i= 0\n",
    "while i<10:\n",
    "    i= i+1\n",
    "    print(i)"
   ]
  },
  {
   "cell_type": "code",
   "execution_count": null,
   "metadata": {
    "id": "iepEIRsmFt34"
   },
   "outputs": [],
   "source": [
    "print(i)"
   ]
  },
  {
   "cell_type": "markdown",
   "metadata": {
    "id": "XXSXBgBZL5ku"
   },
   "source": [
    "Continue i break"
   ]
  },
  {
   "cell_type": "code",
   "execution_count": null,
   "metadata": {
    "id": "bKHkWSENK4Gc"
   },
   "outputs": [],
   "source": [
    "# Przeanalizujmy:\n",
    "i= 0\n",
    "while i<10:\n",
    "    i= i+1\n",
    "    if i == 4:\n",
    "        continue\n",
    "    print(i)"
   ]
  },
  {
   "cell_type": "code",
   "execution_count": null,
   "metadata": {
    "id": "gCxdEurcK0QE"
   },
   "outputs": [],
   "source": [
    "# Przeanalizujmy:\n",
    "i= 0\n",
    "while i<10:\n",
    "    i= i+1\n",
    "    if i == 4:\n",
    "        break\n",
    "    print(i)"
   ]
  },
  {
   "cell_type": "markdown",
   "metadata": {
    "id": "ZZerFR-G604U"
   },
   "source": [
    "--- \n",
    "## Moduły\n",
    "\n",
    "Wiele funkcji, których często potrzebujemy możemy znaleźć w bibliotekach dostępnych w każdym interpreterze Pythona. Pełną listę tych bibliotek znaleźć możemy w [dokumentacji](https://docs.python.org/3/library/).\n",
    "\n",
    "Najważniejsze z nich to:\n",
    "* sys\n",
    "* os\n",
    "* math\n",
    "* glob\n",
    "* time\n",
    "* argparse\n",
    "\n",
    "Obok nich istnieje też bardzo wiele modułów (zwanych też bibliotekami) nie należących do biblioteki standardowej, które trzeba zwykle zainstalować samodzielnie (dwa najważniejsze narzędzia do instalacji modułów to: `pip` i `conda`. Powiemy o nich więcej na spotkaniu dotyczącym bibliotek). Najważniejsze z nich to:\n",
    "* matplotlib - tworzenie wykresów\n",
    "* scipy - scientific Python,\n",
    "* numpy - numerical Python,\n",
    "* pandas - DataFrames, praca z danymi,\n",
    "* scikit-learn - uczenie maszynowe,\n",
    "* tensorflow i keras - uczenie maszynowe (sieci neuronowe),\n",
    "* astropy - zbiór narzędzi dla astronomów."
   ]
  },
  {
   "cell_type": "code",
   "execution_count": null,
   "metadata": {
    "id": "nSHh8SFuMgTc"
   },
   "outputs": [],
   "source": [
    "import math # Tak importujemy bibliotekę\n",
    "\n",
    "print(math.pi)"
   ]
  },
  {
   "cell_type": "code",
   "execution_count": null,
   "metadata": {
    "id": "UVnjxvpV0u9C"
   },
   "outputs": [],
   "source": [
    "import numpy as np\n",
    "np.abs([-10,10])"
   ]
  },
  {
   "cell_type": "code",
   "execution_count": null,
   "metadata": {
    "id": "dcai2QeC1cPY"
   },
   "outputs": [],
   "source": [
    "import biblioteka_ktorej_nie_ma"
   ]
  },
  {
   "cell_type": "code",
   "execution_count": null,
   "metadata": {
    "id": "H3E_PeGg8ji4"
   },
   "outputs": [],
   "source": [
    "dir(math) # zwraca listę zawierającą funkcje dostępne w module math"
   ]
  },
  {
   "cell_type": "code",
   "execution_count": null,
   "metadata": {
    "id": "Y_7a9vBb8mu2"
   },
   "outputs": [],
   "source": [
    "help(math.isclose)"
   ]
  },
  {
   "cell_type": "code",
   "execution_count": null,
   "metadata": {
    "id": "0nPHvIGX8xvu"
   },
   "outputs": [],
   "source": [
    "print(0.1+0.1+0.1 == 0.3)\n",
    "print(math.isclose(0.1+0.1+0.1,0.3))"
   ]
  },
  {
   "cell_type": "markdown",
   "metadata": {
    "id": "JqdX9jn5MjVM"
   },
   "source": [
    "## Funkcje\n",
    "\n",
    "Bardzo często wykorzystwane fragmenty kodu, dobrze jest wydzielić w postacji funkcji. Dzięki funkcjom kod zyskuje na czytelności i jest łatwiejszy do rozwijania.\n",
    "\n",
    "Dodatkowo nie musimy wiedzieć jak funkcja rozwiązuje pewniem problem - wystarczy, że rozumiemy jakie przyjmuje argumenty i jaki zwraca wynik."
   ]
  },
  {
   "cell_type": "code",
   "execution_count": null,
   "metadata": {
    "id": "bDb78ab784A2"
   },
   "outputs": [],
   "source": [
    "def function(arg1, arg2, arg3):\n",
    "    \"\"\"\n",
    "    Compute average of three numbers\n",
    "    Other comments\n",
    "    \"\"\"\n",
    "    return (arg1+arg2+arg3)/3"
   ]
  },
  {
   "cell_type": "code",
   "execution_count": null,
   "metadata": {
    "id": "PK1xbXaeOvx_"
   },
   "outputs": [],
   "source": [
    "help(function)"
   ]
  },
  {
   "cell_type": "code",
   "execution_count": null,
   "metadata": {
    "id": "Bg7qyDFmOxAP"
   },
   "outputs": [],
   "source": [
    "result= function(1,2,3)\n",
    "print(result)"
   ]
  },
  {
   "cell_type": "code",
   "execution_count": null,
   "metadata": {
    "id": "QhrfjwAe23hc"
   },
   "outputs": [],
   "source": [
    "x = 10\n",
    "def function(arg1, arg2, arg3):\n",
    "    \"\"\"\n",
    "    Compute average of three numbers\n",
    "    Other comments\n",
    "    \"\"\"\n",
    "    x = 5\n",
    "    print(x) # Rozwiewa wątpliwości dotyczące zakresów istnienia zmiennych\n",
    "    return (arg1+arg2+arg3)/3\n",
    "\n",
    "avr= function(1,2,3)\n",
    "print(avr)\n",
    "print(x)"
   ]
  },
  {
   "cell_type": "markdown",
   "metadata": {
    "id": "MySoz7kSPqn7"
   },
   "source": [
    "#### Jak napisać dobrą funkcję?\n"
   ]
  },
  {
   "cell_type": "code",
   "execution_count": null,
   "metadata": {
    "id": "kEmvVaiEO9qH"
   },
   "outputs": [],
   "source": [
    "# Chcę poznać wartość średniej ze 100 pomiarów\n",
    "import random\n",
    "\n",
    "no_measurements= 100\n",
    "measurements= []\n",
    "for _ in range(no_measurements):\n",
    "    single_measurement= random.randint(0,10)\n",
    "    measurements.append(single_measurement)\n",
    "print(measurements)"
   ]
  },
  {
   "cell_type": "code",
   "execution_count": null,
   "metadata": {
    "id": "DzZe0FELQPHP"
   },
   "outputs": [],
   "source": [
    "cumulative= 0\n",
    "for single_measurement in measurements:\n",
    "    cumulative = cumulative + single_measurement\n",
    "    # cumulative += single_measurement\n",
    "average_of_measurements= cumulative/no_measurements\n",
    "print(average_of_measurements)"
   ]
  },
  {
   "cell_type": "code",
   "execution_count": null,
   "metadata": {
    "id": "WkeCzhMcQrRu"
   },
   "outputs": [],
   "source": [
    "def average(measurements):\n",
    "    cumulative= 0\n",
    "    for single_measurement in measurements:\n",
    "        cumulative += single_measurement\n",
    "    return cumulative/len(measurements)"
   ]
  },
  {
   "cell_type": "code",
   "execution_count": null,
   "metadata": {
    "id": "jE5pZ8KpRg2O"
   },
   "outputs": [],
   "source": [
    "print(average(measurements))"
   ]
  },
  {
   "cell_type": "code",
   "execution_count": null,
   "metadata": {
    "id": "Tc9gKhdGRlQG"
   },
   "outputs": [],
   "source": [
    "# Chcę policzyć silnię z N"
   ]
  },
  {
   "cell_type": "code",
   "execution_count": null,
   "metadata": {
    "id": "Sn4P8knfRwDu"
   },
   "outputs": [],
   "source": [
    "N= 5\n",
    "N_factorial = 1.\n",
    "for i in range(1,N+1):\n",
    "    N_factorial= N_factorial*i\n",
    "print(N_factorial)"
   ]
  },
  {
   "cell_type": "code",
   "execution_count": null,
   "metadata": {
    "id": "WJmD6uYmR4PW"
   },
   "outputs": [],
   "source": [
    "def factorial(N):\n",
    "    N_factorial = 1.\n",
    "    for i in range(1,N+1):\n",
    "        N_factorial*=i\n",
    "    return N_factorial\n",
    "\n",
    "print(factorial(5))"
   ]
  },
  {
   "cell_type": "code",
   "execution_count": null,
   "metadata": {
    "id": "jEttM9hnSJS3"
   },
   "outputs": [],
   "source": [
    "# Chcę żeby w zmiennej a była zawsze większa liczba, w zmiennej b mniejsza"
   ]
  },
  {
   "cell_type": "code",
   "execution_count": null,
   "metadata": {
    "id": "AyopyRB6SWpV"
   },
   "outputs": [],
   "source": [
    "a= 10\n",
    "b= 15\n",
    "if a<b:\n",
    "    temp=a\n",
    "    a=b\n",
    "    b=temp\n",
    "print(\"a = \", a,\"; b = \",b)"
   ]
  },
  {
   "cell_type": "code",
   "execution_count": null,
   "metadata": {
    "id": "KQCVA7rcSzEt"
   },
   "outputs": [],
   "source": [
    "def swap_first_bigger(a,b):\n",
    "    if a<b:\n",
    "        temp=a\n",
    "        a=b\n",
    "        b=temp\n",
    "        # a,b=b,a\n",
    "    return a,b"
   ]
  },
  {
   "cell_type": "code",
   "execution_count": null,
   "metadata": {
    "id": "QT__TnHQTF-3"
   },
   "outputs": [],
   "source": [
    "a= 10\n",
    "b= 15\n",
    "a,b= swap_first_bigger(a,b)\n",
    "print(\"a = \", a,\"; b = \",b)"
   ]
  },
  {
   "cell_type": "code",
   "execution_count": null,
   "metadata": {
    "id": "K3M6fY_pTGad"
   },
   "outputs": [],
   "source": [
    "# Sortowanie listy liczb"
   ]
  },
  {
   "cell_type": "markdown",
   "metadata": {
    "id": "ZMhcQ_JOjiNY"
   },
   "source": [
    "Example:\n",
    "First Pass:\n",
    "1. ( 5 1 4 2 8 ) –> ( 1 5 4 2 8 ), Here, algorithm compares the first two elements, and swaps since 5 > 1.\n",
    "2. ( 1 5 4 2 8 ) –>  ( 1 4 5 2 8 ), Swap since 5 > 4\n",
    "3. ( 1 4 5 2 8 ) –>  ( 1 4 2 5 8 ), Swap since 5 > 2\n",
    "4. ( 1 4 2 5 8 ) –> ( 1 4 2 5 8 ), Now, since these elements are already in order (8 > 5), algorithm does not swap them.\n",
    "\n",
    "Second Pass:\n",
    "1. ( 1 4 2 5 8 ) –> ( 1 4 2 5 8 )\n",
    "2. ( 1 4 2 5 8 ) –> ( 1 2 4 5 8 ), Swap since 4 > 2\n",
    "3. ( 1 2 4 5 8 ) –> ( 1 2 4 5 8 )\n",
    "4. ( 1 2 4 5 8 ) –>  ( 1 2 4 5 8 )\n",
    "\n",
    "Now, the array is already sorted, but our algorithm does not know if it is completed. The algorithm needs one whole pass without any swap to know it is sorted.\n",
    "\n",
    "Third Pass:\n",
    "1. ( 1 2 4 5 8 ) –> ( 1 2 4 5 8 )\n",
    "2. ( 1 2 4 5 8 ) –> ( 1 2 4 5 8 )\n",
    "3. ( 1 2 4 5 8 ) –> ( 1 2 4 5 8 )\n",
    "4. ( 1 2 4 5 8 ) –> ( 1 2 4 5 8 )"
   ]
  },
  {
   "cell_type": "code",
   "execution_count": null,
   "metadata": {
    "id": "-RY4ifQwjA0A"
   },
   "outputs": [],
   "source": [
    "import numpy as np\n",
    "x= [5, 1, 4, 2, 3]\n",
    "\n",
    "n= len(x)\n",
    "for i in range(n):\n",
    "    print(\"Last \",i, \"already sorted!\")\n",
    "    for j in range(0, n-i-1): \n",
    "        if x[j] > x[j+1]: \n",
    "            x[j], x[j+1] = x[j+1], x[j]\n",
    "            print(j,j+1, \" swapped:\")\n",
    "        print(x)\n",
    "print(x)"
   ]
  },
  {
   "cell_type": "code",
   "execution_count": null,
   "metadata": {
    "id": "t3Min-v9mUUM"
   },
   "outputs": [],
   "source": [
    "def bubble_sort(x):\n",
    "    # https://youtu.be/lyZQPjUT5B4\n",
    "    n= len(x)\n",
    "    for i in range(n):\n",
    "        for j in range(0, n-i-1): \n",
    "            if x[j] > x[j+1]: \n",
    "                x[j], x[j+1] = x[j+1], x[j]\n",
    "\n",
    "x= [5, 1, 4, 2, 3]\n",
    "bubble_sort(x)\n",
    "print(x)"
   ]
  },
  {
   "cell_type": "code",
   "execution_count": null,
   "metadata": {
    "id": "Js7I4xg4nyFQ"
   },
   "outputs": [],
   "source": []
  }
 ],
 "metadata": {
  "colab": {
   "authorship_tag": "ABX9TyMVkU5MgJBzcBJldIPDDjuN",
   "collapsed_sections": [],
   "name": "03_postawy.ipynb",
   "provenance": []
  },
  "kernelspec": {
   "display_name": "Python 3.8.3 ('base')",
   "language": "python",
   "name": "python3"
  },
  "language_info": {
   "codemirror_mode": {
    "name": "ipython",
    "version": 3
   },
   "file_extension": ".py",
   "mimetype": "text/x-python",
   "name": "python",
   "nbconvert_exporter": "python",
   "pygments_lexer": "ipython3",
   "version": "3.8.3"
  },
  "vscode": {
   "interpreter": {
    "hash": "cabad25a979363c42bbae4075ddd8003f1d5a696b92e64582b5f260399c09add"
   }
  }
 },
 "nbformat": 4,
 "nbformat_minor": 1
}
