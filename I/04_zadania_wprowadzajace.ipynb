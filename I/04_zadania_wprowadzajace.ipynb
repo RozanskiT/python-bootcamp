{
 "cells": [
  {
   "cell_type": "markdown",
   "metadata": {
    "id": "mZS4sUn9oLyq"
   },
   "source": [
    "# Zadania\n",
    "\n",
    "1. Żeby utrwalić sobie składnię w krótkich pytaniach i odpowiedziach, radzę zajrzeć do testów na stronie: https://www.w3schools.com/python/exercise.asp . Tutorial na w3 jest dużo bardziej kompletny pod kątem wprowadzania różnych elementów języka: https://www.w3schools.com/python/.\n",
    "2. Poniżej znajduje się kilka zadań na przećwiczenie tych podstaw."
   ]
  },
  {
   "cell_type": "markdown",
   "metadata": {
    "id": "5yjkEd-82Cl0"
   },
   "source": [
    "## Zadanie -1.\n",
    "\n",
    "Przypisz do zmiennych przykładową liczbę całkowitą, liczbę zmiennoprzecinkową, napis, listę, krotkę, słownik i zbiór."
   ]
  },
  {
   "cell_type": "code",
   "execution_count": 2,
   "metadata": {
    "id": "hs8bFOMG2ZYJ"
   },
   "outputs": [
    {
     "name": "stdout",
     "output_type": "stream",
     "text": [
      "10\n",
      "{1, 2, 3}\n"
     ]
    }
   ],
   "source": [
    "a= 10\n",
    "print(a)\n",
    "\n",
    "# b = {1,2,3,3,3,3}\n",
    "#b= ... itd.\n",
    "# print(b)"
   ]
  },
  {
   "cell_type": "markdown",
   "metadata": {
    "id": "OFO5WFlU4rzw"
   },
   "source": [
    "## Zadanie 0.\n",
    "\n",
    "Przećwicz definiowanie funkcji. W tym celu napisz funkcję, która oblicza iloczyn dwóch liczb."
   ]
  },
  {
   "cell_type": "code",
   "execution_count": 11,
   "metadata": {
    "id": "FwPZjnH24r_i"
   },
   "outputs": [
    {
     "name": "stdout",
     "output_type": "stream",
     "text": [
      "50\n"
     ]
    }
   ],
   "source": [
    "a= 5\n",
    "\n",
    "def f(a,b=10):\n",
    "    return a*b\n",
    "\n",
    "# print(f(a))\n",
    "# print(f(a,15))\n",
    "# print(f(a,b=15))\n",
    "# ... itd\n",
    "\n",
    "x = f(10,5)\n",
    "print(x)"
   ]
  },
  {
   "cell_type": "markdown",
   "metadata": {
    "id": "1JHFjlFIpem0"
   },
   "source": [
    "### Zadanie 1.\n",
    "\n",
    "Niech a=3, b=4 i c=5 będą bokami trójkąta. Policz pole tego trójkąta ze wzoru Herona. (podpowiedź: wykorzystaj funkcję `sqrt()` - pierwiastek kwadratowy)\n",
    "$$\n",
    "s = \\frac{a+b+c}{2}\n",
    "$$\n",
    "$$\n",
    "A= \\sqrt{s(s-a)(s-b)(s-c)}\n",
    "$$"
   ]
  },
  {
   "cell_type": "code",
   "execution_count": 21,
   "metadata": {},
   "outputs": [
    {
     "name": "stdout",
     "output_type": "stream",
     "text": [
      "6.0\n"
     ]
    }
   ],
   "source": [
    "import math\n",
    "def heron(a,b,c):\n",
    "    s= (a+b+c)/2\n",
    "    return math.sqrt(s*(s-a)*(s-b)*(s-c))\n",
    "\n",
    "print(heron(3,4,5))"
   ]
  },
  {
   "cell_type": "code",
   "execution_count": 12,
   "metadata": {},
   "outputs": [
    {
     "data": {
      "text/plain": [
       "3.1622776601683795"
      ]
     },
     "execution_count": 12,
     "metadata": {},
     "output_type": "execute_result"
    }
   ],
   "source": [
    "import math\n",
    "\n",
    "math.sqrt(10)"
   ]
  },
  {
   "cell_type": "code",
   "execution_count": 16,
   "metadata": {},
   "outputs": [
    {
     "data": {
      "text/plain": [
       "2.302585092994046"
      ]
     },
     "execution_count": 16,
     "metadata": {},
     "output_type": "execute_result"
    }
   ],
   "source": [
    "from math import sqrt, log\n",
    "\n",
    "# sqrt(10)\n",
    "log(10)"
   ]
  },
  {
   "cell_type": "code",
   "execution_count": 14,
   "metadata": {},
   "outputs": [
    {
     "data": {
      "text/plain": [
       "3.1622776601683795"
      ]
     },
     "execution_count": 14,
     "metadata": {},
     "output_type": "execute_result"
    }
   ],
   "source": [
    "import math as m\n",
    "\n",
    "m.sqrt(10)"
   ]
  },
  {
   "cell_type": "markdown",
   "metadata": {
    "id": "CzFu-Uv8qKNI"
   },
   "source": [
    "## Zadanie 2.\n",
    "\n",
    "Wydrukuj imiona przy pomocy funkcji `print` w kolejnych liniach: x= [\"Ala\",\"Basia\",\"Kasia,\"Zosia\"]. Spróbuj użyć pętli `for`.\n",
    "\n",
    "Ala\n",
    "\n",
    "Basia\n",
    "\n",
    "Kasia\n",
    "\n",
    "Zosia"
   ]
  },
  {
   "cell_type": "code",
   "execution_count": null,
   "metadata": {
    "id": "-ovukvk_tl3m"
   },
   "outputs": [],
   "source": []
  },
  {
   "cell_type": "markdown",
   "metadata": {
    "id": "PVCSkxkBrHum"
   },
   "source": [
    "## Zadanie 3.\n",
    "\n",
    "Napisz funkcję do wyświetlania na ekranie choinki z gwiazdek:"
   ]
  },
  {
   "cell_type": "code",
   "execution_count": null,
   "metadata": {
    "id": "ccdf7QyRqL6h"
   },
   "outputs": [],
   "source": [
    "#      *  \n",
    "#     ***\n",
    "#    *****\n",
    "#   *******\n",
    "#  *********\n",
    "# ***********\n",
    "#     ***\n",
    "#     ***"
   ]
  },
  {
   "cell_type": "code",
   "execution_count": 15,
   "metadata": {
    "colab": {
     "base_uri": "https://localhost:8080/"
    },
    "executionInfo": {
     "elapsed": 523,
     "status": "ok",
     "timestamp": 1606404324819,
     "user": {
      "displayName": "Tomasz Różański",
      "photoUrl": "https://lh4.googleusercontent.com/-CdAQaQI9V1E/AAAAAAAAAAI/AAAAAAAAAvI/rnNPiSw4f80/s64/photo.jpg",
      "userId": "09904144145241711927"
     },
     "user_tz": -60
    },
    "id": "PW0w32lnrXCJ",
    "outputId": "78b2fd7c-a592-46be-ffb1-a7df82866da1"
   },
   "outputs": [
    {
     "name": "stdout",
     "output_type": "stream",
     "text": [
      "           \n",
      "          *\n",
      "         ***\n",
      "        *****\n",
      "       *******\n",
      "      *********\n",
      "     ***********\n",
      "    *************\n",
      "   ***************\n",
      "  *****************\n"
     ]
    }
   ],
   "source": [
    "# Poeksperymentuj z poniższym kodem:\n",
    "for i in range(10): \n",
    "    print((10-i)*\" \",(2*i-1)*\"*\")"
   ]
  },
  {
   "cell_type": "markdown",
   "metadata": {
    "id": "TVDYokvrsMQ5"
   },
   "source": [
    "## Zadanie 4. (żmudne)\n",
    "\n",
    "Wpisując datę w postaci: year, month, day sprawdź czy jest ona \"możliwa\".\n",
    "\n",
    "* Miesięcy jest 12,\n",
    "* Dni w miesiącu może być: 31,30,28 lub 29.\n",
    "* Rok jest przestępny kiedy:\n",
    "  * jest podzielny przez 4 i niepodzielny przez 100\n",
    "  * lub jest podzielny przez 400\n",
    "\n",
    "Możesz spróbować utworzyć funkcję: `is_date_ok(day, month, year)`."
   ]
  },
  {
   "cell_type": "code",
   "execution_count": null,
   "metadata": {
    "id": "pqJ-4m6zr33o"
   },
   "outputs": [],
   "source": [
    "# przykład możliwej daty\n",
    "day= 10\n",
    "month=2\n",
    "year= 2015"
   ]
  },
  {
   "cell_type": "code",
   "execution_count": null,
   "metadata": {
    "id": "iJXuKXQ1tnf8"
   },
   "outputs": [],
   "source": []
  },
  {
   "cell_type": "code",
   "execution_count": null,
   "metadata": {
    "id": "XV0fvyIvtS-Z"
   },
   "outputs": [],
   "source": [
    "# przykład niemożliwej daty\n",
    "day= 30\n",
    "month= 2\n",
    "year= 2015"
   ]
  },
  {
   "cell_type": "code",
   "execution_count": null,
   "metadata": {
    "id": "0U1H3VlmtXLH"
   },
   "outputs": [],
   "source": []
  },
  {
   "cell_type": "markdown",
   "metadata": {
    "id": "JoSHNx00tezg"
   },
   "source": [
    "## Zadanie 5.\n",
    "\n",
    "Napisz program, który wyświetli 30 kopii tekstu wprowadzonego przez użytkownika, każdy raz w nowej linii i ponumeruje linie. Użyj funkcji `input()`. Np.:\n",
    "\n",
    "1 kot\n",
    "\n",
    "2 kot\n",
    "\n",
    "3 kot\n",
    "\n",
    "itd aż do\n",
    "\n",
    "30 kot"
   ]
  },
  {
   "cell_type": "code",
   "execution_count": null,
   "metadata": {
    "id": "jdxD8d8FtoFL"
   },
   "outputs": [],
   "source": []
  },
  {
   "cell_type": "markdown",
   "metadata": {
    "id": "agqt2Uh7uC-V"
   },
   "source": [
    "## Zadanie 6.\n",
    "\n",
    "Stwórz listę studentów: Kasia, Basia, Marek, Darek.\n",
    "* Korzystając z funkcji `append` dodaj do listy Józka.\n",
    "* Korzystając z funkcji `extend` dodaj do listy Anię i Basię.\n",
    "* Posortuj alfabetycznie studentów.\n",
    "* Wypisz na ekranie:\n",
    "  * czwartego studenta na liście\n",
    "  * dwóch pierwszych studentów na liście\n",
    "  * dwóch ostatnich studentów na liście\n",
    "* Korzystając z funkcji `remove` usuń wszystkie Basie.\n",
    "* Korzystając z funkcji `len` sprawdź liczbę studentów.\n",
    "* Z ostatecznej listy studentów utwórz krotkę."
   ]
  },
  {
   "cell_type": "code",
   "execution_count": null,
   "metadata": {
    "id": "JRrngXqDuZT4"
   },
   "outputs": [],
   "source": []
  },
  {
   "cell_type": "markdown",
   "metadata": {
    "id": "AeHBwa-buyYG"
   },
   "source": [
    "## Zadanie 7.\n",
    "\n",
    "Użyj funkcji wbudowanej `sum` żeby policzyć średnią z poniższej listy."
   ]
  },
  {
   "cell_type": "code",
   "execution_count": null,
   "metadata": {
    "colab": {
     "base_uri": "https://localhost:8080/"
    },
    "executionInfo": {
     "elapsed": 535,
     "status": "ok",
     "timestamp": 1606397328290,
     "user": {
      "displayName": "Tomasz Różański",
      "photoUrl": "https://lh4.googleusercontent.com/-CdAQaQI9V1E/AAAAAAAAAAI/AAAAAAAAAvI/rnNPiSw4f80/s64/photo.jpg",
      "userId": "09904144145241711927"
     },
     "user_tz": -60
    },
    "id": "sOSHeySsuz3f",
    "outputId": "befd1367-c455-485b-c82e-b68f0bedaf96"
   },
   "outputs": [],
   "source": [
    "lista= list(range(6,20,3)) # Czy potrafisz odgadnąć co oznaczają kolejne argumenty funkcji range()?\n",
    "print(lista)"
   ]
  },
  {
   "cell_type": "code",
   "execution_count": null,
   "metadata": {
    "id": "gDgVpLwWvUyu"
   },
   "outputs": [],
   "source": []
  },
  {
   "cell_type": "markdown",
   "metadata": {
    "id": "g6zeYNSrvhwJ"
   },
   "source": [
    "## Zadanie 8.\n",
    "\n",
    "Wypełnij listę kwadratami kolejnych liczb naturanych do 20 włącznie.\n",
    "\n",
    "`[0,1,4,9,...,400]`"
   ]
  },
  {
   "cell_type": "code",
   "execution_count": 25,
   "metadata": {
    "id": "UdhxbGYovi40"
   },
   "outputs": [
    {
     "name": "stdout",
     "output_type": "stream",
     "text": [
      "[0, 1, 4, 9, 16, 25, 36, 49, 64, 81, 100, 121, 144, 169, 196, 225, 256, 289, 324, 361, 400]\n"
     ]
    }
   ],
   "source": [
    "a = []\n",
    "i=0\n",
    "while i<=20:\n",
    "    a.append(i**2)\n",
    "    i+=1\n",
    "print(a)"
   ]
  },
  {
   "cell_type": "code",
   "execution_count": 26,
   "metadata": {},
   "outputs": [
    {
     "name": "stdout",
     "output_type": "stream",
     "text": [
      "[0, 1, 4, 9, 16, 25, 36, 49, 64, 81, 100, 121, 144, 169, 196, 225, 256, 289, 324, 361, 400]\n"
     ]
    }
   ],
   "source": [
    "a = []\n",
    "for i in range(21):\n",
    "    a.append(i**2)\n",
    "print(a)"
   ]
  },
  {
   "cell_type": "code",
   "execution_count": 31,
   "metadata": {},
   "outputs": [
    {
     "name": "stdout",
     "output_type": "stream",
     "text": [
      "[1, 1, 2, 6, 24, 120, 720, 5040, 40320, 362880]\n"
     ]
    }
   ],
   "source": [
    "def factorial(N):\n",
    "    if N == 0:\n",
    "        return 1\n",
    "    else:\n",
    "        return factorial(N-1)*N\n",
    "\n",
    "x = [factorial(i) for i in range(10)]\n",
    "print(x)"
   ]
  },
  {
   "cell_type": "markdown",
   "metadata": {
    "id": "BioOBBCMwDyS"
   },
   "source": [
    "## Zadanie 9.\n",
    "\n",
    "Napisz program, który sprawdzi czy podana litera alfabetu jest samogłoską czy spółgłoską.\n",
    "\n",
    "podpowiedź: `letter in \"aouye\"`"
   ]
  },
  {
   "cell_type": "code",
   "execution_count": null,
   "metadata": {
    "id": "cHP4sXApwlYt"
   },
   "outputs": [],
   "source": [
    "letter= \"a\""
   ]
  },
  {
   "cell_type": "markdown",
   "metadata": {
    "id": "22pbwYLzwjlf"
   },
   "source": [
    "## Zadanie 10.\n",
    "Napisz kod który sprawdzi czy liczba jest parzysta czy nieparzysta i wyświetli informację na ten temat. (Pomyśl o reszcie z dzielenia przez 2)\n",
    "\n",
    "(ciekawostka: spróbuj zrobić to też bez instrukcji `if`)\n",
    "\n"
   ]
  },
  {
   "cell_type": "code",
   "execution_count": 37,
   "metadata": {
    "colab": {
     "base_uri": "https://localhost:8080/"
    },
    "executionInfo": {
     "elapsed": 630,
     "status": "ok",
     "timestamp": 1606496312702,
     "user": {
      "displayName": "Tomasz Różański",
      "photoUrl": "https://lh4.googleusercontent.com/-CdAQaQI9V1E/AAAAAAAAAAI/AAAAAAAAAvI/rnNPiSw4f80/s64/photo.jpg",
      "userId": "09904144145241711927"
     },
     "user_tz": -60
    },
    "id": "zUgX5A8p4X67",
    "outputId": "62d20d00-845b-4bf5-a154-ca210b4655a7"
   },
   "outputs": [
    {
     "name": "stdout",
     "output_type": "stream",
     "text": [
      "parzysta\n"
     ]
    }
   ],
   "source": [
    "x = 10\n",
    "if x%2 == 0:\n",
    "    print(\"parzysta\")\n",
    "else:\n",
    "    print(\"NP\")"
   ]
  },
  {
   "cell_type": "code",
   "execution_count": 42,
   "metadata": {},
   "outputs": [],
   "source": [
    "while 10%2:\n",
    "    print(\"NP\")\n",
    "    break"
   ]
  },
  {
   "cell_type": "code",
   "execution_count": 45,
   "metadata": {},
   "outputs": [
    {
     "data": {
      "text/plain": [
       "'nieparzysta'"
      ]
     },
     "execution_count": 45,
     "metadata": {},
     "output_type": "execute_result"
    }
   ],
   "source": [
    "x =9\n",
    "(x%2)*\"nie\"+\"parzysta\""
   ]
  },
  {
   "cell_type": "code",
   "execution_count": 46,
   "metadata": {},
   "outputs": [
    {
     "data": {
      "text/plain": [
       "'nieparzysta'"
      ]
     },
     "execution_count": 46,
     "metadata": {},
     "output_type": "execute_result"
    }
   ],
   "source": [
    "[\"parzysta\",\"nieparzysta\"][x%2]"
   ]
  },
  {
   "cell_type": "markdown",
   "metadata": {
    "id": "jz2k7nmWxXRW"
   },
   "source": [
    "## Zadanie 11.\n",
    "\n",
    "Napisz kod który wyświetli N kolejnych elementów ciągu Fibbonaciego: 1 1 2 3 5 8 itd."
   ]
  },
  {
   "cell_type": "code",
   "execution_count": null,
   "metadata": {
    "id": "yhAe87dgwFWz"
   },
   "outputs": [],
   "source": []
  },
  {
   "cell_type": "markdown",
   "metadata": {
    "id": "ZNdTJ5kTxodT"
   },
   "source": [
    "## Zadanie 12.\n",
    "\n",
    "Napisz 2 funkcje:\n",
    "* do liczenia sumy liczb w podanej liście,\n",
    "* do liczenia iloczynu liczb w podanej liście."
   ]
  },
  {
   "cell_type": "code",
   "execution_count": null,
   "metadata": {
    "id": "fSChBU4Wxp65"
   },
   "outputs": [],
   "source": [
    "lista= [1,6,2,4,8,4,2,3,6]\n",
    "# suma : 36\n",
    "# iloczyn : 55296"
   ]
  },
  {
   "cell_type": "markdown",
   "metadata": {
    "id": "jbXGFqfAyzLc"
   },
   "source": [
    "## Zadnie 13. (trudniejsze)\n",
    "\n",
    "Napisz funkcję która obliczy największy wspólny dzielnik dwóch liczb. Wykorzystaj [algorytm Euklidesa](https://pl.wikipedia.org/wiki/Algorytm_Euklidesa)."
   ]
  },
  {
   "cell_type": "code",
   "execution_count": null,
   "metadata": {
    "id": "CMEeiaZeyJWi"
   },
   "outputs": [],
   "source": []
  },
  {
   "cell_type": "markdown",
   "metadata": {
    "id": "bcZKkxLKzb9U"
   },
   "source": [
    "## Zadanie 14.\n",
    "Napisz kod który wyświetla najmniejszą liczbę w liście."
   ]
  },
  {
   "cell_type": "code",
   "execution_count": null,
   "metadata": {
    "id": "s_3gwvA-zhdB"
   },
   "outputs": [],
   "source": [
    "lista= [1,5,3,7,4,2,3,67,7,2]"
   ]
  },
  {
   "cell_type": "markdown",
   "metadata": {
    "id": "trtD7ucf1zH6"
   },
   "source": [
    "## Zadanie 15.\n",
    "\n",
    "Napisz funkcję, która zwraca pierwszy i ostatni element podanej listy, np.\n",
    "`a=[1,2,5,1,2,6,8,4,10]`"
   ]
  },
  {
   "cell_type": "code",
   "execution_count": null,
   "metadata": {
    "id": "DI3Z-l-31xbm"
   },
   "outputs": [],
   "source": [
    "a=[1,2,5,1,2,6,8,4,10]"
   ]
  },
  {
   "cell_type": "markdown",
   "metadata": {
    "id": "XJ3VW6-X2ldy"
   },
   "source": [
    "## Zadanie 17.\n",
    "\n",
    "Dodaj do słownika pod kluczem \"Krzysztof\" wartość: \"+48 111 222 333\" i usuń wpis dotyczący Kamila. Wyświetl wszystkie numery telefonów wraz w imonami wiersz po wierszu."
   ]
  },
  {
   "cell_type": "code",
   "execution_count": null,
   "metadata": {
    "id": "3zGtpBB82myF"
   },
   "outputs": [],
   "source": [
    "tel= {\"Zbigniew\":\"+42 023 123 222\",\n",
    "      \"Kamil\": \"+23 232 221 454\",\n",
    "      \"Michał\": \"+12 222 782 553\",\n",
    "      \"Piotr\": \"+77 123 232 212\"\n",
    "     }"
   ]
  },
  {
   "cell_type": "markdown",
   "metadata": {
    "id": "5y8BUVb45IOS"
   },
   "source": [
    "## Zadanie 18.\n",
    "\n",
    "Zmodyfikuj kod tak, żeby wyświetlał funkcję `cos()` w przedziale od 10 do 30. Zadbaj o poprawną etykietę i tytuł."
   ]
  },
  {
   "cell_type": "code",
   "execution_count": 49,
   "metadata": {
    "colab": {
     "base_uri": "https://localhost:8080/",
     "height": 404
    },
    "executionInfo": {
     "elapsed": 915,
     "status": "ok",
     "timestamp": 1606496184373,
     "user": {
      "displayName": "Tomasz Różański",
      "photoUrl": "https://lh4.googleusercontent.com/-CdAQaQI9V1E/AAAAAAAAAAI/AAAAAAAAAvI/rnNPiSw4f80/s64/photo.jpg",
      "userId": "09904144145241711927"
     },
     "user_tz": -60
    },
    "id": "DoOocXhW5Hv5",
    "outputId": "4766091f-75e9-42bc-cb80-e50915df4990"
   },
   "outputs": [
    {
     "data": {
      "image/png": "[encoded data removed]",
      "text/plain": [
       "<Figure size 864x432 with 1 Axes>"
      ]
     },
     "metadata": {
      "needs_background": "light"
     },
     "output_type": "display_data"
    }
   ],
   "source": [
    "import matplotlib.pyplot as plt\n",
    "import numpy as np\n",
    "\n",
    "x= np.arange(0,10,0.01)\n",
    "y= np.cos(x)\n",
    "\n",
    "plt.figure(figsize=(12,6))\n",
    "plt.plot(x,y,label=\"y=cos(x)\")\n",
    "plt.xlabel(\"x\")\n",
    "plt.ylabel(\"y\")\n",
    "plt.title(\"Funkcja y=cos(x)\")\n",
    "\n",
    "plt.legend()\n",
    "plt.show()"
   ]
  },
  {
   "cell_type": "markdown",
   "metadata": {
    "id": "rQuo8M816GZa"
   },
   "source": [
    "## Zadanie 19. \n",
    "\n",
    "Zmień jeden fragment w kodzie, żeby zamiast rosnąco funkcja sortowała malejąco:"
   ]
  },
  {
   "cell_type": "code",
   "execution_count": 51,
   "metadata": {
    "colab": {
     "base_uri": "https://localhost:8080/"
    },
    "executionInfo": {
     "elapsed": 622,
     "status": "ok",
     "timestamp": 1606495983859,
     "user": {
      "displayName": "Tomasz Różański",
      "photoUrl": "https://lh4.googleusercontent.com/-CdAQaQI9V1E/AAAAAAAAAAI/AAAAAAAAAvI/rnNPiSw4f80/s64/photo.jpg",
      "userId": "09904144145241711927"
     },
     "user_tz": -60
    },
    "id": "2IB8aK763_mP",
    "outputId": "26ed551f-91ba-4885-ffdf-9b39433ef8e8"
   },
   "outputs": [
    {
     "name": "stdout",
     "output_type": "stream",
     "text": [
      "[52, 34, 12, 7, 6, 2]\n"
     ]
    }
   ],
   "source": [
    "def insertionSort(arr): \n",
    "    # Insert sort simply explained:\n",
    "    # https://youtu.be/ROalU379l3U\n",
    "    for i in range(1, len(arr)): \n",
    "        key = arr[i] \n",
    "        j = i-1\n",
    "        while j >=0 and key > arr[j] : \n",
    "            arr[j+1] = arr[j] \n",
    "            j -= 1\n",
    "        arr[j+1] = key\n",
    "\n",
    "x= [12,52,7,6,34,2]\n",
    "insertionSort(x)\n",
    "print(x)"
   ]
  },
  {
   "cell_type": "code",
   "execution_count": null,
   "metadata": {
    "id": "hOixDs227LlN"
   },
   "outputs": [],
   "source": []
  }
 ],
 "metadata": {
  "colab": {
   "authorship_tag": "ABX9TyNYQF3k0rMBDKLCzxYeAuOm",
   "collapsed_sections": [],
   "name": "04_zadania_wprowadzajace.ipynb",
   "provenance": []
  },
  "kernelspec": {
   "display_name": "Python 3",
   "language": "python",
   "name": "python3"
  },
  "language_info": {
   "codemirror_mode": {
    "name": "ipython",
    "version": 3
   },
   "file_extension": ".py",
   "mimetype": "text/x-python",
   "name": "python",
   "nbconvert_exporter": "python",
   "pygments_lexer": "ipython3",
   "version": "3.8.3"
  }
 },
 "nbformat": 4,
 "nbformat_minor": 1
}
