{
 "cells": [
  {
   "cell_type": "markdown",
   "metadata": {
    "id": "GZBcb_97iQTk"
   },
   "source": [
    "# [Matplotlib](https://matplotlib.org/3.1.1/gallery/index.html)\n",
    "\n",
    "Z dokumentacji:\n",
    "\n",
    "Matplotlib is a Python 2D plotting library which produces publication quality figures in a variety of hardcopy formats and interactive environments across platforms. Matplotlib can be used in Python scripts, the Python and IPython shells, the Jupyter notebook, web application servers, and four graphical user interface toolkits.\n",
    "\n",
    "Matplotlib tries to make easy things easy and hard things possible. You can generate plots, histograms, power spectra, bar charts, errorcharts, scatterplots, etc., with just a few lines of code. For examples, see the sample plots and thumbnail gallery.\n",
    "\n",
    "For simple plotting the pyplot module provides a MATLAB-like interface, particularly when combined with IPython. For the power user, you have full control of line styles, font properties, axes properties, etc, via an object oriented interface or via a set of functions familiar to MATLAB users.\n",
    "\n",
    "\n",
    "[Opracowano na podstawie tutorialu na UAB, Barcelona]\n",
    "\n",
    "Wykonajmy kilka operacji, które przygotowują nasz zeszyt:"
   ]
  },
  {
   "cell_type": "code",
   "execution_count": null,
   "metadata": {
    "executionInfo": {
     "elapsed": 1734,
     "status": "ok",
     "timestamp": 1608192172760,
     "user": {
      "displayName": "Tomasz Różański",
      "photoUrl": "https://lh4.googleusercontent.com/-CdAQaQI9V1E/AAAAAAAAAAI/AAAAAAAAAvI/rnNPiSw4f80/s64/photo.jpg",
      "userId": "09904144145241711927"
     },
     "user_tz": -60
    },
    "id": "5WE6NRiPh4_Z"
   },
   "outputs": [],
   "source": [
    "# only for the notebook\n",
    "%matplotlib inline\n",
    "\n",
    "import matplotlib.pyplot as plt\n",
    "import numpy as np\n",
    "from IPython.display import HTML\n",
    "\n",
    "# Make the size and fonts larger for this presentation\n",
    "plt.rcParams['figure.figsize'] = (10, 8)\n",
    "plt.rcParams['font.size'] = 16\n",
    "plt.rcParams['lines.linewidth'] = 2"
   ]
  },
  {
   "cell_type": "markdown",
   "metadata": {
    "id": "6cNdx5FNigGd"
   },
   "source": [
    "## Line plot"
   ]
  },
  {
   "cell_type": "code",
   "execution_count": null,
   "metadata": {
    "colab": {
     "base_uri": "https://localhost:8080/",
     "height": 282
    },
    "executionInfo": {
     "elapsed": 1721,
     "status": "ok",
     "timestamp": 1608192176463,
     "user": {
      "displayName": "Tomasz Różański",
      "photoUrl": "https://lh4.googleusercontent.com/-CdAQaQI9V1E/AAAAAAAAAAI/AAAAAAAAAvI/rnNPiSw4f80/s64/photo.jpg",
      "userId": "09904144145241711927"
     },
     "user_tz": -60
    },
    "id": "1ZtagSs0iOCV",
    "outputId": "cbcc01fa-1ee6-41ad-d307-c230bd2a108e"
   },
   "outputs": [],
   "source": [
    "x = np.linspace(0, 1, 101) # 101 numbers from 0 to 1\n",
    "\n",
    "plt.plot(x, x**2)"
   ]
  },
  {
   "cell_type": "markdown",
   "metadata": {
    "id": "5-UDyBNUijQN"
   },
   "source": [
    "### Różne style:"
   ]
  },
  {
   "cell_type": "code",
   "execution_count": null,
   "metadata": {
    "colab": {
     "base_uri": "https://localhost:8080/",
     "height": 265
    },
    "executionInfo": {
     "elapsed": 1101,
     "status": "ok",
     "timestamp": 1608192179349,
     "user": {
      "displayName": "Tomasz Różański",
      "photoUrl": "https://lh4.googleusercontent.com/-CdAQaQI9V1E/AAAAAAAAAAI/AAAAAAAAAvI/rnNPiSw4f80/s64/photo.jpg",
      "userId": "09904144145241711927"
     },
     "user_tz": -60
    },
    "id": "2KR7RryuihK0",
    "outputId": "7d926519-c9f6-4d4e-ecbd-517fdd3b780a"
   },
   "outputs": [],
   "source": [
    "t = np.linspace(0, 2 * np.pi)   # 50 points between 0 and 2π\n",
    "plt.plot(t, np.sin(t));"
   ]
  },
  {
   "cell_type": "code",
   "execution_count": null,
   "metadata": {
    "colab": {
     "base_uri": "https://localhost:8080/",
     "height": 265
    },
    "executionInfo": {
     "elapsed": 1139,
     "status": "ok",
     "timestamp": 1608192181913,
     "user": {
      "displayName": "Tomasz Różański",
      "photoUrl": "https://lh4.googleusercontent.com/-CdAQaQI9V1E/AAAAAAAAAAI/AAAAAAAAAvI/rnNPiSw4f80/s64/photo.jpg",
      "userId": "09904144145241711927"
     },
     "user_tz": -60
    },
    "id": "JcYlFrz9imrT",
    "outputId": "eaed6e9e-2e25-466c-dfc8-19808a2393c9"
   },
   "outputs": [],
   "source": [
    "plt.plot(t, np.sin(t), '--');"
   ]
  },
  {
   "cell_type": "code",
   "execution_count": null,
   "metadata": {
    "colab": {
     "base_uri": "https://localhost:8080/",
     "height": 282
    },
    "executionInfo": {
     "elapsed": 1601,
     "status": "ok",
     "timestamp": 1608192182660,
     "user": {
      "displayName": "Tomasz Różański",
      "photoUrl": "https://lh4.googleusercontent.com/-CdAQaQI9V1E/AAAAAAAAAAI/AAAAAAAAAvI/rnNPiSw4f80/s64/photo.jpg",
      "userId": "09904144145241711927"
     },
     "user_tz": -60
    },
    "id": "M2W57L_fioAb",
    "outputId": "72336183-511c-4bde-e427-b6b18c2add87"
   },
   "outputs": [],
   "source": [
    "plt.plot(t, np.sin(t), 'go')\n",
    "# plt.plot(t, np.sin(t), color='green', marker='o', linestyle='');   # same thing!"
   ]
  },
  {
   "cell_type": "code",
   "execution_count": null,
   "metadata": {
    "colab": {
     "base_uri": "https://localhost:8080/",
     "height": 265
    },
    "executionInfo": {
     "elapsed": 591,
     "status": "ok",
     "timestamp": 1608192184539,
     "user": {
      "displayName": "Tomasz Różański",
      "photoUrl": "https://lh4.googleusercontent.com/-CdAQaQI9V1E/AAAAAAAAAAI/AAAAAAAAAvI/rnNPiSw4f80/s64/photo.jpg",
      "userId": "09904144145241711927"
     },
     "user_tz": -60
    },
    "id": "LWDsa0k2iqi8",
    "outputId": "928057c2-9612-4d14-e7dd-ae28c2a8bd71"
   },
   "outputs": [],
   "source": [
    "# new in matplotlib 2.0, all colors of the color rotation available as C<N>\n",
    "# Multiple lines in the same plot\n",
    "x = np.linspace(0, 1, 100)\n",
    "for n in range(9):\n",
    "    plt.plot(x**(n + 1), color='C{}'.format(n))"
   ]
  },
  {
   "cell_type": "markdown",
   "metadata": {
    "id": "pF-MIsfaiyGO"
   },
   "source": [
    "Wszystkie style i kolory: [matplotlib.axes.Axes.plot](http://matplotlib.org/api/_as_gen/matplotlib.axes.Axes.plot.html#matplotlib.axes.Axes.plot)\n"
   ]
  },
  {
   "cell_type": "code",
   "execution_count": null,
   "metadata": {
    "executionInfo": {
     "elapsed": 709,
     "status": "ok",
     "timestamp": 1608192187840,
     "user": {
      "displayName": "Tomasz Różański",
      "photoUrl": "https://lh4.googleusercontent.com/-CdAQaQI9V1E/AAAAAAAAAAI/AAAAAAAAAvI/rnNPiSw4f80/s64/photo.jpg",
      "userId": "09904144145241711927"
     },
     "user_tz": -60
    },
    "id": "JtUGBSO-isWT"
   },
   "outputs": [],
   "source": [
    "months = range(1, 13)\n",
    "min_temp = np.array([-30.6, -34.3, -26.7, -11.7, -6.1, 1.1, 3.9, 3.3, -2.1, -8.2, -18.2, -22.8])\n",
    "max_temp = np.array([21.7, 19.4, 31.7, 30.6, 36.7, 40.6, 40.6, 37.2, 37.2, 32.8, 26.1, 20.0])"
   ]
  },
  {
   "cell_type": "code",
   "execution_count": null,
   "metadata": {
    "colab": {
     "base_uri": "https://localhost:8080/",
     "height": 282
    },
    "executionInfo": {
     "elapsed": 635,
     "status": "ok",
     "timestamp": 1607018879567,
     "user": {
      "displayName": "Tomasz Różański",
      "photoUrl": "https://lh4.googleusercontent.com/-CdAQaQI9V1E/AAAAAAAAAAI/AAAAAAAAAvI/rnNPiSw4f80/s64/photo.jpg",
      "userId": "09904144145241711927"
     },
     "user_tz": -60
    },
    "id": "w00wAn8Bi4Gk",
    "outputId": "8fc0e18e-1632-4601-9544-457ffc66fad5"
   },
   "outputs": [],
   "source": [
    "plt.plot(months, min_temp) #, c='0.2')\n",
    "plt.plot(months, max_temp) #, color='0.2')\n",
    "\n",
    "########################## 1:\n",
    "# plt.ylabel('$^\\circ$C')\n",
    "\n",
    "# plt.fill_between(months, min_temp, max_temp, color='lightgray')\n",
    "# plt.grid(linestyle='--')\n",
    "\n",
    "########################## 2:\n",
    "# month_names = ['January',\n",
    "#           'February',\n",
    "#           'March',\n",
    "#           'April',\n",
    "#           'May',\n",
    "#           'June',\n",
    "#           'July',\n",
    "#           'August',\n",
    "#           'September',\n",
    "#           'October',\n",
    "#           'November',\n",
    "#           'December']\n",
    "\n",
    "# plt.xticks(\n",
    "#     months,\n",
    "#     month_names,\n",
    "#     rotation=45,\n",
    "#     rotation_mode='anchor',\n",
    "#     horizontalalignment='right',  # or ha\n",
    "#     verticalalignment='top',      # or va\n",
    "# );\n"
   ]
  },
  {
   "cell_type": "markdown",
   "metadata": {
    "id": "IRnCX_DzjLa8"
   },
   "source": [
    "## Historgramy\n",
    "\n",
    "### 1D"
   ]
  },
  {
   "cell_type": "code",
   "execution_count": null,
   "metadata": {
    "id": "5i0wQ838i7Iz"
   },
   "outputs": [],
   "source": [
    "plt.hist?"
   ]
  },
  {
   "cell_type": "code",
   "execution_count": null,
   "metadata": {
    "colab": {
     "base_uri": "https://localhost:8080/",
     "height": 282
    },
    "executionInfo": {
     "elapsed": 593,
     "status": "ok",
     "timestamp": 1607019159790,
     "user": {
      "displayName": "Tomasz Różański",
      "photoUrl": "https://lh4.googleusercontent.com/-CdAQaQI9V1E/AAAAAAAAAAI/AAAAAAAAAvI/rnNPiSw4f80/s64/photo.jpg",
      "userId": "09904144145241711927"
     },
     "user_tz": -60
    },
    "id": "Bc11PMa4jST8",
    "outputId": "adaca76a-f4cb-40f6-e745-16357defc98d"
   },
   "outputs": [],
   "source": [
    "sample_size = 100\n",
    "m = 20\n",
    "s = 5\n",
    "normal_sample = np.random.normal(m, s, sample_size)\n",
    "bins = np.linspace(0, 50, 101)\n",
    "counts, bins, _ = plt.hist(normal_sample, bins=20, label='Random sample')\n",
    "# plt.xlabel('Normally distributed variable?')\n",
    "# plt.ylabel('Counts')\n",
    "# plt.title('Normal distribution')\n",
    "\n",
    "# Add a line plot to compare with expected distribution\n",
    "# x = np.linspace(0, 40, 100)\n",
    "# y = 1/np.sqrt(1*np.pi*s**2)*np.exp(-(x - m)**2/(2*s**2))*sample_size\n",
    "# plt.plot(x, y, label=r'$p(x) = \\frac{1}{\\sqrt{ 2 \\pi \\sigma^2 }} e^{ - \\frac{ (x - \\mu)^2 } {2 \\sigma^2} }$')\n",
    "\n",
    "# Add a legend\n",
    "plt.legend(loc='upper left')\n",
    "# plt.legend(loc=(0.2, 0.2))"
   ]
  },
  {
   "cell_type": "markdown",
   "metadata": {
    "id": "SV31G46bjl2v"
   },
   "source": [
    "### 2D"
   ]
  },
  {
   "cell_type": "code",
   "execution_count": null,
   "metadata": {
    "id": "Yp04No48jX2S"
   },
   "outputs": [],
   "source": [
    "plt.hist2d?"
   ]
  },
  {
   "cell_type": "code",
   "execution_count": null,
   "metadata": {
    "colab": {
     "base_uri": "https://localhost:8080/",
     "height": 269
    },
    "executionInfo": {
     "elapsed": 877,
     "status": "ok",
     "timestamp": 1607019127113,
     "user": {
      "displayName": "Tomasz Różański",
      "photoUrl": "https://lh4.googleusercontent.com/-CdAQaQI9V1E/AAAAAAAAAAI/AAAAAAAAAvI/rnNPiSw4f80/s64/photo.jpg",
      "userId": "09904144145241711927"
     },
     "user_tz": -60
    },
    "id": "qY5YoOuPjoha",
    "outputId": "1acb7d1a-bf41-4ab4-8a21-76d736014be0"
   },
   "outputs": [],
   "source": [
    "mean = [2, 1]\n",
    "cov = [[9, 5],\n",
    "       [5, 4]]\n",
    "\n",
    "x, y = np.random.multivariate_normal(mean, cov, size=10000).T\n",
    "\n",
    "hist_output = plt.hist2d(x, y, bins=50, cmap='gist_heat') # try different color maps: viridis(default), inferno, gist_heat\n",
    "# plt.hist2d(x, y, bins=50)\n",
    "# plt.hist2d(x, y, bins=[25, 50], range=[[-10, 14], [-5, 7]])\n",
    "\n",
    "plt.colorbar(label='Counts'); "
   ]
  },
  {
   "cell_type": "markdown",
   "metadata": {
    "id": "1vbWKJnmj1w0"
   },
   "source": [
    "## Bar plot"
   ]
  },
  {
   "cell_type": "code",
   "execution_count": null,
   "metadata": {
    "id": "Vj-tTHWTjq1T"
   },
   "outputs": [],
   "source": [
    "plt.bar?"
   ]
  },
  {
   "cell_type": "code",
   "execution_count": null,
   "metadata": {
    "colab": {
     "base_uri": "https://localhost:8080/",
     "height": 282
    },
    "executionInfo": {
     "elapsed": 610,
     "status": "ok",
     "timestamp": 1607019164781,
     "user": {
      "displayName": "Tomasz Różański",
      "photoUrl": "https://lh4.googleusercontent.com/-CdAQaQI9V1E/AAAAAAAAAAI/AAAAAAAAAvI/rnNPiSw4f80/s64/photo.jpg",
      "userId": "09904144145241711927"
     },
     "user_tz": -60
    },
    "id": "C2WhqTP1j4ka",
    "outputId": "593b9c5b-3c42-4066-913f-be96a3087391"
   },
   "outputs": [],
   "source": [
    "# Reusing the data from the 1D histogram\n",
    "centers = (bins[:-1] + bins[1:])/2.\n",
    "plt.bar(centers, counts)\n",
    "\n",
    "# Not exactly the plot we had previously\n",
    "# We have to set the width of the bar to the width of the bin\n",
    "# bin_width = bins[1:] - bins[:-1]\n",
    "# plt.bar(centers, counts, bin_width)"
   ]
  },
  {
   "cell_type": "markdown",
   "metadata": {
    "id": "RbtepQ9GkDbz"
   },
   "source": [
    "### Multiple Bar Plot"
   ]
  },
  {
   "cell_type": "code",
   "execution_count": null,
   "metadata": {
    "colab": {
     "base_uri": "https://localhost:8080/"
    },
    "executionInfo": {
     "elapsed": 27359,
     "status": "ok",
     "timestamp": 1607019195883,
     "user": {
      "displayName": "Tomasz Różański",
      "photoUrl": "https://lh4.googleusercontent.com/-CdAQaQI9V1E/AAAAAAAAAAI/AAAAAAAAAvI/rnNPiSw4f80/s64/photo.jpg",
      "userId": "09904144145241711927"
     },
     "user_tz": -60
    },
    "id": "drF88FzekddJ",
    "outputId": "fe5dd6a5-e962-4fa7-a19a-1f8591346e39"
   },
   "outputs": [],
   "source": [
    "# Po wykonaniu tej komórki (Shift+Enter) musimy w polu poniżej wpisać kod,\n",
    "# który pozwoli nam zamontować nasz dysk google,\n",
    "# w maszynie wirtualnej (komputerze) na której uruchomiony jest ten zeszyt.\n",
    "from google.colab import drive\n",
    "drive.mount('/content/gdrive')"
   ]
  },
  {
   "cell_type": "code",
   "execution_count": null,
   "metadata": {
    "id": "bbfSx-vVk9YJ"
   },
   "outputs": [],
   "source": [
    "import os\n",
    "# Przygotowanie ścieżki do pliku:\n",
    "gdrive_path= \"/content/gdrive/MyDrive\"\n",
    "data_directory= \"python_tutorial/data\" # Jeżeli zapisaliśmy dane gdzieś indziej musimy tutaj to zmienić.\n",
    "data_path= os.path.join(gdrive_path, data_directory, \"power_sources.csv\")"
   ]
  },
  {
   "cell_type": "code",
   "execution_count": null,
   "metadata": {
    "id": "FL_mgEd5j7sa"
   },
   "outputs": [],
   "source": [
    "power_data = np.loadtxt(data_path, delimiter=';', skiprows=1, usecols=range(1, 9))\n",
    "power_headers = ['Hydroelectric',\n",
    " 'Nuclear',\n",
    " 'Coal',\n",
    " 'Combined Cycle',\n",
    " 'Wind',\n",
    " 'Thermal',\n",
    " 'Other non renewable',\n",
    " 'Other renewable']\n",
    "power_labels = ['January',\n",
    " 'February',\n",
    " 'March',\n",
    " 'April',\n",
    " 'May',\n",
    " 'June',\n",
    " 'July',\n",
    " 'August',\n",
    " 'September',\n",
    " 'October',\n",
    " 'November',\n",
    " 'December']"
   ]
  },
  {
   "cell_type": "code",
   "execution_count": null,
   "metadata": {
    "colab": {
     "base_uri": "https://localhost:8080/",
     "height": 343
    },
    "executionInfo": {
     "elapsed": 975,
     "status": "ok",
     "timestamp": 1607019242124,
     "user": {
      "displayName": "Tomasz Różański",
      "photoUrl": "https://lh4.googleusercontent.com/-CdAQaQI9V1E/AAAAAAAAAAI/AAAAAAAAAvI/rnNPiSw4f80/s64/photo.jpg",
      "userId": "09904144145241711927"
     },
     "user_tz": -60
    },
    "id": "pYmQT1XWkLH6",
    "outputId": "fe9dbe90-f293-49c8-ad54-5d551a99227a"
   },
   "outputs": [],
   "source": [
    "plt.bar(np.arange(1, 13) - 1/4., power_data[:, 0], width=1/4., label=power_headers[0])\n",
    "plt.bar(np.arange(1, 13), power_data[:, 4], width=1/4., label=power_headers[4])\n",
    "plt.bar(np.arange(1, 13) + 1/4., power_data[:, 7], width=1/4., label=power_headers[7])\n",
    "plt.xticks(np.arange(1, 13), power_labels, rotation=90)\n",
    "plt.title('% of total Power produced in Spain in 2017')\n",
    "plt.ylabel('%')\n",
    "plt.legend()"
   ]
  },
  {
   "cell_type": "markdown",
   "metadata": {
    "id": "thmtkTtMpHca"
   },
   "source": [
    "### Stacked bar plot"
   ]
  },
  {
   "cell_type": "code",
   "execution_count": null,
   "metadata": {
    "colab": {
     "base_uri": "https://localhost:8080/",
     "height": 318
    },
    "executionInfo": {
     "elapsed": 1306,
     "status": "ok",
     "timestamp": 1607019260189,
     "user": {
      "displayName": "Tomasz Różański",
      "photoUrl": "https://lh4.googleusercontent.com/-CdAQaQI9V1E/AAAAAAAAAAI/AAAAAAAAAvI/rnNPiSw4f80/s64/photo.jpg",
      "userId": "09904144145241711927"
     },
     "user_tz": -60
    },
    "id": "1r1hX2VApHip",
    "outputId": "93d9c310-813e-4dde-ed3e-2daeecf56a27"
   },
   "outputs": [],
   "source": [
    "renewable = power_data[:, [0, 4, 7]].sum(axis=1) # Hydroelectric + Wind + Other renewable'\n",
    "non_renewable = power_data[:, [1, 2, 3, 5, 6]].sum(axis=1) # Nuclear + Coal + Combined Cycle + Thermal + Other non renewable\n",
    "\n",
    "plt.bar(range(1, 13), renewable, label='Renewable')\n",
    "plt.bar(range(1, 13), non_renewable, bottom=renewable, label='Non renewable')\n",
    "\n",
    "plt.xticks(range(1, 13), power_labels, rotation=45, ha='right')\n",
    "plt.hlines(50, 0, 13)\n",
    "plt.legend()\n",
    "\n",
    "#plt.yticks([]);"
   ]
  },
  {
   "cell_type": "markdown",
   "metadata": {
    "id": "29BEAo9cpNY2"
   },
   "source": [
    "### Scatter plot"
   ]
  },
  {
   "cell_type": "code",
   "execution_count": null,
   "metadata": {
    "id": "rJHRIDS0pLOl"
   },
   "outputs": [],
   "source": [
    "plt.scatter?"
   ]
  },
  {
   "cell_type": "code",
   "execution_count": null,
   "metadata": {
    "colab": {
     "base_uri": "https://localhost:8080/",
     "height": 265
    },
    "executionInfo": {
     "elapsed": 982,
     "status": "ok",
     "timestamp": 1607019342666,
     "user": {
      "displayName": "Tomasz Różański",
      "photoUrl": "https://lh4.googleusercontent.com/-CdAQaQI9V1E/AAAAAAAAAAI/AAAAAAAAAvI/rnNPiSw4f80/s64/photo.jpg",
      "userId": "09904144145241711927"
     },
     "user_tz": -60
    },
    "id": "G996uvcXpP35",
    "outputId": "a0206b39-ed92-49ec-e244-d4a28a8d2780"
   },
   "outputs": [],
   "source": [
    "x1, y1, z1 = np.random.multivariate_normal([1, 1, 0], [[1, 0, 0], [0, 1, 0], [0, 0, 10]], 1000).T\n",
    "\n",
    "# raw plot\n",
    "# plt.scatter(x1, y1, alpha=0.5)\n",
    "\n",
    "# Coloured\n",
    "# plt.scatter(x1, y1, c=z1, cmap='winter')\n",
    "# plt.colorbar()\n",
    "\n",
    "# With sizes\n",
    "plt.scatter(x1, y1, s=5*(z1 - min(z1)), alpha=0.5)\n",
    "\n",
    "# Add another scatter\n",
    "x2, y2 = np.random.multivariate_normal([-1, -1], [[1, 0], [0, 1]], 1000).T\n",
    "plt.scatter(x2, y2, alpha=0.5)\n",
    "\n",
    "# Add a grid\n",
    "plt.grid()\n",
    "# And tune it!!\n",
    "plt.grid(alpha=0.2, linestyle='--', linewidth=2., color='0.2')\n",
    "\n",
    "# The grid is bound to the ticks\n",
    "plt.xticks(np.arange(-4, 4.1))\n",
    "plt.yticks(np.arange(-4, 4.1));\n",
    "\n",
    "# Set the limits of the plot\n",
    "# plt.xlim([-2, 2])\n",
    "# plt.ylim([-2, 2]);"
   ]
  },
  {
   "cell_type": "markdown",
   "metadata": {
    "id": "EFXROkeWoD3R"
   },
   "source": [
    "Pokazany wyżej interface zaimplementowany w submodule `pyplot` naśladuje tworzenie rysunków dostępne w Matlabie. Jest prosty, ale nie daje pełnej kontroli nad rysunkiem. Więcej poczytać można na:\n",
    "\n",
    "[OO matpltolib interface](https://matplotlib.org/tutorials/introductory/usage.html#parts-of-a-figure)\n",
    "\n",
    "Przykłady:"
   ]
  },
  {
   "cell_type": "code",
   "execution_count": null,
   "metadata": {
    "colab": {
     "base_uri": "https://localhost:8080/",
     "height": 297
    },
    "executionInfo": {
     "elapsed": 2232,
     "status": "ok",
     "timestamp": 1607019424189,
     "user": {
      "displayName": "Tomasz Różański",
      "photoUrl": "https://lh4.googleusercontent.com/-CdAQaQI9V1E/AAAAAAAAAAI/AAAAAAAAAvI/rnNPiSw4f80/s64/photo.jpg",
      "userId": "09904144145241711927"
     },
     "user_tz": -60
    },
    "id": "S-tfytiio-Q0",
    "outputId": "ade60e0e-114a-4760-9565-e501ee2dff35"
   },
   "outputs": [],
   "source": [
    "x = np.linspace(0, 3.)\n",
    "\n",
    "# subplot arguments: # of rows, # of columns, plot index (row * (#cols) + col)\n",
    "for i in range(9):\n",
    "    ax = plt.subplot(3, 3, i + 1) # the same as fig.add_subplot\n",
    "    ax.plot(x, x**i)\n",
    "    ax.set_xlim(0, 3)\n",
    "    y_center = np.array(ax.get_ylim()).sum()/2.\n",
    "    ax.text(1.5, y_center, str(i + 1), ha='center', va='center', fontsize=32)\n",
    "\n",
    "plt.tight_layout() # When doing multiple plots you should almost always use this command"
   ]
  },
  {
   "cell_type": "code",
   "execution_count": null,
   "metadata": {
    "colab": {
     "base_uri": "https://localhost:8080/",
     "height": 297
    },
    "executionInfo": {
     "elapsed": 1021,
     "status": "ok",
     "timestamp": 1608192664387,
     "user": {
      "displayName": "Tomasz Różański",
      "photoUrl": "https://lh4.googleusercontent.com/-CdAQaQI9V1E/AAAAAAAAAAI/AAAAAAAAAvI/rnNPiSw4f80/s64/photo.jpg",
      "userId": "09904144145241711927"
     },
     "user_tz": -60
    },
    "id": "iKYdJrxawIFa",
    "outputId": "88a7a819-826f-4dae-d9d7-6660af5b4d95"
   },
   "outputs": [],
   "source": [
    "# Create some mock data\n",
    "t = np.arange(0.01, 10.0, 0.01)\n",
    "data1 = np.exp(t)\n",
    "data2 = np.sin(2 * np.pi * t)\n",
    "\n",
    "fig, ax1 = plt.subplots()\n",
    "\n",
    "color = 'tab:red'\n",
    "ax1.set_xlabel('time (s)')\n",
    "ax1.set_ylabel('exp', color=color)\n",
    "ax1.plot(t, data1, color=color)\n",
    "ax1.tick_params(axis='y', labelcolor=color)\n",
    "\n",
    "ax2 = ax1.twinx()  # instantiate a second axes that shares the same x-axis\n",
    "\n",
    "color = 'tab:blue'\n",
    "ax2.set_ylabel('sin', color=color)  # we already handled the x-label with ax1\n",
    "ax2.plot(t, data2, color=color)\n",
    "ax2.tick_params(axis='y', labelcolor=color)\n",
    "\n",
    "fig.tight_layout()  # otherwise the right y-label is slightly clipped"
   ]
  },
  {
   "cell_type": "markdown",
   "metadata": {
    "id": "1znuHaQ4qfPl"
   },
   "source": [
    "## Subplot/Shared axis"
   ]
  },
  {
   "cell_type": "code",
   "execution_count": null,
   "metadata": {
    "colab": {
     "base_uri": "https://localhost:8080/",
     "height": 308
    },
    "executionInfo": {
     "elapsed": 912,
     "status": "ok",
     "timestamp": 1607019435954,
     "user": {
      "displayName": "Tomasz Różański",
      "photoUrl": "https://lh4.googleusercontent.com/-CdAQaQI9V1E/AAAAAAAAAAI/AAAAAAAAAvI/rnNPiSw4f80/s64/photo.jpg",
      "userId": "09904144145241711927"
     },
     "user_tz": -60
    },
    "id": "C3mWK1mQqbn0",
    "outputId": "791e5ceb-b639-43f2-ca89-24fe8b39b3c4"
   },
   "outputs": [],
   "source": [
    "def poisson(x, k):\n",
    "    return np.exp(-x)*x**k / np.math.factorial(k)\n",
    "\n",
    "x = np.linspace(0, 12, 40)\n",
    "y = poisson(x, 2)\n",
    "y_noise = y + np.random.normal(0, 0.01, len(y))\n",
    "z = np.linspace(0, 12, 100)\n",
    "\n",
    "gridspec = {'height_ratios': [2, 1]}\n",
    "fig, (ax1, ax2) = plt.subplots(2, sharex=True, gridspec_kw=gridspec)\n",
    "\n",
    "ax1.plot(x, y_noise, 'ko')\n",
    "ax1.plot(z, poisson(z, 2))\n",
    "ax1.set_ylim(-0.05, 0.30)\n",
    "ax1.set_ylabel('Flux')\n",
    "#ax1.set_yticks(ax1.get_yticks()[1:])    # remove bottom y-tick\n",
    "\n",
    "ax2.plot(x, y_noise - y, 'ko')\n",
    "ax2.axhline(y=0, color='black', linestyle='--', linewidth=1)\n",
    "ax2.set_xlabel('Energy')\n",
    "ax2.set_ylim(-0.03, 0.04)\n",
    "ax2.set_ylabel('Residuals')\n",
    "#ax2.set_yticks(ax2.get_yticks()[:-2])   # remove top y-tick\n",
    "\n",
    "#fig.subplots_adjust(hspace=0)\n",
    "fig.suptitle('\\nFake Spectrum', fontweight='bold');"
   ]
  },
  {
   "cell_type": "markdown",
   "metadata": {
    "id": "6I3jy5xRqoaM"
   },
   "source": [
    "### Using gridspec"
   ]
  },
  {
   "cell_type": "code",
   "execution_count": null,
   "metadata": {
    "colab": {
     "base_uri": "https://localhost:8080/",
     "height": 282
    },
    "executionInfo": {
     "elapsed": 1535,
     "status": "ok",
     "timestamp": 1607019506075,
     "user": {
      "displayName": "Tomasz Różański",
      "photoUrl": "https://lh4.googleusercontent.com/-CdAQaQI9V1E/AAAAAAAAAAI/AAAAAAAAAvI/rnNPiSw4f80/s64/photo.jpg",
      "userId": "09904144145241711927"
     },
     "user_tz": -60
    },
    "id": "uINHPHjTqh98",
    "outputId": "7e2f8b32-a542-4530-87ed-24a947e39ead"
   },
   "outputs": [],
   "source": [
    "# use gridspec to partition the figure into subplots\n",
    "import matplotlib.gridspec as gridspec\n",
    "\n",
    "fig = plt.figure()\n",
    "gspec = gridspec.GridSpec(3, 3) #, wspace=0.05, hspace=0.05)\n",
    "\n",
    "top_histogram = fig.add_subplot(gspec[0, 1:])\n",
    "side_histogram = fig.add_subplot(gspec[1:, 0])\n",
    "lower_right = fig.add_subplot(gspec[1:, 1:])\n",
    "\n",
    "# We produce two sets of random data\n",
    "Y = np.random.normal(loc=0.0, scale=1.0, size=10000)\n",
    "X = np.random.random(size=10000)\n",
    "\n",
    "# Normed histograms counts add up to 1, they resemble a probability density function\n",
    "top_histogram.hist(X, bins=100, density=True)\n",
    "side_histogram.hist(Y, bins=100, orientation='horizontal', density=True)\n",
    "# flip the side histogram's x axis\n",
    "side_histogram.invert_xaxis()\n",
    "lower_right.scatter(X, Y, alpha=0.5)\n",
    "\n",
    "# Remove the picks in-between\n",
    "# top_histogram.set_xticks([])\n",
    "# lower_right.set_yticks([])\n",
    "# top_histogram.set_yticks(top_histogram.get_yticks()[1:])\n",
    "# side_histogram.set_xticks(side_histogram.get_xticks()[1:]);"
   ]
  },
  {
   "cell_type": "markdown",
   "metadata": {
    "id": "9ObsgGzvrD0c"
   },
   "source": [
    "### Inside plots"
   ]
  },
  {
   "cell_type": "code",
   "execution_count": null,
   "metadata": {
    "colab": {
     "base_uri": "https://localhost:8080/",
     "height": 281
    },
    "executionInfo": {
     "elapsed": 883,
     "status": "ok",
     "timestamp": 1607019514350,
     "user": {
      "displayName": "Tomasz Różański",
      "photoUrl": "https://lh4.googleusercontent.com/-CdAQaQI9V1E/AAAAAAAAAAI/AAAAAAAAAvI/rnNPiSw4f80/s64/photo.jpg",
      "userId": "09904144145241711927"
     },
     "user_tz": -60
    },
    "id": "KEzvCiUgqqfk",
    "outputId": "a05343f8-d54c-4170-caf8-7c87d9eab3d5"
   },
   "outputs": [],
   "source": [
    "plt.plot(x, x**2)\n",
    "plt.title(\"Outer Plot\")\n",
    "\n",
    "# axes coordinates: (0,0) is lower left, (1,1) upper right\n",
    "plt.axes([0.2, 0.45, 0.3, 0.3])\n",
    "plt.plot(x, x**3)\n",
    "plt.title(\"Inner Plot\");"
   ]
  },
  {
   "cell_type": "markdown",
   "metadata": {
    "id": "DfwzOyC0rLyT"
   },
   "source": [
    "## Inne przykłady\n",
    "\n",
    "### Wyświetlanie zdjęcia"
   ]
  },
  {
   "cell_type": "code",
   "execution_count": null,
   "metadata": {
    "colab": {
     "base_uri": "https://localhost:8080/",
     "height": 269
    },
    "executionInfo": {
     "elapsed": 922,
     "status": "ok",
     "timestamp": 1607019541785,
     "user": {
      "displayName": "Tomasz Różański",
      "photoUrl": "https://lh4.googleusercontent.com/-CdAQaQI9V1E/AAAAAAAAAAI/AAAAAAAAAvI/rnNPiSw4f80/s64/photo.jpg",
      "userId": "09904144145241711927"
     },
     "user_tz": -60
    },
    "id": "WCb7_6jMrFIU",
    "outputId": "32209e82-3cf2-4e9a-968e-1251ee4120a9"
   },
   "outputs": [],
   "source": [
    "n_rows = 2\n",
    "n_cols = 2\n",
    "m = np.array([[n_rows*i + j for j in range(n_cols)] for i in range(n_rows)])\n",
    "plt.imshow(m)\n",
    "plt.colorbar();"
   ]
  },
  {
   "cell_type": "code",
   "execution_count": null,
   "metadata": {
    "colab": {
     "base_uri": "https://localhost:8080/",
     "height": 268
    },
    "executionInfo": {
     "elapsed": 1097,
     "status": "ok",
     "timestamp": 1607019582053,
     "user": {
      "displayName": "Tomasz Różański",
      "photoUrl": "https://lh4.googleusercontent.com/-CdAQaQI9V1E/AAAAAAAAAAI/AAAAAAAAAvI/rnNPiSw4f80/s64/photo.jpg",
      "userId": "09904144145241711927"
     },
     "user_tz": -60
    },
    "id": "z135nevgrSkk",
    "outputId": "3d46acf7-e661-4f05-f32c-d5c9d7f1fb26"
   },
   "outputs": [],
   "source": [
    "from matplotlib.colors import LogNorm\n",
    "\n",
    "x = np.linspace(0, 2 * np.pi, 120)\n",
    "y = np.linspace(0, 2 * np.pi, 120).reshape(-1, 1)\n",
    "\n",
    "im = plt.imshow(np.sin(x) + np.cos(y), cmap='gist_heat') #, clim=(-0.5, 0.5)) #, norm=LogNorm())\n",
    "plt.colorbar();"
   ]
  },
  {
   "cell_type": "markdown",
   "metadata": {
    "id": "z8b0Fz_TrYDN"
   },
   "source": [
    "### Box plot"
   ]
  },
  {
   "cell_type": "code",
   "execution_count": null,
   "metadata": {
    "colab": {
     "base_uri": "https://localhost:8080/",
     "height": 265
    },
    "executionInfo": {
     "elapsed": 812,
     "status": "ok",
     "timestamp": 1607019596342,
     "user": {
      "displayName": "Tomasz Różański",
      "photoUrl": "https://lh4.googleusercontent.com/-CdAQaQI9V1E/AAAAAAAAAAI/AAAAAAAAAvI/rnNPiSw4f80/s64/photo.jpg",
      "userId": "09904144145241711927"
     },
     "user_tz": -60
    },
    "id": "LWpgL74DrUqc",
    "outputId": "88617e57-d841-42f7-f90b-6e0311b62f06"
   },
   "outputs": [],
   "source": [
    "s1 = np.random.normal(size=100)\n",
    "s2 = np.random.uniform(size=100)\n",
    "s3 = np.random.exponential(size=100)\n",
    "plt.boxplot([s1, s2, s3], labels=['Normal', 'Uniform', 'Exponential']);"
   ]
  },
  {
   "cell_type": "markdown",
   "metadata": {
    "id": "X0EacPlsriBp"
   },
   "source": [
    "### Pie charts (diagramy kołowe)"
   ]
  },
  {
   "cell_type": "code",
   "execution_count": null,
   "metadata": {
    "colab": {
     "base_uri": "https://localhost:8080/",
     "height": 248
    },
    "executionInfo": {
     "elapsed": 615,
     "status": "ok",
     "timestamp": 1607019611577,
     "user": {
      "displayName": "Tomasz Różański",
      "photoUrl": "https://lh4.googleusercontent.com/-CdAQaQI9V1E/AAAAAAAAAAI/AAAAAAAAAvI/rnNPiSw4f80/s64/photo.jpg",
      "userId": "09904144145241711927"
     },
     "user_tz": -60
    },
    "id": "jLVoIW6NraUk",
    "outputId": "b31be76c-b261-48af-fc61-5d3b3baa10f6"
   },
   "outputs": [],
   "source": [
    "pie_order = [0, 4, 7, 1, 2, 3, 5, 6]\n",
    "pie_data = power_data[11, pie_order]\n",
    "pie_labels = [power_headers[i] for i in pie_order]\n",
    "pie_colors = [(0, (i + 3)/5., 0, 0.7) for i in range(3)] + \\\n",
    "    [((i + 3)/7., 0, 0, 0.7) for i in range(5)] #RGB color specification\n",
    "\n",
    "fig, ax = plt.subplots()\n",
    "ax.pie(pie_data, labels=pie_labels, colors=pie_colors)\n",
    "ax.axis('equal');"
   ]
  },
  {
   "cell_type": "markdown",
   "metadata": {
    "id": "c30VoM1JrtZ_"
   },
   "source": [
    "### Rzuty"
   ]
  },
  {
   "cell_type": "code",
   "execution_count": null,
   "metadata": {
    "id": "_8NNhc6Kr2FS"
   },
   "outputs": [],
   "source": [
    "import os\n",
    "# Przygotowanie ścieżki do pliku:\n",
    "gdrive_path= \"/content/gdrive/MyDrive\"\n",
    "data_directory= \"python_tutorial/data\" # Jeżeli zapisaliśmy dane gdzieś indziej musimy tutaj to zmienić.\n",
    "data_path= os.path.join(gdrive_path, data_directory, \"GaiaDR2.csv\")"
   ]
  },
  {
   "cell_type": "code",
   "execution_count": null,
   "metadata": {
    "colab": {
     "base_uri": "https://localhost:8080/",
     "height": 319
    },
    "executionInfo": {
     "elapsed": 1990,
     "status": "ok",
     "timestamp": 1607019621623,
     "user": {
      "displayName": "Tomasz Różański",
      "photoUrl": "https://lh4.googleusercontent.com/-CdAQaQI9V1E/AAAAAAAAAAI/AAAAAAAAAvI/rnNPiSw4f80/s64/photo.jpg",
      "userId": "09904144145241711927"
     },
     "user_tz": -60
    },
    "id": "P7SIUQn0rpJ8",
    "outputId": "985c840d-2602-493f-8d91-6045d170f463"
   },
   "outputs": [],
   "source": [
    "import matplotlib.gridspec as gridspec\n",
    "\n",
    "gs = gridspec.GridSpec(1, 3, wspace=0.5)\n",
    "\n",
    "theta = np.linspace(0, 5*2*np.pi, 101)\n",
    "r = theta/2*np.pi\n",
    "\n",
    "fig = plt.figure(figsize=(16, 8))\n",
    "\n",
    "ax1 = fig.add_subplot(gs[0], projection='polar')\n",
    "ax1.plot(theta, r)\n",
    "\n",
    "gaia_data = np.loadtxt(data_path, delimiter=',', skiprows=11)\n",
    "ax2 = fig.add_subplot(gs[1:], projection='mollweide')\n",
    "ax2.scatter(np.deg2rad(gaia_data[:, 0]), np.deg2rad(gaia_data[:, 1]), alpha=0.3)\n",
    "ax2.grid()"
   ]
  },
  {
   "cell_type": "markdown",
   "metadata": {
    "id": "KdtU_e33sLOE"
   },
   "source": [
    "### Dostępne style"
   ]
  },
  {
   "cell_type": "code",
   "execution_count": null,
   "metadata": {
    "colab": {
     "base_uri": "https://localhost:8080/"
    },
    "executionInfo": {
     "elapsed": 613,
     "status": "ok",
     "timestamp": 1607019660770,
     "user": {
      "displayName": "Tomasz Różański",
      "photoUrl": "https://lh4.googleusercontent.com/-CdAQaQI9V1E/AAAAAAAAAAI/AAAAAAAAAvI/rnNPiSw4f80/s64/photo.jpg",
      "userId": "09904144145241711927"
     },
     "user_tz": -60
    },
    "id": "K7IlWm4Erug0",
    "outputId": "6f001480-6b3b-4da6-d057-a1612b9a7718"
   },
   "outputs": [],
   "source": [
    "print(plt.style.available)"
   ]
  },
  {
   "cell_type": "code",
   "execution_count": null,
   "metadata": {
    "colab": {
     "base_uri": "https://localhost:8080/",
     "height": 1000
    },
    "executionInfo": {
     "elapsed": 5509,
     "status": "ok",
     "timestamp": 1607019667770,
     "user": {
      "displayName": "Tomasz Różański",
      "photoUrl": "https://lh4.googleusercontent.com/-CdAQaQI9V1E/AAAAAAAAAAI/AAAAAAAAAvI/rnNPiSw4f80/s64/photo.jpg",
      "userId": "09904144145241711927"
     },
     "user_tz": -60
    },
    "id": "us3s0wKYsNW1",
    "outputId": "a74bd268-b087-4c38-c3bf-a4d0562e5d74"
   },
   "outputs": [],
   "source": [
    "from scipy import stats\n",
    "\n",
    "def plot_stuff():\n",
    "    plt.subplot(2, 2, 1)\n",
    "    x = np.linspace(-1, 1, 1000)\n",
    "    plt.plot(x, np.sin(50*x**3)/(x))\n",
    "    plt.grid()\n",
    "\n",
    "    plt.subplot(2, 2, 2)\n",
    "    x = np.linspace(-1, 1, 10)\n",
    "    y = np.exp(-2.2*x) + np.random.normal(0, 0.1, 10)\n",
    "    yerr = np.random.normal(0, 0.2, 10)\n",
    "    plt.errorbar(x, y, yerr, fmt='o', capsize=3)\n",
    "    plt.yscale('log')\n",
    "\n",
    "    plt.subplot(2, 2, 3)\n",
    "    x = stats.skewnorm.rvs(10, size=1000)\n",
    "    plt.hist(x, bins=50)\n",
    "\n",
    "    plt.subplot(2, 2, 4)\n",
    "    x, y = np.mgrid[-1:1:.01, -1:1:.01]\n",
    "    pos = np.dstack((x, y))\n",
    "    z = stats.multivariate_normal([0.1, 0.3], [[0.2, 0.3], [0.1, 0.4]])\n",
    "    plt.contourf(x, y, z.pdf(pos))\n",
    "\n",
    "for plot_style in ['classic', 'bmh', 'fivethirtyeight', 'ggplot', 'seaborn']:\n",
    "    plt.figure()\n",
    "    with plt.style.context(plot_style):   # use context manager so that changes are temporary\n",
    "        plot_stuff()\n",
    "        plt.suptitle('Plot Style: ' + plot_style, fontweight='bold')"
   ]
  },
  {
   "cell_type": "markdown",
   "metadata": {
    "id": "aOUSgl9ssbtw"
   },
   "source": [
    "### Zapisywanie rysunków"
   ]
  },
  {
   "cell_type": "code",
   "execution_count": null,
   "metadata": {
    "colab": {
     "base_uri": "https://localhost:8080/",
     "height": 281
    },
    "executionInfo": {
     "elapsed": 1363,
     "status": "ok",
     "timestamp": 1607019698439,
     "user": {
      "displayName": "Tomasz Różański",
      "photoUrl": "https://lh4.googleusercontent.com/-CdAQaQI9V1E/AAAAAAAAAAI/AAAAAAAAAvI/rnNPiSw4f80/s64/photo.jpg",
      "userId": "09904144145241711927"
     },
     "user_tz": -60
    },
    "id": "w3m9OIA1sRn8",
    "outputId": "8dd56cf0-0f56-4c6d-d749-48e687c973a3"
   },
   "outputs": [],
   "source": [
    "x = np.linspace(-5, 5)\n",
    "plt.plot(x, x**3, marker='s')\n",
    "plt.title(\"My Awesome Plot\")\n",
    "\n",
    "# save in current directory; extension determines file type\n",
    "plt.savefig('awesome_plot.pdf')\n",
    "plt.savefig('awesome_plot.eps')\n",
    "plt.savefig('awesome_plot.png', dpi=300)   # bitmap graphics; don't use me for publications!\n",
    "plt.savefig('awesome_plot.jpg', dpi=300)   # bitmap graphics; don't use me either!\n",
    "\n",
    "# relative path with subdirectory\n",
    "# plt.savefig('build/awesome_plot.pdf')\n",
    "\n",
    "# absolute path\n",
    "# plt.saveig('/path/to/output/directory/awesome_plot.pdf')"
   ]
  },
  {
   "cell_type": "markdown",
   "metadata": {
    "id": "tUEX03Qqsj-a"
   },
   "source": [
    "### Animacje"
   ]
  },
  {
   "cell_type": "code",
   "execution_count": null,
   "metadata": {
    "colab": {
     "base_uri": "https://localhost:8080/",
     "height": 560
    },
    "executionInfo": {
     "elapsed": 4852,
     "status": "ok",
     "timestamp": 1607019750541,
     "user": {
      "displayName": "Tomasz Różański",
      "photoUrl": "https://lh4.googleusercontent.com/-CdAQaQI9V1E/AAAAAAAAAAI/AAAAAAAAAvI/rnNPiSw4f80/s64/photo.jpg",
      "userId": "09904144145241711927"
     },
     "user_tz": -60
    },
    "id": "8cAuFSzWsdqE",
    "outputId": "c6a46d85-0243-4dbe-98f7-1d5169264966"
   },
   "outputs": [],
   "source": [
    "import matplotlib.animation as animation\n",
    "\n",
    "class FunctionAnimatedImage():\n",
    "    \n",
    "    def func(self):\n",
    "        return np.sin(self.x) + np.cos(self.y)\n",
    "    \n",
    "    def __init__(self):\n",
    "        self.x = np.linspace(0, 2 * np.pi, 120)\n",
    "        self.y = np.linspace(0, 2 * np.pi, 120).reshape(-1, 1)\n",
    "\n",
    "        self.im = plt.imshow(self.func(), animated=True)\n",
    "        \n",
    "    def next_frame(self, i, *args):\n",
    "        \n",
    "        self.x += np.pi / 5.\n",
    "        self.y += np.pi / 20.\n",
    "        self.im.set_array(self.func())\n",
    "        return self.im,\n",
    "\n",
    "fig = plt.figure()\n",
    "anim_img = FunctionAnimatedImage()\n",
    "\n",
    "# Animate the image by recursively calling the next_frame function\n",
    "ani_1 = animation.FuncAnimation(fig, anim_img.next_frame, frames=40, interval=50, blit=True)\n",
    "\n",
    "# Embed the video in an html 5.0 video tag\n",
    "HTML(ani_1.to_html5_video())"
   ]
  },
  {
   "cell_type": "markdown",
   "metadata": {
    "id": "zcdQFawns1W_"
   },
   "source": [
    "### 3D plot"
   ]
  },
  {
   "cell_type": "code",
   "execution_count": null,
   "metadata": {
    "colab": {
     "base_uri": "https://localhost:8080/",
     "height": 265
    },
    "executionInfo": {
     "elapsed": 1440,
     "status": "ok",
     "timestamp": 1607019776988,
     "user": {
      "displayName": "Tomasz Różański",
      "photoUrl": "https://lh4.googleusercontent.com/-CdAQaQI9V1E/AAAAAAAAAAI/AAAAAAAAAvI/rnNPiSw4f80/s64/photo.jpg",
      "userId": "09904144145241711927"
     },
     "user_tz": -60
    },
    "id": "NCNeJDQVspcM",
    "outputId": "689ac34f-f15d-4970-df58-d06146c88ed9"
   },
   "outputs": [],
   "source": [
    "import mpl_toolkits.mplot3d.axes3d as p3\n",
    "x = np.linspace(0, 2 * np.pi, 120)\n",
    "y = np.linspace(0, 2 * np.pi, 120).reshape(-1, 1)\n",
    "z = np.sin(x) + np.cos(y)\n",
    "\n",
    "fig = plt.figure()\n",
    "ax = fig.add_subplot(111, projection='3d')\n",
    "ax.plot_surface(x, y, z, cmap='viridis')"
   ]
  },
  {
   "cell_type": "markdown",
   "metadata": {
    "id": "XlsQBzzatGJS"
   },
   "source": [
    "### Seaborn"
   ]
  },
  {
   "cell_type": "code",
   "execution_count": null,
   "metadata": {
    "id": "klSCRrtbs_5G"
   },
   "outputs": [],
   "source": [
    "import seaborn as sns"
   ]
  },
  {
   "cell_type": "code",
   "execution_count": null,
   "metadata": {
    "id": "2USamEsstIbL"
   },
   "outputs": [],
   "source": [
    "np.random.seed(1234)\n",
    "\n",
    "v1 = np.random.normal(0, 10, 1000)\n",
    "v2 = 2*v1 + np.random.normal(60, 15, 1000)"
   ]
  },
  {
   "cell_type": "code",
   "execution_count": null,
   "metadata": {
    "colab": {
     "base_uri": "https://localhost:8080/",
     "height": 265
    },
    "executionInfo": {
     "elapsed": 1605,
     "status": "ok",
     "timestamp": 1607019786673,
     "user": {
      "displayName": "Tomasz Różański",
      "photoUrl": "https://lh4.googleusercontent.com/-CdAQaQI9V1E/AAAAAAAAAAI/AAAAAAAAAvI/rnNPiSw4f80/s64/photo.jpg",
      "userId": "09904144145241711927"
     },
     "user_tz": -60
    },
    "id": "2yuZ7BV6tJzL",
    "outputId": "786f95ed-bba5-4497-f77a-28bcf7e7c1e4"
   },
   "outputs": [],
   "source": [
    "# plot a kernel density estimation over a stacked barchart\n",
    "plt.figure()\n",
    "plt.hist([v1, v2], histtype='barstacked', density=True);\n",
    "v3 = np.concatenate((v1,v2))\n",
    "sns.kdeplot(v3);"
   ]
  },
  {
   "cell_type": "code",
   "execution_count": null,
   "metadata": {
    "colab": {
     "base_uri": "https://localhost:8080/",
     "height": 495
    },
    "executionInfo": {
     "elapsed": 2585,
     "status": "ok",
     "timestamp": 1607019788125,
     "user": {
      "displayName": "Tomasz Różański",
      "photoUrl": "https://lh4.googleusercontent.com/-CdAQaQI9V1E/AAAAAAAAAAI/AAAAAAAAAvI/rnNPiSw4f80/s64/photo.jpg",
      "userId": "09904144145241711927"
     },
     "user_tz": -60
    },
    "id": "N3WpgWgmtLKD",
    "outputId": "07beff44-2258-4746-f026-1b9f91eedfd0"
   },
   "outputs": [],
   "source": [
    "grid = sns.jointplot(v1, v2, alpha=0.4);\n",
    "grid.ax_joint.set_aspect('equal')"
   ]
  },
  {
   "cell_type": "markdown",
   "metadata": {
    "id": "O_8-Tkt3tVXW"
   },
   "source": [
    "Więcej znajdź tutaj... https://seaborn.pydata.org/"
   ]
  },
  {
   "cell_type": "markdown",
   "metadata": {
    "id": "2h7HTKjZuLvi"
   },
   "source": [
    "## Zadania\n",
    "\n",
    "### Zadanie 1."
   ]
  },
  {
   "cell_type": "markdown",
   "metadata": {
    "id": "3fIhtI9py87r"
   },
   "source": [
    "Wygeneruj rysunki typu line plot, trzech spacerów losowych, pochodzących od różnych rozkładów losowych\n",
    "\n",
    "Rysunki mają być:\n",
    "* Wszystkie linie w sklaach szarości\n",
    "* rózne markery dla każdej linii\n",
    "* legenda umieszczona w `upper left`\n",
    "\n",
    "**Wskazówka:** Użyj `np.cumsum` żeby wygenerować spacer losowy z próbki losowej."
   ]
  },
  {
   "cell_type": "markdown",
   "metadata": {
    "id": "Mld2mZC2y-4N"
   },
   "source": [
    "### Zadanie 2."
   ]
  },
  {
   "cell_type": "markdown",
   "metadata": {
    "id": "4qHc8O1AzT6q"
   },
   "source": [
    "Przygotuj trzy różne próby losowe.\n",
    "\n",
    "Zwób rysunek na którym będą trzy znormalizowane histogramy na rysunku z 3 'axes' w jednej kolumnie, z dzieloną skalą na osiach x i y. (hared x-axis, y-axis.)\n",
    "\n",
    "Wyświetl na każdym z histogramów nazwę rozkładu z którego pochodzą próbki.\n",
    "\n",
    "Pomiędzy kolejnymi rysunkami nie powinno być pionowych przestrzeni a na górych dwóch rysunkach nie powinno być x-ticks.\n",
    "\n",
    "Usuń y-ticks."
   ]
  },
  {
   "cell_type": "code",
   "execution_count": null,
   "metadata": {
    "id": "DdHWHMyZ04Ul"
   },
   "outputs": [],
   "source": [
    "xs = np.random.normal(0,2,1000)\n",
    "ys = np.random.normal(0,2,1000)\n",
    "\n",
    "sx_random_walk= np.cumsum(xs)\n",
    "sy_random_walk= np.cumsum(ys)"
   ]
  },
  {
   "cell_type": "code",
   "execution_count": null,
   "metadata": {
    "colab": {
     "base_uri": "https://localhost:8080/",
     "height": 282
    },
    "executionInfo": {
     "elapsed": 1073,
     "status": "ok",
     "timestamp": 1607020004536,
     "user": {
      "displayName": "Tomasz Różański",
      "photoUrl": "https://lh4.googleusercontent.com/-CdAQaQI9V1E/AAAAAAAAAAI/AAAAAAAAAvI/rnNPiSw4f80/s64/photo.jpg",
      "userId": "09904144145241711927"
     },
     "user_tz": -60
    },
    "id": "bZ03kean2P5o",
    "outputId": "799c7b9a-a3d1-4bf1-a124-9922aaf97f4c"
   },
   "outputs": [],
   "source": [
    "plt.plot(sx_random_walk, sy_random_walk)"
   ]
  },
  {
   "cell_type": "code",
   "execution_count": null,
   "metadata": {
    "id": "6efypN2C2dPn"
   },
   "outputs": [],
   "source": []
  }
 ],
 "metadata": {
  "colab": {
   "authorship_tag": "ABX9TyNha3zeHbUt/BSfXtO0UX6u",
   "collapsed_sections": [],
   "name": "matplotlib.ipynb",
   "provenance": []
  },
  "kernelspec": {
   "display_name": "Python 3",
   "language": "python",
   "name": "python3"
  },
  "language_info": {
   "codemirror_mode": {
    "name": "ipython",
    "version": 3
   },
   "file_extension": ".py",
   "mimetype": "text/x-python",
   "name": "python",
   "nbconvert_exporter": "python",
   "pygments_lexer": "ipython3",
   "version": "3.8.3"
  }
 },
 "nbformat": 4,
 "nbformat_minor": 1
}
